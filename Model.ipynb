{
  "nbformat": 4,
  "nbformat_minor": 0,
  "metadata": {
    "colab": {
      "provenance": [],
      "collapsed_sections": [
        "DHYOMkWMKaWV",
        "9TQk319VOpv-"
      ]
    },
    "kernelspec": {
      "name": "python3",
      "display_name": "Python 3"
    },
    "language_info": {
      "name": "python"
    },
    "widgets": {
      "application/vnd.jupyter.widget-state+json": {
        "bb2b41753ca143bd8470527d8e6a58be": {
          "model_module": "@jupyter-widgets/controls",
          "model_name": "HBoxModel",
          "model_module_version": "1.5.0",
          "state": {
            "_dom_classes": [],
            "_model_module": "@jupyter-widgets/controls",
            "_model_module_version": "1.5.0",
            "_model_name": "HBoxModel",
            "_view_count": null,
            "_view_module": "@jupyter-widgets/controls",
            "_view_module_version": "1.5.0",
            "_view_name": "HBoxView",
            "box_style": "",
            "children": [
              "IPY_MODEL_d5031eaab231422e8f9cee67cca687b1",
              "IPY_MODEL_a97847adf7d74d39aa2f59ce253927be",
              "IPY_MODEL_24b1b1c4b5944ea4a43bf956b64949be"
            ],
            "layout": "IPY_MODEL_af130b895cf148199a4129bf255e2242"
          }
        },
        "d5031eaab231422e8f9cee67cca687b1": {
          "model_module": "@jupyter-widgets/controls",
          "model_name": "HTMLModel",
          "model_module_version": "1.5.0",
          "state": {
            "_dom_classes": [],
            "_model_module": "@jupyter-widgets/controls",
            "_model_module_version": "1.5.0",
            "_model_name": "HTMLModel",
            "_view_count": null,
            "_view_module": "@jupyter-widgets/controls",
            "_view_module_version": "1.5.0",
            "_view_name": "HTMLView",
            "description": "",
            "description_tooltip": null,
            "layout": "IPY_MODEL_212c787fbe974df49836ca174ac49d1f",
            "placeholder": "​",
            "style": "IPY_MODEL_15fe87beaed94a26809a6f8588da319e",
            "value": "config.json: 100%"
          }
        },
        "a97847adf7d74d39aa2f59ce253927be": {
          "model_module": "@jupyter-widgets/controls",
          "model_name": "FloatProgressModel",
          "model_module_version": "1.5.0",
          "state": {
            "_dom_classes": [],
            "_model_module": "@jupyter-widgets/controls",
            "_model_module_version": "1.5.0",
            "_model_name": "FloatProgressModel",
            "_view_count": null,
            "_view_module": "@jupyter-widgets/controls",
            "_view_module_version": "1.5.0",
            "_view_name": "ProgressView",
            "bar_style": "success",
            "description": "",
            "description_tooltip": null,
            "layout": "IPY_MODEL_6302cdeffa384f2e9397d7625a094283",
            "max": 1052,
            "min": 0,
            "orientation": "horizontal",
            "style": "IPY_MODEL_e4b676192d0b40c68b532acaf78c84ba",
            "value": 1052
          }
        },
        "24b1b1c4b5944ea4a43bf956b64949be": {
          "model_module": "@jupyter-widgets/controls",
          "model_name": "HTMLModel",
          "model_module_version": "1.5.0",
          "state": {
            "_dom_classes": [],
            "_model_module": "@jupyter-widgets/controls",
            "_model_module_version": "1.5.0",
            "_model_name": "HTMLModel",
            "_view_count": null,
            "_view_module": "@jupyter-widgets/controls",
            "_view_module_version": "1.5.0",
            "_view_name": "HTMLView",
            "description": "",
            "description_tooltip": null,
            "layout": "IPY_MODEL_8d1ceae580d34d3d91bf90f7f8ec176c",
            "placeholder": "​",
            "style": "IPY_MODEL_b29b64a908ae48b881d765bb75914e00",
            "value": " 1.05k/1.05k [00:00&lt;00:00, 36.4kB/s]"
          }
        },
        "af130b895cf148199a4129bf255e2242": {
          "model_module": "@jupyter-widgets/base",
          "model_name": "LayoutModel",
          "model_module_version": "1.2.0",
          "state": {
            "_model_module": "@jupyter-widgets/base",
            "_model_module_version": "1.2.0",
            "_model_name": "LayoutModel",
            "_view_count": null,
            "_view_module": "@jupyter-widgets/base",
            "_view_module_version": "1.2.0",
            "_view_name": "LayoutView",
            "align_content": null,
            "align_items": null,
            "align_self": null,
            "border": null,
            "bottom": null,
            "display": null,
            "flex": null,
            "flex_flow": null,
            "grid_area": null,
            "grid_auto_columns": null,
            "grid_auto_flow": null,
            "grid_auto_rows": null,
            "grid_column": null,
            "grid_gap": null,
            "grid_row": null,
            "grid_template_areas": null,
            "grid_template_columns": null,
            "grid_template_rows": null,
            "height": null,
            "justify_content": null,
            "justify_items": null,
            "left": null,
            "margin": null,
            "max_height": null,
            "max_width": null,
            "min_height": null,
            "min_width": null,
            "object_fit": null,
            "object_position": null,
            "order": null,
            "overflow": null,
            "overflow_x": null,
            "overflow_y": null,
            "padding": null,
            "right": null,
            "top": null,
            "visibility": null,
            "width": null
          }
        },
        "212c787fbe974df49836ca174ac49d1f": {
          "model_module": "@jupyter-widgets/base",
          "model_name": "LayoutModel",
          "model_module_version": "1.2.0",
          "state": {
            "_model_module": "@jupyter-widgets/base",
            "_model_module_version": "1.2.0",
            "_model_name": "LayoutModel",
            "_view_count": null,
            "_view_module": "@jupyter-widgets/base",
            "_view_module_version": "1.2.0",
            "_view_name": "LayoutView",
            "align_content": null,
            "align_items": null,
            "align_self": null,
            "border": null,
            "bottom": null,
            "display": null,
            "flex": null,
            "flex_flow": null,
            "grid_area": null,
            "grid_auto_columns": null,
            "grid_auto_flow": null,
            "grid_auto_rows": null,
            "grid_column": null,
            "grid_gap": null,
            "grid_row": null,
            "grid_template_areas": null,
            "grid_template_columns": null,
            "grid_template_rows": null,
            "height": null,
            "justify_content": null,
            "justify_items": null,
            "left": null,
            "margin": null,
            "max_height": null,
            "max_width": null,
            "min_height": null,
            "min_width": null,
            "object_fit": null,
            "object_position": null,
            "order": null,
            "overflow": null,
            "overflow_x": null,
            "overflow_y": null,
            "padding": null,
            "right": null,
            "top": null,
            "visibility": null,
            "width": null
          }
        },
        "15fe87beaed94a26809a6f8588da319e": {
          "model_module": "@jupyter-widgets/controls",
          "model_name": "DescriptionStyleModel",
          "model_module_version": "1.5.0",
          "state": {
            "_model_module": "@jupyter-widgets/controls",
            "_model_module_version": "1.5.0",
            "_model_name": "DescriptionStyleModel",
            "_view_count": null,
            "_view_module": "@jupyter-widgets/base",
            "_view_module_version": "1.2.0",
            "_view_name": "StyleView",
            "description_width": ""
          }
        },
        "6302cdeffa384f2e9397d7625a094283": {
          "model_module": "@jupyter-widgets/base",
          "model_name": "LayoutModel",
          "model_module_version": "1.2.0",
          "state": {
            "_model_module": "@jupyter-widgets/base",
            "_model_module_version": "1.2.0",
            "_model_name": "LayoutModel",
            "_view_count": null,
            "_view_module": "@jupyter-widgets/base",
            "_view_module_version": "1.2.0",
            "_view_name": "LayoutView",
            "align_content": null,
            "align_items": null,
            "align_self": null,
            "border": null,
            "bottom": null,
            "display": null,
            "flex": null,
            "flex_flow": null,
            "grid_area": null,
            "grid_auto_columns": null,
            "grid_auto_flow": null,
            "grid_auto_rows": null,
            "grid_column": null,
            "grid_gap": null,
            "grid_row": null,
            "grid_template_areas": null,
            "grid_template_columns": null,
            "grid_template_rows": null,
            "height": null,
            "justify_content": null,
            "justify_items": null,
            "left": null,
            "margin": null,
            "max_height": null,
            "max_width": null,
            "min_height": null,
            "min_width": null,
            "object_fit": null,
            "object_position": null,
            "order": null,
            "overflow": null,
            "overflow_x": null,
            "overflow_y": null,
            "padding": null,
            "right": null,
            "top": null,
            "visibility": null,
            "width": null
          }
        },
        "e4b676192d0b40c68b532acaf78c84ba": {
          "model_module": "@jupyter-widgets/controls",
          "model_name": "ProgressStyleModel",
          "model_module_version": "1.5.0",
          "state": {
            "_model_module": "@jupyter-widgets/controls",
            "_model_module_version": "1.5.0",
            "_model_name": "ProgressStyleModel",
            "_view_count": null,
            "_view_module": "@jupyter-widgets/base",
            "_view_module_version": "1.2.0",
            "_view_name": "StyleView",
            "bar_color": null,
            "description_width": ""
          }
        },
        "8d1ceae580d34d3d91bf90f7f8ec176c": {
          "model_module": "@jupyter-widgets/base",
          "model_name": "LayoutModel",
          "model_module_version": "1.2.0",
          "state": {
            "_model_module": "@jupyter-widgets/base",
            "_model_module_version": "1.2.0",
            "_model_name": "LayoutModel",
            "_view_count": null,
            "_view_module": "@jupyter-widgets/base",
            "_view_module_version": "1.2.0",
            "_view_name": "LayoutView",
            "align_content": null,
            "align_items": null,
            "align_self": null,
            "border": null,
            "bottom": null,
            "display": null,
            "flex": null,
            "flex_flow": null,
            "grid_area": null,
            "grid_auto_columns": null,
            "grid_auto_flow": null,
            "grid_auto_rows": null,
            "grid_column": null,
            "grid_gap": null,
            "grid_row": null,
            "grid_template_areas": null,
            "grid_template_columns": null,
            "grid_template_rows": null,
            "height": null,
            "justify_content": null,
            "justify_items": null,
            "left": null,
            "margin": null,
            "max_height": null,
            "max_width": null,
            "min_height": null,
            "min_width": null,
            "object_fit": null,
            "object_position": null,
            "order": null,
            "overflow": null,
            "overflow_x": null,
            "overflow_y": null,
            "padding": null,
            "right": null,
            "top": null,
            "visibility": null,
            "width": null
          }
        },
        "b29b64a908ae48b881d765bb75914e00": {
          "model_module": "@jupyter-widgets/controls",
          "model_name": "DescriptionStyleModel",
          "model_module_version": "1.5.0",
          "state": {
            "_model_module": "@jupyter-widgets/controls",
            "_model_module_version": "1.5.0",
            "_model_name": "DescriptionStyleModel",
            "_view_count": null,
            "_view_module": "@jupyter-widgets/base",
            "_view_module_version": "1.2.0",
            "_view_name": "StyleView",
            "description_width": ""
          }
        },
        "ab629fbc106944389ed134fe77bf7bdc": {
          "model_module": "@jupyter-widgets/controls",
          "model_name": "HBoxModel",
          "model_module_version": "1.5.0",
          "state": {
            "_dom_classes": [],
            "_model_module": "@jupyter-widgets/controls",
            "_model_module_version": "1.5.0",
            "_model_name": "HBoxModel",
            "_view_count": null,
            "_view_module": "@jupyter-widgets/controls",
            "_view_module_version": "1.5.0",
            "_view_name": "HBoxView",
            "box_style": "",
            "children": [
              "IPY_MODEL_f4e7e9b2b8b94d8fae06634dd493434d",
              "IPY_MODEL_9f7db2ff514749c4a477a6457af76f6b",
              "IPY_MODEL_666f1dff254d4317af178092daeb98ba"
            ],
            "layout": "IPY_MODEL_f1582a7bc33b459b83c39905048b21f5"
          }
        },
        "f4e7e9b2b8b94d8fae06634dd493434d": {
          "model_module": "@jupyter-widgets/controls",
          "model_name": "HTMLModel",
          "model_module_version": "1.5.0",
          "state": {
            "_dom_classes": [],
            "_model_module": "@jupyter-widgets/controls",
            "_model_module_version": "1.5.0",
            "_model_name": "HTMLModel",
            "_view_count": null,
            "_view_module": "@jupyter-widgets/controls",
            "_view_module_version": "1.5.0",
            "_view_name": "HTMLView",
            "description": "",
            "description_tooltip": null,
            "layout": "IPY_MODEL_9cf6207d1218410ea2bad115c6b42b78",
            "placeholder": "​",
            "style": "IPY_MODEL_1f490ae308ce49fc8073f910cfa25e00",
            "value": "model.safetensors: 100%"
          }
        },
        "9f7db2ff514749c4a477a6457af76f6b": {
          "model_module": "@jupyter-widgets/controls",
          "model_name": "FloatProgressModel",
          "model_module_version": "1.5.0",
          "state": {
            "_dom_classes": [],
            "_model_module": "@jupyter-widgets/controls",
            "_model_module_version": "1.5.0",
            "_model_name": "FloatProgressModel",
            "_view_count": null,
            "_view_module": "@jupyter-widgets/controls",
            "_view_module_version": "1.5.0",
            "_view_name": "ProgressView",
            "bar_style": "success",
            "description": "",
            "description_tooltip": null,
            "layout": "IPY_MODEL_e2439dededbb401eac93e7a6a10a7f6a",
            "max": 1707690136,
            "min": 0,
            "orientation": "horizontal",
            "style": "IPY_MODEL_b13640410fa549caafb4e8f10c2827ba",
            "value": 1707690136
          }
        },
        "666f1dff254d4317af178092daeb98ba": {
          "model_module": "@jupyter-widgets/controls",
          "model_name": "HTMLModel",
          "model_module_version": "1.5.0",
          "state": {
            "_dom_classes": [],
            "_model_module": "@jupyter-widgets/controls",
            "_model_module_version": "1.5.0",
            "_model_name": "HTMLModel",
            "_view_count": null,
            "_view_module": "@jupyter-widgets/controls",
            "_view_module_version": "1.5.0",
            "_view_name": "HTMLView",
            "description": "",
            "description_tooltip": null,
            "layout": "IPY_MODEL_99e2e16da9b44ae4a20bc00d1a8c9288",
            "placeholder": "​",
            "style": "IPY_MODEL_410ed9c630c4440c92b8267623d6abbb",
            "value": " 1.71G/1.71G [00:37&lt;00:00, 35.3MB/s]"
          }
        },
        "f1582a7bc33b459b83c39905048b21f5": {
          "model_module": "@jupyter-widgets/base",
          "model_name": "LayoutModel",
          "model_module_version": "1.2.0",
          "state": {
            "_model_module": "@jupyter-widgets/base",
            "_model_module_version": "1.2.0",
            "_model_name": "LayoutModel",
            "_view_count": null,
            "_view_module": "@jupyter-widgets/base",
            "_view_module_version": "1.2.0",
            "_view_name": "LayoutView",
            "align_content": null,
            "align_items": null,
            "align_self": null,
            "border": null,
            "bottom": null,
            "display": null,
            "flex": null,
            "flex_flow": null,
            "grid_area": null,
            "grid_auto_columns": null,
            "grid_auto_flow": null,
            "grid_auto_rows": null,
            "grid_column": null,
            "grid_gap": null,
            "grid_row": null,
            "grid_template_areas": null,
            "grid_template_columns": null,
            "grid_template_rows": null,
            "height": null,
            "justify_content": null,
            "justify_items": null,
            "left": null,
            "margin": null,
            "max_height": null,
            "max_width": null,
            "min_height": null,
            "min_width": null,
            "object_fit": null,
            "object_position": null,
            "order": null,
            "overflow": null,
            "overflow_x": null,
            "overflow_y": null,
            "padding": null,
            "right": null,
            "top": null,
            "visibility": null,
            "width": null
          }
        },
        "9cf6207d1218410ea2bad115c6b42b78": {
          "model_module": "@jupyter-widgets/base",
          "model_name": "LayoutModel",
          "model_module_version": "1.2.0",
          "state": {
            "_model_module": "@jupyter-widgets/base",
            "_model_module_version": "1.2.0",
            "_model_name": "LayoutModel",
            "_view_count": null,
            "_view_module": "@jupyter-widgets/base",
            "_view_module_version": "1.2.0",
            "_view_name": "LayoutView",
            "align_content": null,
            "align_items": null,
            "align_self": null,
            "border": null,
            "bottom": null,
            "display": null,
            "flex": null,
            "flex_flow": null,
            "grid_area": null,
            "grid_auto_columns": null,
            "grid_auto_flow": null,
            "grid_auto_rows": null,
            "grid_column": null,
            "grid_gap": null,
            "grid_row": null,
            "grid_template_areas": null,
            "grid_template_columns": null,
            "grid_template_rows": null,
            "height": null,
            "justify_content": null,
            "justify_items": null,
            "left": null,
            "margin": null,
            "max_height": null,
            "max_width": null,
            "min_height": null,
            "min_width": null,
            "object_fit": null,
            "object_position": null,
            "order": null,
            "overflow": null,
            "overflow_x": null,
            "overflow_y": null,
            "padding": null,
            "right": null,
            "top": null,
            "visibility": null,
            "width": null
          }
        },
        "1f490ae308ce49fc8073f910cfa25e00": {
          "model_module": "@jupyter-widgets/controls",
          "model_name": "DescriptionStyleModel",
          "model_module_version": "1.5.0",
          "state": {
            "_model_module": "@jupyter-widgets/controls",
            "_model_module_version": "1.5.0",
            "_model_name": "DescriptionStyleModel",
            "_view_count": null,
            "_view_module": "@jupyter-widgets/base",
            "_view_module_version": "1.2.0",
            "_view_name": "StyleView",
            "description_width": ""
          }
        },
        "e2439dededbb401eac93e7a6a10a7f6a": {
          "model_module": "@jupyter-widgets/base",
          "model_name": "LayoutModel",
          "model_module_version": "1.2.0",
          "state": {
            "_model_module": "@jupyter-widgets/base",
            "_model_module_version": "1.2.0",
            "_model_name": "LayoutModel",
            "_view_count": null,
            "_view_module": "@jupyter-widgets/base",
            "_view_module_version": "1.2.0",
            "_view_name": "LayoutView",
            "align_content": null,
            "align_items": null,
            "align_self": null,
            "border": null,
            "bottom": null,
            "display": null,
            "flex": null,
            "flex_flow": null,
            "grid_area": null,
            "grid_auto_columns": null,
            "grid_auto_flow": null,
            "grid_auto_rows": null,
            "grid_column": null,
            "grid_gap": null,
            "grid_row": null,
            "grid_template_areas": null,
            "grid_template_columns": null,
            "grid_template_rows": null,
            "height": null,
            "justify_content": null,
            "justify_items": null,
            "left": null,
            "margin": null,
            "max_height": null,
            "max_width": null,
            "min_height": null,
            "min_width": null,
            "object_fit": null,
            "object_position": null,
            "order": null,
            "overflow": null,
            "overflow_x": null,
            "overflow_y": null,
            "padding": null,
            "right": null,
            "top": null,
            "visibility": null,
            "width": null
          }
        },
        "b13640410fa549caafb4e8f10c2827ba": {
          "model_module": "@jupyter-widgets/controls",
          "model_name": "ProgressStyleModel",
          "model_module_version": "1.5.0",
          "state": {
            "_model_module": "@jupyter-widgets/controls",
            "_model_module_version": "1.5.0",
            "_model_name": "ProgressStyleModel",
            "_view_count": null,
            "_view_module": "@jupyter-widgets/base",
            "_view_module_version": "1.2.0",
            "_view_name": "StyleView",
            "bar_color": null,
            "description_width": ""
          }
        },
        "99e2e16da9b44ae4a20bc00d1a8c9288": {
          "model_module": "@jupyter-widgets/base",
          "model_name": "LayoutModel",
          "model_module_version": "1.2.0",
          "state": {
            "_model_module": "@jupyter-widgets/base",
            "_model_module_version": "1.2.0",
            "_model_name": "LayoutModel",
            "_view_count": null,
            "_view_module": "@jupyter-widgets/base",
            "_view_module_version": "1.2.0",
            "_view_name": "LayoutView",
            "align_content": null,
            "align_items": null,
            "align_self": null,
            "border": null,
            "bottom": null,
            "display": null,
            "flex": null,
            "flex_flow": null,
            "grid_area": null,
            "grid_auto_columns": null,
            "grid_auto_flow": null,
            "grid_auto_rows": null,
            "grid_column": null,
            "grid_gap": null,
            "grid_row": null,
            "grid_template_areas": null,
            "grid_template_columns": null,
            "grid_template_rows": null,
            "height": null,
            "justify_content": null,
            "justify_items": null,
            "left": null,
            "margin": null,
            "max_height": null,
            "max_width": null,
            "min_height": null,
            "min_width": null,
            "object_fit": null,
            "object_position": null,
            "order": null,
            "overflow": null,
            "overflow_x": null,
            "overflow_y": null,
            "padding": null,
            "right": null,
            "top": null,
            "visibility": null,
            "width": null
          }
        },
        "410ed9c630c4440c92b8267623d6abbb": {
          "model_module": "@jupyter-widgets/controls",
          "model_name": "DescriptionStyleModel",
          "model_module_version": "1.5.0",
          "state": {
            "_model_module": "@jupyter-widgets/controls",
            "_model_module_version": "1.5.0",
            "_model_name": "DescriptionStyleModel",
            "_view_count": null,
            "_view_module": "@jupyter-widgets/base",
            "_view_module_version": "1.2.0",
            "_view_name": "StyleView",
            "description_width": ""
          }
        },
        "4564ce9a97b2464b8f5479352bb8f2dd": {
          "model_module": "@jupyter-widgets/controls",
          "model_name": "HBoxModel",
          "model_module_version": "1.5.0",
          "state": {
            "_dom_classes": [],
            "_model_module": "@jupyter-widgets/controls",
            "_model_module_version": "1.5.0",
            "_model_name": "HBoxModel",
            "_view_count": null,
            "_view_module": "@jupyter-widgets/controls",
            "_view_module_version": "1.5.0",
            "_view_name": "HBoxView",
            "box_style": "",
            "children": [
              "IPY_MODEL_c9c5868dabb64ae0a30d4533dbf5a1ca",
              "IPY_MODEL_275368db6531480481ff1f5ce494f3d0",
              "IPY_MODEL_2165a303ea4b4d26bd452fa5fd446803"
            ],
            "layout": "IPY_MODEL_88d98f4e0dd441e5819e1236032dc0bc"
          }
        },
        "c9c5868dabb64ae0a30d4533dbf5a1ca": {
          "model_module": "@jupyter-widgets/controls",
          "model_name": "HTMLModel",
          "model_module_version": "1.5.0",
          "state": {
            "_dom_classes": [],
            "_model_module": "@jupyter-widgets/controls",
            "_model_module_version": "1.5.0",
            "_model_name": "HTMLModel",
            "_view_count": null,
            "_view_module": "@jupyter-widgets/controls",
            "_view_module_version": "1.5.0",
            "_view_name": "HTMLView",
            "description": "",
            "description_tooltip": null,
            "layout": "IPY_MODEL_35bbb71630554c0ea86aa6d11850f140",
            "placeholder": "​",
            "style": "IPY_MODEL_d7bdda9622614a2082369fa795c44204",
            "value": "tokenizer_config.json: 100%"
          }
        },
        "275368db6531480481ff1f5ce494f3d0": {
          "model_module": "@jupyter-widgets/controls",
          "model_name": "FloatProgressModel",
          "model_module_version": "1.5.0",
          "state": {
            "_dom_classes": [],
            "_model_module": "@jupyter-widgets/controls",
            "_model_module_version": "1.5.0",
            "_model_name": "FloatProgressModel",
            "_view_count": null,
            "_view_module": "@jupyter-widgets/controls",
            "_view_module_version": "1.5.0",
            "_view_name": "ProgressView",
            "bar_style": "success",
            "description": "",
            "description_tooltip": null,
            "layout": "IPY_MODEL_81a469bf0038460db62e4339353d13c7",
            "max": 1291,
            "min": 0,
            "orientation": "horizontal",
            "style": "IPY_MODEL_c36d912fae094e888cacfe44b7c98144",
            "value": 1291
          }
        },
        "2165a303ea4b4d26bd452fa5fd446803": {
          "model_module": "@jupyter-widgets/controls",
          "model_name": "HTMLModel",
          "model_module_version": "1.5.0",
          "state": {
            "_dom_classes": [],
            "_model_module": "@jupyter-widgets/controls",
            "_model_module_version": "1.5.0",
            "_model_name": "HTMLModel",
            "_view_count": null,
            "_view_module": "@jupyter-widgets/controls",
            "_view_module_version": "1.5.0",
            "_view_name": "HTMLView",
            "description": "",
            "description_tooltip": null,
            "layout": "IPY_MODEL_29a517176b1c40ffaf113071c67e477b",
            "placeholder": "​",
            "style": "IPY_MODEL_cdc8f3a557964ea7aee30706faf39271",
            "value": " 1.29k/1.29k [00:00&lt;00:00, 26.7kB/s]"
          }
        },
        "88d98f4e0dd441e5819e1236032dc0bc": {
          "model_module": "@jupyter-widgets/base",
          "model_name": "LayoutModel",
          "model_module_version": "1.2.0",
          "state": {
            "_model_module": "@jupyter-widgets/base",
            "_model_module_version": "1.2.0",
            "_model_name": "LayoutModel",
            "_view_count": null,
            "_view_module": "@jupyter-widgets/base",
            "_view_module_version": "1.2.0",
            "_view_name": "LayoutView",
            "align_content": null,
            "align_items": null,
            "align_self": null,
            "border": null,
            "bottom": null,
            "display": null,
            "flex": null,
            "flex_flow": null,
            "grid_area": null,
            "grid_auto_columns": null,
            "grid_auto_flow": null,
            "grid_auto_rows": null,
            "grid_column": null,
            "grid_gap": null,
            "grid_row": null,
            "grid_template_areas": null,
            "grid_template_columns": null,
            "grid_template_rows": null,
            "height": null,
            "justify_content": null,
            "justify_items": null,
            "left": null,
            "margin": null,
            "max_height": null,
            "max_width": null,
            "min_height": null,
            "min_width": null,
            "object_fit": null,
            "object_position": null,
            "order": null,
            "overflow": null,
            "overflow_x": null,
            "overflow_y": null,
            "padding": null,
            "right": null,
            "top": null,
            "visibility": null,
            "width": null
          }
        },
        "35bbb71630554c0ea86aa6d11850f140": {
          "model_module": "@jupyter-widgets/base",
          "model_name": "LayoutModel",
          "model_module_version": "1.2.0",
          "state": {
            "_model_module": "@jupyter-widgets/base",
            "_model_module_version": "1.2.0",
            "_model_name": "LayoutModel",
            "_view_count": null,
            "_view_module": "@jupyter-widgets/base",
            "_view_module_version": "1.2.0",
            "_view_name": "LayoutView",
            "align_content": null,
            "align_items": null,
            "align_self": null,
            "border": null,
            "bottom": null,
            "display": null,
            "flex": null,
            "flex_flow": null,
            "grid_area": null,
            "grid_auto_columns": null,
            "grid_auto_flow": null,
            "grid_auto_rows": null,
            "grid_column": null,
            "grid_gap": null,
            "grid_row": null,
            "grid_template_areas": null,
            "grid_template_columns": null,
            "grid_template_rows": null,
            "height": null,
            "justify_content": null,
            "justify_items": null,
            "left": null,
            "margin": null,
            "max_height": null,
            "max_width": null,
            "min_height": null,
            "min_width": null,
            "object_fit": null,
            "object_position": null,
            "order": null,
            "overflow": null,
            "overflow_x": null,
            "overflow_y": null,
            "padding": null,
            "right": null,
            "top": null,
            "visibility": null,
            "width": null
          }
        },
        "d7bdda9622614a2082369fa795c44204": {
          "model_module": "@jupyter-widgets/controls",
          "model_name": "DescriptionStyleModel",
          "model_module_version": "1.5.0",
          "state": {
            "_model_module": "@jupyter-widgets/controls",
            "_model_module_version": "1.5.0",
            "_model_name": "DescriptionStyleModel",
            "_view_count": null,
            "_view_module": "@jupyter-widgets/base",
            "_view_module_version": "1.2.0",
            "_view_name": "StyleView",
            "description_width": ""
          }
        },
        "81a469bf0038460db62e4339353d13c7": {
          "model_module": "@jupyter-widgets/base",
          "model_name": "LayoutModel",
          "model_module_version": "1.2.0",
          "state": {
            "_model_module": "@jupyter-widgets/base",
            "_model_module_version": "1.2.0",
            "_model_name": "LayoutModel",
            "_view_count": null,
            "_view_module": "@jupyter-widgets/base",
            "_view_module_version": "1.2.0",
            "_view_name": "LayoutView",
            "align_content": null,
            "align_items": null,
            "align_self": null,
            "border": null,
            "bottom": null,
            "display": null,
            "flex": null,
            "flex_flow": null,
            "grid_area": null,
            "grid_auto_columns": null,
            "grid_auto_flow": null,
            "grid_auto_rows": null,
            "grid_column": null,
            "grid_gap": null,
            "grid_row": null,
            "grid_template_areas": null,
            "grid_template_columns": null,
            "grid_template_rows": null,
            "height": null,
            "justify_content": null,
            "justify_items": null,
            "left": null,
            "margin": null,
            "max_height": null,
            "max_width": null,
            "min_height": null,
            "min_width": null,
            "object_fit": null,
            "object_position": null,
            "order": null,
            "overflow": null,
            "overflow_x": null,
            "overflow_y": null,
            "padding": null,
            "right": null,
            "top": null,
            "visibility": null,
            "width": null
          }
        },
        "c36d912fae094e888cacfe44b7c98144": {
          "model_module": "@jupyter-widgets/controls",
          "model_name": "ProgressStyleModel",
          "model_module_version": "1.5.0",
          "state": {
            "_model_module": "@jupyter-widgets/controls",
            "_model_module_version": "1.5.0",
            "_model_name": "ProgressStyleModel",
            "_view_count": null,
            "_view_module": "@jupyter-widgets/base",
            "_view_module_version": "1.2.0",
            "_view_name": "StyleView",
            "bar_color": null,
            "description_width": ""
          }
        },
        "29a517176b1c40ffaf113071c67e477b": {
          "model_module": "@jupyter-widgets/base",
          "model_name": "LayoutModel",
          "model_module_version": "1.2.0",
          "state": {
            "_model_module": "@jupyter-widgets/base",
            "_model_module_version": "1.2.0",
            "_model_name": "LayoutModel",
            "_view_count": null,
            "_view_module": "@jupyter-widgets/base",
            "_view_module_version": "1.2.0",
            "_view_name": "LayoutView",
            "align_content": null,
            "align_items": null,
            "align_self": null,
            "border": null,
            "bottom": null,
            "display": null,
            "flex": null,
            "flex_flow": null,
            "grid_area": null,
            "grid_auto_columns": null,
            "grid_auto_flow": null,
            "grid_auto_rows": null,
            "grid_column": null,
            "grid_gap": null,
            "grid_row": null,
            "grid_template_areas": null,
            "grid_template_columns": null,
            "grid_template_rows": null,
            "height": null,
            "justify_content": null,
            "justify_items": null,
            "left": null,
            "margin": null,
            "max_height": null,
            "max_width": null,
            "min_height": null,
            "min_width": null,
            "object_fit": null,
            "object_position": null,
            "order": null,
            "overflow": null,
            "overflow_x": null,
            "overflow_y": null,
            "padding": null,
            "right": null,
            "top": null,
            "visibility": null,
            "width": null
          }
        },
        "cdc8f3a557964ea7aee30706faf39271": {
          "model_module": "@jupyter-widgets/controls",
          "model_name": "DescriptionStyleModel",
          "model_module_version": "1.5.0",
          "state": {
            "_model_module": "@jupyter-widgets/controls",
            "_model_module_version": "1.5.0",
            "_model_name": "DescriptionStyleModel",
            "_view_count": null,
            "_view_module": "@jupyter-widgets/base",
            "_view_module_version": "1.2.0",
            "_view_name": "StyleView",
            "description_width": ""
          }
        },
        "6f55691542104375b9f674015ad4449d": {
          "model_module": "@jupyter-widgets/controls",
          "model_name": "HBoxModel",
          "model_module_version": "1.5.0",
          "state": {
            "_dom_classes": [],
            "_model_module": "@jupyter-widgets/controls",
            "_model_module_version": "1.5.0",
            "_model_name": "HBoxModel",
            "_view_count": null,
            "_view_module": "@jupyter-widgets/controls",
            "_view_module_version": "1.5.0",
            "_view_name": "HBoxView",
            "box_style": "",
            "children": [
              "IPY_MODEL_b51ed92be0e944fcbdf40f33ee38be59",
              "IPY_MODEL_93e8ee17132449fcb776462efdf40773",
              "IPY_MODEL_81b470820b1d4ae8aa5bea0ed6e7d5cb"
            ],
            "layout": "IPY_MODEL_fe07b8b22cee4f8d85af0a0d00a9deeb"
          }
        },
        "b51ed92be0e944fcbdf40f33ee38be59": {
          "model_module": "@jupyter-widgets/controls",
          "model_name": "HTMLModel",
          "model_module_version": "1.5.0",
          "state": {
            "_dom_classes": [],
            "_model_module": "@jupyter-widgets/controls",
            "_model_module_version": "1.5.0",
            "_model_name": "HTMLModel",
            "_view_count": null,
            "_view_module": "@jupyter-widgets/controls",
            "_view_module_version": "1.5.0",
            "_view_name": "HTMLView",
            "description": "",
            "description_tooltip": null,
            "layout": "IPY_MODEL_daf1b9edee214c5c915b42cbd0ab71bd",
            "placeholder": "​",
            "style": "IPY_MODEL_c364a120ee97430a8572401a1be787e6",
            "value": "vocab.txt: 100%"
          }
        },
        "93e8ee17132449fcb776462efdf40773": {
          "model_module": "@jupyter-widgets/controls",
          "model_name": "FloatProgressModel",
          "model_module_version": "1.5.0",
          "state": {
            "_dom_classes": [],
            "_model_module": "@jupyter-widgets/controls",
            "_model_module_version": "1.5.0",
            "_model_name": "FloatProgressModel",
            "_view_count": null,
            "_view_module": "@jupyter-widgets/controls",
            "_view_module_version": "1.5.0",
            "_view_name": "ProgressView",
            "bar_style": "success",
            "description": "",
            "description_tooltip": null,
            "layout": "IPY_MODEL_b0e18605dc324edab066c3b7e5515a61",
            "max": 1780720,
            "min": 0,
            "orientation": "horizontal",
            "style": "IPY_MODEL_e5559c5d2d46488fadf23d08d33ba4ef",
            "value": 1780720
          }
        },
        "81b470820b1d4ae8aa5bea0ed6e7d5cb": {
          "model_module": "@jupyter-widgets/controls",
          "model_name": "HTMLModel",
          "model_module_version": "1.5.0",
          "state": {
            "_dom_classes": [],
            "_model_module": "@jupyter-widgets/controls",
            "_model_module_version": "1.5.0",
            "_model_name": "HTMLModel",
            "_view_count": null,
            "_view_module": "@jupyter-widgets/controls",
            "_view_module_version": "1.5.0",
            "_view_name": "HTMLView",
            "description": "",
            "description_tooltip": null,
            "layout": "IPY_MODEL_73a2c785db684253938e9316383067bb",
            "placeholder": "​",
            "style": "IPY_MODEL_c7b56515ae3d4e3ea0f7163ff6ca5005",
            "value": " 1.78M/1.78M [00:00&lt;00:00, 16.4MB/s]"
          }
        },
        "fe07b8b22cee4f8d85af0a0d00a9deeb": {
          "model_module": "@jupyter-widgets/base",
          "model_name": "LayoutModel",
          "model_module_version": "1.2.0",
          "state": {
            "_model_module": "@jupyter-widgets/base",
            "_model_module_version": "1.2.0",
            "_model_name": "LayoutModel",
            "_view_count": null,
            "_view_module": "@jupyter-widgets/base",
            "_view_module_version": "1.2.0",
            "_view_name": "LayoutView",
            "align_content": null,
            "align_items": null,
            "align_self": null,
            "border": null,
            "bottom": null,
            "display": null,
            "flex": null,
            "flex_flow": null,
            "grid_area": null,
            "grid_auto_columns": null,
            "grid_auto_flow": null,
            "grid_auto_rows": null,
            "grid_column": null,
            "grid_gap": null,
            "grid_row": null,
            "grid_template_areas": null,
            "grid_template_columns": null,
            "grid_template_rows": null,
            "height": null,
            "justify_content": null,
            "justify_items": null,
            "left": null,
            "margin": null,
            "max_height": null,
            "max_width": null,
            "min_height": null,
            "min_width": null,
            "object_fit": null,
            "object_position": null,
            "order": null,
            "overflow": null,
            "overflow_x": null,
            "overflow_y": null,
            "padding": null,
            "right": null,
            "top": null,
            "visibility": null,
            "width": null
          }
        },
        "daf1b9edee214c5c915b42cbd0ab71bd": {
          "model_module": "@jupyter-widgets/base",
          "model_name": "LayoutModel",
          "model_module_version": "1.2.0",
          "state": {
            "_model_module": "@jupyter-widgets/base",
            "_model_module_version": "1.2.0",
            "_model_name": "LayoutModel",
            "_view_count": null,
            "_view_module": "@jupyter-widgets/base",
            "_view_module_version": "1.2.0",
            "_view_name": "LayoutView",
            "align_content": null,
            "align_items": null,
            "align_self": null,
            "border": null,
            "bottom": null,
            "display": null,
            "flex": null,
            "flex_flow": null,
            "grid_area": null,
            "grid_auto_columns": null,
            "grid_auto_flow": null,
            "grid_auto_rows": null,
            "grid_column": null,
            "grid_gap": null,
            "grid_row": null,
            "grid_template_areas": null,
            "grid_template_columns": null,
            "grid_template_rows": null,
            "height": null,
            "justify_content": null,
            "justify_items": null,
            "left": null,
            "margin": null,
            "max_height": null,
            "max_width": null,
            "min_height": null,
            "min_width": null,
            "object_fit": null,
            "object_position": null,
            "order": null,
            "overflow": null,
            "overflow_x": null,
            "overflow_y": null,
            "padding": null,
            "right": null,
            "top": null,
            "visibility": null,
            "width": null
          }
        },
        "c364a120ee97430a8572401a1be787e6": {
          "model_module": "@jupyter-widgets/controls",
          "model_name": "DescriptionStyleModel",
          "model_module_version": "1.5.0",
          "state": {
            "_model_module": "@jupyter-widgets/controls",
            "_model_module_version": "1.5.0",
            "_model_name": "DescriptionStyleModel",
            "_view_count": null,
            "_view_module": "@jupyter-widgets/base",
            "_view_module_version": "1.2.0",
            "_view_name": "StyleView",
            "description_width": ""
          }
        },
        "b0e18605dc324edab066c3b7e5515a61": {
          "model_module": "@jupyter-widgets/base",
          "model_name": "LayoutModel",
          "model_module_version": "1.2.0",
          "state": {
            "_model_module": "@jupyter-widgets/base",
            "_model_module_version": "1.2.0",
            "_model_name": "LayoutModel",
            "_view_count": null,
            "_view_module": "@jupyter-widgets/base",
            "_view_module_version": "1.2.0",
            "_view_name": "LayoutView",
            "align_content": null,
            "align_items": null,
            "align_self": null,
            "border": null,
            "bottom": null,
            "display": null,
            "flex": null,
            "flex_flow": null,
            "grid_area": null,
            "grid_auto_columns": null,
            "grid_auto_flow": null,
            "grid_auto_rows": null,
            "grid_column": null,
            "grid_gap": null,
            "grid_row": null,
            "grid_template_areas": null,
            "grid_template_columns": null,
            "grid_template_rows": null,
            "height": null,
            "justify_content": null,
            "justify_items": null,
            "left": null,
            "margin": null,
            "max_height": null,
            "max_width": null,
            "min_height": null,
            "min_width": null,
            "object_fit": null,
            "object_position": null,
            "order": null,
            "overflow": null,
            "overflow_x": null,
            "overflow_y": null,
            "padding": null,
            "right": null,
            "top": null,
            "visibility": null,
            "width": null
          }
        },
        "e5559c5d2d46488fadf23d08d33ba4ef": {
          "model_module": "@jupyter-widgets/controls",
          "model_name": "ProgressStyleModel",
          "model_module_version": "1.5.0",
          "state": {
            "_model_module": "@jupyter-widgets/controls",
            "_model_module_version": "1.5.0",
            "_model_name": "ProgressStyleModel",
            "_view_count": null,
            "_view_module": "@jupyter-widgets/base",
            "_view_module_version": "1.2.0",
            "_view_name": "StyleView",
            "bar_color": null,
            "description_width": ""
          }
        },
        "73a2c785db684253938e9316383067bb": {
          "model_module": "@jupyter-widgets/base",
          "model_name": "LayoutModel",
          "model_module_version": "1.2.0",
          "state": {
            "_model_module": "@jupyter-widgets/base",
            "_model_module_version": "1.2.0",
            "_model_name": "LayoutModel",
            "_view_count": null,
            "_view_module": "@jupyter-widgets/base",
            "_view_module_version": "1.2.0",
            "_view_name": "LayoutView",
            "align_content": null,
            "align_items": null,
            "align_self": null,
            "border": null,
            "bottom": null,
            "display": null,
            "flex": null,
            "flex_flow": null,
            "grid_area": null,
            "grid_auto_columns": null,
            "grid_auto_flow": null,
            "grid_auto_rows": null,
            "grid_column": null,
            "grid_gap": null,
            "grid_row": null,
            "grid_template_areas": null,
            "grid_template_columns": null,
            "grid_template_rows": null,
            "height": null,
            "justify_content": null,
            "justify_items": null,
            "left": null,
            "margin": null,
            "max_height": null,
            "max_width": null,
            "min_height": null,
            "min_width": null,
            "object_fit": null,
            "object_position": null,
            "order": null,
            "overflow": null,
            "overflow_x": null,
            "overflow_y": null,
            "padding": null,
            "right": null,
            "top": null,
            "visibility": null,
            "width": null
          }
        },
        "c7b56515ae3d4e3ea0f7163ff6ca5005": {
          "model_module": "@jupyter-widgets/controls",
          "model_name": "DescriptionStyleModel",
          "model_module_version": "1.5.0",
          "state": {
            "_model_module": "@jupyter-widgets/controls",
            "_model_module_version": "1.5.0",
            "_model_name": "DescriptionStyleModel",
            "_view_count": null,
            "_view_module": "@jupyter-widgets/base",
            "_view_module_version": "1.2.0",
            "_view_name": "StyleView",
            "description_width": ""
          }
        },
        "cc0b199a03314a73b9db88e3a5c2c442": {
          "model_module": "@jupyter-widgets/controls",
          "model_name": "HBoxModel",
          "model_module_version": "1.5.0",
          "state": {
            "_dom_classes": [],
            "_model_module": "@jupyter-widgets/controls",
            "_model_module_version": "1.5.0",
            "_model_name": "HBoxModel",
            "_view_count": null,
            "_view_module": "@jupyter-widgets/controls",
            "_view_module_version": "1.5.0",
            "_view_name": "HBoxView",
            "box_style": "",
            "children": [
              "IPY_MODEL_7c2d6ca564584c8da30f0aefb3953f33",
              "IPY_MODEL_eaab1122730a42779852d3614ffbf5d8",
              "IPY_MODEL_e1a9f6239dae4e0e97eb7c8cfbfc69a2"
            ],
            "layout": "IPY_MODEL_1841e2275bc842e6bcceccc412a548f7"
          }
        },
        "7c2d6ca564584c8da30f0aefb3953f33": {
          "model_module": "@jupyter-widgets/controls",
          "model_name": "HTMLModel",
          "model_module_version": "1.5.0",
          "state": {
            "_dom_classes": [],
            "_model_module": "@jupyter-widgets/controls",
            "_model_module_version": "1.5.0",
            "_model_name": "HTMLModel",
            "_view_count": null,
            "_view_module": "@jupyter-widgets/controls",
            "_view_module_version": "1.5.0",
            "_view_name": "HTMLView",
            "description": "",
            "description_tooltip": null,
            "layout": "IPY_MODEL_34d0cec4309844719baaa0f5f4326060",
            "placeholder": "​",
            "style": "IPY_MODEL_3a2c4b7bc9d84a069251ab20314fa01d",
            "value": "tokenizer.json: 100%"
          }
        },
        "eaab1122730a42779852d3614ffbf5d8": {
          "model_module": "@jupyter-widgets/controls",
          "model_name": "FloatProgressModel",
          "model_module_version": "1.5.0",
          "state": {
            "_dom_classes": [],
            "_model_module": "@jupyter-widgets/controls",
            "_model_module_version": "1.5.0",
            "_model_name": "FloatProgressModel",
            "_view_count": null,
            "_view_module": "@jupyter-widgets/controls",
            "_view_module_version": "1.5.0",
            "_view_name": "ProgressView",
            "bar_style": "success",
            "description": "",
            "description_tooltip": null,
            "layout": "IPY_MODEL_c1efd99122d1420abccbe62165b150df",
            "max": 3714855,
            "min": 0,
            "orientation": "horizontal",
            "style": "IPY_MODEL_5efd9cebe74b43508708c257e929b65f",
            "value": 3714855
          }
        },
        "e1a9f6239dae4e0e97eb7c8cfbfc69a2": {
          "model_module": "@jupyter-widgets/controls",
          "model_name": "HTMLModel",
          "model_module_version": "1.5.0",
          "state": {
            "_dom_classes": [],
            "_model_module": "@jupyter-widgets/controls",
            "_model_module_version": "1.5.0",
            "_model_name": "HTMLModel",
            "_view_count": null,
            "_view_module": "@jupyter-widgets/controls",
            "_view_module_version": "1.5.0",
            "_view_name": "HTMLView",
            "description": "",
            "description_tooltip": null,
            "layout": "IPY_MODEL_21ee9a83b32a4ff6ab5497441533feee",
            "placeholder": "​",
            "style": "IPY_MODEL_9f2cddc14eab429c9a18fa42acca089c",
            "value": " 3.71M/3.71M [00:00&lt;00:00, 15.5MB/s]"
          }
        },
        "1841e2275bc842e6bcceccc412a548f7": {
          "model_module": "@jupyter-widgets/base",
          "model_name": "LayoutModel",
          "model_module_version": "1.2.0",
          "state": {
            "_model_module": "@jupyter-widgets/base",
            "_model_module_version": "1.2.0",
            "_model_name": "LayoutModel",
            "_view_count": null,
            "_view_module": "@jupyter-widgets/base",
            "_view_module_version": "1.2.0",
            "_view_name": "LayoutView",
            "align_content": null,
            "align_items": null,
            "align_self": null,
            "border": null,
            "bottom": null,
            "display": null,
            "flex": null,
            "flex_flow": null,
            "grid_area": null,
            "grid_auto_columns": null,
            "grid_auto_flow": null,
            "grid_auto_rows": null,
            "grid_column": null,
            "grid_gap": null,
            "grid_row": null,
            "grid_template_areas": null,
            "grid_template_columns": null,
            "grid_template_rows": null,
            "height": null,
            "justify_content": null,
            "justify_items": null,
            "left": null,
            "margin": null,
            "max_height": null,
            "max_width": null,
            "min_height": null,
            "min_width": null,
            "object_fit": null,
            "object_position": null,
            "order": null,
            "overflow": null,
            "overflow_x": null,
            "overflow_y": null,
            "padding": null,
            "right": null,
            "top": null,
            "visibility": null,
            "width": null
          }
        },
        "34d0cec4309844719baaa0f5f4326060": {
          "model_module": "@jupyter-widgets/base",
          "model_name": "LayoutModel",
          "model_module_version": "1.2.0",
          "state": {
            "_model_module": "@jupyter-widgets/base",
            "_model_module_version": "1.2.0",
            "_model_name": "LayoutModel",
            "_view_count": null,
            "_view_module": "@jupyter-widgets/base",
            "_view_module_version": "1.2.0",
            "_view_name": "LayoutView",
            "align_content": null,
            "align_items": null,
            "align_self": null,
            "border": null,
            "bottom": null,
            "display": null,
            "flex": null,
            "flex_flow": null,
            "grid_area": null,
            "grid_auto_columns": null,
            "grid_auto_flow": null,
            "grid_auto_rows": null,
            "grid_column": null,
            "grid_gap": null,
            "grid_row": null,
            "grid_template_areas": null,
            "grid_template_columns": null,
            "grid_template_rows": null,
            "height": null,
            "justify_content": null,
            "justify_items": null,
            "left": null,
            "margin": null,
            "max_height": null,
            "max_width": null,
            "min_height": null,
            "min_width": null,
            "object_fit": null,
            "object_position": null,
            "order": null,
            "overflow": null,
            "overflow_x": null,
            "overflow_y": null,
            "padding": null,
            "right": null,
            "top": null,
            "visibility": null,
            "width": null
          }
        },
        "3a2c4b7bc9d84a069251ab20314fa01d": {
          "model_module": "@jupyter-widgets/controls",
          "model_name": "DescriptionStyleModel",
          "model_module_version": "1.5.0",
          "state": {
            "_model_module": "@jupyter-widgets/controls",
            "_model_module_version": "1.5.0",
            "_model_name": "DescriptionStyleModel",
            "_view_count": null,
            "_view_module": "@jupyter-widgets/base",
            "_view_module_version": "1.2.0",
            "_view_name": "StyleView",
            "description_width": ""
          }
        },
        "c1efd99122d1420abccbe62165b150df": {
          "model_module": "@jupyter-widgets/base",
          "model_name": "LayoutModel",
          "model_module_version": "1.2.0",
          "state": {
            "_model_module": "@jupyter-widgets/base",
            "_model_module_version": "1.2.0",
            "_model_name": "LayoutModel",
            "_view_count": null,
            "_view_module": "@jupyter-widgets/base",
            "_view_module_version": "1.2.0",
            "_view_name": "LayoutView",
            "align_content": null,
            "align_items": null,
            "align_self": null,
            "border": null,
            "bottom": null,
            "display": null,
            "flex": null,
            "flex_flow": null,
            "grid_area": null,
            "grid_auto_columns": null,
            "grid_auto_flow": null,
            "grid_auto_rows": null,
            "grid_column": null,
            "grid_gap": null,
            "grid_row": null,
            "grid_template_areas": null,
            "grid_template_columns": null,
            "grid_template_rows": null,
            "height": null,
            "justify_content": null,
            "justify_items": null,
            "left": null,
            "margin": null,
            "max_height": null,
            "max_width": null,
            "min_height": null,
            "min_width": null,
            "object_fit": null,
            "object_position": null,
            "order": null,
            "overflow": null,
            "overflow_x": null,
            "overflow_y": null,
            "padding": null,
            "right": null,
            "top": null,
            "visibility": null,
            "width": null
          }
        },
        "5efd9cebe74b43508708c257e929b65f": {
          "model_module": "@jupyter-widgets/controls",
          "model_name": "ProgressStyleModel",
          "model_module_version": "1.5.0",
          "state": {
            "_model_module": "@jupyter-widgets/controls",
            "_model_module_version": "1.5.0",
            "_model_name": "ProgressStyleModel",
            "_view_count": null,
            "_view_module": "@jupyter-widgets/base",
            "_view_module_version": "1.2.0",
            "_view_name": "StyleView",
            "bar_color": null,
            "description_width": ""
          }
        },
        "21ee9a83b32a4ff6ab5497441533feee": {
          "model_module": "@jupyter-widgets/base",
          "model_name": "LayoutModel",
          "model_module_version": "1.2.0",
          "state": {
            "_model_module": "@jupyter-widgets/base",
            "_model_module_version": "1.2.0",
            "_model_name": "LayoutModel",
            "_view_count": null,
            "_view_module": "@jupyter-widgets/base",
            "_view_module_version": "1.2.0",
            "_view_name": "LayoutView",
            "align_content": null,
            "align_items": null,
            "align_self": null,
            "border": null,
            "bottom": null,
            "display": null,
            "flex": null,
            "flex_flow": null,
            "grid_area": null,
            "grid_auto_columns": null,
            "grid_auto_flow": null,
            "grid_auto_rows": null,
            "grid_column": null,
            "grid_gap": null,
            "grid_row": null,
            "grid_template_areas": null,
            "grid_template_columns": null,
            "grid_template_rows": null,
            "height": null,
            "justify_content": null,
            "justify_items": null,
            "left": null,
            "margin": null,
            "max_height": null,
            "max_width": null,
            "min_height": null,
            "min_width": null,
            "object_fit": null,
            "object_position": null,
            "order": null,
            "overflow": null,
            "overflow_x": null,
            "overflow_y": null,
            "padding": null,
            "right": null,
            "top": null,
            "visibility": null,
            "width": null
          }
        },
        "9f2cddc14eab429c9a18fa42acca089c": {
          "model_module": "@jupyter-widgets/controls",
          "model_name": "DescriptionStyleModel",
          "model_module_version": "1.5.0",
          "state": {
            "_model_module": "@jupyter-widgets/controls",
            "_model_module_version": "1.5.0",
            "_model_name": "DescriptionStyleModel",
            "_view_count": null,
            "_view_module": "@jupyter-widgets/base",
            "_view_module_version": "1.2.0",
            "_view_name": "StyleView",
            "description_width": ""
          }
        },
        "ecb1352a357e460c800adbb3fb71d8f1": {
          "model_module": "@jupyter-widgets/controls",
          "model_name": "HBoxModel",
          "model_module_version": "1.5.0",
          "state": {
            "_dom_classes": [],
            "_model_module": "@jupyter-widgets/controls",
            "_model_module_version": "1.5.0",
            "_model_name": "HBoxModel",
            "_view_count": null,
            "_view_module": "@jupyter-widgets/controls",
            "_view_module_version": "1.5.0",
            "_view_name": "HBoxView",
            "box_style": "",
            "children": [
              "IPY_MODEL_2973fb3d87f5408bb488ea03c76c431b",
              "IPY_MODEL_51c3491c43d8439e95208bcd82762c1e",
              "IPY_MODEL_09c61d77cb1d421d88acc1ca0c6404a5"
            ],
            "layout": "IPY_MODEL_1ae1c65dcc0f44d2b329c57723cc67a1"
          }
        },
        "2973fb3d87f5408bb488ea03c76c431b": {
          "model_module": "@jupyter-widgets/controls",
          "model_name": "HTMLModel",
          "model_module_version": "1.5.0",
          "state": {
            "_dom_classes": [],
            "_model_module": "@jupyter-widgets/controls",
            "_model_module_version": "1.5.0",
            "_model_name": "HTMLModel",
            "_view_count": null,
            "_view_module": "@jupyter-widgets/controls",
            "_view_module_version": "1.5.0",
            "_view_name": "HTMLView",
            "description": "",
            "description_tooltip": null,
            "layout": "IPY_MODEL_e1916178c2e54db3844b6ec56c9acf12",
            "placeholder": "​",
            "style": "IPY_MODEL_647ae4afb4f44381ba411b7e66f86d5b",
            "value": "special_tokens_map.json: 100%"
          }
        },
        "51c3491c43d8439e95208bcd82762c1e": {
          "model_module": "@jupyter-widgets/controls",
          "model_name": "FloatProgressModel",
          "model_module_version": "1.5.0",
          "state": {
            "_dom_classes": [],
            "_model_module": "@jupyter-widgets/controls",
            "_model_module_version": "1.5.0",
            "_model_name": "FloatProgressModel",
            "_view_count": null,
            "_view_module": "@jupyter-widgets/controls",
            "_view_module_version": "1.5.0",
            "_view_name": "ProgressView",
            "bar_style": "success",
            "description": "",
            "description_tooltip": null,
            "layout": "IPY_MODEL_cdae79c85b934dd0be74821f61258635",
            "max": 125,
            "min": 0,
            "orientation": "horizontal",
            "style": "IPY_MODEL_74b8e80516c349cbbe66e807946e044c",
            "value": 125
          }
        },
        "09c61d77cb1d421d88acc1ca0c6404a5": {
          "model_module": "@jupyter-widgets/controls",
          "model_name": "HTMLModel",
          "model_module_version": "1.5.0",
          "state": {
            "_dom_classes": [],
            "_model_module": "@jupyter-widgets/controls",
            "_model_module_version": "1.5.0",
            "_model_name": "HTMLModel",
            "_view_count": null,
            "_view_module": "@jupyter-widgets/controls",
            "_view_module_version": "1.5.0",
            "_view_name": "HTMLView",
            "description": "",
            "description_tooltip": null,
            "layout": "IPY_MODEL_6dc744af053d4f758274f870b6308838",
            "placeholder": "​",
            "style": "IPY_MODEL_c3f6b461d51f472b98ececf4fca1882d",
            "value": " 125/125 [00:00&lt;00:00, 313B/s]"
          }
        },
        "1ae1c65dcc0f44d2b329c57723cc67a1": {
          "model_module": "@jupyter-widgets/base",
          "model_name": "LayoutModel",
          "model_module_version": "1.2.0",
          "state": {
            "_model_module": "@jupyter-widgets/base",
            "_model_module_version": "1.2.0",
            "_model_name": "LayoutModel",
            "_view_count": null,
            "_view_module": "@jupyter-widgets/base",
            "_view_module_version": "1.2.0",
            "_view_name": "LayoutView",
            "align_content": null,
            "align_items": null,
            "align_self": null,
            "border": null,
            "bottom": null,
            "display": null,
            "flex": null,
            "flex_flow": null,
            "grid_area": null,
            "grid_auto_columns": null,
            "grid_auto_flow": null,
            "grid_auto_rows": null,
            "grid_column": null,
            "grid_gap": null,
            "grid_row": null,
            "grid_template_areas": null,
            "grid_template_columns": null,
            "grid_template_rows": null,
            "height": null,
            "justify_content": null,
            "justify_items": null,
            "left": null,
            "margin": null,
            "max_height": null,
            "max_width": null,
            "min_height": null,
            "min_width": null,
            "object_fit": null,
            "object_position": null,
            "order": null,
            "overflow": null,
            "overflow_x": null,
            "overflow_y": null,
            "padding": null,
            "right": null,
            "top": null,
            "visibility": null,
            "width": null
          }
        },
        "e1916178c2e54db3844b6ec56c9acf12": {
          "model_module": "@jupyter-widgets/base",
          "model_name": "LayoutModel",
          "model_module_version": "1.2.0",
          "state": {
            "_model_module": "@jupyter-widgets/base",
            "_model_module_version": "1.2.0",
            "_model_name": "LayoutModel",
            "_view_count": null,
            "_view_module": "@jupyter-widgets/base",
            "_view_module_version": "1.2.0",
            "_view_name": "LayoutView",
            "align_content": null,
            "align_items": null,
            "align_self": null,
            "border": null,
            "bottom": null,
            "display": null,
            "flex": null,
            "flex_flow": null,
            "grid_area": null,
            "grid_auto_columns": null,
            "grid_auto_flow": null,
            "grid_auto_rows": null,
            "grid_column": null,
            "grid_gap": null,
            "grid_row": null,
            "grid_template_areas": null,
            "grid_template_columns": null,
            "grid_template_rows": null,
            "height": null,
            "justify_content": null,
            "justify_items": null,
            "left": null,
            "margin": null,
            "max_height": null,
            "max_width": null,
            "min_height": null,
            "min_width": null,
            "object_fit": null,
            "object_position": null,
            "order": null,
            "overflow": null,
            "overflow_x": null,
            "overflow_y": null,
            "padding": null,
            "right": null,
            "top": null,
            "visibility": null,
            "width": null
          }
        },
        "647ae4afb4f44381ba411b7e66f86d5b": {
          "model_module": "@jupyter-widgets/controls",
          "model_name": "DescriptionStyleModel",
          "model_module_version": "1.5.0",
          "state": {
            "_model_module": "@jupyter-widgets/controls",
            "_model_module_version": "1.5.0",
            "_model_name": "DescriptionStyleModel",
            "_view_count": null,
            "_view_module": "@jupyter-widgets/base",
            "_view_module_version": "1.2.0",
            "_view_name": "StyleView",
            "description_width": ""
          }
        },
        "cdae79c85b934dd0be74821f61258635": {
          "model_module": "@jupyter-widgets/base",
          "model_name": "LayoutModel",
          "model_module_version": "1.2.0",
          "state": {
            "_model_module": "@jupyter-widgets/base",
            "_model_module_version": "1.2.0",
            "_model_name": "LayoutModel",
            "_view_count": null,
            "_view_module": "@jupyter-widgets/base",
            "_view_module_version": "1.2.0",
            "_view_name": "LayoutView",
            "align_content": null,
            "align_items": null,
            "align_self": null,
            "border": null,
            "bottom": null,
            "display": null,
            "flex": null,
            "flex_flow": null,
            "grid_area": null,
            "grid_auto_columns": null,
            "grid_auto_flow": null,
            "grid_auto_rows": null,
            "grid_column": null,
            "grid_gap": null,
            "grid_row": null,
            "grid_template_areas": null,
            "grid_template_columns": null,
            "grid_template_rows": null,
            "height": null,
            "justify_content": null,
            "justify_items": null,
            "left": null,
            "margin": null,
            "max_height": null,
            "max_width": null,
            "min_height": null,
            "min_width": null,
            "object_fit": null,
            "object_position": null,
            "order": null,
            "overflow": null,
            "overflow_x": null,
            "overflow_y": null,
            "padding": null,
            "right": null,
            "top": null,
            "visibility": null,
            "width": null
          }
        },
        "74b8e80516c349cbbe66e807946e044c": {
          "model_module": "@jupyter-widgets/controls",
          "model_name": "ProgressStyleModel",
          "model_module_version": "1.5.0",
          "state": {
            "_model_module": "@jupyter-widgets/controls",
            "_model_module_version": "1.5.0",
            "_model_name": "ProgressStyleModel",
            "_view_count": null,
            "_view_module": "@jupyter-widgets/base",
            "_view_module_version": "1.2.0",
            "_view_name": "StyleView",
            "bar_color": null,
            "description_width": ""
          }
        },
        "6dc744af053d4f758274f870b6308838": {
          "model_module": "@jupyter-widgets/base",
          "model_name": "LayoutModel",
          "model_module_version": "1.2.0",
          "state": {
            "_model_module": "@jupyter-widgets/base",
            "_model_module_version": "1.2.0",
            "_model_name": "LayoutModel",
            "_view_count": null,
            "_view_module": "@jupyter-widgets/base",
            "_view_module_version": "1.2.0",
            "_view_name": "LayoutView",
            "align_content": null,
            "align_items": null,
            "align_self": null,
            "border": null,
            "bottom": null,
            "display": null,
            "flex": null,
            "flex_flow": null,
            "grid_area": null,
            "grid_auto_columns": null,
            "grid_auto_flow": null,
            "grid_auto_rows": null,
            "grid_column": null,
            "grid_gap": null,
            "grid_row": null,
            "grid_template_areas": null,
            "grid_template_columns": null,
            "grid_template_rows": null,
            "height": null,
            "justify_content": null,
            "justify_items": null,
            "left": null,
            "margin": null,
            "max_height": null,
            "max_width": null,
            "min_height": null,
            "min_width": null,
            "object_fit": null,
            "object_position": null,
            "order": null,
            "overflow": null,
            "overflow_x": null,
            "overflow_y": null,
            "padding": null,
            "right": null,
            "top": null,
            "visibility": null,
            "width": null
          }
        },
        "c3f6b461d51f472b98ececf4fca1882d": {
          "model_module": "@jupyter-widgets/controls",
          "model_name": "DescriptionStyleModel",
          "model_module_version": "1.5.0",
          "state": {
            "_model_module": "@jupyter-widgets/controls",
            "_model_module_version": "1.5.0",
            "_model_name": "DescriptionStyleModel",
            "_view_count": null,
            "_view_module": "@jupyter-widgets/base",
            "_view_module_version": "1.2.0",
            "_view_name": "StyleView",
            "description_width": ""
          }
        }
      }
    }
  },
  "cells": [
    {
      "cell_type": "markdown",
      "source": [
        "# Обучение Word2Vec на своих данных"
      ],
      "metadata": {
        "id": "am-zxC3b5Dph"
      }
    },
    {
      "cell_type": "markdown",
      "source": [
        "### Загружаем и готовим данные отзывов на банки"
      ],
      "metadata": {
        "id": "NfYhM78d9D3u"
      }
    },
    {
      "cell_type": "code",
      "source": [
        "!pip install pymorphy2"
      ],
      "metadata": {
        "colab": {
          "base_uri": "https://localhost:8080/"
        },
        "id": "Qk6ujTN_9QHC",
        "outputId": "4be4a1a3-ac6a-4da7-95a4-35d4fd8dbf7c"
      },
      "execution_count": 1,
      "outputs": [
        {
          "output_type": "stream",
          "name": "stdout",
          "text": [
            "Collecting pymorphy2\n",
            "  Downloading pymorphy2-0.9.1-py3-none-any.whl (55 kB)\n",
            "\u001b[?25l     \u001b[90m━━━━━━━━━━━━━━━━━━━━━━━━━━━━━━━━━━━━━━━━\u001b[0m \u001b[32m0.0/55.5 kB\u001b[0m \u001b[31m?\u001b[0m eta \u001b[36m-:--:--\u001b[0m\r\u001b[2K     \u001b[91m━━━━━━━━━━━━━━━━━━━━━━━━━━━━━━━━━━━━\u001b[0m\u001b[91m╸\u001b[0m\u001b[90m━━━\u001b[0m \u001b[32m51.2/55.5 kB\u001b[0m \u001b[31m2.0 MB/s\u001b[0m eta \u001b[36m0:00:01\u001b[0m\r\u001b[2K     \u001b[90m━━━━━━━━━━━━━━━━━━━━━━━━━━━━━━━━━━━━━━━━\u001b[0m \u001b[32m55.5/55.5 kB\u001b[0m \u001b[31m1.2 MB/s\u001b[0m eta \u001b[36m0:00:00\u001b[0m\n",
            "\u001b[?25hCollecting dawg-python>=0.7.1 (from pymorphy2)\n",
            "  Downloading DAWG_Python-0.7.2-py2.py3-none-any.whl (11 kB)\n",
            "Collecting pymorphy2-dicts-ru<3.0,>=2.4 (from pymorphy2)\n",
            "  Downloading pymorphy2_dicts_ru-2.4.417127.4579844-py2.py3-none-any.whl (8.2 MB)\n",
            "\u001b[2K     \u001b[90m━━━━━━━━━━━━━━━━━━━━━━━━━━━━━━━━━━━━━━━━\u001b[0m \u001b[32m8.2/8.2 MB\u001b[0m \u001b[31m45.7 MB/s\u001b[0m eta \u001b[36m0:00:00\u001b[0m\n",
            "\u001b[?25hCollecting docopt>=0.6 (from pymorphy2)\n",
            "  Downloading docopt-0.6.2.tar.gz (25 kB)\n",
            "  Preparing metadata (setup.py) ... \u001b[?25l\u001b[?25hdone\n",
            "Building wheels for collected packages: docopt\n",
            "  Building wheel for docopt (setup.py) ... \u001b[?25l\u001b[?25hdone\n",
            "  Created wheel for docopt: filename=docopt-0.6.2-py2.py3-none-any.whl size=13706 sha256=777d2d6b6d6e0926d3623a8fbdc37e8fd3c50cd44ec0516ed5274ebb0bb3c3e9\n",
            "  Stored in directory: /root/.cache/pip/wheels/fc/ab/d4/5da2067ac95b36618c629a5f93f809425700506f72c9732fac\n",
            "Successfully built docopt\n",
            "Installing collected packages: pymorphy2-dicts-ru, docopt, dawg-python, pymorphy2\n",
            "Successfully installed dawg-python-0.7.2 docopt-0.6.2 pymorphy2-0.9.1 pymorphy2-dicts-ru-2.4.417127.4579844\n"
          ]
        }
      ]
    },
    {
      "cell_type": "code",
      "source": [
        "import pandas as pd\n",
        "import pymorphy2\n",
        "import nltk\n",
        "from nltk.tokenize import word_tokenize\n",
        "from nltk.corpus import stopwords"
      ],
      "metadata": {
        "id": "7BGHAIRc9XEX"
      },
      "execution_count": 2,
      "outputs": []
    },
    {
      "cell_type": "code",
      "source": [
        "nltk.download('punkt')\n",
        "nltk.download('stopwords')"
      ],
      "metadata": {
        "colab": {
          "base_uri": "https://localhost:8080/"
        },
        "id": "McleApuC9d4S",
        "outputId": "dd7f8cd1-0e2f-4e5d-e3b8-bfea53aeef0a"
      },
      "execution_count": 3,
      "outputs": [
        {
          "output_type": "stream",
          "name": "stderr",
          "text": [
            "[nltk_data] Downloading package punkt to /root/nltk_data...\n",
            "[nltk_data]   Unzipping tokenizers/punkt.zip.\n",
            "[nltk_data] Downloading package stopwords to /root/nltk_data...\n",
            "[nltk_data]   Unzipping corpora/stopwords.zip.\n"
          ]
        },
        {
          "output_type": "execute_result",
          "data": {
            "text/plain": [
              "True"
            ]
          },
          "metadata": {},
          "execution_count": 3
        }
      ]
    },
    {
      "cell_type": "code",
      "source": [
        "def preprocess(text, stop_words, punctuation_marks, morph):\n",
        "    tokens = word_tokenize(text.lower())\n",
        "    preprocessed_text = []\n",
        "    for token in tokens:\n",
        "        if token not in punctuation_marks:\n",
        "            lemma = morph.parse(token)[0].normal_form\n",
        "            if lemma not in stop_words:\n",
        "                preprocessed_text.append(lemma)\n",
        "    return preprocessed_text"
      ],
      "metadata": {
        "id": "6djhDUbN99lv"
      },
      "execution_count": 4,
      "outputs": []
    },
    {
      "cell_type": "code",
      "source": [
        "punctuation_marks = ['!', ',', '(', ')', ':', '-', '?', '.', '..', '...']\n",
        "stop_words = stopwords.words(\"russian\")\n",
        "morph = pymorphy2.MorphAnalyzer()"
      ],
      "metadata": {
        "id": "0oi3JCSz9-ex"
      },
      "execution_count": 5,
      "outputs": []
    },
    {
      "cell_type": "code",
      "source": [
        "!wget https://huggingface.co/datasets/C0uchP0tat0/courses_obrazoval_ru/resolve/main/reviews.csv -O dataset.csv"
      ],
      "metadata": {
        "colab": {
          "base_uri": "https://localhost:8080/"
        },
        "id": "yVeE69hG9gIT",
        "outputId": "58c5becf-62ed-4f2d-9180-085d7029fd14"
      },
      "execution_count": 6,
      "outputs": [
        {
          "output_type": "stream",
          "name": "stdout",
          "text": [
            "--2024-04-27 19:30:47--  https://huggingface.co/datasets/C0uchP0tat0/courses_obrazoval_ru/resolve/main/reviews.csv\n",
            "Resolving huggingface.co (huggingface.co)... 18.154.227.69, 18.154.227.7, 18.154.227.67, ...\n",
            "Connecting to huggingface.co (huggingface.co)|18.154.227.69|:443... connected.\n",
            "HTTP request sent, awaiting response... 302 Found\n",
            "Location: https://cdn-lfs-us-1.huggingface.co/repos/ea/0f/ea0f960c15d93f8470907f7f90de2432df5691b359e631cdc5619075be9ca37b/591525c1812ffd8c66d8c39628e923bbe818fb9f4a0073c8c6f93d98ede84432?response-content-disposition=attachment%3B+filename*%3DUTF-8%27%27reviews.csv%3B+filename%3D%22reviews.csv%22%3B&response-content-type=text%2Fcsv&Expires=1714505447&Policy=eyJTdGF0ZW1lbnQiOlt7IkNvbmRpdGlvbiI6eyJEYXRlTGVzc1RoYW4iOnsiQVdTOkVwb2NoVGltZSI6MTcxNDUwNTQ0N319LCJSZXNvdXJjZSI6Imh0dHBzOi8vY2RuLWxmcy11cy0xLmh1Z2dpbmdmYWNlLmNvL3JlcG9zL2VhLzBmL2VhMGY5NjBjMTVkOTNmODQ3MDkwN2Y3ZjkwZGUyNDMyZGY1NjkxYjM1OWU2MzFjZGM1NjE5MDc1YmU5Y2EzN2IvNTkxNTI1YzE4MTJmZmQ4YzY2ZDhjMzk2MjhlOTIzYmJlODE4ZmI5ZjRhMDA3M2M4YzZmOTNkOThlZGU4NDQzMj9yZXNwb25zZS1jb250ZW50LWRpc3Bvc2l0aW9uPSomcmVzcG9uc2UtY29udGVudC10eXBlPSoifV19&Signature=GUt7JJ0S8FJIZUoG7rar1UTtkGRMZY1UmJIPsCrTPp5WcjFjTXJGbruYNLcHtEQVFo-RyFxVWaCu60RhhviFD%7Eva9GU0a42jaf1hjez1bcBaw9IlI3rO%7E2pktSduZ2Kx1pJQnRfPq-2fp4mrGxV%7ElWM7nhm0wo0gCEd%7EfKiQYM%7EnFa2-oQBKbhErQrYA2s5JicFs2EU4XuNLb6GvSYG7PGizhLh25mpQLDgUQbllDJk9xby%7Efrp%7EGsYsNDKyJI8DCHisNCK1pVeMZo7WsK6jV%7EvVFlRavetwAEv0KzMxR3NV7gNU2O9MWT-EuGfjZhAzplzJp1IwvlPr%7EQMSl9RG-A__&Key-Pair-Id=KCD77M1F0VK2B [following]\n",
            "--2024-04-27 19:30:47--  https://cdn-lfs-us-1.huggingface.co/repos/ea/0f/ea0f960c15d93f8470907f7f90de2432df5691b359e631cdc5619075be9ca37b/591525c1812ffd8c66d8c39628e923bbe818fb9f4a0073c8c6f93d98ede84432?response-content-disposition=attachment%3B+filename*%3DUTF-8%27%27reviews.csv%3B+filename%3D%22reviews.csv%22%3B&response-content-type=text%2Fcsv&Expires=1714505447&Policy=eyJTdGF0ZW1lbnQiOlt7IkNvbmRpdGlvbiI6eyJEYXRlTGVzc1RoYW4iOnsiQVdTOkVwb2NoVGltZSI6MTcxNDUwNTQ0N319LCJSZXNvdXJjZSI6Imh0dHBzOi8vY2RuLWxmcy11cy0xLmh1Z2dpbmdmYWNlLmNvL3JlcG9zL2VhLzBmL2VhMGY5NjBjMTVkOTNmODQ3MDkwN2Y3ZjkwZGUyNDMyZGY1NjkxYjM1OWU2MzFjZGM1NjE5MDc1YmU5Y2EzN2IvNTkxNTI1YzE4MTJmZmQ4YzY2ZDhjMzk2MjhlOTIzYmJlODE4ZmI5ZjRhMDA3M2M4YzZmOTNkOThlZGU4NDQzMj9yZXNwb25zZS1jb250ZW50LWRpc3Bvc2l0aW9uPSomcmVzcG9uc2UtY29udGVudC10eXBlPSoifV19&Signature=GUt7JJ0S8FJIZUoG7rar1UTtkGRMZY1UmJIPsCrTPp5WcjFjTXJGbruYNLcHtEQVFo-RyFxVWaCu60RhhviFD%7Eva9GU0a42jaf1hjez1bcBaw9IlI3rO%7E2pktSduZ2Kx1pJQnRfPq-2fp4mrGxV%7ElWM7nhm0wo0gCEd%7EfKiQYM%7EnFa2-oQBKbhErQrYA2s5JicFs2EU4XuNLb6GvSYG7PGizhLh25mpQLDgUQbllDJk9xby%7Efrp%7EGsYsNDKyJI8DCHisNCK1pVeMZo7WsK6jV%7EvVFlRavetwAEv0KzMxR3NV7gNU2O9MWT-EuGfjZhAzplzJp1IwvlPr%7EQMSl9RG-A__&Key-Pair-Id=KCD77M1F0VK2B\n",
            "Resolving cdn-lfs-us-1.huggingface.co (cdn-lfs-us-1.huggingface.co)... 18.160.46.59, 18.160.46.93, 18.160.46.26, ...\n",
            "Connecting to cdn-lfs-us-1.huggingface.co (cdn-lfs-us-1.huggingface.co)|18.160.46.59|:443... connected.\n",
            "HTTP request sent, awaiting response... 200 OK\n",
            "Length: 42803195 (41M) [text/csv]\n",
            "Saving to: ‘dataset.csv’\n",
            "\n",
            "dataset.csv         100%[===================>]  40.82M   253MB/s    in 0.2s    \n",
            "\n",
            "2024-04-27 19:30:47 (253 MB/s) - ‘dataset.csv’ saved [42803195/42803195]\n",
            "\n"
          ]
        }
      ]
    },
    {
      "cell_type": "code",
      "source": [
        "courses = pd.read_csv('dataset.csv', sep=',', index_col=False)"
      ],
      "metadata": {
        "id": "I3bToSmz9zYn"
      },
      "execution_count": 7,
      "outputs": []
    },
    {
      "cell_type": "code",
      "source": [
        "courses"
      ],
      "metadata": {
        "colab": {
          "base_uri": "https://localhost:8080/",
          "height": 424
        },
        "id": "haWbnlgB-F1F",
        "outputId": "f928cb6b-c6a5-4a6e-86cc-6011f6c1c4d6"
      },
      "execution_count": 8,
      "outputs": [
        {
          "output_type": "execute_result",
          "data": {
            "text/plain": [
              "                                                 content     label\n",
              "0      Сложная тема, которая стала понятна благодаря ...  positive\n",
              "1      Большое спасибо команде Nolim за создание тако...  positive\n",
              "2      Отличный курс! Не многие умеют делать кастомны...  positive\n",
              "3      Курс, который превзошёл мои ожидания и даже бо...  positive\n",
              "4      Закончила уже не один курс. Шла с абсолютного ...  positive\n",
              "...                                                  ...       ...\n",
              "31385  Ужасное отношение менеджеров по телефону к пот...  negative\n",
              "31386  Я занимаюсь второй год и для меня это самый уд...  negative\n",
              "31387  Skyeng очень крутая школа, она отличается от м...  negative\n",
              "31388  Чудесная школа. Второй преподаватель и второй ...  negative\n",
              "31389  Я пока только начала обучение в Skyeng, но уже...  negative\n",
              "\n",
              "[31390 rows x 2 columns]"
            ],
            "text/html": [
              "\n",
              "  <div id=\"df-2fd2aae1-68a5-4dc2-98eb-5774f373ef71\" class=\"colab-df-container\">\n",
              "    <div>\n",
              "<style scoped>\n",
              "    .dataframe tbody tr th:only-of-type {\n",
              "        vertical-align: middle;\n",
              "    }\n",
              "\n",
              "    .dataframe tbody tr th {\n",
              "        vertical-align: top;\n",
              "    }\n",
              "\n",
              "    .dataframe thead th {\n",
              "        text-align: right;\n",
              "    }\n",
              "</style>\n",
              "<table border=\"1\" class=\"dataframe\">\n",
              "  <thead>\n",
              "    <tr style=\"text-align: right;\">\n",
              "      <th></th>\n",
              "      <th>content</th>\n",
              "      <th>label</th>\n",
              "    </tr>\n",
              "  </thead>\n",
              "  <tbody>\n",
              "    <tr>\n",
              "      <th>0</th>\n",
              "      <td>Сложная тема, которая стала понятна благодаря ...</td>\n",
              "      <td>positive</td>\n",
              "    </tr>\n",
              "    <tr>\n",
              "      <th>1</th>\n",
              "      <td>Большое спасибо команде Nolim за создание тако...</td>\n",
              "      <td>positive</td>\n",
              "    </tr>\n",
              "    <tr>\n",
              "      <th>2</th>\n",
              "      <td>Отличный курс! Не многие умеют делать кастомны...</td>\n",
              "      <td>positive</td>\n",
              "    </tr>\n",
              "    <tr>\n",
              "      <th>3</th>\n",
              "      <td>Курс, который превзошёл мои ожидания и даже бо...</td>\n",
              "      <td>positive</td>\n",
              "    </tr>\n",
              "    <tr>\n",
              "      <th>4</th>\n",
              "      <td>Закончила уже не один курс. Шла с абсолютного ...</td>\n",
              "      <td>positive</td>\n",
              "    </tr>\n",
              "    <tr>\n",
              "      <th>...</th>\n",
              "      <td>...</td>\n",
              "      <td>...</td>\n",
              "    </tr>\n",
              "    <tr>\n",
              "      <th>31385</th>\n",
              "      <td>Ужасное отношение менеджеров по телефону к пот...</td>\n",
              "      <td>negative</td>\n",
              "    </tr>\n",
              "    <tr>\n",
              "      <th>31386</th>\n",
              "      <td>Я занимаюсь второй год и для меня это самый уд...</td>\n",
              "      <td>negative</td>\n",
              "    </tr>\n",
              "    <tr>\n",
              "      <th>31387</th>\n",
              "      <td>Skyeng очень крутая школа, она отличается от м...</td>\n",
              "      <td>negative</td>\n",
              "    </tr>\n",
              "    <tr>\n",
              "      <th>31388</th>\n",
              "      <td>Чудесная школа. Второй преподаватель и второй ...</td>\n",
              "      <td>negative</td>\n",
              "    </tr>\n",
              "    <tr>\n",
              "      <th>31389</th>\n",
              "      <td>Я пока только начала обучение в Skyeng, но уже...</td>\n",
              "      <td>negative</td>\n",
              "    </tr>\n",
              "  </tbody>\n",
              "</table>\n",
              "<p>31390 rows × 2 columns</p>\n",
              "</div>\n",
              "    <div class=\"colab-df-buttons\">\n",
              "\n",
              "  <div class=\"colab-df-container\">\n",
              "    <button class=\"colab-df-convert\" onclick=\"convertToInteractive('df-2fd2aae1-68a5-4dc2-98eb-5774f373ef71')\"\n",
              "            title=\"Convert this dataframe to an interactive table.\"\n",
              "            style=\"display:none;\">\n",
              "\n",
              "  <svg xmlns=\"http://www.w3.org/2000/svg\" height=\"24px\" viewBox=\"0 -960 960 960\">\n",
              "    <path d=\"M120-120v-720h720v720H120Zm60-500h600v-160H180v160Zm220 220h160v-160H400v160Zm0 220h160v-160H400v160ZM180-400h160v-160H180v160Zm440 0h160v-160H620v160ZM180-180h160v-160H180v160Zm440 0h160v-160H620v160Z\"/>\n",
              "  </svg>\n",
              "    </button>\n",
              "\n",
              "  <style>\n",
              "    .colab-df-container {\n",
              "      display:flex;\n",
              "      gap: 12px;\n",
              "    }\n",
              "\n",
              "    .colab-df-convert {\n",
              "      background-color: #E8F0FE;\n",
              "      border: none;\n",
              "      border-radius: 50%;\n",
              "      cursor: pointer;\n",
              "      display: none;\n",
              "      fill: #1967D2;\n",
              "      height: 32px;\n",
              "      padding: 0 0 0 0;\n",
              "      width: 32px;\n",
              "    }\n",
              "\n",
              "    .colab-df-convert:hover {\n",
              "      background-color: #E2EBFA;\n",
              "      box-shadow: 0px 1px 2px rgba(60, 64, 67, 0.3), 0px 1px 3px 1px rgba(60, 64, 67, 0.15);\n",
              "      fill: #174EA6;\n",
              "    }\n",
              "\n",
              "    .colab-df-buttons div {\n",
              "      margin-bottom: 4px;\n",
              "    }\n",
              "\n",
              "    [theme=dark] .colab-df-convert {\n",
              "      background-color: #3B4455;\n",
              "      fill: #D2E3FC;\n",
              "    }\n",
              "\n",
              "    [theme=dark] .colab-df-convert:hover {\n",
              "      background-color: #434B5C;\n",
              "      box-shadow: 0px 1px 3px 1px rgba(0, 0, 0, 0.15);\n",
              "      filter: drop-shadow(0px 1px 2px rgba(0, 0, 0, 0.3));\n",
              "      fill: #FFFFFF;\n",
              "    }\n",
              "  </style>\n",
              "\n",
              "    <script>\n",
              "      const buttonEl =\n",
              "        document.querySelector('#df-2fd2aae1-68a5-4dc2-98eb-5774f373ef71 button.colab-df-convert');\n",
              "      buttonEl.style.display =\n",
              "        google.colab.kernel.accessAllowed ? 'block' : 'none';\n",
              "\n",
              "      async function convertToInteractive(key) {\n",
              "        const element = document.querySelector('#df-2fd2aae1-68a5-4dc2-98eb-5774f373ef71');\n",
              "        const dataTable =\n",
              "          await google.colab.kernel.invokeFunction('convertToInteractive',\n",
              "                                                    [key], {});\n",
              "        if (!dataTable) return;\n",
              "\n",
              "        const docLinkHtml = 'Like what you see? Visit the ' +\n",
              "          '<a target=\"_blank\" href=https://colab.research.google.com/notebooks/data_table.ipynb>data table notebook</a>'\n",
              "          + ' to learn more about interactive tables.';\n",
              "        element.innerHTML = '';\n",
              "        dataTable['output_type'] = 'display_data';\n",
              "        await google.colab.output.renderOutput(dataTable, element);\n",
              "        const docLink = document.createElement('div');\n",
              "        docLink.innerHTML = docLinkHtml;\n",
              "        element.appendChild(docLink);\n",
              "      }\n",
              "    </script>\n",
              "  </div>\n",
              "\n",
              "\n",
              "<div id=\"df-67f9a209-2aef-4af3-be2a-5c4bd57b328e\">\n",
              "  <button class=\"colab-df-quickchart\" onclick=\"quickchart('df-67f9a209-2aef-4af3-be2a-5c4bd57b328e')\"\n",
              "            title=\"Suggest charts\"\n",
              "            style=\"display:none;\">\n",
              "\n",
              "<svg xmlns=\"http://www.w3.org/2000/svg\" height=\"24px\"viewBox=\"0 0 24 24\"\n",
              "     width=\"24px\">\n",
              "    <g>\n",
              "        <path d=\"M19 3H5c-1.1 0-2 .9-2 2v14c0 1.1.9 2 2 2h14c1.1 0 2-.9 2-2V5c0-1.1-.9-2-2-2zM9 17H7v-7h2v7zm4 0h-2V7h2v10zm4 0h-2v-4h2v4z\"/>\n",
              "    </g>\n",
              "</svg>\n",
              "  </button>\n",
              "\n",
              "<style>\n",
              "  .colab-df-quickchart {\n",
              "      --bg-color: #E8F0FE;\n",
              "      --fill-color: #1967D2;\n",
              "      --hover-bg-color: #E2EBFA;\n",
              "      --hover-fill-color: #174EA6;\n",
              "      --disabled-fill-color: #AAA;\n",
              "      --disabled-bg-color: #DDD;\n",
              "  }\n",
              "\n",
              "  [theme=dark] .colab-df-quickchart {\n",
              "      --bg-color: #3B4455;\n",
              "      --fill-color: #D2E3FC;\n",
              "      --hover-bg-color: #434B5C;\n",
              "      --hover-fill-color: #FFFFFF;\n",
              "      --disabled-bg-color: #3B4455;\n",
              "      --disabled-fill-color: #666;\n",
              "  }\n",
              "\n",
              "  .colab-df-quickchart {\n",
              "    background-color: var(--bg-color);\n",
              "    border: none;\n",
              "    border-radius: 50%;\n",
              "    cursor: pointer;\n",
              "    display: none;\n",
              "    fill: var(--fill-color);\n",
              "    height: 32px;\n",
              "    padding: 0;\n",
              "    width: 32px;\n",
              "  }\n",
              "\n",
              "  .colab-df-quickchart:hover {\n",
              "    background-color: var(--hover-bg-color);\n",
              "    box-shadow: 0 1px 2px rgba(60, 64, 67, 0.3), 0 1px 3px 1px rgba(60, 64, 67, 0.15);\n",
              "    fill: var(--button-hover-fill-color);\n",
              "  }\n",
              "\n",
              "  .colab-df-quickchart-complete:disabled,\n",
              "  .colab-df-quickchart-complete:disabled:hover {\n",
              "    background-color: var(--disabled-bg-color);\n",
              "    fill: var(--disabled-fill-color);\n",
              "    box-shadow: none;\n",
              "  }\n",
              "\n",
              "  .colab-df-spinner {\n",
              "    border: 2px solid var(--fill-color);\n",
              "    border-color: transparent;\n",
              "    border-bottom-color: var(--fill-color);\n",
              "    animation:\n",
              "      spin 1s steps(1) infinite;\n",
              "  }\n",
              "\n",
              "  @keyframes spin {\n",
              "    0% {\n",
              "      border-color: transparent;\n",
              "      border-bottom-color: var(--fill-color);\n",
              "      border-left-color: var(--fill-color);\n",
              "    }\n",
              "    20% {\n",
              "      border-color: transparent;\n",
              "      border-left-color: var(--fill-color);\n",
              "      border-top-color: var(--fill-color);\n",
              "    }\n",
              "    30% {\n",
              "      border-color: transparent;\n",
              "      border-left-color: var(--fill-color);\n",
              "      border-top-color: var(--fill-color);\n",
              "      border-right-color: var(--fill-color);\n",
              "    }\n",
              "    40% {\n",
              "      border-color: transparent;\n",
              "      border-right-color: var(--fill-color);\n",
              "      border-top-color: var(--fill-color);\n",
              "    }\n",
              "    60% {\n",
              "      border-color: transparent;\n",
              "      border-right-color: var(--fill-color);\n",
              "    }\n",
              "    80% {\n",
              "      border-color: transparent;\n",
              "      border-right-color: var(--fill-color);\n",
              "      border-bottom-color: var(--fill-color);\n",
              "    }\n",
              "    90% {\n",
              "      border-color: transparent;\n",
              "      border-bottom-color: var(--fill-color);\n",
              "    }\n",
              "  }\n",
              "</style>\n",
              "\n",
              "  <script>\n",
              "    async function quickchart(key) {\n",
              "      const quickchartButtonEl =\n",
              "        document.querySelector('#' + key + ' button');\n",
              "      quickchartButtonEl.disabled = true;  // To prevent multiple clicks.\n",
              "      quickchartButtonEl.classList.add('colab-df-spinner');\n",
              "      try {\n",
              "        const charts = await google.colab.kernel.invokeFunction(\n",
              "            'suggestCharts', [key], {});\n",
              "      } catch (error) {\n",
              "        console.error('Error during call to suggestCharts:', error);\n",
              "      }\n",
              "      quickchartButtonEl.classList.remove('colab-df-spinner');\n",
              "      quickchartButtonEl.classList.add('colab-df-quickchart-complete');\n",
              "    }\n",
              "    (() => {\n",
              "      let quickchartButtonEl =\n",
              "        document.querySelector('#df-67f9a209-2aef-4af3-be2a-5c4bd57b328e button');\n",
              "      quickchartButtonEl.style.display =\n",
              "        google.colab.kernel.accessAllowed ? 'block' : 'none';\n",
              "    })();\n",
              "  </script>\n",
              "</div>\n",
              "    </div>\n",
              "  </div>\n"
            ],
            "application/vnd.google.colaboratory.intrinsic+json": {
              "type": "dataframe",
              "variable_name": "courses",
              "summary": "{\n  \"name\": \"courses\",\n  \"rows\": 31390,\n  \"fields\": [\n    {\n      \"column\": \"content\",\n      \"properties\": {\n        \"dtype\": \"string\",\n        \"num_unique_values\": 27913,\n        \"samples\": [\n          \"\\u0423\\u0447\\u0443\\u0441\\u044c \\u043d\\u0430 \\u0442\\u0435\\u0441\\u0442\\u0438\\u0440\\u043e\\u0432\\u0449\\u0438\\u043a\\u0430 QAP. \\u0428\\u043a\\u043e\\u043b\\u0430 SkillFactory \\u043c\\u0435\\u043d\\u044f \\u0443\\u0434\\u0438\\u0432\\u0438\\u043b\\u0430, \\u0442\\u0435\\u043c \\u0447\\u0442\\u043e \\u0441\\u043f\\u0443\\u0441\\u0442\\u044f 1/3 \\u043e\\u0431\\u0443\\u0447\\u0435\\u043d\\u0438\\u044f \\u043d\\u0430\\u0441 \\\"\\u0437\\u0430\\u0441\\u0442\\u0430\\u0432\\u043b\\u044f\\u044e\\u0442\\\" \\u0432\\u044b\\u043a\\u043b\\u0430\\u0434\\u044b\\u0432\\u0430\\u0442\\u044c \\u0440\\u0435\\u0437\\u044e\\u043c\\u0435 \\u043d\\u0430 \\u0441\\u0430\\u0439\\u0442. \\u042d\\u0442\\u043e \\u043f\\u0440\\u043e\\u0441\\u0442\\u043e \\u044f\\u0432\\u043b\\u044f\\u0435\\u0442\\u0441\\u044f \\u043a\\u0440\\u0438\\u0442\\u0435\\u0440\\u0438\\u0435\\u043c \\u0432\\u044b\\u043f\\u043e\\u043b\\u043d\\u0435\\u043d\\u0438\\u044f \\u043e\\u0434\\u043d\\u043e\\u0433\\u043e \\u0438\\u0437 \\u0437\\u0430\\u0434\\u0430\\u043d\\u0438\\u0439! \\u042d\\u0442\\u043e \\u043a\\u0440\\u0443\\u0442\\u043e! \\u0412\\u043c\\u0435\\u0441\\u0442\\u043e \\u0442\\u043e\\u0433\\u043e, \\u0447\\u0442\\u043e \\u0431\\u044b \\u0441\\u043e\\u043c\\u043d\\u0435\\u0432\\u0430\\u0442\\u044c\\u0441\\u044f \\\"\\u0410 \\u0432\\u043e\\u0437\\u044c\\u043c\\u0443\\u0442 \\u043b\\u0438 \\u043c\\u0435\\u043d\\u044f \\u043a\\u0443\\u0434\\u0430-\\u0442\\u043e \\u0438 \\u043a\\u043e\\u043c\\u0443 \\u044f \\u0432\\u043e\\u043e\\u0431\\u0449\\u0435 \\u043d\\u0443\\u0436\\u0435\\u043d \\u0442\\u0430\\u043a\\u043e\\u0439 \\\"\\u0437\\u0435\\u043b\\u0451\\u043d\\u044b\\u0439\\\"...?\\\", \\u0442\\u044b \\u0431\\u0435\\u0440\\u0451\\u0448\\u044c \\u0438 \\u0441\\u043f\\u043e\\u043a\\u043e\\u0439\\u043d\\u043e \\u043f\\u0440\\u043e\\u0441\\u0442\\u043e \\u0434\\u0435\\u043b\\u0430\\u0435\\u0448\\u044c \\u0414\\u0417! \\u0421\\u0430\\u043c \\u0436\\u0435 \\u043c\\u0430\\u0442\\u0435\\u0440\\u0438\\u0430\\u043b \\u0443\\u0440\\u043e\\u043a\\u043e\\u0432 \\u043f\\u043e\\u0434\\u0430\\u0451\\u0442\\u0441\\u044f \\u0432 \\u0434\\u043e\\u0441\\u0442\\u0443\\u043f\\u043d\\u043e\\u0439 \\u0444\\u043e\\u0440\\u043c\\u0435. \\u0412 \\u0443\\u0440\\u043e\\u043a\\u0435 \\u0432\\u0441\\u0435\\u0433\\u0434\\u0430 \\u0435\\u0441\\u0442\\u044c \\u043f\\u0440\\u0430\\u043a\\u0442\\u0438\\u0447\\u0435\\u0441\\u043a\\u0438\\u0435 \\u0437\\u0430\\u0434\\u0430\\u043d\\u0438\\u044f. \\u041c\\u043d\\u043e\\u0433\\u043e \\u0441\\u0441\\u044b\\u043b\\u043e\\u043a \\u043d\\u0430 \\u043f\\u0435\\u0440\\u0432\\u043e\\u0438\\u0441\\u0442\\u043e\\u0447\\u043d\\u0438\\u043a\\u0438 \\u0438 \\u0434\\u043e\\u043f\\u043e\\u043b\\u043d\\u0438\\u0442\\u0435\\u043b\\u044c\\u043d\\u0443\\u044e \\u0438\\u043d\\u0444\\u043e\\u0440\\u043c\\u0430\\u0446\\u0438\\u044e \\u0432 \\u0441\\u0435\\u0442\\u0438. \\u0412\\u0441\\u0435 \\u0441\\u043b\\u043e\\u0436\\u043d\\u043e\\u0441\\u0442\\u0438 \\u0438 \\u0443\\u0441\\u043f\\u0435\\u0445\\u0438 \\u0432\\u0441\\u0435\\u0433\\u0434\\u0430 \\u043c\\u043e\\u0436\\u043d\\u043e \\u043e\\u0431\\u0441\\u0443\\u0434\\u0438\\u0442\\u044c \\u0432 Slack (\\u043c\\u0435\\u043d\\u0435\\u0434\\u0436\\u0435\\u0440 \\u0442\\u0430\\u043a\\u043e\\u0439)\",\n          \"\\u0417\\u0430\\u043a\\u043e\\u043d\\u0447\\u0438\\u043b\\u0430 \\u043f\\u0440\\u043e\\u0445\\u043e\\u0434\\u0438\\u0442\\u044c \\u043a\\u0443\\u0440\\u0441 \\\"\\u0421\\u043f\\u0435\\u0446\\u0438\\u0430\\u043b\\u0438\\u0441\\u0442 \\u043f\\u043e \\u043f\\u0440\\u043e\\u0434\\u0432\\u0438\\u0436\\u0435\\u043d\\u0438\\u044e \\u0432 \\u0441\\u043e\\u0446\\u0438\\u0430\\u043b\\u044c\\u043d\\u044b\\u0445 \\u0441\\u0435\\u0442\\u044f\\u0445, SMM-\\u043c\\u0435\\u043d\\u0435\\u0434\\u0436\\u0435\\u0440 3.0\\\". \\u042f \\u043e\\u0447\\u0435\\u043d\\u044c \\u0434\\u043e\\u043b\\u0433\\u043e \\u0432\\u044b\\u0431\\u0438\\u0440\\u0430\\u043b\\u0430 \\u043a\\u0443\\u0440\\u0441 \\u043f\\u043e \\u0421\\u041c\\u041c, \\u043f\\u0440\\u043e\\u0441\\u043c\\u043e\\u0442\\u0440\\u0435\\u043b\\u0430 \\u043c\\u043d\\u043e\\u0433\\u043e \\u0440\\u0430\\u0437\\u043d\\u044b\\u0445 \\u0431\\u0435\\u0441\\u043f\\u043b\\u0430\\u0442\\u043d\\u044b\\u0445 \\u0432\\u0435\\u0431\\u0438\\u043d\\u0430\\u0440\\u043e\\u0432, \\u0443\\u0447\\u0430\\u0441\\u0442\\u0432\\u043e\\u0432\\u0430\\u043b\\u0430 \\u0432 \\u0438\\u043d\\u0442\\u0435\\u043d\\u0441\\u0438\\u0432\\u0430\\u0445, \\u0441\\u043c\\u043e\\u0442\\u0440\\u0435\\u043b\\u0430 \\u043f\\u043e\\u043b\\u0435\\u0437\\u043d\\u044b \\u043c\\u0430\\u0442\\u0435\\u0440\\u0438\\u0430\\u043b\\u044b. \\u0423\\u0436\\u0435 \\u043d\\u0430\\u0447\\u0430\\u043b\\u0430 \\u0434\\u0435\\u043b\\u0430\\u0442\\u044c \\u043f\\u0435\\u0440\\u0432\\u044b\\u0435 \\u0448\\u0430\\u0433\\u0438 \\u0432 \\u043f\\u0440\\u043e\\u0444\\u0435\\u0441\\u0441\\u0438\\u0438 \\u0438 \\u043d\\u0430\\u043a\\u043e\\u043d\\u0435\\u0446, \\u043f\\u043e \\u0441\\u043e\\u0432\\u0435\\u0442\\u0443 \\u0437\\u043d\\u0430\\u043a\\u043e\\u043c\\u043e\\u0439, \\u043d\\u0430\\u0448\\u043b\\u0430 \\u0438\\u0434\\u0435\\u0430\\u043b\\u044c\\u043d\\u044b\\u0439 \\u043a\\u0443\\u0440\\u0441 \\u043f\\u043e \\u0421\\u041c\\u041c. \\u0422\\u0430\\u043a\\u043e\\u0433\\u043e \\u043c\\u043e\\u0449\\u043d\\u043e\\u0433\\u043e \\u043e\\u0431\\u044a\\u0435\\u043c\\u0430 \\u0438\\u043d\\u0444\\u043e\\u0440\\u043c\\u0430\\u0446\\u0438\\u0438 \\u043e\\u0442 \\u043e\\u0441\\u043d\\u043e\\u0432 \\u043c\\u0430\\u0440\\u043a\\u0435\\u0442\\u0438\\u043d\\u0433\\u0430 \\u0432 \\u0446\\u0435\\u043b\\u043e\\u043c \\u0434\\u043e \\u0442\\u0430\\u0440\\u0433\\u0435\\u0442\\u0438\\u043d\\u0433\\u043e\\u0432\\u043e\\u0439 \\u0440\\u0435\\u043a\\u043b\\u0430\\u043c\\u044b \\u044f \\u043d\\u0435 \\u043e\\u0436\\u0438\\u0434\\u0430\\u043b\\u0430! \\u041e\\u0433\\u0440\\u043e\\u043c\\u043d\\u043e\\u0435 \\u043a\\u043e\\u043b\\u0438\\u0447\\u0435\\u0441\\u0442\\u0432\\u043e \\u0434\\u043e\\u043c\\u0430\\u0448\\u043d\\u0438\\u0445 \\u0437\\u0430\\u0434\\u0430\\u043d\\u0438\\u0439 \\u0434\\u043b\\u044f \\u043e\\u0442\\u0440\\u0430\\u0431\\u043e\\u0442\\u043a\\u0438 \\u0438 \\u0437\\u0430\\u043a\\u0440\\u0435\\u043f\\u043b\\u0435\\u043d\\u0438\\u044f \\u043c\\u0430\\u0442\\u0435\\u0440\\u0438\\u0430\\u043b\\u0430. \\u0422\\u043e \\u0435\\u0441\\u0442\\u044c \\u0442\\u0435\\u0431\\u0435 \\u043d\\u0435 \\u0442\\u043e\\u043b\\u044c\\u043a\\u043e \\u0437\\u043d\\u0430\\u043d\\u0438\\u044f, \\u043d\\u043e \\u0438 \\u043f\\u043e\\u043b\\u0435\\u0437\\u043d\\u044b\\u0435 \\u0440\\u0435\\u0441\\u0443\\u0440\\u0441\\u044b, \\u0448\\u0430\\u0431\\u043b\\u043e\\u043d\\u044b, \\u0434\\u043e\\u043f\\u043e\\u043b\\u043d\\u0438\\u0442\\u0435\\u043b\\u044c\\u043d\\u0430\\u044f \\u043b\\u0438\\u0442\\u0435\\u0440\\u0430\\u0442\\u0443\\u0440\\u0430, \\u0438 \\u0441\\u0440\\u0430\\u0437\\u0443 \\u0436\\u0435 \\u043f\\u0440\\u0438\\u043c\\u0435\\u043d\\u0435\\u043d\\u0438\\u0435 \\u043d\\u0430 \\u043f\\u0440\\u0430\\u043a\\u0442\\u0438\\u043a\\u0435 \\u0441 \\u043f\\u043e\\u0434\\u0434\\u0435\\u0440\\u0436\\u043a\\u043e\\u0439 \\u043e\\u0442 \\u043e\\u0434\\u043d\\u043e\\u043a\\u0443\\u0440\\u0441\\u043d\\u0438\\u043a\\u043e\\u0432, \\u043a\\u0443\\u0440\\u0430\\u0442\\u043e\\u0440\\u043e\\u0432 \\u0438 \\u043b\\u0435\\u043a\\u0442\\u043e\\u0440\\u043e\\u0432. \\u0421\\u043c\\u0435\\u043b\\u043e \\u0431\\u0443\\u0434\\u0443 \\u0440\\u0435\\u043a\\u043e\\u043c\\u0435\\u043d\\u0434\\u043e\\u0432\\u0430\\u0442\\u044c \\u0421\\u041c \\u0432\\u0441\\u0435\\u043c \\u0436\\u0435\\u043b\\u0430\\u044e\\u0449\\u0438\\u043c \\u043e\\u0431\\u0443\\u0447\\u0438\\u0442\\u044c\\u0441\\u044f \\u0441\\u043e\\u0432\\u0440\\u0435\\u043c\\u0435\\u043d\\u043d\\u044b\\u043c \\u043f\\u0440\\u043e\\u0444\\u0435\\u0441\\u0441\\u0438\\u044f\\u043c.\",\n          \"\\u0414\\u043e\\u0441\\u0442\\u043e\\u0438\\u043d\\u0441\\u0442\\u0432\\u0430: <br />\\n \\u0434\\u043e\\u0432\\u043e\\u043b\\u044c\\u043d\\u043e \\u043d\\u0435\\u043f\\u043b\\u043e\\u0445\\u043e\\u0435 Words App, \\u043d\\u043e \\u0435\\u0441\\u0442\\u044c \\u0447\\u0442\\u043e \\u0442\\u0430\\u043c \\u0434\\u043e\\u043f\\u0438\\u043b\\u0438\\u0442\\u044c \\u0438 \\u0443\\u0441\\u043e\\u0432\\u0435\\u0440\\u0448\\u0435\\u043d\\u0441\\u0442\\u0432\\u043e\\u0432\\u0430\\u0442\\u044c, \\u043a\\u0430\\u0447\\u0435\\u0441\\u0442\\u0432\\u0435\\u043d\\u043d\\u044b\\u0439 \\u043e\\u043d\\u0431\\u043e\\u0440\\u0434\\u0438\\u043d\\u0433 \\u043f\\u0440\\u0435\\u043f\\u043e\\u0434\\u0430\\u0432\\u0430\\u0442\\u0435\\u043b\\u0435\\u0439<br />\\n\\u041d\\u0435\\u0434\\u043e\\u0441\\u0442\\u0430\\u0442\\u043a\\u0438: <br />\\n Listening App \\u043c\\u043e\\u0436\\u0435\\u0442 \\u0431\\u044b\\u0442\\u044c \\u0438\\u043d\\u0442\\u0435\\u0440\\u0435\\u0441\\u043d\\u0435\\u0435 (\\u0438\\u0441\\u0442\\u043e\\u0440\\u0438\\u044f, \\u0431\\u043e\\u043b\\u044c\\u0448\\u0435 \\u0443\\u043f\\u0440\\u0430\\u0436\\u043d\\u0435\\u043d\\u0438\\u0439, \\u0444\\u0438\\u043b\\u044c\\u0442\\u0440\\u044b, \\u0446\\u0435\\u043b\\u044b\\u0435 \\u043a\\u043d\\u0438\\u0433\\u0438 \\u043f\\u043e \\u0433\\u043b\\u0430\\u0432\\u0430\\u043c) <br />\\n<br />\\n\\u041f\\u0440\\u0435\\u043f\\u043e\\u0434\\u0430\\u0432\\u0430\\u0442\\u0435\\u043b\\u044c \\u043e\\u0447\\u0435\\u043d\\u044c \\u0433\\u0440\\u0430\\u043c\\u043e\\u0442\\u043d\\u044b\\u0439, \\u0440\\u0430\\u0437\\u0431\\u0438\\u0440\\u0430\\u0435\\u043c \\u0441\\u043e\\u0432\\u0440\\u0435\\u043c\\u0435\\u043d\\u043d\\u0443\\u044e \\u043b\\u0435\\u043a\\u0441\\u0438\\u043a\\u0443 \\u0438 \\u0430\\u043a\\u0442\\u0443\\u0430\\u043b\\u044c\\u043d\\u044b\\u0435 \\u0432\\u044b\\u0440\\u0430\\u0436\\u0435\\u043d\\u0438\\u044f, \\u0434\\u0438\\u0441\\u043a\\u0443\\u0442\\u0438\\u0440\\u0443\\u0435\\u043c \\u043f\\u043e \\u0440\\u0430\\u0437\\u043d\\u044b\\u043c \\u0432\\u043e\\u043f\\u0440\\u043e\\u0441\\u0430\\u043c, \\u0443\\u0447\\u0438\\u043c\\u0441\\u044f \\u0444\\u043e\\u0440\\u043c\\u0438\\u0440\\u043e\\u0432\\u0430\\u0442\\u044c \\u0441\\u0442\\u0438\\u043b\\u044c \\u0432\\u0435\\u0434\\u0435\\u043d\\u0438\\u044f \\u0434\\u0438\\u0430\\u043b\\u043e\\u0433\\u043e\\u0432, \\u0443\\u0434\\u0435\\u043b\\u044f\\u0435\\u043c \\u0432\\u043d\\u0438\\u043c\\u0430\\u043d\\u0438\\u0435 \\u0440\\u0430\\u0437\\u043d\\u0438\\u0446\\u0435 \\u0430\\u043d\\u0433\\u043b\\u0438\\u0439\\u0441\\u043a\\u043e\\u0433\\u043e \\u0438 \\u0430\\u043c\\u0435\\u0440\\u0438\\u043a\\u0430\\u043d\\u0441\\u043a\\u043e\\u0433\\u043e \\u0432\\u0430\\u0440\\u0438\\u0430\\u043d\\u0442\\u043e\\u0432 \\u0430\\u043d\\u0433\\u043b\\u0438\\u0439\\u0441\\u043a\\u043e\\u0433\\u043e. \\u041c\\u0435\\u043d\\u044f\\u0435\\u043c \\u0441\\u0445\\u0435\\u043c\\u0443 \\u0437\\u0430\\u043d\\u044f\\u0442\\u0438\\u0439, \\u043c\\u043e\\u0436\\u0435\\u043c \\u043f\\u0435\\u0440\\u0435\\u043a\\u043b\\u044e\\u0447\\u0430\\u0442\\u044c\\u0441\\u044f \\u043d\\u0430 \\u0440\\u0430\\u0437\\u043d\\u044b\\u0435 \\u0442\\u0435\\u043c\\u044b.<br />\\n\\u041c\\u0435\\u043d\\u044c\\u0448\\u0435, \\u0447\\u0435\\u043c \\u0437\\u0430 \\u0433\\u043e\\u0434 \\u044f \\u043f\\u043e\\u0434\\u043d\\u044f\\u043b \\u0443\\u0440\\u043e\\u0432\\u0435\\u043d\\u044c \\u044f\\u0437\\u044b\\u043a\\u0430 \\u0438 \\u0432\\u044b\\u0443\\u0447\\u0438\\u043b \\u043f\\u043e\\u0440\\u044f\\u0434\\u043a\\u0430 6 000 \\u0441\\u043b\\u043e\\u0432.<br />\\n<br />\\n\\u041e\\u0447\\u0435\\u043d\\u044c \\u043f\\u043e\\u043b\\u0435\\u0437\\u043d\\u044b\\u043c \\u0431\\u044b\\u043b\\u043e \\u0440\\u0435\\u0448\\u0435\\u043d\\u0438\\u0435 \\u0434\\u043e\\u0431\\u0430\\u0432\\u0438\\u0442\\u044c \\u0434\\u043e\\u043c\\u0430\\u0448\\u043d\\u0438\\u0435 \\u0437\\u0430\\u0434\\u0430\\u043d\\u0438\\u044f \\u0432 \\u043f\\u0440\\u0438\\u043b\\u043e\\u0436\\u0435\\u043d\\u0438\\u0435 (\\u0445\\u043e\\u0442\\u044f \\u0438 \\u0442\\u0430\\u043c \\u0432\\u0441\\u0442\\u0440\\u0435\\u0447\\u0430\\u044e\\u0442\\u0441\\u044f \\u043d\\u0435\\u0443\\u0434\\u043e\\u0431\\u043d\\u044b\\u0435 \\u043c\\u043e\\u043c\\u0435\\u043d\\u0442\\u044b \\u0432 \\u0432\\u0438\\u0434\\u0435 \\u0431\\u0435\\u043b\\u043e\\u0433\\u043e \\u043f\\u043e\\u043b\\u0443\\u043f\\u0440\\u043e\\u0437\\u0440\\u0430\\u0447\\u043d\\u043e\\u0433\\u043e \\u0431\\u044d\\u043a\\u0433\\u0440\\u0430\\u0443\\u043d\\u0434\\u0430 \\u0432 \\u043c\\u043e\\u043c\\u0435\\u043d\\u0442 \\u0432\\u0432\\u043e\\u0434\\u0430 \\u0441\\u043b\\u043e\\u0432\\u0430 \\u0432 gaps, \\u044d\\u0442\\u043e \\u043c\\u0435\\u0448\\u0430\\u0435\\u0442 \\u0442\\u0435\\u043c, \\u0447\\u0442\\u043e \\u044e\\u0437\\u0435\\u0440 \\u043d\\u0435 \\u043c\\u043e\\u0436\\u0435\\u0442 \\u043f\\u0440\\u043e\\u0447\\u0438\\u0442\\u0430\\u0442\\u044c \\u043a\\u043e\\u043d\\u0442\\u0435\\u043a\\u0441\\u0442, \\u043d\\u0435\\u0441\\u043c\\u043e\\u0442\\u0440\\u044f \\u043d\\u0430 \\u0431\\u043b\\u0430\\u0433\\u043e\\u0440\\u043e\\u0434\\u043d\\u0443\\u044e UI \\u0446\\u0435\\u043b\\u044c - \\u0441\\u0434\\u0435\\u043b\\u0430\\u0442\\u044c \\u0430\\u043a\\u0446\\u0435\\u043d\\u0442 \\u043d\\u0430 \\u043f\\u043e\\u043b\\u0435).<br />\\n<br />\\n\\u041d\\u0435 \\u0441\\u043e\\u0432\\u0441\\u0435\\u043c \\u043a\\u043e\\u0440\\u0440\\u0435\\u043a\\u0442\\u043d\\u043e \\u0440\\u0430\\u0431\\u043e\\u0442\\u0430\\u0435\\u0442 \\u043d\\u043e\\u0432\\u0430\\u044f \\u0444\\u0443\\u043d\\u043a\\u0446\\u0438\\u044f \\u043f\\u0440\\u043e\\u0438\\u0437\\u043d\\u043e\\u0448\\u0435\\u043d\\u0438\\u044f \\u0441\\u043b\\u043e\\u0432 \\u0438 \\u043e\\u0431\\u043e\\u0440\\u043e\\u0442\\u043e\\u0432 (\\u0432\\u0441\\u0435 \\u0432 \\u0442\\u043e\\u043c \\u0436\\u0435 \\u0432\\u044b\\u0448\\u0435 \\u0443\\u043f\\u043e\\u043c\\u044f\\u043d\\u0443\\u0442\\u043e\\u043c \\u043f\\u0440\\u0438\\u043b\\u043e\\u0436\\u0435\\u043d\\u0438\\u0438).<br />\\n<br />\\n\\u0420\\u0430\\u043d\\u044c\\u0448\\u0435 \\u043e\\u0447\\u0435\\u043d\\u044c \\u0447\\u0430\\u0441\\u0442\\u043e Words App (\\u0430\\u0433\\u0430, \\u044d\\u0442\\u043e \\u044f \\u0441\\u0434\\u0435\\u043b\\u0430\\u043b, \\u0447\\u0442\\u043e\\u0431\\u044b \\u0442\\u0430\\u0432\\u0442\\u043e\\u043b\\u043e\\u0433\\u0438\\u044e \\u043d\\u0435 \\u0443\\u0441\\u0438\\u043b\\u0438\\u0432\\u0430\\u0442\\u044c) \\u0433\\u0430\\u0441\\u043b\\u043e (\\u0432\\u044b\\u043b\\u0435\\u0442\\u0430\\u043b\\u043e) \\u0438\\u0437-\\u0437\\u0430 \\u0431\\u044b\\u0441\\u0442\\u0440\\u044b\\u0445 \\u043e\\u0442\\u0432\\u0435\\u0442\\u043e\\u0432 \\u043d\\u0430 \\u0432\\u043e\\u043f\\u0440\\u043e\\u0441\\u044b.<br />\\n<br />\\n\\u0412\\u0438\\u0434\\u0435\\u043e\\u0441\\u0432\\u044f\\u0437\\u044c \\u043e\\u0447\\u0435\\u043d\\u044c \\u0447\\u0430\\u0441\\u0442\\u043e \\u0432\\u0438\\u0441\\u043d\\u0435\\u0442 \\u0432 \\u0442\\u0435\\u0447\\u0435\\u043d\\u0438\\u0435 \\u0443\\u0440\\u043e\\u043a\\u0430, \\u0438 \\u0432 \\u0446\\u0435\\u043b\\u043e\\u043c \\u0431\\u044b\\u0432\\u0430\\u044e\\u0442 \\u043b\\u0430\\u0433\\u0438 \\u0441\\u0435\\u0440\\u0432\\u0438\\u0441\\u0430, \\u0447\\u0442\\u043e \\u043e\\u0442\\u043d\\u0438\\u043c\\u0430\\u0435\\u0442 \\u0432\\u0440\\u0435\\u043c\\u044f \\u043e\\u0442 \\u0437\\u0430\\u043d\\u044f\\u0442\\u0438\\u044f.<br />\\n<br />\\n\\u0420\\u0430\\u0441\\u0441\\u0442\\u0440\\u0430\\u0438\\u0432\\u0430\\u0435\\u0442 \\u043d\\u0435 \\u0442\\u0430\\u043a\\u0430\\u044f \\u043a\\u0440\\u0443\\u0442\\u0430\\u044f \\u043c\\u0430\\u0440\\u043a\\u0435\\u0442\\u0438\\u043d\\u0433\\u043e\\u0432\\u0430\\u044f \\u043a\\u0430\\u043c\\u043f\\u0430\\u043d\\u0438\\u044f \\u043f\\u043e \\u043e\\u0442\\u043d\\u043e\\u0448\\u0435\\u043d\\u0438\\u044e \\u043a \\u0443\\u0436\\u0435 \\u043e\\u0431\\u0443\\u0447\\u0430\\u044e\\u0449\\u0438\\u043c\\u0441\\u044f \\u0432 \\u0441\\u0440\\u0430\\u0432\\u043d\\u0435\\u043d\\u0438\\u0438 \\u0441 \\u0436\\u0435\\u043b\\u0430\\u043d\\u0438\\u0435\\u043c \\u043f\\u0440\\u0438\\u0432\\u043b\\u0435\\u0447\\u044c \\u0431\\u043e\\u043b\\u044c\\u0448\\u0435 \\u0438\\u043c\\u0435\\u043d\\u043d\\u043e \\u043d\\u043e\\u0432\\u044b\\u0445 \\u043f\\u043e\\u043b\\u044c\\u0437\\u043e\\u0432\\u0430\\u0442\\u0435\\u043b\\u0435\\u0439, \\u043d\\u0435\\u0441\\u043c\\u043e\\u0442\\u0440\\u044f \\u043d\\u0430 \\u0442\\u043e, \\u0447\\u0442\\u043e \\u0447\\u0430\\u0441\\u0442\\u044c \\u0438\\u0437 \\u043d\\u0438\\u0445 \\u043c\\u043e\\u0436\\u0435\\u0442 \\u0438 \\u043d\\u0435 \\u043f\\u0440\\u043e\\u0434\\u043e\\u043b\\u0436\\u0438\\u0442\\u044c \\u0437\\u0430\\u043d\\u0438\\u043c\\u0430\\u0442\\u044c\\u0441\\u044f, \\u0430 \\u043e\\u0441\\u043d\\u043e\\u0432\\u043d\\u0430\\u044f \\u043f\\u0440\\u0438\\u0431\\u044b\\u043b\\u044c \\u0434\\u0435\\u043b\\u0430\\u0435\\u0442\\u0441\\u044f \\u043d\\u0430 \\u043a\\u043b\\u0438\\u0435\\u043d\\u0442\\u0430\\u0445, \\u043a\\u043e\\u0442\\u043e\\u0440\\u044b\\u0435 \\u0441\\u0442\\u0430\\u0431\\u0438\\u043b\\u044c\\u043d\\u043e \\\"\\u043f\\u043e\\u0441\\u0435\\u0449\\u0430\\u044e\\u0442\\\" \\u0443\\u0440\\u043e\\u043a\\u0438.<br />\\n<br />\\n\"\n        ],\n        \"semantic_type\": \"\",\n        \"description\": \"\"\n      }\n    },\n    {\n      \"column\": \"label\",\n      \"properties\": {\n        \"dtype\": \"category\",\n        \"num_unique_values\": 2,\n        \"samples\": [\n          \"negative\",\n          \"positive\"\n        ],\n        \"semantic_type\": \"\",\n        \"description\": \"\"\n      }\n    }\n  ]\n}"
            }
          },
          "metadata": {},
          "execution_count": 8
        }
      ]
    },
    {
      "cell_type": "code",
      "source": [
        "courses['Preprocessed_texts'] = courses.apply(lambda row: preprocess(row['content'], punctuation_marks, stop_words, morph), axis=1)"
      ],
      "metadata": {
        "id": "xESzC3x_JI4_"
      },
      "execution_count": 9,
      "outputs": []
    },
    {
      "cell_type": "code",
      "source": [
        "courses"
      ],
      "metadata": {
        "id": "2ifHbDadJbCA",
        "colab": {
          "base_uri": "https://localhost:8080/",
          "height": 424
        },
        "outputId": "9ed3e3ba-9343-4960-ad94-3c4bd0261351"
      },
      "execution_count": 10,
      "outputs": [
        {
          "output_type": "execute_result",
          "data": {
            "text/plain": [
              "                                                 content     label  \\\n",
              "0      Сложная тема, которая стала понятна благодаря ...  positive   \n",
              "1      Большое спасибо команде Nolim за создание тако...  positive   \n",
              "2      Отличный курс! Не многие умеют делать кастомны...  positive   \n",
              "3      Курс, который превзошёл мои ожидания и даже бо...  positive   \n",
              "4      Закончила уже не один курс. Шла с абсолютного ...  positive   \n",
              "...                                                  ...       ...   \n",
              "31385  Ужасное отношение менеджеров по телефону к пот...  negative   \n",
              "31386  Я занимаюсь второй год и для меня это самый уд...  negative   \n",
              "31387  Skyeng очень крутая школа, она отличается от м...  negative   \n",
              "31388  Чудесная школа. Второй преподаватель и второй ...  negative   \n",
              "31389  Я пока только начала обучение в Skyeng, но уже...  negative   \n",
              "\n",
              "                                      Preprocessed_texts  \n",
              "0      [сложный, тема, который, стать, понятный, благ...  \n",
              "1      [большой, спасибо, команда, nolim, создание, т...  \n",
              "2      [отличный, курс, многие, уметь, делать, кастом...  \n",
              "3      [курс, который, превзойти, мой, ожидание, ребя...  \n",
              "4      [закончить, курс, идти, абсолютный, нуль, обла...  \n",
              "...                                                  ...  \n",
              "31385  [ужасный, отношение, менеджер, телефон, потенц...  \n",
              "31386  [заниматься, второй, год, это, самый, удобный,...  \n",
              "31387  [skyeng, очень, крутой, школа, отличаться, мно...  \n",
              "31388  [чудесный, школа, второй, преподаватель, второ...  \n",
              "31389  [пока, начало, обучение, skyeng, довольный, <,...  \n",
              "\n",
              "[31390 rows x 3 columns]"
            ],
            "text/html": [
              "\n",
              "  <div id=\"df-f67d0aea-4ded-4df1-a5ed-649e825e765b\" class=\"colab-df-container\">\n",
              "    <div>\n",
              "<style scoped>\n",
              "    .dataframe tbody tr th:only-of-type {\n",
              "        vertical-align: middle;\n",
              "    }\n",
              "\n",
              "    .dataframe tbody tr th {\n",
              "        vertical-align: top;\n",
              "    }\n",
              "\n",
              "    .dataframe thead th {\n",
              "        text-align: right;\n",
              "    }\n",
              "</style>\n",
              "<table border=\"1\" class=\"dataframe\">\n",
              "  <thead>\n",
              "    <tr style=\"text-align: right;\">\n",
              "      <th></th>\n",
              "      <th>content</th>\n",
              "      <th>label</th>\n",
              "      <th>Preprocessed_texts</th>\n",
              "    </tr>\n",
              "  </thead>\n",
              "  <tbody>\n",
              "    <tr>\n",
              "      <th>0</th>\n",
              "      <td>Сложная тема, которая стала понятна благодаря ...</td>\n",
              "      <td>positive</td>\n",
              "      <td>[сложный, тема, который, стать, понятный, благ...</td>\n",
              "    </tr>\n",
              "    <tr>\n",
              "      <th>1</th>\n",
              "      <td>Большое спасибо команде Nolim за создание тако...</td>\n",
              "      <td>positive</td>\n",
              "      <td>[большой, спасибо, команда, nolim, создание, т...</td>\n",
              "    </tr>\n",
              "    <tr>\n",
              "      <th>2</th>\n",
              "      <td>Отличный курс! Не многие умеют делать кастомны...</td>\n",
              "      <td>positive</td>\n",
              "      <td>[отличный, курс, многие, уметь, делать, кастом...</td>\n",
              "    </tr>\n",
              "    <tr>\n",
              "      <th>3</th>\n",
              "      <td>Курс, который превзошёл мои ожидания и даже бо...</td>\n",
              "      <td>positive</td>\n",
              "      <td>[курс, который, превзойти, мой, ожидание, ребя...</td>\n",
              "    </tr>\n",
              "    <tr>\n",
              "      <th>4</th>\n",
              "      <td>Закончила уже не один курс. Шла с абсолютного ...</td>\n",
              "      <td>positive</td>\n",
              "      <td>[закончить, курс, идти, абсолютный, нуль, обла...</td>\n",
              "    </tr>\n",
              "    <tr>\n",
              "      <th>...</th>\n",
              "      <td>...</td>\n",
              "      <td>...</td>\n",
              "      <td>...</td>\n",
              "    </tr>\n",
              "    <tr>\n",
              "      <th>31385</th>\n",
              "      <td>Ужасное отношение менеджеров по телефону к пот...</td>\n",
              "      <td>negative</td>\n",
              "      <td>[ужасный, отношение, менеджер, телефон, потенц...</td>\n",
              "    </tr>\n",
              "    <tr>\n",
              "      <th>31386</th>\n",
              "      <td>Я занимаюсь второй год и для меня это самый уд...</td>\n",
              "      <td>negative</td>\n",
              "      <td>[заниматься, второй, год, это, самый, удобный,...</td>\n",
              "    </tr>\n",
              "    <tr>\n",
              "      <th>31387</th>\n",
              "      <td>Skyeng очень крутая школа, она отличается от м...</td>\n",
              "      <td>negative</td>\n",
              "      <td>[skyeng, очень, крутой, школа, отличаться, мно...</td>\n",
              "    </tr>\n",
              "    <tr>\n",
              "      <th>31388</th>\n",
              "      <td>Чудесная школа. Второй преподаватель и второй ...</td>\n",
              "      <td>negative</td>\n",
              "      <td>[чудесный, школа, второй, преподаватель, второ...</td>\n",
              "    </tr>\n",
              "    <tr>\n",
              "      <th>31389</th>\n",
              "      <td>Я пока только начала обучение в Skyeng, но уже...</td>\n",
              "      <td>negative</td>\n",
              "      <td>[пока, начало, обучение, skyeng, довольный, &lt;,...</td>\n",
              "    </tr>\n",
              "  </tbody>\n",
              "</table>\n",
              "<p>31390 rows × 3 columns</p>\n",
              "</div>\n",
              "    <div class=\"colab-df-buttons\">\n",
              "\n",
              "  <div class=\"colab-df-container\">\n",
              "    <button class=\"colab-df-convert\" onclick=\"convertToInteractive('df-f67d0aea-4ded-4df1-a5ed-649e825e765b')\"\n",
              "            title=\"Convert this dataframe to an interactive table.\"\n",
              "            style=\"display:none;\">\n",
              "\n",
              "  <svg xmlns=\"http://www.w3.org/2000/svg\" height=\"24px\" viewBox=\"0 -960 960 960\">\n",
              "    <path d=\"M120-120v-720h720v720H120Zm60-500h600v-160H180v160Zm220 220h160v-160H400v160Zm0 220h160v-160H400v160ZM180-400h160v-160H180v160Zm440 0h160v-160H620v160ZM180-180h160v-160H180v160Zm440 0h160v-160H620v160Z\"/>\n",
              "  </svg>\n",
              "    </button>\n",
              "\n",
              "  <style>\n",
              "    .colab-df-container {\n",
              "      display:flex;\n",
              "      gap: 12px;\n",
              "    }\n",
              "\n",
              "    .colab-df-convert {\n",
              "      background-color: #E8F0FE;\n",
              "      border: none;\n",
              "      border-radius: 50%;\n",
              "      cursor: pointer;\n",
              "      display: none;\n",
              "      fill: #1967D2;\n",
              "      height: 32px;\n",
              "      padding: 0 0 0 0;\n",
              "      width: 32px;\n",
              "    }\n",
              "\n",
              "    .colab-df-convert:hover {\n",
              "      background-color: #E2EBFA;\n",
              "      box-shadow: 0px 1px 2px rgba(60, 64, 67, 0.3), 0px 1px 3px 1px rgba(60, 64, 67, 0.15);\n",
              "      fill: #174EA6;\n",
              "    }\n",
              "\n",
              "    .colab-df-buttons div {\n",
              "      margin-bottom: 4px;\n",
              "    }\n",
              "\n",
              "    [theme=dark] .colab-df-convert {\n",
              "      background-color: #3B4455;\n",
              "      fill: #D2E3FC;\n",
              "    }\n",
              "\n",
              "    [theme=dark] .colab-df-convert:hover {\n",
              "      background-color: #434B5C;\n",
              "      box-shadow: 0px 1px 3px 1px rgba(0, 0, 0, 0.15);\n",
              "      filter: drop-shadow(0px 1px 2px rgba(0, 0, 0, 0.3));\n",
              "      fill: #FFFFFF;\n",
              "    }\n",
              "  </style>\n",
              "\n",
              "    <script>\n",
              "      const buttonEl =\n",
              "        document.querySelector('#df-f67d0aea-4ded-4df1-a5ed-649e825e765b button.colab-df-convert');\n",
              "      buttonEl.style.display =\n",
              "        google.colab.kernel.accessAllowed ? 'block' : 'none';\n",
              "\n",
              "      async function convertToInteractive(key) {\n",
              "        const element = document.querySelector('#df-f67d0aea-4ded-4df1-a5ed-649e825e765b');\n",
              "        const dataTable =\n",
              "          await google.colab.kernel.invokeFunction('convertToInteractive',\n",
              "                                                    [key], {});\n",
              "        if (!dataTable) return;\n",
              "\n",
              "        const docLinkHtml = 'Like what you see? Visit the ' +\n",
              "          '<a target=\"_blank\" href=https://colab.research.google.com/notebooks/data_table.ipynb>data table notebook</a>'\n",
              "          + ' to learn more about interactive tables.';\n",
              "        element.innerHTML = '';\n",
              "        dataTable['output_type'] = 'display_data';\n",
              "        await google.colab.output.renderOutput(dataTable, element);\n",
              "        const docLink = document.createElement('div');\n",
              "        docLink.innerHTML = docLinkHtml;\n",
              "        element.appendChild(docLink);\n",
              "      }\n",
              "    </script>\n",
              "  </div>\n",
              "\n",
              "\n",
              "<div id=\"df-a5d87691-ed87-452b-b80b-f03c2e8132c5\">\n",
              "  <button class=\"colab-df-quickchart\" onclick=\"quickchart('df-a5d87691-ed87-452b-b80b-f03c2e8132c5')\"\n",
              "            title=\"Suggest charts\"\n",
              "            style=\"display:none;\">\n",
              "\n",
              "<svg xmlns=\"http://www.w3.org/2000/svg\" height=\"24px\"viewBox=\"0 0 24 24\"\n",
              "     width=\"24px\">\n",
              "    <g>\n",
              "        <path d=\"M19 3H5c-1.1 0-2 .9-2 2v14c0 1.1.9 2 2 2h14c1.1 0 2-.9 2-2V5c0-1.1-.9-2-2-2zM9 17H7v-7h2v7zm4 0h-2V7h2v10zm4 0h-2v-4h2v4z\"/>\n",
              "    </g>\n",
              "</svg>\n",
              "  </button>\n",
              "\n",
              "<style>\n",
              "  .colab-df-quickchart {\n",
              "      --bg-color: #E8F0FE;\n",
              "      --fill-color: #1967D2;\n",
              "      --hover-bg-color: #E2EBFA;\n",
              "      --hover-fill-color: #174EA6;\n",
              "      --disabled-fill-color: #AAA;\n",
              "      --disabled-bg-color: #DDD;\n",
              "  }\n",
              "\n",
              "  [theme=dark] .colab-df-quickchart {\n",
              "      --bg-color: #3B4455;\n",
              "      --fill-color: #D2E3FC;\n",
              "      --hover-bg-color: #434B5C;\n",
              "      --hover-fill-color: #FFFFFF;\n",
              "      --disabled-bg-color: #3B4455;\n",
              "      --disabled-fill-color: #666;\n",
              "  }\n",
              "\n",
              "  .colab-df-quickchart {\n",
              "    background-color: var(--bg-color);\n",
              "    border: none;\n",
              "    border-radius: 50%;\n",
              "    cursor: pointer;\n",
              "    display: none;\n",
              "    fill: var(--fill-color);\n",
              "    height: 32px;\n",
              "    padding: 0;\n",
              "    width: 32px;\n",
              "  }\n",
              "\n",
              "  .colab-df-quickchart:hover {\n",
              "    background-color: var(--hover-bg-color);\n",
              "    box-shadow: 0 1px 2px rgba(60, 64, 67, 0.3), 0 1px 3px 1px rgba(60, 64, 67, 0.15);\n",
              "    fill: var(--button-hover-fill-color);\n",
              "  }\n",
              "\n",
              "  .colab-df-quickchart-complete:disabled,\n",
              "  .colab-df-quickchart-complete:disabled:hover {\n",
              "    background-color: var(--disabled-bg-color);\n",
              "    fill: var(--disabled-fill-color);\n",
              "    box-shadow: none;\n",
              "  }\n",
              "\n",
              "  .colab-df-spinner {\n",
              "    border: 2px solid var(--fill-color);\n",
              "    border-color: transparent;\n",
              "    border-bottom-color: var(--fill-color);\n",
              "    animation:\n",
              "      spin 1s steps(1) infinite;\n",
              "  }\n",
              "\n",
              "  @keyframes spin {\n",
              "    0% {\n",
              "      border-color: transparent;\n",
              "      border-bottom-color: var(--fill-color);\n",
              "      border-left-color: var(--fill-color);\n",
              "    }\n",
              "    20% {\n",
              "      border-color: transparent;\n",
              "      border-left-color: var(--fill-color);\n",
              "      border-top-color: var(--fill-color);\n",
              "    }\n",
              "    30% {\n",
              "      border-color: transparent;\n",
              "      border-left-color: var(--fill-color);\n",
              "      border-top-color: var(--fill-color);\n",
              "      border-right-color: var(--fill-color);\n",
              "    }\n",
              "    40% {\n",
              "      border-color: transparent;\n",
              "      border-right-color: var(--fill-color);\n",
              "      border-top-color: var(--fill-color);\n",
              "    }\n",
              "    60% {\n",
              "      border-color: transparent;\n",
              "      border-right-color: var(--fill-color);\n",
              "    }\n",
              "    80% {\n",
              "      border-color: transparent;\n",
              "      border-right-color: var(--fill-color);\n",
              "      border-bottom-color: var(--fill-color);\n",
              "    }\n",
              "    90% {\n",
              "      border-color: transparent;\n",
              "      border-bottom-color: var(--fill-color);\n",
              "    }\n",
              "  }\n",
              "</style>\n",
              "\n",
              "  <script>\n",
              "    async function quickchart(key) {\n",
              "      const quickchartButtonEl =\n",
              "        document.querySelector('#' + key + ' button');\n",
              "      quickchartButtonEl.disabled = true;  // To prevent multiple clicks.\n",
              "      quickchartButtonEl.classList.add('colab-df-spinner');\n",
              "      try {\n",
              "        const charts = await google.colab.kernel.invokeFunction(\n",
              "            'suggestCharts', [key], {});\n",
              "      } catch (error) {\n",
              "        console.error('Error during call to suggestCharts:', error);\n",
              "      }\n",
              "      quickchartButtonEl.classList.remove('colab-df-spinner');\n",
              "      quickchartButtonEl.classList.add('colab-df-quickchart-complete');\n",
              "    }\n",
              "    (() => {\n",
              "      let quickchartButtonEl =\n",
              "        document.querySelector('#df-a5d87691-ed87-452b-b80b-f03c2e8132c5 button');\n",
              "      quickchartButtonEl.style.display =\n",
              "        google.colab.kernel.accessAllowed ? 'block' : 'none';\n",
              "    })();\n",
              "  </script>\n",
              "</div>\n",
              "    </div>\n",
              "  </div>\n"
            ],
            "application/vnd.google.colaboratory.intrinsic+json": {
              "type": "dataframe",
              "variable_name": "courses",
              "summary": "{\n  \"name\": \"courses\",\n  \"rows\": 31390,\n  \"fields\": [\n    {\n      \"column\": \"content\",\n      \"properties\": {\n        \"dtype\": \"string\",\n        \"num_unique_values\": 27913,\n        \"samples\": [\n          \"\\u0423\\u0447\\u0443\\u0441\\u044c \\u043d\\u0430 \\u0442\\u0435\\u0441\\u0442\\u0438\\u0440\\u043e\\u0432\\u0449\\u0438\\u043a\\u0430 QAP. \\u0428\\u043a\\u043e\\u043b\\u0430 SkillFactory \\u043c\\u0435\\u043d\\u044f \\u0443\\u0434\\u0438\\u0432\\u0438\\u043b\\u0430, \\u0442\\u0435\\u043c \\u0447\\u0442\\u043e \\u0441\\u043f\\u0443\\u0441\\u0442\\u044f 1/3 \\u043e\\u0431\\u0443\\u0447\\u0435\\u043d\\u0438\\u044f \\u043d\\u0430\\u0441 \\\"\\u0437\\u0430\\u0441\\u0442\\u0430\\u0432\\u043b\\u044f\\u044e\\u0442\\\" \\u0432\\u044b\\u043a\\u043b\\u0430\\u0434\\u044b\\u0432\\u0430\\u0442\\u044c \\u0440\\u0435\\u0437\\u044e\\u043c\\u0435 \\u043d\\u0430 \\u0441\\u0430\\u0439\\u0442. \\u042d\\u0442\\u043e \\u043f\\u0440\\u043e\\u0441\\u0442\\u043e \\u044f\\u0432\\u043b\\u044f\\u0435\\u0442\\u0441\\u044f \\u043a\\u0440\\u0438\\u0442\\u0435\\u0440\\u0438\\u0435\\u043c \\u0432\\u044b\\u043f\\u043e\\u043b\\u043d\\u0435\\u043d\\u0438\\u044f \\u043e\\u0434\\u043d\\u043e\\u0433\\u043e \\u0438\\u0437 \\u0437\\u0430\\u0434\\u0430\\u043d\\u0438\\u0439! \\u042d\\u0442\\u043e \\u043a\\u0440\\u0443\\u0442\\u043e! \\u0412\\u043c\\u0435\\u0441\\u0442\\u043e \\u0442\\u043e\\u0433\\u043e, \\u0447\\u0442\\u043e \\u0431\\u044b \\u0441\\u043e\\u043c\\u043d\\u0435\\u0432\\u0430\\u0442\\u044c\\u0441\\u044f \\\"\\u0410 \\u0432\\u043e\\u0437\\u044c\\u043c\\u0443\\u0442 \\u043b\\u0438 \\u043c\\u0435\\u043d\\u044f \\u043a\\u0443\\u0434\\u0430-\\u0442\\u043e \\u0438 \\u043a\\u043e\\u043c\\u0443 \\u044f \\u0432\\u043e\\u043e\\u0431\\u0449\\u0435 \\u043d\\u0443\\u0436\\u0435\\u043d \\u0442\\u0430\\u043a\\u043e\\u0439 \\\"\\u0437\\u0435\\u043b\\u0451\\u043d\\u044b\\u0439\\\"...?\\\", \\u0442\\u044b \\u0431\\u0435\\u0440\\u0451\\u0448\\u044c \\u0438 \\u0441\\u043f\\u043e\\u043a\\u043e\\u0439\\u043d\\u043e \\u043f\\u0440\\u043e\\u0441\\u0442\\u043e \\u0434\\u0435\\u043b\\u0430\\u0435\\u0448\\u044c \\u0414\\u0417! \\u0421\\u0430\\u043c \\u0436\\u0435 \\u043c\\u0430\\u0442\\u0435\\u0440\\u0438\\u0430\\u043b \\u0443\\u0440\\u043e\\u043a\\u043e\\u0432 \\u043f\\u043e\\u0434\\u0430\\u0451\\u0442\\u0441\\u044f \\u0432 \\u0434\\u043e\\u0441\\u0442\\u0443\\u043f\\u043d\\u043e\\u0439 \\u0444\\u043e\\u0440\\u043c\\u0435. \\u0412 \\u0443\\u0440\\u043e\\u043a\\u0435 \\u0432\\u0441\\u0435\\u0433\\u0434\\u0430 \\u0435\\u0441\\u0442\\u044c \\u043f\\u0440\\u0430\\u043a\\u0442\\u0438\\u0447\\u0435\\u0441\\u043a\\u0438\\u0435 \\u0437\\u0430\\u0434\\u0430\\u043d\\u0438\\u044f. \\u041c\\u043d\\u043e\\u0433\\u043e \\u0441\\u0441\\u044b\\u043b\\u043e\\u043a \\u043d\\u0430 \\u043f\\u0435\\u0440\\u0432\\u043e\\u0438\\u0441\\u0442\\u043e\\u0447\\u043d\\u0438\\u043a\\u0438 \\u0438 \\u0434\\u043e\\u043f\\u043e\\u043b\\u043d\\u0438\\u0442\\u0435\\u043b\\u044c\\u043d\\u0443\\u044e \\u0438\\u043d\\u0444\\u043e\\u0440\\u043c\\u0430\\u0446\\u0438\\u044e \\u0432 \\u0441\\u0435\\u0442\\u0438. \\u0412\\u0441\\u0435 \\u0441\\u043b\\u043e\\u0436\\u043d\\u043e\\u0441\\u0442\\u0438 \\u0438 \\u0443\\u0441\\u043f\\u0435\\u0445\\u0438 \\u0432\\u0441\\u0435\\u0433\\u0434\\u0430 \\u043c\\u043e\\u0436\\u043d\\u043e \\u043e\\u0431\\u0441\\u0443\\u0434\\u0438\\u0442\\u044c \\u0432 Slack (\\u043c\\u0435\\u043d\\u0435\\u0434\\u0436\\u0435\\u0440 \\u0442\\u0430\\u043a\\u043e\\u0439)\",\n          \"\\u0417\\u0430\\u043a\\u043e\\u043d\\u0447\\u0438\\u043b\\u0430 \\u043f\\u0440\\u043e\\u0445\\u043e\\u0434\\u0438\\u0442\\u044c \\u043a\\u0443\\u0440\\u0441 \\\"\\u0421\\u043f\\u0435\\u0446\\u0438\\u0430\\u043b\\u0438\\u0441\\u0442 \\u043f\\u043e \\u043f\\u0440\\u043e\\u0434\\u0432\\u0438\\u0436\\u0435\\u043d\\u0438\\u044e \\u0432 \\u0441\\u043e\\u0446\\u0438\\u0430\\u043b\\u044c\\u043d\\u044b\\u0445 \\u0441\\u0435\\u0442\\u044f\\u0445, SMM-\\u043c\\u0435\\u043d\\u0435\\u0434\\u0436\\u0435\\u0440 3.0\\\". \\u042f \\u043e\\u0447\\u0435\\u043d\\u044c \\u0434\\u043e\\u043b\\u0433\\u043e \\u0432\\u044b\\u0431\\u0438\\u0440\\u0430\\u043b\\u0430 \\u043a\\u0443\\u0440\\u0441 \\u043f\\u043e \\u0421\\u041c\\u041c, \\u043f\\u0440\\u043e\\u0441\\u043c\\u043e\\u0442\\u0440\\u0435\\u043b\\u0430 \\u043c\\u043d\\u043e\\u0433\\u043e \\u0440\\u0430\\u0437\\u043d\\u044b\\u0445 \\u0431\\u0435\\u0441\\u043f\\u043b\\u0430\\u0442\\u043d\\u044b\\u0445 \\u0432\\u0435\\u0431\\u0438\\u043d\\u0430\\u0440\\u043e\\u0432, \\u0443\\u0447\\u0430\\u0441\\u0442\\u0432\\u043e\\u0432\\u0430\\u043b\\u0430 \\u0432 \\u0438\\u043d\\u0442\\u0435\\u043d\\u0441\\u0438\\u0432\\u0430\\u0445, \\u0441\\u043c\\u043e\\u0442\\u0440\\u0435\\u043b\\u0430 \\u043f\\u043e\\u043b\\u0435\\u0437\\u043d\\u044b \\u043c\\u0430\\u0442\\u0435\\u0440\\u0438\\u0430\\u043b\\u044b. \\u0423\\u0436\\u0435 \\u043d\\u0430\\u0447\\u0430\\u043b\\u0430 \\u0434\\u0435\\u043b\\u0430\\u0442\\u044c \\u043f\\u0435\\u0440\\u0432\\u044b\\u0435 \\u0448\\u0430\\u0433\\u0438 \\u0432 \\u043f\\u0440\\u043e\\u0444\\u0435\\u0441\\u0441\\u0438\\u0438 \\u0438 \\u043d\\u0430\\u043a\\u043e\\u043d\\u0435\\u0446, \\u043f\\u043e \\u0441\\u043e\\u0432\\u0435\\u0442\\u0443 \\u0437\\u043d\\u0430\\u043a\\u043e\\u043c\\u043e\\u0439, \\u043d\\u0430\\u0448\\u043b\\u0430 \\u0438\\u0434\\u0435\\u0430\\u043b\\u044c\\u043d\\u044b\\u0439 \\u043a\\u0443\\u0440\\u0441 \\u043f\\u043e \\u0421\\u041c\\u041c. \\u0422\\u0430\\u043a\\u043e\\u0433\\u043e \\u043c\\u043e\\u0449\\u043d\\u043e\\u0433\\u043e \\u043e\\u0431\\u044a\\u0435\\u043c\\u0430 \\u0438\\u043d\\u0444\\u043e\\u0440\\u043c\\u0430\\u0446\\u0438\\u0438 \\u043e\\u0442 \\u043e\\u0441\\u043d\\u043e\\u0432 \\u043c\\u0430\\u0440\\u043a\\u0435\\u0442\\u0438\\u043d\\u0433\\u0430 \\u0432 \\u0446\\u0435\\u043b\\u043e\\u043c \\u0434\\u043e \\u0442\\u0430\\u0440\\u0433\\u0435\\u0442\\u0438\\u043d\\u0433\\u043e\\u0432\\u043e\\u0439 \\u0440\\u0435\\u043a\\u043b\\u0430\\u043c\\u044b \\u044f \\u043d\\u0435 \\u043e\\u0436\\u0438\\u0434\\u0430\\u043b\\u0430! \\u041e\\u0433\\u0440\\u043e\\u043c\\u043d\\u043e\\u0435 \\u043a\\u043e\\u043b\\u0438\\u0447\\u0435\\u0441\\u0442\\u0432\\u043e \\u0434\\u043e\\u043c\\u0430\\u0448\\u043d\\u0438\\u0445 \\u0437\\u0430\\u0434\\u0430\\u043d\\u0438\\u0439 \\u0434\\u043b\\u044f \\u043e\\u0442\\u0440\\u0430\\u0431\\u043e\\u0442\\u043a\\u0438 \\u0438 \\u0437\\u0430\\u043a\\u0440\\u0435\\u043f\\u043b\\u0435\\u043d\\u0438\\u044f \\u043c\\u0430\\u0442\\u0435\\u0440\\u0438\\u0430\\u043b\\u0430. \\u0422\\u043e \\u0435\\u0441\\u0442\\u044c \\u0442\\u0435\\u0431\\u0435 \\u043d\\u0435 \\u0442\\u043e\\u043b\\u044c\\u043a\\u043e \\u0437\\u043d\\u0430\\u043d\\u0438\\u044f, \\u043d\\u043e \\u0438 \\u043f\\u043e\\u043b\\u0435\\u0437\\u043d\\u044b\\u0435 \\u0440\\u0435\\u0441\\u0443\\u0440\\u0441\\u044b, \\u0448\\u0430\\u0431\\u043b\\u043e\\u043d\\u044b, \\u0434\\u043e\\u043f\\u043e\\u043b\\u043d\\u0438\\u0442\\u0435\\u043b\\u044c\\u043d\\u0430\\u044f \\u043b\\u0438\\u0442\\u0435\\u0440\\u0430\\u0442\\u0443\\u0440\\u0430, \\u0438 \\u0441\\u0440\\u0430\\u0437\\u0443 \\u0436\\u0435 \\u043f\\u0440\\u0438\\u043c\\u0435\\u043d\\u0435\\u043d\\u0438\\u0435 \\u043d\\u0430 \\u043f\\u0440\\u0430\\u043a\\u0442\\u0438\\u043a\\u0435 \\u0441 \\u043f\\u043e\\u0434\\u0434\\u0435\\u0440\\u0436\\u043a\\u043e\\u0439 \\u043e\\u0442 \\u043e\\u0434\\u043d\\u043e\\u043a\\u0443\\u0440\\u0441\\u043d\\u0438\\u043a\\u043e\\u0432, \\u043a\\u0443\\u0440\\u0430\\u0442\\u043e\\u0440\\u043e\\u0432 \\u0438 \\u043b\\u0435\\u043a\\u0442\\u043e\\u0440\\u043e\\u0432. \\u0421\\u043c\\u0435\\u043b\\u043e \\u0431\\u0443\\u0434\\u0443 \\u0440\\u0435\\u043a\\u043e\\u043c\\u0435\\u043d\\u0434\\u043e\\u0432\\u0430\\u0442\\u044c \\u0421\\u041c \\u0432\\u0441\\u0435\\u043c \\u0436\\u0435\\u043b\\u0430\\u044e\\u0449\\u0438\\u043c \\u043e\\u0431\\u0443\\u0447\\u0438\\u0442\\u044c\\u0441\\u044f \\u0441\\u043e\\u0432\\u0440\\u0435\\u043c\\u0435\\u043d\\u043d\\u044b\\u043c \\u043f\\u0440\\u043e\\u0444\\u0435\\u0441\\u0441\\u0438\\u044f\\u043c.\",\n          \"\\u0414\\u043e\\u0441\\u0442\\u043e\\u0438\\u043d\\u0441\\u0442\\u0432\\u0430: <br />\\n \\u0434\\u043e\\u0432\\u043e\\u043b\\u044c\\u043d\\u043e \\u043d\\u0435\\u043f\\u043b\\u043e\\u0445\\u043e\\u0435 Words App, \\u043d\\u043e \\u0435\\u0441\\u0442\\u044c \\u0447\\u0442\\u043e \\u0442\\u0430\\u043c \\u0434\\u043e\\u043f\\u0438\\u043b\\u0438\\u0442\\u044c \\u0438 \\u0443\\u0441\\u043e\\u0432\\u0435\\u0440\\u0448\\u0435\\u043d\\u0441\\u0442\\u0432\\u043e\\u0432\\u0430\\u0442\\u044c, \\u043a\\u0430\\u0447\\u0435\\u0441\\u0442\\u0432\\u0435\\u043d\\u043d\\u044b\\u0439 \\u043e\\u043d\\u0431\\u043e\\u0440\\u0434\\u0438\\u043d\\u0433 \\u043f\\u0440\\u0435\\u043f\\u043e\\u0434\\u0430\\u0432\\u0430\\u0442\\u0435\\u043b\\u0435\\u0439<br />\\n\\u041d\\u0435\\u0434\\u043e\\u0441\\u0442\\u0430\\u0442\\u043a\\u0438: <br />\\n Listening App \\u043c\\u043e\\u0436\\u0435\\u0442 \\u0431\\u044b\\u0442\\u044c \\u0438\\u043d\\u0442\\u0435\\u0440\\u0435\\u0441\\u043d\\u0435\\u0435 (\\u0438\\u0441\\u0442\\u043e\\u0440\\u0438\\u044f, \\u0431\\u043e\\u043b\\u044c\\u0448\\u0435 \\u0443\\u043f\\u0440\\u0430\\u0436\\u043d\\u0435\\u043d\\u0438\\u0439, \\u0444\\u0438\\u043b\\u044c\\u0442\\u0440\\u044b, \\u0446\\u0435\\u043b\\u044b\\u0435 \\u043a\\u043d\\u0438\\u0433\\u0438 \\u043f\\u043e \\u0433\\u043b\\u0430\\u0432\\u0430\\u043c) <br />\\n<br />\\n\\u041f\\u0440\\u0435\\u043f\\u043e\\u0434\\u0430\\u0432\\u0430\\u0442\\u0435\\u043b\\u044c \\u043e\\u0447\\u0435\\u043d\\u044c \\u0433\\u0440\\u0430\\u043c\\u043e\\u0442\\u043d\\u044b\\u0439, \\u0440\\u0430\\u0437\\u0431\\u0438\\u0440\\u0430\\u0435\\u043c \\u0441\\u043e\\u0432\\u0440\\u0435\\u043c\\u0435\\u043d\\u043d\\u0443\\u044e \\u043b\\u0435\\u043a\\u0441\\u0438\\u043a\\u0443 \\u0438 \\u0430\\u043a\\u0442\\u0443\\u0430\\u043b\\u044c\\u043d\\u044b\\u0435 \\u0432\\u044b\\u0440\\u0430\\u0436\\u0435\\u043d\\u0438\\u044f, \\u0434\\u0438\\u0441\\u043a\\u0443\\u0442\\u0438\\u0440\\u0443\\u0435\\u043c \\u043f\\u043e \\u0440\\u0430\\u0437\\u043d\\u044b\\u043c \\u0432\\u043e\\u043f\\u0440\\u043e\\u0441\\u0430\\u043c, \\u0443\\u0447\\u0438\\u043c\\u0441\\u044f \\u0444\\u043e\\u0440\\u043c\\u0438\\u0440\\u043e\\u0432\\u0430\\u0442\\u044c \\u0441\\u0442\\u0438\\u043b\\u044c \\u0432\\u0435\\u0434\\u0435\\u043d\\u0438\\u044f \\u0434\\u0438\\u0430\\u043b\\u043e\\u0433\\u043e\\u0432, \\u0443\\u0434\\u0435\\u043b\\u044f\\u0435\\u043c \\u0432\\u043d\\u0438\\u043c\\u0430\\u043d\\u0438\\u0435 \\u0440\\u0430\\u0437\\u043d\\u0438\\u0446\\u0435 \\u0430\\u043d\\u0433\\u043b\\u0438\\u0439\\u0441\\u043a\\u043e\\u0433\\u043e \\u0438 \\u0430\\u043c\\u0435\\u0440\\u0438\\u043a\\u0430\\u043d\\u0441\\u043a\\u043e\\u0433\\u043e \\u0432\\u0430\\u0440\\u0438\\u0430\\u043d\\u0442\\u043e\\u0432 \\u0430\\u043d\\u0433\\u043b\\u0438\\u0439\\u0441\\u043a\\u043e\\u0433\\u043e. \\u041c\\u0435\\u043d\\u044f\\u0435\\u043c \\u0441\\u0445\\u0435\\u043c\\u0443 \\u0437\\u0430\\u043d\\u044f\\u0442\\u0438\\u0439, \\u043c\\u043e\\u0436\\u0435\\u043c \\u043f\\u0435\\u0440\\u0435\\u043a\\u043b\\u044e\\u0447\\u0430\\u0442\\u044c\\u0441\\u044f \\u043d\\u0430 \\u0440\\u0430\\u0437\\u043d\\u044b\\u0435 \\u0442\\u0435\\u043c\\u044b.<br />\\n\\u041c\\u0435\\u043d\\u044c\\u0448\\u0435, \\u0447\\u0435\\u043c \\u0437\\u0430 \\u0433\\u043e\\u0434 \\u044f \\u043f\\u043e\\u0434\\u043d\\u044f\\u043b \\u0443\\u0440\\u043e\\u0432\\u0435\\u043d\\u044c \\u044f\\u0437\\u044b\\u043a\\u0430 \\u0438 \\u0432\\u044b\\u0443\\u0447\\u0438\\u043b \\u043f\\u043e\\u0440\\u044f\\u0434\\u043a\\u0430 6 000 \\u0441\\u043b\\u043e\\u0432.<br />\\n<br />\\n\\u041e\\u0447\\u0435\\u043d\\u044c \\u043f\\u043e\\u043b\\u0435\\u0437\\u043d\\u044b\\u043c \\u0431\\u044b\\u043b\\u043e \\u0440\\u0435\\u0448\\u0435\\u043d\\u0438\\u0435 \\u0434\\u043e\\u0431\\u0430\\u0432\\u0438\\u0442\\u044c \\u0434\\u043e\\u043c\\u0430\\u0448\\u043d\\u0438\\u0435 \\u0437\\u0430\\u0434\\u0430\\u043d\\u0438\\u044f \\u0432 \\u043f\\u0440\\u0438\\u043b\\u043e\\u0436\\u0435\\u043d\\u0438\\u0435 (\\u0445\\u043e\\u0442\\u044f \\u0438 \\u0442\\u0430\\u043c \\u0432\\u0441\\u0442\\u0440\\u0435\\u0447\\u0430\\u044e\\u0442\\u0441\\u044f \\u043d\\u0435\\u0443\\u0434\\u043e\\u0431\\u043d\\u044b\\u0435 \\u043c\\u043e\\u043c\\u0435\\u043d\\u0442\\u044b \\u0432 \\u0432\\u0438\\u0434\\u0435 \\u0431\\u0435\\u043b\\u043e\\u0433\\u043e \\u043f\\u043e\\u043b\\u0443\\u043f\\u0440\\u043e\\u0437\\u0440\\u0430\\u0447\\u043d\\u043e\\u0433\\u043e \\u0431\\u044d\\u043a\\u0433\\u0440\\u0430\\u0443\\u043d\\u0434\\u0430 \\u0432 \\u043c\\u043e\\u043c\\u0435\\u043d\\u0442 \\u0432\\u0432\\u043e\\u0434\\u0430 \\u0441\\u043b\\u043e\\u0432\\u0430 \\u0432 gaps, \\u044d\\u0442\\u043e \\u043c\\u0435\\u0448\\u0430\\u0435\\u0442 \\u0442\\u0435\\u043c, \\u0447\\u0442\\u043e \\u044e\\u0437\\u0435\\u0440 \\u043d\\u0435 \\u043c\\u043e\\u0436\\u0435\\u0442 \\u043f\\u0440\\u043e\\u0447\\u0438\\u0442\\u0430\\u0442\\u044c \\u043a\\u043e\\u043d\\u0442\\u0435\\u043a\\u0441\\u0442, \\u043d\\u0435\\u0441\\u043c\\u043e\\u0442\\u0440\\u044f \\u043d\\u0430 \\u0431\\u043b\\u0430\\u0433\\u043e\\u0440\\u043e\\u0434\\u043d\\u0443\\u044e UI \\u0446\\u0435\\u043b\\u044c - \\u0441\\u0434\\u0435\\u043b\\u0430\\u0442\\u044c \\u0430\\u043a\\u0446\\u0435\\u043d\\u0442 \\u043d\\u0430 \\u043f\\u043e\\u043b\\u0435).<br />\\n<br />\\n\\u041d\\u0435 \\u0441\\u043e\\u0432\\u0441\\u0435\\u043c \\u043a\\u043e\\u0440\\u0440\\u0435\\u043a\\u0442\\u043d\\u043e \\u0440\\u0430\\u0431\\u043e\\u0442\\u0430\\u0435\\u0442 \\u043d\\u043e\\u0432\\u0430\\u044f \\u0444\\u0443\\u043d\\u043a\\u0446\\u0438\\u044f \\u043f\\u0440\\u043e\\u0438\\u0437\\u043d\\u043e\\u0448\\u0435\\u043d\\u0438\\u044f \\u0441\\u043b\\u043e\\u0432 \\u0438 \\u043e\\u0431\\u043e\\u0440\\u043e\\u0442\\u043e\\u0432 (\\u0432\\u0441\\u0435 \\u0432 \\u0442\\u043e\\u043c \\u0436\\u0435 \\u0432\\u044b\\u0448\\u0435 \\u0443\\u043f\\u043e\\u043c\\u044f\\u043d\\u0443\\u0442\\u043e\\u043c \\u043f\\u0440\\u0438\\u043b\\u043e\\u0436\\u0435\\u043d\\u0438\\u0438).<br />\\n<br />\\n\\u0420\\u0430\\u043d\\u044c\\u0448\\u0435 \\u043e\\u0447\\u0435\\u043d\\u044c \\u0447\\u0430\\u0441\\u0442\\u043e Words App (\\u0430\\u0433\\u0430, \\u044d\\u0442\\u043e \\u044f \\u0441\\u0434\\u0435\\u043b\\u0430\\u043b, \\u0447\\u0442\\u043e\\u0431\\u044b \\u0442\\u0430\\u0432\\u0442\\u043e\\u043b\\u043e\\u0433\\u0438\\u044e \\u043d\\u0435 \\u0443\\u0441\\u0438\\u043b\\u0438\\u0432\\u0430\\u0442\\u044c) \\u0433\\u0430\\u0441\\u043b\\u043e (\\u0432\\u044b\\u043b\\u0435\\u0442\\u0430\\u043b\\u043e) \\u0438\\u0437-\\u0437\\u0430 \\u0431\\u044b\\u0441\\u0442\\u0440\\u044b\\u0445 \\u043e\\u0442\\u0432\\u0435\\u0442\\u043e\\u0432 \\u043d\\u0430 \\u0432\\u043e\\u043f\\u0440\\u043e\\u0441\\u044b.<br />\\n<br />\\n\\u0412\\u0438\\u0434\\u0435\\u043e\\u0441\\u0432\\u044f\\u0437\\u044c \\u043e\\u0447\\u0435\\u043d\\u044c \\u0447\\u0430\\u0441\\u0442\\u043e \\u0432\\u0438\\u0441\\u043d\\u0435\\u0442 \\u0432 \\u0442\\u0435\\u0447\\u0435\\u043d\\u0438\\u0435 \\u0443\\u0440\\u043e\\u043a\\u0430, \\u0438 \\u0432 \\u0446\\u0435\\u043b\\u043e\\u043c \\u0431\\u044b\\u0432\\u0430\\u044e\\u0442 \\u043b\\u0430\\u0433\\u0438 \\u0441\\u0435\\u0440\\u0432\\u0438\\u0441\\u0430, \\u0447\\u0442\\u043e \\u043e\\u0442\\u043d\\u0438\\u043c\\u0430\\u0435\\u0442 \\u0432\\u0440\\u0435\\u043c\\u044f \\u043e\\u0442 \\u0437\\u0430\\u043d\\u044f\\u0442\\u0438\\u044f.<br />\\n<br />\\n\\u0420\\u0430\\u0441\\u0441\\u0442\\u0440\\u0430\\u0438\\u0432\\u0430\\u0435\\u0442 \\u043d\\u0435 \\u0442\\u0430\\u043a\\u0430\\u044f \\u043a\\u0440\\u0443\\u0442\\u0430\\u044f \\u043c\\u0430\\u0440\\u043a\\u0435\\u0442\\u0438\\u043d\\u0433\\u043e\\u0432\\u0430\\u044f \\u043a\\u0430\\u043c\\u043f\\u0430\\u043d\\u0438\\u044f \\u043f\\u043e \\u043e\\u0442\\u043d\\u043e\\u0448\\u0435\\u043d\\u0438\\u044e \\u043a \\u0443\\u0436\\u0435 \\u043e\\u0431\\u0443\\u0447\\u0430\\u044e\\u0449\\u0438\\u043c\\u0441\\u044f \\u0432 \\u0441\\u0440\\u0430\\u0432\\u043d\\u0435\\u043d\\u0438\\u0438 \\u0441 \\u0436\\u0435\\u043b\\u0430\\u043d\\u0438\\u0435\\u043c \\u043f\\u0440\\u0438\\u0432\\u043b\\u0435\\u0447\\u044c \\u0431\\u043e\\u043b\\u044c\\u0448\\u0435 \\u0438\\u043c\\u0435\\u043d\\u043d\\u043e \\u043d\\u043e\\u0432\\u044b\\u0445 \\u043f\\u043e\\u043b\\u044c\\u0437\\u043e\\u0432\\u0430\\u0442\\u0435\\u043b\\u0435\\u0439, \\u043d\\u0435\\u0441\\u043c\\u043e\\u0442\\u0440\\u044f \\u043d\\u0430 \\u0442\\u043e, \\u0447\\u0442\\u043e \\u0447\\u0430\\u0441\\u0442\\u044c \\u0438\\u0437 \\u043d\\u0438\\u0445 \\u043c\\u043e\\u0436\\u0435\\u0442 \\u0438 \\u043d\\u0435 \\u043f\\u0440\\u043e\\u0434\\u043e\\u043b\\u0436\\u0438\\u0442\\u044c \\u0437\\u0430\\u043d\\u0438\\u043c\\u0430\\u0442\\u044c\\u0441\\u044f, \\u0430 \\u043e\\u0441\\u043d\\u043e\\u0432\\u043d\\u0430\\u044f \\u043f\\u0440\\u0438\\u0431\\u044b\\u043b\\u044c \\u0434\\u0435\\u043b\\u0430\\u0435\\u0442\\u0441\\u044f \\u043d\\u0430 \\u043a\\u043b\\u0438\\u0435\\u043d\\u0442\\u0430\\u0445, \\u043a\\u043e\\u0442\\u043e\\u0440\\u044b\\u0435 \\u0441\\u0442\\u0430\\u0431\\u0438\\u043b\\u044c\\u043d\\u043e \\\"\\u043f\\u043e\\u0441\\u0435\\u0449\\u0430\\u044e\\u0442\\\" \\u0443\\u0440\\u043e\\u043a\\u0438.<br />\\n<br />\\n\"\n        ],\n        \"semantic_type\": \"\",\n        \"description\": \"\"\n      }\n    },\n    {\n      \"column\": \"label\",\n      \"properties\": {\n        \"dtype\": \"category\",\n        \"num_unique_values\": 2,\n        \"samples\": [\n          \"negative\",\n          \"positive\"\n        ],\n        \"semantic_type\": \"\",\n        \"description\": \"\"\n      }\n    },\n    {\n      \"column\": \"Preprocessed_texts\",\n      \"properties\": {\n        \"dtype\": \"object\",\n        \"semantic_type\": \"\",\n        \"description\": \"\"\n      }\n    }\n  ]\n}"
            }
          },
          "metadata": {},
          "execution_count": 10
        }
      ]
    },
    {
      "cell_type": "markdown",
      "source": [
        "## Обучение Word2Vec на отзывах на курсы"
      ],
      "metadata": {
        "id": "hrFJZ9rsJITw"
      }
    },
    {
      "cell_type": "code",
      "source": [
        "import gensim.models"
      ],
      "metadata": {
        "id": "rJ9GbO29Jkdq"
      },
      "execution_count": 11,
      "outputs": []
    },
    {
      "cell_type": "code",
      "source": [
        "model = gensim.models.Word2Vec(sentences=courses['Preprocessed_texts'],\n",
        "                               min_count=5,\n",
        "                               vector_size=100)"
      ],
      "metadata": {
        "id": "Bk2Phyi1Jpn4"
      },
      "execution_count": 12,
      "outputs": []
    },
    {
      "cell_type": "code",
      "source": [
        "model.wv['бухгалтер']"
      ],
      "metadata": {
        "id": "Iz8DGArxLCCK",
        "colab": {
          "base_uri": "https://localhost:8080/"
        },
        "outputId": "28dd2545-0d02-426a-ef43-fa0ad4a06e55"
      },
      "execution_count": 13,
      "outputs": [
        {
          "output_type": "execute_result",
          "data": {
            "text/plain": [
              "array([-0.1068092 ,  0.43516594,  0.22456184, -0.1448835 ,  0.50031376,\n",
              "       -0.32486722, -0.07584585,  0.25191912, -0.06769393,  0.03031802,\n",
              "        0.10965192, -0.24386694,  0.22641489,  0.3202905 , -0.05831206,\n",
              "       -0.5819721 , -0.11410866, -0.0934022 , -0.04406779, -0.22800082,\n",
              "       -0.13568547, -0.11089952,  0.13271685, -0.1107417 ,  0.16987005,\n",
              "        0.09588698, -0.06813823, -0.27595732, -0.07956672,  0.01570301,\n",
              "        0.0903529 ,  0.10152806,  0.3621105 ,  0.11410727,  0.03913584,\n",
              "        0.52717716,  0.23088843,  0.130022  ,  0.12786895, -0.65475327,\n",
              "       -0.32598242, -0.6027341 ,  0.0929001 ,  0.07414787, -0.07540827,\n",
              "       -0.27703825, -0.27679113, -0.08091893, -0.03641225, -0.21825616,\n",
              "        0.29957587,  0.23866275, -0.06806278,  0.08208349,  0.19274397,\n",
              "       -0.11541066,  0.16368103, -0.44594786, -0.5584594 , -0.20646536,\n",
              "        0.3109425 , -0.12207062, -0.2087742 , -0.20478587, -0.03014391,\n",
              "       -0.0788869 , -0.05587458, -0.22053961, -0.45700365, -0.11278994,\n",
              "       -0.07479502,  0.10272589,  0.13694331, -0.2574268 ,  0.13027978,\n",
              "       -0.0929012 , -0.25040478,  0.31426454, -0.05160151, -0.06571132,\n",
              "       -0.17615315, -0.33152884,  0.09550186,  0.0252158 ,  0.06081343,\n",
              "       -0.13154447, -0.20026875, -0.00070508,  0.15912625,  0.23216651,\n",
              "        0.07507181,  0.17808545,  0.24641325, -0.00597904,  0.02612906,\n",
              "       -0.10156531, -0.15496413, -0.0152133 ,  0.24384537, -0.23594612],\n",
              "      dtype=float32)"
            ]
          },
          "metadata": {},
          "execution_count": 13
        }
      ]
    },
    {
      "cell_type": "code",
      "source": [
        "model.wv['работать']"
      ],
      "metadata": {
        "id": "dUeMD8Q2K0EZ",
        "colab": {
          "base_uri": "https://localhost:8080/"
        },
        "outputId": "745cb25f-e569-42c5-c343-bf4d10d23565"
      },
      "execution_count": 14,
      "outputs": [
        {
          "output_type": "execute_result",
          "data": {
            "text/plain": [
              "array([ 1.3236282 ,  0.6504674 , -1.1811246 ,  1.8146334 , -1.3030102 ,\n",
              "        0.27527782, -0.11089668,  1.8942302 , -0.861187  , -0.05094508,\n",
              "        0.21561971, -0.1290091 , -0.04897958,  1.3747808 , -0.17828146,\n",
              "       -1.5884733 , -2.039796  ,  0.1699948 ,  0.20585622,  0.5460651 ,\n",
              "        0.2527037 ,  0.4081952 , -2.1775975 ,  0.5470755 ,  1.0289599 ,\n",
              "        1.841934  ,  0.8727012 ,  0.0427471 ,  1.0667896 ,  0.12015542,\n",
              "       -0.0652807 ,  2.0621517 , -0.3430322 , -1.1329514 , -2.1900232 ,\n",
              "        2.7630274 ,  0.3018068 ,  1.7018721 ,  0.58817345, -0.6910452 ,\n",
              "       -0.8004553 , -0.77478206, -1.2566233 , -2.2622027 , -1.5155665 ,\n",
              "       -2.5973134 , -0.01667626,  0.39545313,  1.4011222 , -0.07607265,\n",
              "       -1.5207853 ,  1.375021  ,  0.28179765, -0.6276102 ,  0.06797972,\n",
              "        1.4745853 ,  0.4787067 ,  0.02698116, -0.5485599 , -1.0048791 ,\n",
              "        1.3683889 ,  1.8143747 , -0.13687102, -1.7297412 ,  0.0467583 ,\n",
              "        0.31717998,  0.07327303, -1.1502973 ,  0.887603  ,  0.3142679 ,\n",
              "        1.5102937 ,  0.3452649 , -0.99493337, -3.0424201 ,  1.7710918 ,\n",
              "        0.6178369 , -1.4668939 , -0.79641473, -1.2494844 ,  2.047176  ,\n",
              "        0.44437698, -2.3546762 , -0.56635284,  0.4691758 ,  0.82667106,\n",
              "        0.6922387 , -1.1958519 , -1.4846008 ,  1.5205632 ,  0.6271485 ,\n",
              "        1.9726264 , -0.43764648,  0.8944799 , -0.5375969 , -1.8974752 ,\n",
              "        0.07525363, -0.36050585, -1.2631115 ,  1.6741222 , -1.5782305 ],\n",
              "      dtype=float32)"
            ]
          },
          "metadata": {},
          "execution_count": 14
        }
      ]
    },
    {
      "cell_type": "code",
      "source": [
        "model.wv['замечательный']"
      ],
      "metadata": {
        "id": "7teZFAHemRip",
        "colab": {
          "base_uri": "https://localhost:8080/"
        },
        "outputId": "982f7cfa-3b63-42d6-d433-6b22d4554108"
      },
      "execution_count": 15,
      "outputs": [
        {
          "output_type": "execute_result",
          "data": {
            "text/plain": [
              "array([ 0.6747833 ,  0.62225515, -2.072009  ,  1.1633898 , -0.73547286,\n",
              "        0.29422262,  2.0411193 ,  0.12661685, -0.7646168 , -0.29310718,\n",
              "        0.04224992,  0.15086909,  0.15946071, -1.0573983 , -1.6514362 ,\n",
              "       -0.40354759,  1.3076105 , -0.1839873 , -0.4036643 ,  0.525284  ,\n",
              "       -0.06915253,  0.36315244, -0.35772714, -0.108487  ,  0.7892658 ,\n",
              "       -0.06218191, -1.4627811 ,  0.9230988 , -0.34478244,  1.0085263 ,\n",
              "       -0.6622544 ,  0.17325824, -0.6820403 , -0.04014499, -0.6592244 ,\n",
              "       -0.16313432, -0.37581098,  0.9600906 ,  1.4904304 ,  0.3567813 ,\n",
              "        0.95417166,  1.3561181 ,  0.28001466, -0.7515888 , -0.59453547,\n",
              "        0.6826957 , -0.07319835, -0.29830387,  0.56436807,  1.1564156 ,\n",
              "       -1.014847  , -0.77586395,  0.13168754,  1.131304  ,  0.6966366 ,\n",
              "        0.46547544, -0.893402  ,  0.09428343,  1.5473346 ,  0.2218182 ,\n",
              "        0.33280337, -0.84478337,  0.26566055, -2.3676326 , -0.81669843,\n",
              "        0.10515035,  0.38145503, -0.03648059, -0.8576177 , -1.0343786 ,\n",
              "        1.085665  ,  0.09172732,  0.7388842 ,  0.20525943, -0.4260376 ,\n",
              "        1.37568   , -0.40399605,  0.4514337 , -0.229674  , -0.43720073,\n",
              "        2.577863  ,  0.02005038, -1.4841926 ,  1.3080189 , -0.3693987 ,\n",
              "       -0.9887199 , -0.572264  , -0.85788924,  0.23457511, -0.48496303,\n",
              "        1.4941175 ,  1.0863053 , -0.9788846 ,  0.2610318 ,  0.5771786 ,\n",
              "       -1.2814226 , -1.1353992 ,  0.488164  , -1.1548191 ,  0.44377562],\n",
              "      dtype=float32)"
            ]
          },
          "metadata": {},
          "execution_count": 15
        }
      ]
    },
    {
      "cell_type": "code",
      "source": [
        "model.wv.most_similar('замечательный')"
      ],
      "metadata": {
        "id": "8rxpdNHPLpIW",
        "colab": {
          "base_uri": "https://localhost:8080/"
        },
        "outputId": "023a1809-5db2-466d-cc15-f3f2a0be663e"
      },
      "execution_count": 16,
      "outputs": [
        {
          "output_type": "execute_result",
          "data": {
            "text/plain": [
              "[('прекрасный', 0.8660831451416016),\n",
              " ('чудесный', 0.8212152719497681),\n",
              " ('потрясать', 0.7714234590530396),\n",
              " ('компетентный', 0.7595062255859375),\n",
              " ('молодой', 0.7361327409744263),\n",
              " ('великолепный', 0.732946515083313),\n",
              " ('шикарный', 0.7306846976280212),\n",
              " ('отличный', 0.7261954545974731),\n",
              " ('грамотный', 0.6951461434364319),\n",
              " ('классный', 0.6758410334587097)]"
            ]
          },
          "metadata": {},
          "execution_count": 16
        }
      ]
    },
    {
      "cell_type": "code",
      "source": [
        "model.wv.most_similar('стрессовый')"
      ],
      "metadata": {
        "id": "ZXbVAG00L3Qz",
        "colab": {
          "base_uri": "https://localhost:8080/"
        },
        "outputId": "dee7e4d4-cf6e-4df7-afd4-e2979299b67a"
      },
      "execution_count": 17,
      "outputs": [
        {
          "output_type": "execute_result",
          "data": {
            "text/plain": [
              "[('прогрессия', 0.7302366495132446),\n",
              " ('филигранный', 0.729767918586731),\n",
              " ('подмечать', 0.7261526584625244),\n",
              " ('огонёк', 0.7229665517807007),\n",
              " ('тонкий', 0.7184333205223083),\n",
              " ('ускорять', 0.715752124786377),\n",
              " ('расстройство', 0.7099881768226624),\n",
              " ('прокрастинация', 0.7094666957855225),\n",
              " ('пунктуационный', 0.7039498686790466),\n",
              " ('раскадровка', 0.7015565633773804)]"
            ]
          },
          "metadata": {},
          "execution_count": 17
        }
      ]
    },
    {
      "cell_type": "markdown",
      "source": [
        "## Сохранение обученной модели"
      ],
      "metadata": {
        "id": "_AZhtI2_MQr9"
      }
    },
    {
      "cell_type": "code",
      "source": [
        "model.save('word2vec-obrazoval.ru-50')"
      ],
      "metadata": {
        "id": "1vIqrI9NMTnN"
      },
      "execution_count": 18,
      "outputs": []
    },
    {
      "cell_type": "code",
      "source": [
        "!ls -lh"
      ],
      "metadata": {
        "id": "GBReJc3EOYkY",
        "colab": {
          "base_uri": "https://localhost:8080/"
        },
        "outputId": "e3e9a906-0af6-4ea2-e799-5c17c8a8c135"
      },
      "execution_count": 19,
      "outputs": [
        {
          "output_type": "stream",
          "name": "stdout",
          "text": [
            "total 53M\n",
            "-rw-r--r-- 1 root root  41M Apr 25 07:56 dataset.csv\n",
            "drwxr-xr-x 1 root root 4.0K Apr 25 13:25 sample_data\n",
            "-rw-r--r-- 1 root root  49K Apr 27 19:30 train_data.csv\n",
            "-rw-r--r-- 1 root root  12M Apr 27 19:41 word2vec-obrazoval.ru-50\n"
          ]
        }
      ]
    },
    {
      "cell_type": "markdown",
      "source": [
        "## Загрузка сохраненной модели"
      ],
      "metadata": {
        "id": "Zv8BLVNXOWeR"
      }
    },
    {
      "cell_type": "code",
      "source": [
        "new_model = gensim.models.Word2Vec.load('word2vec-obrazoval.ru-50')"
      ],
      "metadata": {
        "id": "RO5IbTE4OV28"
      },
      "execution_count": 20,
      "outputs": []
    },
    {
      "cell_type": "code",
      "source": [
        "new_model.wv['работать']"
      ],
      "metadata": {
        "id": "-wcPbHQ9Opb3",
        "colab": {
          "base_uri": "https://localhost:8080/"
        },
        "outputId": "cdfc35e6-fd03-4f90-9da0-b50f74472f8e"
      },
      "execution_count": 21,
      "outputs": [
        {
          "output_type": "execute_result",
          "data": {
            "text/plain": [
              "array([ 1.3236282 ,  0.6504674 , -1.1811246 ,  1.8146334 , -1.3030102 ,\n",
              "        0.27527782, -0.11089668,  1.8942302 , -0.861187  , -0.05094508,\n",
              "        0.21561971, -0.1290091 , -0.04897958,  1.3747808 , -0.17828146,\n",
              "       -1.5884733 , -2.039796  ,  0.1699948 ,  0.20585622,  0.5460651 ,\n",
              "        0.2527037 ,  0.4081952 , -2.1775975 ,  0.5470755 ,  1.0289599 ,\n",
              "        1.841934  ,  0.8727012 ,  0.0427471 ,  1.0667896 ,  0.12015542,\n",
              "       -0.0652807 ,  2.0621517 , -0.3430322 , -1.1329514 , -2.1900232 ,\n",
              "        2.7630274 ,  0.3018068 ,  1.7018721 ,  0.58817345, -0.6910452 ,\n",
              "       -0.8004553 , -0.77478206, -1.2566233 , -2.2622027 , -1.5155665 ,\n",
              "       -2.5973134 , -0.01667626,  0.39545313,  1.4011222 , -0.07607265,\n",
              "       -1.5207853 ,  1.375021  ,  0.28179765, -0.6276102 ,  0.06797972,\n",
              "        1.4745853 ,  0.4787067 ,  0.02698116, -0.5485599 , -1.0048791 ,\n",
              "        1.3683889 ,  1.8143747 , -0.13687102, -1.7297412 ,  0.0467583 ,\n",
              "        0.31717998,  0.07327303, -1.1502973 ,  0.887603  ,  0.3142679 ,\n",
              "        1.5102937 ,  0.3452649 , -0.99493337, -3.0424201 ,  1.7710918 ,\n",
              "        0.6178369 , -1.4668939 , -0.79641473, -1.2494844 ,  2.047176  ,\n",
              "        0.44437698, -2.3546762 , -0.56635284,  0.4691758 ,  0.82667106,\n",
              "        0.6922387 , -1.1958519 , -1.4846008 ,  1.5205632 ,  0.6271485 ,\n",
              "        1.9726264 , -0.43764648,  0.8944799 , -0.5375969 , -1.8974752 ,\n",
              "        0.07525363, -0.36050585, -1.2631115 ,  1.6741222 , -1.5782305 ],\n",
              "      dtype=float32)"
            ]
          },
          "metadata": {},
          "execution_count": 21
        }
      ]
    },
    {
      "cell_type": "markdown",
      "source": [
        "## Полезные ссылки\n",
        "\n",
        "1. [Библиотека Gensim](https://radimrehurek.com/gensim/index.html).\n",
        "2. [Word2Vec в Gensim](https://radimrehurek.com/gensim/auto_examples/tutorials/run_word2vec.html).\n"
      ],
      "metadata": {
        "id": "agjDpcaV0dUf"
      }
    },
    {
      "cell_type": "markdown",
      "source": [
        "# Логистическая регрессия"
      ],
      "metadata": {
        "id": "DHYOMkWMKaWV"
      }
    },
    {
      "cell_type": "code",
      "source": [
        "!wget https://huggingface.co/datasets/C0uchP0tat0/courses_sravni_ru/resolve/main/dataset.csv -O reviews.csv"
      ],
      "metadata": {
        "colab": {
          "base_uri": "https://localhost:8080/"
        },
        "id": "VYmuOfhjdPHp",
        "outputId": "0ab87292-49a4-47cf-8b8c-a0608ccca1e7"
      },
      "execution_count": null,
      "outputs": [
        {
          "output_type": "stream",
          "name": "stdout",
          "text": [
            "--2024-04-26 06:48:29--  https://huggingface.co/datasets/C0uchP0tat0/courses_sravni_ru/resolve/main/dataset.csv\n",
            "Resolving huggingface.co (huggingface.co)... 65.8.243.16, 65.8.243.90, 65.8.243.92, ...\n",
            "Connecting to huggingface.co (huggingface.co)|65.8.243.16|:443... connected.\n",
            "HTTP request sent, awaiting response... 302 Found\n",
            "Location: https://cdn-lfs-us-1.huggingface.co/repos/e9/a2/e9a241e4099b8361fb6be16dd66c1146a8b8d9805e7fcfef45c7e71d3aee5d80/4d78714bc987232e514f3c87fd37a71fc0187a5d303b13f5a19ee3c9326031f5?response-content-disposition=attachment%3B+filename*%3DUTF-8%27%27dataset.csv%3B+filename%3D%22dataset.csv%22%3B&response-content-type=text%2Fcsv&Expires=1714373309&Policy=eyJTdGF0ZW1lbnQiOlt7IkNvbmRpdGlvbiI6eyJEYXRlTGVzc1RoYW4iOnsiQVdTOkVwb2NoVGltZSI6MTcxNDM3MzMwOX19LCJSZXNvdXJjZSI6Imh0dHBzOi8vY2RuLWxmcy11cy0xLmh1Z2dpbmdmYWNlLmNvL3JlcG9zL2U5L2EyL2U5YTI0MWU0MDk5YjgzNjFmYjZiZTE2ZGQ2NmMxMTQ2YThiOGQ5ODA1ZTdmY2ZlZjQ1YzdlNzFkM2FlZTVkODAvNGQ3ODcxNGJjOTg3MjMyZTUxNGYzYzg3ZmQzN2E3MWZjMDE4N2E1ZDMwM2IxM2Y1YTE5ZWUzYzkzMjYwMzFmNT9yZXNwb25zZS1jb250ZW50LWRpc3Bvc2l0aW9uPSomcmVzcG9uc2UtY29udGVudC10eXBlPSoifV19&Signature=jCFJCMXmiwoaJuoKwOQw7MQ1rNky9dJnr6mpGmD%7EV-A5KUUcQW5RQ0RxXPugemHP%7EwSTuFRulJcy0f0FnBsLUq-h3tojidRy-NWv-n7OXfFS-B9yxAfqhCWYnkW%7EUWrQop9qIzBkcYgTsJ8zaw06ScYlcBwHVvMzrEhL8BWACRYfdcDDXZnVWnpFCSV9ytcJVo61zSoCbpBNwciMKjrUh2%7ELXqI0qBeQrL6ICvLCoLtih9%7E3a3HvrPPWACJ-uslKmJWFcR4YsZqm4vGY0cF-LGDkTMIsuvGwcljIX9Kz9LImr-xMgB8QEdRTqbAFhz1oezbJrcgCNIQxVvnmQR3hQw__&Key-Pair-Id=KCD77M1F0VK2B [following]\n",
            "--2024-04-26 06:48:29--  https://cdn-lfs-us-1.huggingface.co/repos/e9/a2/e9a241e4099b8361fb6be16dd66c1146a8b8d9805e7fcfef45c7e71d3aee5d80/4d78714bc987232e514f3c87fd37a71fc0187a5d303b13f5a19ee3c9326031f5?response-content-disposition=attachment%3B+filename*%3DUTF-8%27%27dataset.csv%3B+filename%3D%22dataset.csv%22%3B&response-content-type=text%2Fcsv&Expires=1714373309&Policy=eyJTdGF0ZW1lbnQiOlt7IkNvbmRpdGlvbiI6eyJEYXRlTGVzc1RoYW4iOnsiQVdTOkVwb2NoVGltZSI6MTcxNDM3MzMwOX19LCJSZXNvdXJjZSI6Imh0dHBzOi8vY2RuLWxmcy11cy0xLmh1Z2dpbmdmYWNlLmNvL3JlcG9zL2U5L2EyL2U5YTI0MWU0MDk5YjgzNjFmYjZiZTE2ZGQ2NmMxMTQ2YThiOGQ5ODA1ZTdmY2ZlZjQ1YzdlNzFkM2FlZTVkODAvNGQ3ODcxNGJjOTg3MjMyZTUxNGYzYzg3ZmQzN2E3MWZjMDE4N2E1ZDMwM2IxM2Y1YTE5ZWUzYzkzMjYwMzFmNT9yZXNwb25zZS1jb250ZW50LWRpc3Bvc2l0aW9uPSomcmVzcG9uc2UtY29udGVudC10eXBlPSoifV19&Signature=jCFJCMXmiwoaJuoKwOQw7MQ1rNky9dJnr6mpGmD%7EV-A5KUUcQW5RQ0RxXPugemHP%7EwSTuFRulJcy0f0FnBsLUq-h3tojidRy-NWv-n7OXfFS-B9yxAfqhCWYnkW%7EUWrQop9qIzBkcYgTsJ8zaw06ScYlcBwHVvMzrEhL8BWACRYfdcDDXZnVWnpFCSV9ytcJVo61zSoCbpBNwciMKjrUh2%7ELXqI0qBeQrL6ICvLCoLtih9%7E3a3HvrPPWACJ-uslKmJWFcR4YsZqm4vGY0cF-LGDkTMIsuvGwcljIX9Kz9LImr-xMgB8QEdRTqbAFhz1oezbJrcgCNIQxVvnmQR3hQw__&Key-Pair-Id=KCD77M1F0VK2B\n",
            "Resolving cdn-lfs-us-1.huggingface.co (cdn-lfs-us-1.huggingface.co)... 18.160.143.89, 18.160.143.73, 18.160.143.116, ...\n",
            "Connecting to cdn-lfs-us-1.huggingface.co (cdn-lfs-us-1.huggingface.co)|18.160.143.89|:443... connected.\n",
            "HTTP request sent, awaiting response... 200 OK\n",
            "Length: 14703555 (14M) [text/csv]\n",
            "Saving to: ‘reviews.csv’\n",
            "\n",
            "reviews.csv         100%[===================>]  14.02M  52.8MB/s    in 0.3s    \n",
            "\n",
            "2024-04-26 06:48:29 (52.8 MB/s) - ‘reviews.csv’ saved [14703555/14703555]\n",
            "\n"
          ]
        }
      ]
    },
    {
      "cell_type": "code",
      "source": [
        "# !wget https://huggingface.co/datasets/C0uchP0tat0/courses_obrazoval_ru/resolve/main/reviews.csv -O reviews.csv"
      ],
      "metadata": {
        "id": "PzFzY2qcDXpr"
      },
      "execution_count": null,
      "outputs": []
    },
    {
      "cell_type": "code",
      "source": [
        "import pandas as pd\n",
        "import numpy as np\n",
        "from gensim.models import Word2Vec\n",
        "from sklearn.linear_model import LogisticRegression\n",
        "from sklearn.pipeline import Pipeline\n",
        "from sklearn.model_selection import train_test_split\n",
        "from sklearn.metrics import accuracy_score\n",
        "from sklearn.preprocessing import FunctionTransformer\n",
        "import pymorphy2\n",
        "import nltk\n",
        "from nltk.tokenize import word_tokenize\n",
        "from nltk.corpus import stopwords\n",
        "\n",
        "nltk.download('punkt')\n",
        "nltk.download('stopwords')\n",
        "\n",
        "# Загрузка предварительно обученной модели word2vec\n",
        "model = Word2Vec.load(\"word2vec-obrazoval.ru-50\")\n",
        "\n",
        "# Загрузка данных\n",
        "data = pd.read_csv(\"reviews.csv\")\n",
        "\n",
        "# Предобработка текста\n",
        "def preprocess(text, stop_words, punctuation_marks, morph):\n",
        "    tokens = word_tokenize(text.lower())\n",
        "    preprocessed_text = []\n",
        "    for token in tokens:\n",
        "        if token not in punctuation_marks:\n",
        "            lemma = morph.parse(token)[0].normal_form\n",
        "            if lemma not in stop_words:\n",
        "                preprocessed_text.append(lemma)\n",
        "    return \" \".join(preprocessed_text)\n",
        "\n",
        "punctuation_marks = ['!', ',', '(', ')', ':', '-', '?', '.', '..', '...']\n",
        "stop_words = stopwords.words(\"russian\")\n",
        "morph = pymorphy2.MorphAnalyzer()\n",
        "\n",
        "try:\n",
        "    # для датасета СРАВНИ РУ https://huggingface.co/datasets/C0uchP0tat0/courses_sravni_ru\n",
        "    data['content'] = data['text'].apply(lambda x: preprocess(x, stop_words, punctuation_marks, morph))\n",
        "except KeyError:\n",
        "    # для датасета ОБРАЗОВАЛ РУ https://huggingface.co/datasets/C0uchP0tat0/courses_obrazoval_ru\n",
        "    data['content'] = data['content'].apply(lambda x: preprocess(x, stop_words, punctuation_marks, morph))\n",
        "\n",
        "# Разделение на признаки и метки\n",
        "X = data['content']\n",
        "y = data['label']\n",
        "\n",
        "# Разделение на обучающий и тестовый наборы\n",
        "X_train, X_test, y_train, y_test = train_test_split(X, y, test_size=0.2, random_state=42)\n",
        "\n",
        "# Функция для преобразования текста в векторы с использованием word2vec\n",
        "def word_averaging(words, model):\n",
        "    all_words, mean = set(), []\n",
        "\n",
        "    for word in words:\n",
        "        if word in model.wv.key_to_index:\n",
        "            mean.append(model.wv.get_vector(word))\n",
        "            all_words.add(model.wv.key_to_index[word])\n",
        "\n",
        "    if not mean:\n",
        "        return np.zeros(model.vector_size,)\n",
        "\n",
        "    mean = np.array(mean).mean(axis=0)\n",
        "    return mean\n",
        "\n",
        "def word_vectorizer(X, model):\n",
        "    return np.array([word_averaging(words.split(), model) for words in X])\n",
        "\n",
        "# Создание pipeline\n",
        "w2v_pipeline = Pipeline([\n",
        "    (\"word_vectorizer\", FunctionTransformer(word_vectorizer, kw_args={\"model\": model})),\n",
        "    (\"clf\", LogisticRegression())\n",
        "])\n",
        "\n",
        "# Обучение модели и оценка ее точности\n",
        "w2v_pipeline.fit(X_train, y_train)\n",
        "y_pred = w2v_pipeline.predict(X_test)\n",
        "accuracy = accuracy_score(y_test, y_pred)\n",
        "print(\"Accuracy:\", accuracy)\n"
      ],
      "metadata": {
        "colab": {
          "base_uri": "https://localhost:8080/"
        },
        "id": "Nc3__m0Wj9Wc",
        "outputId": "aea48dc8-217b-4926-f56d-191df1c4603b"
      },
      "execution_count": null,
      "outputs": [
        {
          "output_type": "stream",
          "name": "stderr",
          "text": [
            "[nltk_data] Downloading package punkt to /root/nltk_data...\n",
            "[nltk_data]   Package punkt is already up-to-date!\n",
            "[nltk_data] Downloading package stopwords to /root/nltk_data...\n",
            "[nltk_data]   Package stopwords is already up-to-date!\n"
          ]
        },
        {
          "output_type": "stream",
          "name": "stdout",
          "text": [
            "Accuracy: 0.9398879266428936\n"
          ]
        }
      ]
    },
    {
      "cell_type": "code",
      "source": [
        "text = \"\"\"Брал кредит в Мегабанке на автомобиль. Выдали за один день. Никаких скрытых комиссий и переплат.\n",
        "У банка удобное мобильное приложение, через которое можно быстро отправить ежемесячный платеж.\n",
        "Досрочное гасить начал через три месяца. Я доволен оперативностью и удобством. Огромное спасибо!\n",
        "\"\"\"\n",
        "preprocessed_text = preprocess(text, stop_words, punctuation_marks, morph)\n",
        "predicted_label = w2v_pipeline.predict([preprocessed_text])[0]\n",
        "print(\"Predicted label:\", predicted_label)"
      ],
      "metadata": {
        "colab": {
          "base_uri": "https://localhost:8080/"
        },
        "id": "UuuSyJEFoddh",
        "outputId": "69320547-38d4-4b30-a028-591b77eac39c"
      },
      "execution_count": null,
      "outputs": [
        {
          "output_type": "stream",
          "name": "stdout",
          "text": [
            "Predicted label: positive\n"
          ]
        }
      ]
    },
    {
      "cell_type": "code",
      "source": [
        "text = \"\"\"Взял кредит в ТакСебеБанке на автомобиль. В договор включили обязательный контракт\n",
        "на помощь на дороге, который мне не нужен. Узнал об этом только во время подписания договора, иначе бы отказался.\n",
        "Альтернативы была страхование жизни, но мне это даже не предложили. Скорее всего, менеджер продвигает\n",
        "продажи услуг этой компании в ущерб интересов клиента. Как минимум, непорядочно и непрофессионально.\n",
        "У банка ужасное мобильное приложение, из-за которого с меня взяли штраф 10 тыс.руб. По требованиям\n",
        "банка после покупки автомобиля в приложении нужно загрузить ПТС. Я загрузил и проверил, что ПТС в приложении есть.\n",
        "Но через некоторое время ПТС из приложения пропал и с меня взяли штраф. Никому не рекомендую связываться с ТакСебеБанком.\n",
        "\"\"\"\n",
        "preprocessed_text = preprocess(text, stop_words, punctuation_marks, morph)\n",
        "predicted_label = w2v_pipeline.predict([preprocessed_text])[0]\n",
        "print(\"Predicted label:\", predicted_label)"
      ],
      "metadata": {
        "colab": {
          "base_uri": "https://localhost:8080/"
        },
        "id": "bTJ5ynQBofGF",
        "outputId": "bdeb298a-87a0-49ae-cdcc-2eaa8a5859f9"
      },
      "execution_count": null,
      "outputs": [
        {
          "output_type": "stream",
          "name": "stdout",
          "text": [
            "Predicted label: negative\n"
          ]
        }
      ]
    },
    {
      "cell_type": "code",
      "source": [
        "mappingId2Label = {0:'negative', 1:'positive'}"
      ],
      "metadata": {
        "id": "y8HBowUqJO7_"
      },
      "execution_count": null,
      "outputs": []
    },
    {
      "cell_type": "code",
      "source": [
        "test_data = pd.DataFrame({\n",
        "    \"text\": [\n",
        "        \"Этот курс был удивительным! Я много узнал и преподаватель был очень компетентным.\",\n",
        "        \"Содержание курса было несвязанным и плохо объяснено.\",\n",
        "        \"Я ничего не понял в этом курсе. Потеря времени и денег.\",\n",
        "        \"Материал курса был хорошо структурирован и легко воспринимался.\",\n",
        "        \"Преподаватель казался неинтересным и не предоставлял много руководства.\",\n",
        "        \"Отличный курс! Очень рекомендую его всем, кто хочет учиться.\",\n",
        "        \"Курс был запутанным и не соответствовал моим ожиданиям.\",\n",
        "        \"Я нашел этот курс очень информативным и полезным для своей карьеры.\",\n",
        "        \"Курс был полным временем. Я ничего нового не узнал.\",\n",
        "        \"Преподаватель был заинтересованным и сделал материал легким для понимания.\",\n",
        "        \"Каки каки каки каки\"\n",
        "    ],\n",
        "    \"label\": [1, 0, 0, 1, 0, 1, 0, 1, 0, 1, 0]\n",
        "})"
      ],
      "metadata": {
        "id": "glI1wyPz9rDz"
      },
      "execution_count": null,
      "outputs": []
    },
    {
      "cell_type": "code",
      "source": [
        "for r in zip(test_data[\"text\"], test_data[\"label\"]):\n",
        "    preprocessed_text = preprocess(r[0], stop_words, punctuation_marks, morph)\n",
        "    predicted_label = w2v_pipeline.predict([preprocessed_text])[0]\n",
        "    print(\"Predicted label:\", predicted_label, mappingId2Label[r[1]])"
      ],
      "metadata": {
        "id": "gp_EmlRUo2SD",
        "colab": {
          "base_uri": "https://localhost:8080/"
        },
        "outputId": "13aa556f-cdd7-4ec9-8fa8-7bdea561c355"
      },
      "execution_count": null,
      "outputs": [
        {
          "output_type": "stream",
          "name": "stdout",
          "text": [
            "Predicted label: positive positive\n",
            "Predicted label: negative negative\n",
            "Predicted label: negative negative\n",
            "Predicted label: positive positive\n",
            "Predicted label: positive negative\n",
            "Predicted label: positive positive\n",
            "Predicted label: negative negative\n",
            "Predicted label: positive positive\n",
            "Predicted label: positive negative\n",
            "Predicted label: positive positive\n",
            "Predicted label: negative negative\n"
          ]
        }
      ]
    },
    {
      "cell_type": "code",
      "source": [
        "from sklearn.metrics import f1_score\n",
        "\n",
        "# Предобработка текста\n",
        "test_data['content'] = test_data['text'].apply(lambda x: preprocess(x, stop_words, punctuation_marks, morph))\n",
        "\n",
        "# Предсказание меток для тестовых данных\n",
        "y_true = test_data['label']\n",
        "y_pred = w2v_pipeline.predict(test_data['content'])\n",
        "\n",
        "# Преобразование предсказанных меток в числовой формат\n",
        "y_pred = [1 if label == 'positive' else 0 for label in y_pred]\n",
        "\n",
        "# Оценка F1-меры\n",
        "f1 = f1_score(y_true, y_pred)\n",
        "print(\"F1-мера на тестовых данных:\", f1)"
      ],
      "metadata": {
        "colab": {
          "base_uri": "https://localhost:8080/"
        },
        "id": "rfzGDMreTwVm",
        "outputId": "d1c298a6-4379-4d77-fd37-d753262c8383"
      },
      "execution_count": null,
      "outputs": [
        {
          "output_type": "stream",
          "name": "stdout",
          "text": [
            "F1-мера на тестовых данных: 0.8333333333333333\n"
          ]
        }
      ]
    },
    {
      "cell_type": "code",
      "source": [
        "# Предсказание вероятностей классов для тестовых данных\n",
        "probabilities = w2v_pipeline.predict_proba(X_test)\n",
        "\n",
        "# Отсортировать индексы отзывов по вероятностям позитивного класса\n",
        "sorted_positive_indices = np.argsort(probabilities[:, 1])[::-1]\n",
        "\n",
        "# Отсортировать индексы отзывов по вероятностям негативного класса\n",
        "sorted_negative_indices = np.argsort(probabilities[:, 0])[::-1]\n",
        "\n",
        "most_positive_reviews = X_test.iloc[sorted_positive_indices[:50]]\n",
        "most_negative_reviews = X_test.iloc[sorted_negative_indices[:50]]\n",
        "\n",
        "most_positive = []\n",
        "most_negative = []\n",
        "\n",
        "# Вывести 50 самых позитивных отзывов\n",
        "print(\"Самые позитивные отзывы:\")\n",
        "for i, review in enumerate(most_positive_reviews):\n",
        "    most_positive.append(data[\"text\"][most_positive_reviews.index[i]])\n",
        "    print(f\"Отзыв #{i+1}, индекс строки: {most_positive_reviews.index[i]}\")\n",
        "    print(review)\n",
        "    print()\n",
        "\n",
        "# Вывести 50 самых негативных отзывов\n",
        "print(\"Самые негативные отзывы:\")\n",
        "for i, review in enumerate(most_negative_reviews):\n",
        "    most_negative.append(data[\"text\"][most_negative_reviews.index[i]])\n",
        "    print(f\"Отзыв #{i+1}, индекс строки: {most_negative_reviews.index[i]}\")\n",
        "    print(review)\n",
        "    print()"
      ],
      "metadata": {
        "id": "4GkHQxpPnFhu"
      },
      "execution_count": null,
      "outputs": []
    },
    {
      "cell_type": "code",
      "source": [
        "import gensim\n",
        "from gensim import corpora\n",
        "\n",
        "# Создание словаря\n",
        "dictionary = corpora.Dictionary(most_positive_reviews.apply(lambda x: x.split()))\n",
        "\n",
        "# Преобразование текста в мешок слов\n",
        "corpus = [dictionary.doc2bow(text.split()) for text in most_positive_reviews]\n",
        "\n",
        "# Обучение модели LDA\n",
        "lda_model = gensim.models.ldamodel.LdaModel(corpus=corpus,\n",
        "                                            id2word=dictionary,\n",
        "                                            num_topics=5,\n",
        "                                            random_state=42,\n",
        "                                            passes=10,\n",
        "                                            per_word_topics=True)\n",
        "\n",
        "# Вывод тем\n",
        "print(lda_model.print_topics())"
      ],
      "metadata": {
        "colab": {
          "base_uri": "https://localhost:8080/",
          "height": 211
        },
        "id": "oJqcqWg1J1tE",
        "outputId": "2bf41db4-31c7-4aef-cce8-7f0e4f17ef6b"
      },
      "execution_count": null,
      "outputs": [
        {
          "output_type": "error",
          "ename": "NameError",
          "evalue": "name 'most_positive_reviews' is not defined",
          "traceback": [
            "\u001b[0;31m---------------------------------------------------------------------------\u001b[0m",
            "\u001b[0;31mNameError\u001b[0m                                 Traceback (most recent call last)",
            "\u001b[0;32m<ipython-input-47-c43f80416cf1>\u001b[0m in \u001b[0;36m<cell line: 5>\u001b[0;34m()\u001b[0m\n\u001b[1;32m      3\u001b[0m \u001b[0;34m\u001b[0m\u001b[0m\n\u001b[1;32m      4\u001b[0m \u001b[0;31m# Создание словаря\u001b[0m\u001b[0;34m\u001b[0m\u001b[0;34m\u001b[0m\u001b[0m\n\u001b[0;32m----> 5\u001b[0;31m \u001b[0mdictionary\u001b[0m \u001b[0;34m=\u001b[0m \u001b[0mcorpora\u001b[0m\u001b[0;34m.\u001b[0m\u001b[0mDictionary\u001b[0m\u001b[0;34m(\u001b[0m\u001b[0mmost_positive_reviews\u001b[0m\u001b[0;34m.\u001b[0m\u001b[0mapply\u001b[0m\u001b[0;34m(\u001b[0m\u001b[0;32mlambda\u001b[0m \u001b[0mx\u001b[0m\u001b[0;34m:\u001b[0m \u001b[0mx\u001b[0m\u001b[0;34m.\u001b[0m\u001b[0msplit\u001b[0m\u001b[0;34m(\u001b[0m\u001b[0;34m)\u001b[0m\u001b[0;34m)\u001b[0m\u001b[0;34m)\u001b[0m\u001b[0;34m\u001b[0m\u001b[0;34m\u001b[0m\u001b[0m\n\u001b[0m\u001b[1;32m      6\u001b[0m \u001b[0;34m\u001b[0m\u001b[0m\n\u001b[1;32m      7\u001b[0m \u001b[0;31m# Преобразование текста в мешок слов\u001b[0m\u001b[0;34m\u001b[0m\u001b[0;34m\u001b[0m\u001b[0m\n",
            "\u001b[0;31mNameError\u001b[0m: name 'most_positive_reviews' is not defined"
          ]
        }
      ]
    },
    {
      "cell_type": "code",
      "source": [
        "import gensim\n",
        "from gensim import corpora\n",
        "\n",
        "# Создание словаря\n",
        "dictionary = corpora.Dictionary(most_negative_reviews.apply(lambda x: x.split()))\n",
        "\n",
        "# Преобразование текста в мешок слов\n",
        "corpus = [dictionary.doc2bow(text.split()) for text in most_negative_reviews]\n",
        "\n",
        "# Обучение модели LDA\n",
        "lda_model = gensim.models.ldamodel.LdaModel(corpus=corpus,\n",
        "                                            id2word=dictionary,\n",
        "                                            num_topics=5,\n",
        "                                            random_state=42,\n",
        "                                            passes=10,\n",
        "                                            per_word_topics=True)\n",
        "\n",
        "# Вывод тем\n",
        "print(lda_model.print_topics())"
      ],
      "metadata": {
        "colab": {
          "base_uri": "https://localhost:8080/"
        },
        "id": "BOJ6w3GbNhtE",
        "outputId": "4beae8d2-c11c-4b8f-a4cb-80a48c22b8d4"
      },
      "execution_count": null,
      "outputs": [
        {
          "output_type": "stream",
          "name": "stdout",
          "text": [
            "[(0, '0.020*\"деньга\" + 0.017*\"обучение\" + 0.016*\"вернуть\" + 0.012*\"возврат\" + 0.010*\"курс\" + 0.008*\"это\" + 0.008*\"договор\" + 0.007*\"день\" + 0.007*\"свой\" + 0.006*\"заявление\"'), (1, '0.015*\"возврат\" + 0.015*\"день\" + 0.012*\"это\" + 0.012*\"деньга\" + 0.011*\"обучение\" + 0.008*\"вернуть\" + 0.008*\"менеджер\" + 0.008*\"курс\" + 0.008*\"заявление\" + 0.007*\"решить\"'), (2, '0.010*\"возврат\" + 0.009*\"деньга\" + 0.008*\"средство\" + 0.007*\"обучение\" + 0.007*\"договор\" + 0.007*\"день\" + 0.007*\"30\" + 0.006*\"месяц\" + 0.006*\"сказать\" + 0.006*\"копия\"'), (3, '0.020*\"это\" + 0.015*\"обучение\" + 0.012*\"который\" + 0.011*\">\" + 0.011*\"<\" + 0.010*\"деньга\" + 0.007*\"курс\" + 0.007*\"вернуть\" + 0.006*\"мочь\" + 0.006*\"урок\"'), (4, '0.017*\"курс\" + 0.015*\"деньга\" + 0.011*\"вернуть\" + 0.011*\"обучение\" + 0.009*\"это\" + 0.009*\"день\" + 0.008*\"который\" + 0.007*\"\\'\\'\" + 0.007*\"написать\" + 0.007*\"возврат\"')]\n"
          ]
        }
      ]
    },
    {
      "cell_type": "code",
      "source": [
        "from sklearn.decomposition import NMF\n",
        "from sklearn.feature_extraction.text import TfidfVectorizer\n",
        "\n",
        "# Преобразование текста в TF-IDF признаки\n",
        "tfidf_vectorizer = TfidfVectorizer(max_df=0.95, min_df=2, stop_words='english')\n",
        "tfidf = tfidf_vectorizer.fit_transform(most_positive_reviews)\n",
        "\n",
        "# Обучение модели NMF\n",
        "num_topics = 10\n",
        "nmf_model = NMF(n_components=num_topics, random_state=42)\n",
        "nmf_model.fit(tfidf)\n",
        "\n",
        "# Вывод тем\n",
        "feature_names = tfidf_vectorizer.get_feature_names_out()\n",
        "for topic_idx, topic in enumerate(nmf_model.components_):\n",
        "    print(f\"Тема {topic_idx}:\")\n",
        "    print(\" \".join([feature_names[i] for i in topic.argsort()[:-10 - 1:-1]]))\n",
        "    print()"
      ],
      "metadata": {
        "colab": {
          "base_uri": "https://localhost:8080/"
        },
        "id": "FP9XYoLuQB9O",
        "outputId": "6311c7b2-937c-4f10-b438-3d82a839ea34"
      },
      "execution_count": null,
      "outputs": [
        {
          "output_type": "stream",
          "name": "stdout",
          "text": [
            "Тема 0:\n",
            "ребёнок нравиться заниматься очень интерес удовольствие форма урок отличный педагог\n",
            "\n",
            "Тема 1:\n",
            "обучение удобный формат большой онлайн эффективный программа выбор подготовка проходить\n",
            "\n",
            "Тема 2:\n",
            "английский год платформа результат язык говорение говорить очень заниматься изучение\n",
            "\n",
            "Тема 3:\n",
            "очень советовать школа хороший весь самый эффективно интересный урок несколько\n",
            "\n",
            "Тема 4:\n",
            "дочка нравиться тетрик индивидуальный подход математика заниматься спасибо наш огромный\n",
            "\n",
            "Тема 5:\n",
            "рекомендовать всё школа довольный ребёнок понятно доступно объяснять делать очень\n",
            "\n",
            "Тема 6:\n",
            "русский математика язык заниматься предмет ребёнок всё подтянуть занятие хороший\n",
            "\n",
            "Тема 7:\n",
            "разный курс разработка профессиональный отзывчивый направление свой большой знание хотеть\n",
            "\n",
            "Тема 8:\n",
            "интересно задание занятие заниматься выбрать время удобно skyeng преподаватель приложение\n",
            "\n",
            "Тема 9:\n",
            "работа подача спасибо материал найти обучение проходить удобно очень нужно\n",
            "\n"
          ]
        }
      ]
    },
    {
      "cell_type": "code",
      "source": [
        "from sklearn.decomposition import NMF\n",
        "from sklearn.feature_extraction.text import TfidfVectorizer\n",
        "\n",
        "# Преобразование текста в TF-IDF признаки\n",
        "tfidf_vectorizer = TfidfVectorizer(max_df=0.95, min_df=2, stop_words='english')\n",
        "tfidf = tfidf_vectorizer.fit_transform(most_negative_reviews)\n",
        "\n",
        "# Обучение модели NMF\n",
        "num_topics = 10\n",
        "nmf_model = NMF(n_components=num_topics, random_state=42)\n",
        "nmf_model.fit(tfidf)\n",
        "\n",
        "# Вывод тем\n",
        "feature_names = tfidf_vectorizer.get_feature_names_out()\n",
        "for topic_idx, topic in enumerate(nmf_model.components_):\n",
        "    print(f\"Тема {topic_idx}:\")\n",
        "    print(\" \".join([feature_names[i] for i in topic.argsort()[:-10 - 1:-1]]))\n",
        "    print()"
      ],
      "metadata": {
        "id": "XyWoAB7LJ66U"
      },
      "execution_count": null,
      "outputs": []
    },
    {
      "cell_type": "code",
      "source": [
        "!pip install bigartm"
      ],
      "metadata": {
        "colab": {
          "base_uri": "https://localhost:8080/"
        },
        "id": "labyVLyLPMye",
        "outputId": "4b280511-283b-49ac-e9b3-f1b187e8d904"
      },
      "execution_count": null,
      "outputs": [
        {
          "output_type": "stream",
          "name": "stdout",
          "text": [
            "Requirement already satisfied: bigartm in /usr/local/lib/python3.10/dist-packages (0.9.2)\n",
            "Requirement already satisfied: pandas in /usr/local/lib/python3.10/dist-packages (from bigartm) (2.0.3)\n",
            "Requirement already satisfied: numpy in /usr/local/lib/python3.10/dist-packages (from bigartm) (1.25.2)\n",
            "Requirement already satisfied: tqdm in /usr/local/lib/python3.10/dist-packages (from bigartm) (4.66.2)\n",
            "Requirement already satisfied: protobuf>=3.0 in /usr/local/lib/python3.10/dist-packages (from bigartm) (3.20.3)\n",
            "Requirement already satisfied: python-dateutil>=2.8.2 in /usr/local/lib/python3.10/dist-packages (from pandas->bigartm) (2.8.2)\n",
            "Requirement already satisfied: pytz>=2020.1 in /usr/local/lib/python3.10/dist-packages (from pandas->bigartm) (2023.4)\n",
            "Requirement already satisfied: tzdata>=2022.1 in /usr/local/lib/python3.10/dist-packages (from pandas->bigartm) (2024.1)\n",
            "Requirement already satisfied: six>=1.5 in /usr/local/lib/python3.10/dist-packages (from python-dateutil>=2.8.2->pandas->bigartm) (1.16.0)\n"
          ]
        }
      ]
    },
    {
      "cell_type": "code",
      "source": [
        "import artm\n",
        "import pandas as pd\n",
        "import numpy as np\n",
        "import nltk\n",
        "from nltk.corpus import stopwords\n",
        "from nltk.tokenize import word_tokenize\n",
        "from sklearn.model_selection import train_test_split\n",
        "from sklearn.feature_extraction.text import CountVectorizer\n",
        "\n",
        "# Загрузка данных\n",
        "data = pd.read_csv(\"reviews.csv\")\n",
        "\n",
        "# Предварительная обработка текста\n",
        "nltk.download('stopwords')\n",
        "nltk.download('punkt')\n",
        "stop_words = set(stopwords.words('russian'))\n",
        "\n",
        "def preprocess_text(text):\n",
        "    tokens = word_tokenize(text.lower())\n",
        "    lemmatized_tokens = [token for token in tokens if token.isalpha() and token not in stop_words]\n",
        "    return \" \".join(lemmatized_tokens)\n",
        "\n",
        "data['processed_content'] = data['content'].apply(preprocess_text)\n",
        "\n",
        "# Разделение на обучающий и тестовый наборы\n",
        "train_data, test_data = train_test_split(most_positive_reviews, test_size=0.2, random_state=42)\n",
        "\n",
        "# Создание и обучение CountVectorizer\n",
        "cv = CountVectorizer(max_features=1000)\n",
        "n_wd = cv.fit_transform(train_data).toarray().T\n",
        "vocabulary = cv.get_feature_names_out()\n",
        "\n",
        "# Создание BatchVectorizer\n",
        "bv = artm.BatchVectorizer(data_format='bow_n_wd', n_wd=n_wd, vocabulary=vocabulary)\n",
        "\n",
        "# Обучение модели LDA\n",
        "model = artm.LDA(num_topics=15, dictionary=bv.dictionary)\n",
        "model.fit_offline(bv, num_collection_passes=20)\n",
        "\n",
        "# Вывод результатов\n",
        "print(model.get_top_tokens())\n"
      ],
      "metadata": {
        "id": "wbHWMhxWYbux"
      },
      "execution_count": null,
      "outputs": []
    },
    {
      "cell_type": "code",
      "source": [
        "import artm\n",
        "import pandas as pd\n",
        "import numpy as np\n",
        "import nltk\n",
        "from nltk.corpus import stopwords\n",
        "from nltk.tokenize import word_tokenize\n",
        "from sklearn.model_selection import train_test_split\n",
        "from sklearn.feature_extraction.text import CountVectorizer\n",
        "\n",
        "# Разделение на обучающий и тестовый наборы\n",
        "train_data, test_data = train_test_split(most_negative_reviews, test_size=0.2, random_state=42)\n",
        "\n",
        "# Создание и обучение CountVectorizer\n",
        "cv = CountVectorizer(max_features=1000)\n",
        "n_wd = cv.fit_transform(train_data).toarray().T\n",
        "vocabulary = cv.get_feature_names_out()\n",
        "\n",
        "# Создание BatchVectorizer\n",
        "bv = artm.BatchVectorizer(data_format='bow_n_wd', n_wd=n_wd, vocabulary=vocabulary)\n",
        "\n",
        "# Обучение модели LDA\n",
        "model = artm.LDA(num_topics=15, dictionary=bv.dictionary)\n",
        "model.fit_offline(bv, num_collection_passes=20)\n",
        "\n",
        "# Вывод результатов\n",
        "print(model.get_top_tokens())\n"
      ],
      "metadata": {
        "id": "Mg9Glj56ZhsT"
      },
      "execution_count": null,
      "outputs": []
    },
    {
      "cell_type": "code",
      "source": [
        "import nltk\n",
        "from nltk.collocations import *\n",
        "import pandas as pd\n",
        "\n",
        "def calculate_bigram_rankings(tokenized_texts, N_best=100):\n",
        "    texts = [t for sublist in tokenized_texts for t in sublist]\n",
        "    bigram_measures = nltk.collocations.BigramAssocMeasures()\n",
        "    finder = BigramCollocationFinder.from_words(texts)\n",
        "    finder.apply_freq_filter(1)\n",
        "\n",
        "    raw_freq_ranking = [' '.join(i) for i in finder.nbest(bigram_measures.raw_freq, N_best)]\n",
        "    tscore_ranking = [' '.join(i) for i in finder.nbest(bigram_measures.student_t, N_best)]\n",
        "    pmi_ranking =  [' '.join(i) for i in finder.nbest(bigram_measures.pmi, N_best)]\n",
        "    llr_ranking = [' '. join(i) for i in finder.nbest(bigram_measures.likelihood_ratio, N_best)]\n",
        "    chi2_ranking =  [' '.join(i) for i in finder.nbest(bigram_measures.chi_sq, N_best)]\n",
        "\n",
        "    rankings = pd.DataFrame({\n",
        "        'raw_freq': raw_freq_ranking,\n",
        "        'pmi': pmi_ranking,\n",
        "        't-score': tscore_ranking,\n",
        "        'chi2': chi2_ranking,\n",
        "        'llr': llr_ranking\n",
        "    })\n",
        "    rankings = rankings[['raw_freq', 'pmi', 't-score', 'chi2', 'llr']]\n",
        "    return rankings\n",
        "\n",
        "def print_bigram_ranking(ranking):\n",
        "    for measure, bigrams in ranking.items():\n",
        "        print(f\"Топ-100 биграм по мере {measure}:\")\n",
        "        for i, bigram in enumerate(bigrams, 1):\n",
        "            print(f\"{i}. {bigram}\")\n",
        "        print()\n",
        "\n",
        "# Пример использования\n",
        "# tokenized_texts = [text.split() for text in most_positive_reviews]\n",
        "tokenized_texts = [text.split() for text in most_negative_reviews]\n",
        "rankings = calculate_bigram_rankings(tokenized_texts)\n",
        "print(rankings.head(10))\n",
        "print()\n",
        "\n",
        "# Вывод ранжированных биграм\n",
        "print_bigram_ranking(rankings)\n"
      ],
      "metadata": {
        "colab": {
          "base_uri": "https://localhost:8080/",
          "height": 211
        },
        "id": "ErpfzwsrwuBf",
        "outputId": "8ece653c-a512-4b7a-9a28-ed06b8576d24"
      },
      "execution_count": null,
      "outputs": [
        {
          "output_type": "error",
          "ename": "NameError",
          "evalue": "name 'most_negative_reviews' is not defined",
          "traceback": [
            "\u001b[0;31m---------------------------------------------------------------------------\u001b[0m",
            "\u001b[0;31mNameError\u001b[0m                                 Traceback (most recent call last)",
            "\u001b[0;32m<ipython-input-48-e7a9b2587d96>\u001b[0m in \u001b[0;36m<cell line: 36>\u001b[0;34m()\u001b[0m\n\u001b[1;32m     34\u001b[0m \u001b[0;31m# Пример использования\u001b[0m\u001b[0;34m\u001b[0m\u001b[0;34m\u001b[0m\u001b[0m\n\u001b[1;32m     35\u001b[0m \u001b[0;31m# tokenized_texts = [text.split() for text in most_positive_reviews]\u001b[0m\u001b[0;34m\u001b[0m\u001b[0;34m\u001b[0m\u001b[0m\n\u001b[0;32m---> 36\u001b[0;31m \u001b[0mtokenized_texts\u001b[0m \u001b[0;34m=\u001b[0m \u001b[0;34m[\u001b[0m\u001b[0mtext\u001b[0m\u001b[0;34m.\u001b[0m\u001b[0msplit\u001b[0m\u001b[0;34m(\u001b[0m\u001b[0;34m)\u001b[0m \u001b[0;32mfor\u001b[0m \u001b[0mtext\u001b[0m \u001b[0;32min\u001b[0m \u001b[0mmost_negative_reviews\u001b[0m\u001b[0;34m]\u001b[0m\u001b[0;34m\u001b[0m\u001b[0;34m\u001b[0m\u001b[0m\n\u001b[0m\u001b[1;32m     37\u001b[0m \u001b[0mrankings\u001b[0m \u001b[0;34m=\u001b[0m \u001b[0mcalculate_bigram_rankings\u001b[0m\u001b[0;34m(\u001b[0m\u001b[0mtokenized_texts\u001b[0m\u001b[0;34m)\u001b[0m\u001b[0;34m\u001b[0m\u001b[0;34m\u001b[0m\u001b[0m\n\u001b[1;32m     38\u001b[0m \u001b[0mprint\u001b[0m\u001b[0;34m(\u001b[0m\u001b[0mrankings\u001b[0m\u001b[0;34m.\u001b[0m\u001b[0mhead\u001b[0m\u001b[0;34m(\u001b[0m\u001b[0;36m10\u001b[0m\u001b[0;34m)\u001b[0m\u001b[0;34m)\u001b[0m\u001b[0;34m\u001b[0m\u001b[0;34m\u001b[0m\u001b[0m\n",
            "\u001b[0;31mNameError\u001b[0m: name 'most_negative_reviews' is not defined"
          ]
        }
      ]
    },
    {
      "cell_type": "markdown",
      "source": [
        "# Стохастический градиентный спуск с логистической функцией потерь"
      ],
      "metadata": {
        "id": "KvYdEi3KKnI7"
      }
    },
    {
      "cell_type": "code",
      "source": [
        "!wget https://huggingface.co/datasets/C0uchP0tat0/courses_sravni_ru/resolve/main/dataset.csv -O reviews.csv"
      ],
      "metadata": {
        "id": "KY9I5bzTF4_8",
        "colab": {
          "base_uri": "https://localhost:8080/"
        },
        "outputId": "aa01d25c-a665-4412-fb5c-4cce2b3590b2"
      },
      "execution_count": 22,
      "outputs": [
        {
          "output_type": "stream",
          "name": "stdout",
          "text": [
            "--2024-04-27 19:41:09--  https://huggingface.co/datasets/C0uchP0tat0/courses_sravni_ru/resolve/main/dataset.csv\n",
            "Resolving huggingface.co (huggingface.co)... 18.154.227.67, 18.154.227.7, 18.154.227.87, ...\n",
            "Connecting to huggingface.co (huggingface.co)|18.154.227.67|:443... connected.\n",
            "HTTP request sent, awaiting response... 302 Found\n",
            "Location: https://cdn-lfs-us-1.huggingface.co/repos/e9/a2/e9a241e4099b8361fb6be16dd66c1146a8b8d9805e7fcfef45c7e71d3aee5d80/4d78714bc987232e514f3c87fd37a71fc0187a5d303b13f5a19ee3c9326031f5?response-content-disposition=attachment%3B+filename*%3DUTF-8%27%27dataset.csv%3B+filename%3D%22dataset.csv%22%3B&response-content-type=text%2Fcsv&Expires=1714506069&Policy=eyJTdGF0ZW1lbnQiOlt7IkNvbmRpdGlvbiI6eyJEYXRlTGVzc1RoYW4iOnsiQVdTOkVwb2NoVGltZSI6MTcxNDUwNjA2OX19LCJSZXNvdXJjZSI6Imh0dHBzOi8vY2RuLWxmcy11cy0xLmh1Z2dpbmdmYWNlLmNvL3JlcG9zL2U5L2EyL2U5YTI0MWU0MDk5YjgzNjFmYjZiZTE2ZGQ2NmMxMTQ2YThiOGQ5ODA1ZTdmY2ZlZjQ1YzdlNzFkM2FlZTVkODAvNGQ3ODcxNGJjOTg3MjMyZTUxNGYzYzg3ZmQzN2E3MWZjMDE4N2E1ZDMwM2IxM2Y1YTE5ZWUzYzkzMjYwMzFmNT9yZXNwb25zZS1jb250ZW50LWRpc3Bvc2l0aW9uPSomcmVzcG9uc2UtY29udGVudC10eXBlPSoifV19&Signature=lbScVzMZCEq0JPb-RKJ3lkEmxsfTahqvD-puGrh%7Er8qu9R7PerMnySlDX5M-LbWifnpQJCmcY3I6xLwWuYDObn4zKynrdoI5H0hY8uVK-VfF3Sgaaxc%7EY5s9J7SSFsDTfkhG17KjhCtu0EkYZqJwQEwBLP3sorfLCXb8j8YPFswk3H37PR-PwgLj3MeDl5edp7uVSVnieXCfU-9MY%7EMfzZ6rzmZQsfMYslRW5theYKkMrbLriDRbqC4JjCqoXm6XR4zdfpcRZ9m5sr1nnjC8DrPDf-RelIg-V%7ER-DmrihZv2ZRKEVDqyDvebikDJAATPK3%7EIR0jxN8mLpC79R1GDUw__&Key-Pair-Id=KCD77M1F0VK2B [following]\n",
            "--2024-04-27 19:41:09--  https://cdn-lfs-us-1.huggingface.co/repos/e9/a2/e9a241e4099b8361fb6be16dd66c1146a8b8d9805e7fcfef45c7e71d3aee5d80/4d78714bc987232e514f3c87fd37a71fc0187a5d303b13f5a19ee3c9326031f5?response-content-disposition=attachment%3B+filename*%3DUTF-8%27%27dataset.csv%3B+filename%3D%22dataset.csv%22%3B&response-content-type=text%2Fcsv&Expires=1714506069&Policy=eyJTdGF0ZW1lbnQiOlt7IkNvbmRpdGlvbiI6eyJEYXRlTGVzc1RoYW4iOnsiQVdTOkVwb2NoVGltZSI6MTcxNDUwNjA2OX19LCJSZXNvdXJjZSI6Imh0dHBzOi8vY2RuLWxmcy11cy0xLmh1Z2dpbmdmYWNlLmNvL3JlcG9zL2U5L2EyL2U5YTI0MWU0MDk5YjgzNjFmYjZiZTE2ZGQ2NmMxMTQ2YThiOGQ5ODA1ZTdmY2ZlZjQ1YzdlNzFkM2FlZTVkODAvNGQ3ODcxNGJjOTg3MjMyZTUxNGYzYzg3ZmQzN2E3MWZjMDE4N2E1ZDMwM2IxM2Y1YTE5ZWUzYzkzMjYwMzFmNT9yZXNwb25zZS1jb250ZW50LWRpc3Bvc2l0aW9uPSomcmVzcG9uc2UtY29udGVudC10eXBlPSoifV19&Signature=lbScVzMZCEq0JPb-RKJ3lkEmxsfTahqvD-puGrh%7Er8qu9R7PerMnySlDX5M-LbWifnpQJCmcY3I6xLwWuYDObn4zKynrdoI5H0hY8uVK-VfF3Sgaaxc%7EY5s9J7SSFsDTfkhG17KjhCtu0EkYZqJwQEwBLP3sorfLCXb8j8YPFswk3H37PR-PwgLj3MeDl5edp7uVSVnieXCfU-9MY%7EMfzZ6rzmZQsfMYslRW5theYKkMrbLriDRbqC4JjCqoXm6XR4zdfpcRZ9m5sr1nnjC8DrPDf-RelIg-V%7ER-DmrihZv2ZRKEVDqyDvebikDJAATPK3%7EIR0jxN8mLpC79R1GDUw__&Key-Pair-Id=KCD77M1F0VK2B\n",
            "Resolving cdn-lfs-us-1.huggingface.co (cdn-lfs-us-1.huggingface.co)... 108.139.47.62, 108.139.47.127, 108.139.47.91, ...\n",
            "Connecting to cdn-lfs-us-1.huggingface.co (cdn-lfs-us-1.huggingface.co)|108.139.47.62|:443... connected.\n",
            "HTTP request sent, awaiting response... 200 OK\n",
            "Length: 14703555 (14M) [text/csv]\n",
            "Saving to: ‘reviews.csv’\n",
            "\n",
            "\rreviews.csv           0%[                    ]       0  --.-KB/s               \rreviews.csv         100%[===================>]  14.02M  --.-KB/s    in 0.1s    \n",
            "\n",
            "2024-04-27 19:41:09 (109 MB/s) - ‘reviews.csv’ saved [14703555/14703555]\n",
            "\n"
          ]
        }
      ]
    },
    {
      "cell_type": "code",
      "source": [
        "# !wget https://huggingface.co/datasets/C0uchP0tat0/courses_obrazoval_ru/resolve/main/reviews.csv -O reviews.csv"
      ],
      "metadata": {
        "id": "VNPjBRv-jNrG"
      },
      "execution_count": 23,
      "outputs": []
    },
    {
      "cell_type": "code",
      "source": [
        "import pandas as pd\n",
        "import numpy as np\n",
        "from gensim.models import Word2Vec\n",
        "from sklearn.linear_model import SGDClassifier\n",
        "from sklearn.pipeline import Pipeline\n",
        "from sklearn.model_selection import train_test_split\n",
        "from sklearn.metrics import accuracy_score\n",
        "from sklearn.feature_extraction.text import TfidfVectorizer\n",
        "from sklearn.preprocessing import FunctionTransformer\n",
        "import pymorphy2\n",
        "import nltk\n",
        "from nltk.tokenize import word_tokenize\n",
        "from nltk.corpus import stopwords\n",
        "\n",
        "# Загрузка предварительно обученной модели word2vec\n",
        "model = Word2Vec.load(\"word2vec-obrazoval.ru-50\")\n",
        "\n",
        "# Загрузка данных\n",
        "data = pd.read_csv(\"reviews.csv\")\n",
        "\n",
        "# Предобработка текста\n",
        "def preprocess(text, stop_words, punctuation_marks, morph):\n",
        "    tokens = word_tokenize(text.lower())\n",
        "    preprocessed_text = []\n",
        "    for token in tokens:\n",
        "        if token not in punctuation_marks:\n",
        "            lemma = morph.parse(token)[0].normal_form\n",
        "            if lemma not in stop_words:\n",
        "                preprocessed_text.append(lemma)\n",
        "    return \" \".join(preprocessed_text)\n",
        "\n",
        "punctuation_marks = ['!', ',', '(', ')', ':', '-', '?', '.', '..', '...']\n",
        "stop_words = stopwords.words(\"russian\")\n",
        "morph = pymorphy2.MorphAnalyzer()\n",
        "\n",
        "try:\n",
        "    # для датасета СРАВНИ РУ https://huggingface.co/datasets/C0uchP0tat0/courses_sravni_ru\n",
        "    data['content'] = data['text'].apply(lambda x: preprocess(x, stop_words, punctuation_marks, morph))\n",
        "except KeyError:\n",
        "    # для датасета ОБРАЗОВАЛ РУ https://huggingface.co/datasets/C0uchP0tat0/courses_obrazoval_ru\n",
        "    data['content'] = data['content'].apply(lambda x: preprocess(x, stop_words, punctuation_marks, morph))\n",
        "\n",
        "# Разделение на признаки и метки\n",
        "X = data['content']\n",
        "y = data['label']\n",
        "\n",
        "# Разделение на обучающий и тестовый наборы\n",
        "X_train, X_test, y_train, y_test = train_test_split(X, y, test_size=0.2, random_state=42)\n",
        "\n",
        "# Функция для преобразования текста в векторы с использованием word2vec\n",
        "def word_averaging(words, model):\n",
        "    all_words, mean = set(), []\n",
        "\n",
        "    for word in words:\n",
        "        if word in model.wv.key_to_index:\n",
        "            mean.append(model.wv.get_vector(word))\n",
        "            all_words.add(model.wv.key_to_index[word])\n",
        "\n",
        "    if not mean:\n",
        "        return np.zeros(model.vector_size,)\n",
        "\n",
        "    mean = np.array(mean).mean(axis=0)\n",
        "    return mean\n",
        "\n",
        "def word_vectorizer(X, model):\n",
        "    return np.array([word_averaging(words.split(), model) for words in X])\n",
        "\n",
        "# Создание pipeline\n",
        "w2v_pipeline = Pipeline([\n",
        "    (\"word_vectorizer\", FunctionTransformer(word_vectorizer, kw_args={\"model\": model})),\n",
        "    (\"clf\", SGDClassifier(loss='log', alpha=0.0001, penalty='l2', max_iter=1000, tol=1e-3))\n",
        "])\n",
        "\n",
        "# Обучение модели и оценка ее точности\n",
        "w2v_pipeline.fit(X_train, y_train)\n",
        "y_pred = w2v_pipeline.predict(X_test)\n",
        "accuracy = accuracy_score(y_test, y_pred)\n",
        "print(\"Accuracy:\", accuracy)\n"
      ],
      "metadata": {
        "id": "KYIBdV8MFz1c",
        "colab": {
          "base_uri": "https://localhost:8080/"
        },
        "outputId": "9c2666da-b72e-4721-c956-5b9c9c5cf99e"
      },
      "execution_count": 24,
      "outputs": [
        {
          "output_type": "stream",
          "name": "stderr",
          "text": [
            "/usr/local/lib/python3.10/dist-packages/sklearn/linear_model/_stochastic_gradient.py:163: FutureWarning: The loss 'log' was deprecated in v1.1 and will be removed in version 1.3. Use `loss='log_loss'` which is equivalent.\n",
            "  warnings.warn(\n"
          ]
        },
        {
          "output_type": "stream",
          "name": "stdout",
          "text": [
            "Accuracy: 0.9388690779419256\n"
          ]
        }
      ]
    },
    {
      "cell_type": "code",
      "source": [
        "import joblib\n",
        "\n",
        "# Сохранение модели\n",
        "joblib.dump(w2v_pipeline, 'word2vec_pipeline.pkl')"
      ],
      "metadata": {
        "colab": {
          "base_uri": "https://localhost:8080/"
        },
        "id": "Kx95wGzsJM5m",
        "outputId": "ffc59331-23d6-4d69-8937-ab2c42c8ab2b"
      },
      "execution_count": 25,
      "outputs": [
        {
          "output_type": "execute_result",
          "data": {
            "text/plain": [
              "['word2vec_pipeline.pkl']"
            ]
          },
          "metadata": {},
          "execution_count": 25
        }
      ]
    },
    {
      "cell_type": "code",
      "source": [
        "import joblib\n",
        "\n",
        "# Загрузка модели\n",
        "loaded_model = joblib.load('word2vec_pipeline.pkl')\n",
        "\n",
        "# Предположим, у вас есть данные X_test\n",
        "# Вы должны загрузить X_test перед использованием модели для предсказания\n",
        "\n",
        "# Применение загруженной модели\n",
        "y_pred = loaded_model.predict(X_test)\n",
        "accuracy = accuracy_score(y_test, y_pred)\n",
        "print(\"Accuracy:\", accuracy)\n"
      ],
      "metadata": {
        "colab": {
          "base_uri": "https://localhost:8080/"
        },
        "id": "mXZLl_OVUei5",
        "outputId": "05bc6fee-cecc-4311-c066-fc01c5233e1a"
      },
      "execution_count": 26,
      "outputs": [
        {
          "output_type": "stream",
          "name": "stdout",
          "text": [
            "Accuracy: 0.9388690779419256\n"
          ]
        }
      ]
    },
    {
      "cell_type": "code",
      "source": [
        "mappingId2Label = {0:'negative', 1:'positive'}"
      ],
      "metadata": {
        "id": "SGrcfecfKzBH"
      },
      "execution_count": 27,
      "outputs": []
    },
    {
      "cell_type": "code",
      "source": [
        "test_data = pd.DataFrame({\n",
        "    \"text\": [\n",
        "        \"Этот курс был удивительным! Я много узнал и преподаватель был очень компетентным.\",\n",
        "        \"Содержание курса было несвязанным и плохо объяснено.\",\n",
        "        \"Я ничего не понял в этом курсе. Потеря времени и денег.\",\n",
        "        \"Материал курса был хорошо структурирован и легко воспринимался.\",\n",
        "        \"Преподаватель казался неинтересным и не предоставлял много руководства.\",\n",
        "        \"Отличный курс! Очень рекомендую его всем, кто хочет учиться.\",\n",
        "        \"Курс был запутанным и не соответствовал моим ожиданиям.\",\n",
        "        \"Я нашел этот курс очень информативным и полезным для своей карьеры.\",\n",
        "        \"Курс был полным временем. Я ничего нового не узнал.\",\n",
        "        \"Преподаватель был заинтересованным и сделал материал легким для понимания.\",\n",
        "        \"Каки каки каки каки\"\n",
        "    ],\n",
        "    \"label\": [1, 0, 0, 1, 0, 1, 0, 1, 0, 1, 0]\n",
        "})"
      ],
      "metadata": {
        "id": "L1Yf8RMPKzc5"
      },
      "execution_count": 28,
      "outputs": []
    },
    {
      "cell_type": "code",
      "source": [
        "for r in zip(test_data[\"text\"], test_data[\"label\"]):\n",
        "    preprocessed_text = preprocess(r[0], stop_words, punctuation_marks, morph)\n",
        "    predicted_label = w2v_pipeline.predict([preprocessed_text])[0]\n",
        "    print(\"Predicted label:\", predicted_label, mappingId2Label[r[1]])"
      ],
      "metadata": {
        "colab": {
          "base_uri": "https://localhost:8080/"
        },
        "id": "-WoVXYB2IS_d",
        "outputId": "bc700fb5-0012-405c-aa2f-fc2d58e12cc3"
      },
      "execution_count": 29,
      "outputs": [
        {
          "output_type": "stream",
          "name": "stdout",
          "text": [
            "Predicted label: positive positive\n",
            "Predicted label: negative negative\n",
            "Predicted label: negative negative\n",
            "Predicted label: positive positive\n",
            "Predicted label: positive negative\n",
            "Predicted label: positive positive\n",
            "Predicted label: negative negative\n",
            "Predicted label: positive positive\n",
            "Predicted label: positive negative\n",
            "Predicted label: positive positive\n",
            "Predicted label: negative negative\n"
          ]
        }
      ]
    },
    {
      "cell_type": "code",
      "source": [
        "from sklearn.metrics import f1_score\n",
        "\n",
        "# Предобработка текста\n",
        "test_data['content'] = test_data['text'].apply(lambda x: preprocess(x, stop_words, punctuation_marks, morph))\n",
        "\n",
        "# Предсказание меток для тестовых данных\n",
        "y_true = test_data['label']\n",
        "y_pred = w2v_pipeline.predict(test_data['content'])\n",
        "\n",
        "# Преобразование предсказанных меток в числовой формат\n",
        "y_pred = [1 if label == 'positive' else 0 for label in y_pred]\n",
        "\n",
        "# Оценка F1-меры\n",
        "f1 = f1_score(y_true, y_pred)\n",
        "print(\"F1-мера на тестовых данных:\", f1)"
      ],
      "metadata": {
        "colab": {
          "base_uri": "https://localhost:8080/"
        },
        "id": "6x-9zrH9UGkZ",
        "outputId": "7289b3f9-8f38-4e25-a072-ad147d3dd055"
      },
      "execution_count": 30,
      "outputs": [
        {
          "output_type": "stream",
          "name": "stdout",
          "text": [
            "F1-мера на тестовых данных: 0.8333333333333333\n"
          ]
        }
      ]
    },
    {
      "cell_type": "code",
      "source": [
        "import pandas as pd\n",
        "\n",
        "# Замените 'data.csv' на путь к вашему файлу CSV\n",
        "df = pd.read_csv('train_data.csv')\n",
        "\n",
        "concatenated_questions_list = []\n",
        "rel_list = []\n",
        "\n",
        "# Проходим по каждой строке и конкатенируем значения в столбцах question_1 до question_5\n",
        "for index, row in df.iterrows():\n",
        "    concatenated_questions = ' '.join(row[['question_1', 'question_2', 'question_3', 'question_4', 'question_5']])\n",
        "    concatenated_questions_list.append(concatenated_questions)\n",
        "    # print(concatenated_questions)\n",
        "\n",
        "# Проходим по каждой строке и конкатенируем значения в столбцах question_1 до question_5\n",
        "for index, row in df.iterrows():\n",
        "    # rel = ''.join(str(row['is_positive']))\n",
        "    rel = ''.join(str(row['is_relevant']))\n",
        "    rel_list.append(rel)\n",
        "print(concatenated_questions_list)\n",
        "print(rel_list)\n"
      ],
      "metadata": {
        "colab": {
          "base_uri": "https://localhost:8080/"
        },
        "id": "NvUWsn3CkBEz",
        "outputId": "2b2cf9d9-fc4c-487f-8b0b-1a19064687e1"
      },
      "execution_count": 31,
      "outputs": [
        {
          "output_type": "stream",
          "name": "stdout",
          "text": [
            "['Основы программирования Интерактивный подход к изучению основ C# был очень увлекательным. Нет. Увеличить количество практических заданий для лучшего закрепления материала. Введение в разработку на .NET Framework.', 'Основы программирования Подробное объяснение логических операторов в JavaScript помогло мне лучше понять условные конструкции. Нет. Предоставить ещё больше практических задач после теории. Детальное изучение асинхронного программирования в JavaScript.', 'Основы программирования Введение в программирование на Python было простым и интуитивно понятным, особенно для начинающих. Нет. Улучшить качество видеоматериалов, иногда было трудно разглядеть код. Библиотеки Python для анализа данных и машинного обучения.', 'Основы программирования Понятное изложение основных понятий, хорошая структура материала. Да, циклы for и while были объяснены слишком быстро. Добавить видеоматериалы для самостоятельного изучения. Функциональное программирование.', 'Основы программирования Кларность и структура материала по основам JavaScript, особенно затронутые темы циклов и функций. Нет. Ввести больше примеров на работу с массивами и объектами. Работа с асинхронным кодом в JavaScript.', 'Основы программирования Простота объяснений основ Python, особенно циклов и условий, сделала занятие очень доступным. Нет. Предложить больше дополнительных материалов для самостоятельного изучения после вебинара. Подробнее о работе с API в Python.', 'Основы программирования Лектор имел забавную прическу, что отвлекало, но было весело. Да, особенно когда кот лектора прыгнул на стол. Может, начать с курса стрижки для лекторов? И убрать котов из кадра. Как сделать так, чтобы коты не мешали учёбе.', 'Продвинутые техники программирования Детальный разбор объектно-ориентированного программирования. Нет. Ввести дополнительные Q&A сессии после вебинара. Принципы SOLID в программировании.', 'Продвинутые техники программирования Разбор использования шаблонов проектирования в Java был очень подробным и полезным. Да, тема абстрактных фабрик была сложной для понимания. Организовать вебинары с более подробными примерами реализации каждого шаблона. Применение шаблонов проектирования в реальных проектах.', 'Продвинутые техники программирования Изучение сложных структур данных в Python, таких как деревья и графы, было особенно интересным. Да, работа с графами и их алгоритмами. Устроить отдельные вебинары по каждому типу структуры данных с подробными примерами. Глубокое изучение алгоритмов поиска пути и оптимизации.', 'Продвинутые техники программирования Обширное покрытие темы REST API и как они интегрируются с современными веб-приложениями было очень полезно. Да, концепции OAuth 2.0 были сложными для понимания. Больше интерактивных примеров и пошаговых руководств по реализации API. Подробности реализации микросервисов на Spring Boot и Docker.', 'Продвинутые техники программирования Глубина разбора модульного тестирования и TDD была полезной для понимания процессов разработки. Да, использование моков и стабов в тестах. Предоставить дополнительные ресурсы для изучения инструментов мокирования. Интеграционное тестирование и CI/CD пайплайны.', 'Основы программирования Ясное и чёткое объяснение базовых структур данных. Нет. Включить больше реальных примеров использования данных структур. Принципы проектирования алгоритмов.', 'Продвинутые техники программирования На вебинаре раздали виртуальные печеньки, очень мило. Нет, я был слишком занят едой. В следующий раз добавить виртуальный чай. Как запекать печенья.', 'Продвинутые техники программирования Подробный разбор применения шаблонов проектирования в реальных проектах был очень познавательным. Сложности с пониманием абстрактной фабрики. Больше практических примеров для каждого шаблона проектирования. Применение шаблонов проектирования в микросервисах.', 'Новейшие тенденции в IT Дискуссия о будущем облачных вычислений и их влиянии на ИТ-индустрию была очень проницательной. Нет. Включить больше кейс-стади от компаний, успешно интегрировавших облачные решения. Стратегии миграции предприятий в облако.', 'Новейшие тенденции в IT Обсуждение актуальных IT-трендов 2024 года. Да, тема искусственного интеллекта требует более глубокого погружения. Больше времени на сложные темы. Глубокое изучение нейронных сетей.', 'Новейшие тенденции в IT Обсуждение тенденций в разработке мобильных приложений и их влияние на рынок было весьма познавательным. Нет. Включить больше примеров успешных мобильных приложений и их стратегий монетизации. Разработка кроссплатформенных мобильных приложений.', 'Новейшие тенденции в IT Обзор последних достижений в области квантовых вычислений был впечатляющим. Да, сложность темы требует более глубокого погружения. Организовать серию вебинаров по квантовым технологиям с участием экспертов. Квантовая криптография и её практическое применение.', 'Новейшие тенденции в IT Вебинар о технологиях блокчейна и их влиянии на финансовую отрасль был глубоко информативным. Да, концепции смарт-контрактов были сложными для понимания. Ввести вебинар, полностью посвященный смарт-контрактам, с практическими примерами. Разработка и тестирование смарт-контрактов на разных платформах.', 'Новейшие тенденции в IT Обсуждение влияния облачных технологий на современные IT-структуры было особенно актуальным. Да, различия между IaaS, PaaS, и SaaS. Устроить подробный вебинар о каждой облачной модели в отдельности. Безопасность данных в облаке и лучшие практики.', 'ChatGPT для обучения как правильно пользоваться GPT чатом, для получения более развернутого ответа не было пока нет предложений затрудняюсь ответить', 'Управление персоналом Все понравилось Календарь составили так, что совместилось два обучения в одно и тоже время, что не совсем удобно Все хорошо Создания чата со студентами', 'ChatGPT для обучения Gpt чат Информация предоставлена в доступном виде Все хорошо Другие виды ИИ', 'ChatGPT для обучения Промт-Инжиниринг, это уже даёт какое-то понимание правильной формулировки вопросов для ИИ. Нет Не увидел минусов в вебинаре, очень понравился. Промт-Инжиниринг', 'ChatGPT для обучения новая информация, полезно нет не было таких моментов мне все понравилось пока затрудняюсь ответить', 'ChatGPT для обучения Светлые и темные стороны ChatGPT Не знание определений Все идеально темы по дизайну интерьера', 'Новейшие тенденции в IT Обсуждение было настолько скучным, что я научился жонглировать во время вебинара. Да, пытался понять жонглирование тремя шарами. Возможно, включить более динамичную музыку во время обсуждений. Жонглирование для начинающих.', 'Продвинутые техники программирования Глубокий анализ шаблонов проектирования на конкретных примерах. Сложно было понять шаблон Singleton. Подробнее разбирать каждый шаблон на примерах. Тестирование ПО и фреймворки для автоматизации.', 'Основы программирования Объяснение циклов и массивов в JavaScript было очень доступным и понятным. Нет. Добавить видео с разбором сложных примеров кода после вебинара. Подробнее о Node.js и серверном JavaScript.', 'Основы программирования Примеры кода были очень полезными для понимания. Нет. Предоставить дополнительные ресурсы для углубленного изучения. Базы данных и SQL.', 'Основы программирования Занятие по основам HTML и CSS было чрезвычайно полезным для понимания структуры веб-страниц. Нет. Предложить курс по продвинутым техникам CSS, включая Flexbox и Grid. Погружение в JavaScript для интерактивности веб-страниц.', 'Основы программирования Подробный разбор циклов и условных операторов в JavaScript помог укрепить мои знания. Нет. Ввести более сложные задачи для практики после вебинара. Асинхронное программирование в JavaScript и его применение в реальных проектах.', 'Основы программирования Отличное объяснение переменных, типов данных и структур в Python. Нет. Предложить дополнительные учебные материалы для глубокого изучения каждой темы. Глубокое изучение функционального программирования.', 'Основы программирования Дискуссия о том, как писать код одной рукой, была неожиданно увлекательной. Нет, это было странно интересно. Может быть, курс по печати ногами для разнообразия? Как писать код левой пяткой.', 'Основы программирования Отличное введение в основы SQL, особенно работа с JOIN-операциями. Да, сложности с пониманием внешних и внутренних соединений. Предложить более подробные учебные ресурсы и примеры запросов для практики. Оптимизация запросов SQL и анализ производительности баз данных.', 'Продвинутые техники программирования Сессия по оптимизации производительности веб-приложений дала мне новые инструменты для работы. Да, концепты кэширования данных были сложными. Углубить тему кэширования и состояния сессии в отдельном вебинаре. Работа с большими данными и их хранение.', 'Продвинутые техники программирования Затронута тема безопасности приложений, что крайне важно. Сложности с пониманием криптографических методов. Добавить примеры на кейсах из жизни. Кибербезопасность.', 'Основы программирования Отличное объяснение темы циклов и условий, всё стало на свои места. Да, сложно было понять тему рекурсии. Хотелось бы больше практических заданий по каждой теме. Глубже изучить тему работы с базами данных.', 'Продвинутые техники программирования Разбор примеров рефакторинга кода был очень практичным и полезным для понимания, как улучшить существующий код. Некоторые сложные примеры рефакторинга. Углубить материал с дополнительными кейс-стади из реальных проектов. Методы оптимизации производительности приложений.', 'Продвинутые техники программирования Очень ценно было изучить интеграцию API в большие системы, использование RESTful и GraphQL. Да, работа с GraphQL была сложнее, чем ожидалось. Провести серию практических вебинаров, специально посвященных GraphQL. Безопасность API, управление доступом и ограничения скорости запросов.', 'Новейшие тенденции в IT Интересное обсуждение применения искусственного интеллекта в нетехнических отраслях. Да, были трудности с пониманием нейросетей. Уделить больше времени основам нейросетей перед их применением. Машинное обучение и его применение в реальных условиях.', 'Продвинутые техники программирования Глубокое погружение в архитектуру REST и SOAP интерфейсов было крайне полезным для моих проектов. Нет. Организовать практические лаборатории по созданию и тестированию API. Безопасность API и использование OAuth 2.0.', 'Продвинутые техники программирования Глубокий анализ принципов SOLID и их применение в объектно-ориентированном проектировании был великолепен. Да, примеры на C# были запутанными. Организовать дополнительные сессии по практическому применению SOLID в различных языках программирования. Глубокое изучение паттернов проектирования и рефакторинга существующего кода.', 'Продвинутые техники программирования Презентация была настолько монотонной, что я научился рисовать слонов. Да, как правильно рисовать уши слона. Пожалуй, стоит добавить курс по рисованию к вебинарам, чтобы сохранить внимание слушателей. Рисование слонов в Photoshop.', 'Новейшие тенденции в IT Лекция о влиянии ИИ на автоматизацию рабочих процессов была весьма актуальной. Нет. Обсудить более подробно кейсы применения ИИ в разных отраслях. Применение ИИ для оптимизации клиентского сервиса.', 'Новейшие тенденции в IT Дискуссия о будущем искусственного интеллекта и его этических аспектах была особенно привлекательной. Да, темы моральных дилемм ИИ требовали более глубокого понимания. Устроить дебаты или панельную дискуссию с экспертами по этике ИИ, чтобы обсудить эти вопросы подробнее. Роль ИИ в управлении данными и приватности.', 'Новейшие тенденции в IT Обсуждение машинного обучения было особенно интересным. Да, темы, связанные с Big Data, остались не до конца ясны. Углубленный разбор каждой темы. Технологии Big Data.', 'Новейшие тенденции в IT Введение в искусственный интеллект и его влияние на робототехнику было захватывающим и познавательным. Да, темы построения нейросетей требовали более детального объяснения. Провести специализированные вебинары по машинному обучению и нейросетям, с практическими занятиями на реальных данных. Разработка и применение нейросетей в индустрии развлечений и медиа.', 'Новейшие тенденции в IT Доклад о последних инновациях в области искусственного интеллекта и машинного обучения был вдохновляющим. Да, сложности с пониманием концепций глубокого обучения. Провести серию вебинаров, посвященных только машинному обучению, с кейс-стади и примерами из практики. Применение ИИ в реальных бизнес-задачах.', 'Новейшие тенденции в IT Лектор использовал так много жаргонных слов, что я составил словарь. Да, пытался понять, что такое \"блокчейн\". Ввести словарь на каждом вебинаре, чтобы можно было следить за разговором. Разработка собственного жаргона для внутреннего использования.', 'Новейшие тенденции в IT Интерактивная сессия о применении ИИ в финансовом секторе была исчерпывающей и инновационной. Да, спецификации алгоритмов машинного обучения. Организовать более детальные практические занятия по настройке ИИ. Этические аспекты использования ИИ в финансах.', 'Основы программирования Отличное введение в язык программирования Java, особенно раздел про исключения. Нет. Добавить больше задач на практику после каждой темы. Глубокое изучение многопоточности в Java.', 'Основы программирования Ясное объяснение функций и методов в Python помогло мне лучше понять объектно-ориентированное программирование. Нет. Разработать интерактивные лабораторные работы для лучшего усвоения материала. Глубокое изучение Python для научных вычислений.', 'Знакомство с языком Python В теме понравилось, то что обсуждается распространенный среди аналитиков инструмент - Colab Да такие моменты были. Не были раскрыты следующие темы:1. Что такое Колаб? 2. Описание интерфейса и правил работы с Колаб. 3. Для чего он нужен. 4. Функции Колаб. 5. Библиотеки Колаб. 6. Как открыть Колаб в Вижуал Студио. 7. Как установить модули для открытия Колаб в Вижуал Студио. Это первое что пришло на ум. Кстати не зря вам прислали ссылку на урок. Под уроком есть много комментариев недовольных пользователей. Рассказать о том о чем я рассказал в предыдущем вопросе: 1. Что такое Колаб? 2. Описание интерфейса и правил работы с Колаб. 3. Для чего он нужен. 4. Функции Колаб. 5. Библиотеки Колаб. 6. Как открыть Колаб в Вижуал Студио. 7. Как установить модули для открытия Колаб в Вижуал Студио. Библиотеки Колаб', 'Знакомство с языком Python Материал доступен Я не понимаю, зачем мне python Я учуст на Frontend разработчика, зачем мне питон? Дайте мне JS Хочу учить JS', 'Основы программирования Объяснения понятий переменных, типов данных и операторов в Java были ясными и тщательными. Нет. Добавить больше упражнений на практическое применение изученных концепций. Подробное изучение Java для Android-разработки.', 'Основы программирования Ясное и прямолинейное объяснение условных операторов и циклов в C++. Нет. Включить больше комплексных задач для практических занятий. Разработка игр на C++.', 'Основы программирования Подробный разбор процессов компиляции и интерпретации в различных языках программирования был полезен. Да, детали JIT компиляции в Java. Предложить дополнительные материалы для самостоятельного изучения и видео о внутреннем устройстве компиляторов. Подробнее о механизмах управления памятью в современных языках.', 'Основы программирования Легкость доступа к материалам и их понятность. Да, темы алгоритмов требуют больше времени на разбор. Увеличить продолжительность вебинаров. Алгоритмы и структуры данных.', 'Основы программирования Чипи чипи лувиви Ламалама Котик танцует как преподователь Как научить котика танцевать?', 'Основы программирования Лекция о базах данных SQL была очень информативной, особенно раздел о связях и нормализации. Нет. Улучшить визуальные материалы, добавить больше диаграмм и примеров из реальной жизни. Глубокое изучение NoSQL баз данных и их использование в больших данных.', 'Основы программирования Обсуждение ошибок кода было таким скучным, что я составил список фильмов к просмотру. Да, каждый раз, когда слово \"ошибка\" упоминалось. Может быть, провести кинопоказ вместо следующего вебинара? Фильмы, которые каждый программист должен видеть.', 'Основы программирования Майкнафт вспомнили, прослезился Добавьте Херобрина Херобрииин МАМААА', 'Продвинутые техники программирования Вводная часть о машинном обучении была очень информативной и понятной. Нет, материал был представлен доступно. Хотелось бы уделить больше времени вопросам безопасности при программировании. Технологии блокчейн и их применение в программировании.', 'Продвинутые техники программирования Введение в микросервисы было крайне полезным для понимания современных архитектурных подходов. Да, раздел о контейнеризации был сложным. Провести дополнительный вебинар по Docker и Kubernetes. Подробности о развертывании приложений в облаке.', 'Продвинутые техники программирования Вебинар по агил-методологиям и их применению в проектном управлении был чрезвычайно полезен. Да, разбор Scrum и Kanban мог быть более детализированным. Провести отдельные сессии по каждой агил-методологии с практическими примерами их использования. Адаптация агил-методологий в крупных организациях.', 'Продвинутые техники программирования Изучение техник отладки и профилирования приложений на Java было особенно полезным для улучшения производительности. Нет. Организовать воркшопы, где участники могут применять эти техники на практике под руководством опытных разработчиков. Углубленное изучение инструментов профилирования и отладки.', 'Продвинутые техники программирования Хорошее объяснение принципов проектирования ПО. Сложности с примерами рефакторинга. Добавить рабочие листы для отработки материала. Принципы проектирования интерфейсов.', 'Продвинутые техники программирования Разбор использования Docker и Kubernetes для развертывания приложений дал мне ценные знания для работы. Сложности с настройкой Kubernetes. Провести дополнительные сессии, посвященные только Kubernetes, с демонстрацией живого развертывания. Подробное изучение микросервисной архитектуры.', 'Продвинутые техники программирования Сессия по оптимизации SQL запросов была чрезвычайно полезна для улучшения производительности баз данных. Нет. Предоставить доступ к онлайн тренажеру для оттачивания навыков написания и оптимизации SQL запросов. Глубокое понимание индексов и их влияние на производительность.', 'Новейшие тенденции в IT Презентация о развитии кибербезопасности и новых методах защиты информации была крайне информативной. Нет. Предложить серию вебинаров, посвященных подробному разбору инструментов защиты данных. Новые технологии в области защиты персональных данных.', 'Продвинутые техники программирования Сессия по безопасности веб-приложений была не только образовательной, но и очень актуальной. Да, детали XSS и CSRF атак были сложными для понимания. Разработать серию вебинаров, посвященных только кибербезопасности, с практическими упражнениями и тестами. Продвинутые методы защиты данных и инфраструктуры.', 'Новейшие тенденции в IT Освещение прогресса в технологии блокчейн и её применения в различных секторах экономики было проницательным. Да, объяснения функционирования сетей блокчейн. Подробнее разбирать техническую сторону блокчейн технологий на примерах успешных проектов. Разработка на базе Ethereum, включая создание смарт-контрактов.', 'Новейшие тенденции в IT Обсуждение влияния квантовых компьютеров на будущее криптографии было захватывающим. Сложности с пониманием квантовой физики. Обеспечить базовый вводный курс по квантовой механике перед этой темой. Квантовое программирование и его будущее.', 'Новейшие тенденции в IT Презентация о влиянии блокчейн технологий на безопасность данных была крайне просветляющей. Да, концепты шифрования в блокчейне. Организовать тематический вебинар о криптографии, используемой в блокчейне. Разработка смарт-контрактов и их безопасность.', 'Новейшие тенденции в IT Введение в технологии распределенных систем и их применение в разных отраслях было захватывающим. Да, концепции консенсуса в блокчейне были трудными для понимания. Организовать технические воркшопы по каждой теме вебинара для глубокого понимания. Распределенные вычисления и их применение в больших данных.', 'Основы программирования Изучение основных принципов создания пользовательских интерфейсов на React было практичным и актуальным. Да, сложности с Redux для управления состоянием. Устроить дополнительные вебинары по Redux и контексту React для глубокого понимания управления состоянием. Разработка сложных интерактивных веб-приложений на React.', 'Основы программирования Ильнар Шафигуллин большой молодец нет Чаще ставить преподователя на вебинары Больше примеров с уточкой', 'Новейшие тенденции в IT Обсуждение влияния больших данных на современный маркетинг было очень проницательным. Да, вопросы обработки и анализа больших объемов данных были запутанными. Предложить курсы по аналитике данных с использованием специализированных инструментов, таких как Hadoop или Spark. Методы визуализации данных для бизнес-анализа.', 'Новейшие тенденции в IT Презентация новых технологий в визуализации данных. Некоторые примеры были слишком сложны для понимания. Менее загруженные слайды, больше практики. Интерактивная визуализация данных.', 'Основы программирования Обучение эффективным методам написания чистого кода в Python было крайне полезным для моих проектов. Нет. Устроить регулярные сессии код-ревью с опытными разработчиками для обмена опытом и лучшими практиками. Принципы разработки программного обеспечения по методологии Agile.', 'Основы программирования Понравилась харизма преподователя нет, не было Все прошло хорошо Про алгоритмы интересно и устройство процессора', 'Основы программирования Преподователь супер нет Преподователь вырулил все недостатки Не знаю, дальше по программе обучения двигаться', 'Основы программирования Занятие по алгоритмам сортировки было насыщено множеством практических примеров, что упростило понимание. Да, быстрая сортировка требовала более тщательного объяснения. Предложить дополнительные видеоуроки по каждому типу алгоритмов сортировки с подробными примерами кода. Продвинутые алгоритмы и структуры данных, такие как деревья и графы.', 'Основы программирования Разбор методов коллекций в Java был исключительно полезен для понимания работы со списками и множествами. Да, методы Stream API. Разработать детальный курс по работе с Stream API в Java, включая практические примеры. Глубокое изучение многопоточности в Java.', 'Основы программирования Интерактивный подход преподавателя позволил лучше усвоить информацию. Нет, все было понятно. Хотелось бы более подробные материалы для самостоятельного изучения. Больше практических задач на алгоритмы.', 'Основы программирования Чёткое объяснение парадигмы функционального программирования на примере Scala. Да, концепции чистых функций и неизменяемости были запутанными. Устраивать сессии вопросов и ответов после сложных тем. Функциональные языки программирования как Haskell.', 'Основы программирования Освежающий подход к изучению JavaScript, особенно в части ES6+ функционала, был весьма стимулирующим. Нет. Увеличить количество заданий на кодирование в реальном времени для лучшего усвоения материала. Современные фронтенд технологии, такие как React и Angular.', 'Основы программирования Задания для самостоятельной работы помогли закрепить материал. Да, темы объектно-ориентированного программирования были сложными. Больше времени на практические упражнения. Работа с исключениями в программировании.', 'Основы программирования Понравилось как он рассказывает Ха затруднения Удалите эти эфиры все и займитесь нормальным уже делом Не надо мне тему', 'Продвинутые техники программирования Глубина разбора кейсов из реальной практики. Некоторые технические термины не были объяснены. Больше времени уделять базовым концепциям для новичков. Искусственный интеллект в области здравоохранения.', 'Новейшие тенденции в IT Разнообразие примеров из реального мира помогло лучше понять применение теории. Да, разбор паттернов проектирования был слишком быстрым. Меньше теории, больше практики. Сделать вебинары более интерактивными с возможностью задавать вопросы в реальном времени. Изучение разработки виртуальной и дополненной реальности.', 'Новейшие тенденции в IT Преподователь Арбуз Преподователь красный внутри Арбуз хочу Арбуз я покушать я люблю, семки все я исплюю', 'Новейшие тенденции в IT Я не люблю все это Шли вы Платити мани мани студентам как мани поднять', 'Продвинутые техники программирования Разбор техник оптимизации кода на C++ был очень глубоким и практичным. Нет. Предложить материалы для дополнительного изучения сложных тем. Оптимизация и производительность программ на низком уровне.', 'Основы программирования Примеры реального использования паттернов проектирования в .NET были очень ценными. Нет. Больше времени на анализ кода в примерах, меньше теории. Паттерны проектирования для микросервисных архитектур.', 'Основы программирования Зазнался преподователь Напыщенный преподователь Уважение Вопрос к воспитанию преподователя', 'Основы программирования Преподователь раз такой умный , зачем за гроши работаешь? Унижение Уважать студентов и не хамить К преподователю', 'Новейшие тенденции в IT Очень понравилось изучение применения технологий виртуальной реальности в образовании. Да, тема разработки контента для VR была недостаточно подробна. Организовать практические занятия по созданию VR-контента. Разработка приложений для виртуальной реальности.', 'Новейшие тенденции в IT Очень подробный разбор сложных концепций. Сложности с пониманием асинхронного программирования. Нужно больше примеров из жизни. Разработка мобильных приложений.', 'Java api браузеров Понравилась тема Да, преподователь нес чушь и путался в своих же словах Поменяйте преподователя Хотел бы повторить тему Java коллекции', 'Java api браузеров Понравился методический вебинар Преподователь сошел с ума Я думаю с другим преподователем я получил бы больше знаний Хочу перепройти вебинар с другим преподователем']\n",
            "['1', '1', '1', '1', '1', '1', '0', '1', '1', '1', '1', '1', '1', '0', '1', '1', '1', '1', '1', '1', '1', '0', '1', '1', '1', '1', '1', '0', '1', '1', '1', '1', '1', '1', '0', '1', '1', '1', '1', '1', '1', '1', '1', '1', '0', '1', '1', '1', '1', '1', '0', '1', '1', '1', '1', '1', '1', '1', '1', '1', '0', '1', '0', '0', '1', '1', '1', '1', '1', '1', '1', '1', '1', '1', '1', '1', '1', '1', '1', '1', '1', '1', '1', '1', '1', '1', '1', '1', '1', '1', '0', '1', '1', '0', '0', '1', '1', '1', '1', '1', '1', '1', '1']\n"
          ]
        }
      ]
    },
    {
      "cell_type": "code",
      "source": [
        "from sklearn.metrics import f1_score\n",
        "\n",
        "# Предобработка текста\n",
        "# test_data_content_ = concatenated_questions_list.(lambda x: preprocess(x, stop_words, punctuation_marks, morph))\n",
        "test_data_content_ = list(map(lambda x: preprocess(x, stop_words, punctuation_marks, morph), concatenated_questions_list))\n",
        "print(test_data_content_)\n",
        "\n",
        "# Предсказание меток для тестовых данных\n",
        "y_true = [1 if label == '1' else 0 for label in rel_list]\n",
        "y_pred = w2v_pipeline.predict(test_data_content_)\n",
        "print(y_pred)\n",
        "\n",
        "# # Преобразование предсказанных меток в числовой формат\n",
        "y_pred = [1 if label == 'positive' else 0 for label in y_pred]\n",
        "\n",
        "# Оценка F1-меры\n",
        "f1 = f1_score(y_true, y_pred)\n",
        "print(\"F1-мера на тестовых данных:\", f1)"
      ],
      "metadata": {
        "colab": {
          "base_uri": "https://localhost:8080/"
        },
        "id": "kjLp0ai-kTql",
        "outputId": "04e39cca-7a8d-4f50-a6d2-930646c54e25"
      },
      "execution_count": 32,
      "outputs": [
        {
          "output_type": "stream",
          "name": "stdout",
          "text": [
            "['основа программирование интерактивный подход изучение основа c # очень увлекательный увеличить количество практический задание хороший закрепление материал введение разработка .net framework', 'основа программирование подробный объяснение логический оператор javascript помочь хороший понять условный конструкция предоставить ещё большой практический задача теория детальный изучение асинхронный программирование javascript', 'основа программирование введение программирование python простой интуитивно понятный особенно начинающий улучшить качество видеоматериал трудно разглядеть код библиотека python анализ данные машинный обучение', 'основа программирование понятный изложение основный понятие хороший структура материал цикл for while объяснить слишком быстро добавить видеоматериал самостоятельный изучение функциональный программирование', 'основа программирование кларность структура материал основа javascript особенно затронуть тема цикл функция ввести большой пример работа массив объект работа асинхронный код javascript', 'основа программирование простота объяснение основа python особенно цикл условие сделать занятие очень доступный предложить большой дополнительный материал самостоятельный изучение вебинар подробный работа api python', 'основа программирование лектор иметь забавный причёска отвлекать весело особенно кот лектор прыгнуть стол мочь начать курс стрижка лектор убрать кот кадр сделать кот мешать учёба', 'продвинуть техника программирование детальный разбор объектно-ориентированный программирование ввести дополнительный q & a сессия вебинар принцип solid программирование', 'продвинуть техника программирование разбор использование шаблон проектирование java очень подробный полезный тема абстрактный фабрика сложный понимание организовать вебинар подробный пример реализация каждый шаблон применение шаблон проектирование реальный проект', 'продвинуть техника программирование изучение сложный структура данные python дерево граф особенно интересный работа граф алгоритм устроить отдельный вебинар каждый тип структура данные подробный пример глубокий изучение алгоритм поиск путь оптимизация', 'продвинуть техника программирование обширный покрытие тема rest api интегрироваться современный веб-приложение очень полезно концепция oauth 2.0 сложный понимание большой интерактивный пример пошаговый руководство реализация api подробность реализация микросервис spring boot docker', 'продвинуть техника программирование глубина разбор модульный тестирование tdd полезный понимание процесс разработка использование мокова стабов тест предоставить дополнительный ресурс изучение инструмент мокирование интеграционный тестирование ci/cd пайплайна', 'основа программирование ясный чёткий объяснение базовый структура данные включить большой реальный пример использование данные структура принцип проектирование алгоритм', 'продвинуть техника программирование вебинар раздать виртуальный печенька очень мило слишком занятый еда следующий добавить виртуальный чай запекать печение', 'продвинуть техника программирование подробный разбор применение шаблон проектирование реальный проект очень познавательный сложность понимание абстрактный фабрика большой практический пример каждый шаблон проектирование применение шаблон проектирование микросервис', 'новый тенденция it дискуссия будущее облачный вычисление влияние ит-индустрия очень проницательный включить большой кейс-стади компания успешно интегрировать облачный решение стратегия миграция предприятие облако', 'новый тенденция it обсуждение актуальный it-тренд 2024 год тема искусственный интеллект требовать глубокий погружение большой время сложный тема глубокий изучение нейронный сеть', 'новый тенденция it обсуждение тенденция разработка мобильный приложение влияние рынок весьма познавательный включить большой пример успешный мобильный приложение стратегия монетизация разработка кроссплатформенный мобильный приложение', 'новый тенденция it обзор последний достижение область квантовый вычисление впечатляющий сложность тема требовать глубокий погружение организовать серия вебинар квантовый технология участие эксперт квантовый криптография её практический применение', 'новый тенденция it вебинар технология блокчейн влияние финансовый отрасль глубоко информативный концепция смарта-контракт сложный понимание ввести вебинар полностью посвятить смарт-контракт практический пример разработка тестирование смарта-контракт разный платформа', 'новый тенденция it обсуждение влияние облачный технология современный it-структура особенно актуальный различие iaas paas saas устроить подробный вебинар каждый облачный модель отдельность безопасность данные облако хороший практика', 'chatgpt обучение правильно пользоваться gpt чат получение развернуть ответ пока предложение затрудняться ответить', 'управление персонал всё понравиться календарь составить совместиться обучение время удобно всё создание чат студент', 'chatgpt обучение gpt чат информация предоставить доступный вид всё вид ия', 'chatgpt обучение промт-инжиниринг это давать какой-то понимание правильный формулировка вопрос ия увидеть минус вебинар очень понравиться промт-инжиниринг', 'chatgpt обучение новый информация полезно момент всё понравиться пока затрудняться ответить', 'chatgpt обучение светлый тёмный сторона chatgpt знание определение всё идеально тема дизайн интерьер', 'новый тенденция it обсуждение настолько скучный научиться жонглировать время вебинар пытаться понять жонглирование шар возможно включить динамичный музыка время обсуждение жонглирование начинающий', 'продвинуть техника программирование глубокий анализ шаблон проектирование конкретный пример сложно понять шаблон singleton подробный разбирать каждый шаблон пример тестирование фреймворк автоматизация', 'основа программирование объяснение цикл массив javascript очень доступный понятный добавить видео разбор сложный пример код вебинар подробный node.js серверный javascript', 'основа программирование пример код очень полезный понимание предоставить дополнительный ресурс углублённый изучение база данные sql', 'основа программирование занятие основа html css чрезвычайно полезный понимание структура веб-страница предложить курс продвинуть техника css включая flexbox grid погружение javascript интерактивность веб-страница', 'основа программирование подробный разбор цикл условный оператор javascript помочь укрепить знание ввести сложный задача практика вебинар асинхронный программирование javascript применение реальный проект', 'основа программирование отличный объяснение переменный тип данные структура python предложить дополнительный учебный материал глубокий изучение каждый тема глубокий изучение функциональный программирование', 'основа программирование дискуссия писать код рука неожиданно увлекательный это странно интересно мочь курс печать нога разнообразие писать код левый пятка', 'основа программирование отличный введение основа sql особенно работа join-операция сложность понимание внешний внутренний соединение предложить подробный учебный ресурс пример запрос практика оптимизация запрос sql анализ производительность база данные', 'продвинуть техника программирование сессия оптимизация производительность веб-приложение дать новый инструмент работа концепт кэширование данные сложный углубить тема кэширование состояние сессия отдельный вебинар работа больший данные хранение', 'продвинуть техника программирование затронуть тема безопасность приложение крайне важно сложность понимание криптографический метод добавить пример кейс жизнь кибербезопасность', 'основа программирование отличный объяснение тема цикл условие всё стать свой место сложно понять тема рекурсия хотеться большой практический задание каждый тема глубокий изучить тема работа база данные', 'продвинуть техника программирование разбор пример рефакторинг код очень практичный полезный понимание улучшить существующий код некоторый сложный пример рефакторинг углубить материал дополнительный кейс-стади реальный проект метод оптимизация производительность приложение', 'продвинуть техника программирование очень ценный изучить интеграция api больший система использование restful graphql работа graphql сложный ожидаться провести серия практический вебинар специально посвятить graphql безопасность api управление доступ ограничение скорость запрос', 'новый тенденция it интересный обсуждение применение искусственный интеллект нетехнический отрасль трудность понимание нейросеть уделить большой время основа нейросеть применение машинный обучение применение реальный условие', 'продвинуть техника программирование глубокий погружение архитектура rest soap интерфейс крайне полезный проект организовать практический лаборатория создание тестирование api безопасность api использование oauth 2.0', 'продвинуть техника программирование глубокий анализ принцип solid применение объектно-ориентированный проектирование великолепный пример c # запутать организовать дополнительный сессия практический применение solid различный язык программирование глубокий изучение паттерн проектирование рефакторинг существующий код', 'продвинуть техника программирование презентация настолько монотонный научиться рисовать слон правильно рисовать ухо слон пожалуй стоить добавить курс рисование вебинар сохранить внимание слушатель рисование слон photoshop', 'новый тенденция it лекция влияние ия автоматизация рабочий процесс весьма актуальный обсудить подробно кейс применение ия разный отрасль применение ия оптимизация клиентский сервис', 'новый тенденция it дискуссия будущее искусственный интеллект этический аспект особенно привлекательный тема моральный дилемма ия требовать глубокий понимание устроить дебаты панельный дискуссия эксперт этика ия обсудить вопрос подробный роль ия управление данные приватность', 'новый тенденция it обсуждение машинный обучение особенно интересный тема связанный big data остаться конец ясный углублённый разбор каждый тема технология big data', 'новый тенденция it введение искусственный интеллект влияние робототехника захватывать познавательный тема построение нейросеть требовать детальный объяснение провести специализировать вебинар машинный обучение нейросеть практический занятие реальный данные разработка применение нейросеть индустрия развлечение медиа', 'новый тенденция it доклад последний инновация область искусственный интеллект машинный обучение вдохновлять сложность понимание концепция глубокий обучение провести серия вебинар посвятить машинный обучение кейс-стади пример практика применение ия реальный бизнес-задача', \"новый тенденция it лектор использовать жаргонный слово составить словарь пытаться понять `` блокчейн '' ввести словарь каждый вебинар следить разговор разработка собственный жаргон внутренний использование\", 'новый тенденция it интерактивный сессия применение ия финансовый сектор исчерпывающий инновационный спецификация алгоритм машинный обучение организовать детальный практический занятие настройка ия этический аспект использование ия финансы', 'основа программирование отличный введение язык программирование java особенно раздел исключение добавить большой задача практика каждый тема глубокий изучение многопоточность java', 'основа программирование ясный объяснение функция метод python помочь хороший понять объектно-ориентированный программирование разработать интерактивный лабораторный работа хороший усвоение материал глубокий изучение python научный вычисление', 'знакомство язык python тема понравиться обсуждаться распространить среди аналитик инструмент colab момент раскрыть следующий темы:1. колабнуть 2. описание интерфейс правило работа колабнуть 3. нужный 4. функция колабнуть 5. библиотека колабнуть 6. открыть колабнуть вижуал студио 7. установить модуль открытие колабнуть вижуал студио это первый прийти ум кстати зря прислать ссылка урок урок комментарий недовольный пользователь рассказать рассказать предыдущий вопрос 1. колабнуть 2. описание интерфейс правило работа колабнуть 3. нужный 4. функция колабнуть 5. библиотека колабнуть 6. открыть колабнуть вижуал студио 7. установить модуль открытие колабнуть вижуал студио библиотека колабнуть', 'знакомство язык python материал доступный понимать python учуст frontend разработчик питон дать js хотеть учить js', 'основа программирование объяснение понятие переменный тип данные оператор java ясный тщательный добавить большой упражнение практический применение изучить концепция подробный изучение java android-разработка', 'основа программирование ясный прямолинейный объяснение условный оператор цикл c++ включить большой комплексный задача практический занятие разработка игра c++', 'основа программирование подробный разбор процесс компиляция интерпретация различный язык программирование полезный деталь jit компиляция java предложить дополнительный материал самостоятельный изучение видео внутренний устройство компилятор подробный механизм управление память современный язык', 'основа программирование лёгкость доступ материал понятность тема алгоритм требовать большой время разбор увеличить продолжительность вебинар алгоритм структура данные', 'основа программирование чипеть чипеть лувиви ламалам котик танцевать преподователь научить котик танцевать', 'основа программирование лекция база данные sql очень информативный особенно раздел связь нормализация улучшить визуальный материал добавить большой диаграмма пример реальный жизнь глубокий изучение nosql база данные использование больший данные', \"основа программирование обсуждение ошибка код скучный составить список фильм просмотр каждый слово `` ошибка '' упоминаться мочь провести кинопоказ вместо следующий вебинар фильм который каждый программист должный видеть\", 'основа программирование майкнафт вспомнить прослезиться добавить херобрина херобрииина мамааа', 'продвинуть техника программирование вводный часть машинный обучение очень информативный понятный материал представить доступно хотеться уделить большой время вопрос безопасность программирование технология блокчейн применение программирование', 'продвинуть техника программирование введение микросервис крайне полезный понимание современный архитектурный подход раздел контейнеризация сложный провести дополнительный вебинар docker kubernetes подробность развёртывание приложение облако', 'продвинуть техника программирование вебинар агил-методология применение проектный управление чрезвычайно полезный разбор scrum kanban мочь детализировать провести отдельный сессия каждый агил-методология практический пример использование адаптация агил-методология крупный организация', 'продвинуть техника программирование изучение техника отладка профилирование приложение java особенно полезный улучшение производительность организовать воркшоп участник мочь применять техника практика руководство опытный разработчик углублённый изучение инструмент профилирование отладка', 'продвинуть техника программирование хороший объяснение принцип проектирование сложность пример рефакторинг добавить рабочий лист отработка материал принцип проектирование интерфейс', 'продвинуть техника программирование разбор использование docker kubernetes развёртывание приложение дать ценный знание работа сложность настройка kubernetes провести дополнительный сессия посвятить kubernetes демонстрация живой развёртывание подробный изучение микросервисный архитектура', 'продвинуть техника программирование сессия оптимизация sql запрос чрезвычайно полезный улучшение производительность база данные предоставить доступ онлайн тренажёр оттачивание навык написание оптимизация sql запрос глубокий понимание индекс влияние производительность', 'новый тенденция it презентация развитие кибербезопасность новый метод защита информация крайне информативный предложить серия вебинар посвятить подробный разбор инструмент защита данные новый технология область защита персональный данные', 'продвинуть техника программирование сессия безопасность веб-приложение образовательный очень актуальный деталь xss csrf атака сложный понимание разработать серия вебинар посвятить кибербезопасность практический упражнение тест продвинуть метод защита данные инфраструктура', 'новый тенденция it освещение прогресс технология блокчейн её применение различный сектор экономика проницательный объяснение функционирование сеть блокчейн подробный разбирать технический сторона блокчейн технология пример успешный проект разработка база ethereum включая создание смарта-контракт', 'новый тенденция it обсуждение влияние квантовый компьютер будущее криптография захватывать сложность понимание квантовый физика обеспечить базовый вводный курс квантовый механика тема квантовый программирование будущее', 'новый тенденция it презентация влияние блокчейн технология безопасность данные крайне просветлять концепт шифрование блокчейн организовать тематический вебинар криптография использовать блокчейн разработка смарта-контракт безопасность', 'новый тенденция it введение технология распределённый система применение разный отрасль захватывать концепция консенсус блокчейн трудный понимание организовать технический воркшоп каждый тема вебинар глубокий понимание распределённый вычисление применение больший данные', 'основа программирование изучение основный принцип создание пользовательский интерфейс react практичный актуальный сложность redux управление состояние устроить дополнительный вебинар redux контекст react глубокий понимание управление состояние разработка сложный интерактивный веб-приложение react', 'основа программирование ильнара шафигуллин большой молодец частый ставить преподователь вебинар большой пример уточка', 'новый тенденция it обсуждение влияние больший данные современный маркетинг очень проницательный вопрос обработка анализ больший объём данные запутать предложить курс аналитик данные использование специализированный инструмент hadoop spark метод визуализация данные бизнес-анализ', 'новый тенденция it презентация новый технология визуализация данные некоторый пример слишком сложный понимание менее загрузить слайд большой практика интерактивный визуализация данные', 'основа программирование обучение эффективный метод написание чистый код python крайне полезный проект устроить регулярный сессия код-ревить опытный разработчик обмен опыт хороший практика принцип разработка программный обеспечение методология agile', 'основа программирование понравиться харизма преподователь всё пройти алгоритм интересно устройство процессор', 'основа программирование преподователь супер преподователь вырулить всё недостаток знать далёкий программа обучение двигаться', 'основа программирование занятие алгоритм сортировка насытить множество практический пример упростить понимание быстрый сортировка требовать тщательный объяснение предложить дополнительный видеоурок каждый тип алгоритм сортировка подробный пример код продвинуть алгоритм структура данные дерево граф', 'основа программирование разбор метод коллекция java исключительно полезный понимание работа список множество метод stream api разработать детальный курс работа stream api java включая практический пример глубокий изучение многопоточность java', 'основа программирование интерактивный подход преподаватель позволить хороший усвоить информация всё понятно хотеться подробный материал самостоятельный изучение большой практический задача алгоритм', 'основа программирование чёткий объяснение парадигма функциональный программирование пример scala концепция чистый функция неизменяемость запутать устраивать сессия вопрос ответ сложный функциональный язык программирование haskell', 'основа программирование освежать подход изучение javascript особенно часть es6+ функционал весьма стимулировать увеличить количество задание кодирование реальный время хороший усвоение материал современный фронтенд технология react angular', 'основа программирование задание самостоятельный работа помочь закрепить материал тема объектно-ориентированный программирование сложный большой время практический упражнение работа исключение программирование', 'основа программирование понравиться рассказывать ха затруднение удалить эфир всё заняться нормальный дело тема', 'продвинуть техника программирование глубина разбор кейс реальный практика некоторый технический термин объяснить большой время уделять базовый концепция новичок искусственный интеллект область здравоохранение', 'новый тенденция it разнообразие пример реальный мир помочь хороший понять применение теория разбор паттерн проектирование слишком быстрый маленький теория большой практика сделать вебинар интерактивный возможность задавать вопрос реальный время изучение разработка виртуальный дополнить реальность', 'новый тенденция it преподователь арбуз преподователь красный внутри арбуз хотеть арбуз покушать любить сёмкий всё исплевать', 'новый тенденция it любить всё это идти платити маня маня студент маня поднять', 'продвинуть техника программирование разбор техника оптимизация код c++ очень глубокий практичный предложить материал дополнительный изучение сложный оптимизация производительность программа низкий уровень', 'основа программирование пример реальный использование паттерн проектирование .net очень ценный большой время анализ код пример маленький теория паттерн проектирование микросервисный архитектура', 'основа программирование зазнаться преподователь напыщенный преподователь уважение вопрос воспитание преподователь', 'основа программирование преподователь умный грош работать унижение уважать студент хамить преподователь', 'новый тенденция it очень понравиться изучение применение технология виртуальный реальность образование тема разработка контент vr недостаточно подробный организовать практический занятие создание vr-контент разработка приложение виртуальный реальность', 'новый тенденция it очень подробный разбор сложный концепция сложность понимание асинхронный программирование нужно большой пример жизнь разработка мобильный приложение', 'java api браузер понравиться тема преподователь нести чушь путаться свой слово поменять преподователь хотеть повторить тема java коллекция', 'java api браузер понравиться методический вебинар преподователь сойти ум думать преподователь получить большой знание хотеть перепройти вебинар преподователь']\n",
            "['positive' 'positive' 'positive' 'positive' 'positive' 'positive'\n",
            " 'positive' 'positive' 'positive' 'positive' 'positive' 'positive'\n",
            " 'positive' 'negative' 'positive' 'positive' 'positive' 'positive'\n",
            " 'positive' 'positive' 'positive' 'negative' 'positive' 'negative'\n",
            " 'positive' 'positive' 'positive' 'positive' 'positive' 'positive'\n",
            " 'positive' 'positive' 'positive' 'positive' 'negative' 'positive'\n",
            " 'positive' 'positive' 'positive' 'positive' 'positive' 'positive'\n",
            " 'positive' 'positive' 'positive' 'positive' 'positive' 'positive'\n",
            " 'positive' 'positive' 'positive' 'positive' 'positive' 'positive'\n",
            " 'negative' 'positive' 'positive' 'positive' 'positive' 'positive'\n",
            " 'positive' 'positive' 'negative' 'positive' 'positive' 'positive'\n",
            " 'positive' 'positive' 'positive' 'positive' 'positive' 'positive'\n",
            " 'positive' 'positive' 'positive' 'positive' 'positive' 'positive'\n",
            " 'positive' 'positive' 'positive' 'positive' 'positive' 'positive'\n",
            " 'positive' 'positive' 'positive' 'positive' 'positive' 'positive'\n",
            " 'positive' 'positive' 'positive' 'positive' 'positive' 'positive'\n",
            " 'positive' 'positive' 'positive' 'positive' 'positive' 'positive'\n",
            " 'positive']\n",
            "F1-мера на тестовых данных: 0.9411764705882353\n"
          ]
        }
      ]
    },
    {
      "cell_type": "markdown",
      "source": [
        "### Код is_relevant"
      ],
      "metadata": {
        "id": "X7UoNt7BLqY7"
      }
    },
    {
      "cell_type": "code",
      "source": [
        "import pandas as pd\n",
        "\n",
        "# Замените 'data.csv' на путь к вашему файлу CSV\n",
        "df = pd.read_csv('train_data.csv')\n",
        "\n",
        "concatenated_questions_list = []\n",
        "rel_list = []\n",
        "\n",
        "# Проходим по каждой строке и конкатенируем значения в столбцах question_1 до question_5\n",
        "for index, row in df.iterrows():\n",
        "    concatenated_questions = ' '.join(row[['question_1', 'question_2', 'question_3', 'question_4', 'question_5']])\n",
        "    concatenated_questions_list.append(concatenated_questions)\n",
        "    # print(concatenated_questions)\n",
        "\n",
        "# Проходим по каждой строке и конкатенируем значения в столбцах question_1 до question_5\n",
        "for index, row in df.iterrows():\n",
        "    # rel = ''.join(str(row['is_positive']))\n",
        "    rel = ''.join(str(row['is_relevant']))\n",
        "    rel_list.append(rel)\n",
        "print(concatenated_questions_list)\n",
        "print(rel_list)"
      ],
      "metadata": {
        "colab": {
          "base_uri": "https://localhost:8080/"
        },
        "id": "b0bgHsWcLogM",
        "outputId": "77eba7f5-f361-4744-ce0b-88046086bbae"
      },
      "execution_count": 49,
      "outputs": [
        {
          "output_type": "stream",
          "name": "stdout",
          "text": [
            "['Основы программирования Интерактивный подход к изучению основ C# был очень увлекательным. Нет. Увеличить количество практических заданий для лучшего закрепления материала. Введение в разработку на .NET Framework.', 'Основы программирования Подробное объяснение логических операторов в JavaScript помогло мне лучше понять условные конструкции. Нет. Предоставить ещё больше практических задач после теории. Детальное изучение асинхронного программирования в JavaScript.', 'Основы программирования Введение в программирование на Python было простым и интуитивно понятным, особенно для начинающих. Нет. Улучшить качество видеоматериалов, иногда было трудно разглядеть код. Библиотеки Python для анализа данных и машинного обучения.', 'Основы программирования Понятное изложение основных понятий, хорошая структура материала. Да, циклы for и while были объяснены слишком быстро. Добавить видеоматериалы для самостоятельного изучения. Функциональное программирование.', 'Основы программирования Кларность и структура материала по основам JavaScript, особенно затронутые темы циклов и функций. Нет. Ввести больше примеров на работу с массивами и объектами. Работа с асинхронным кодом в JavaScript.', 'Основы программирования Простота объяснений основ Python, особенно циклов и условий, сделала занятие очень доступным. Нет. Предложить больше дополнительных материалов для самостоятельного изучения после вебинара. Подробнее о работе с API в Python.', 'Основы программирования Лектор имел забавную прическу, что отвлекало, но было весело. Да, особенно когда кот лектора прыгнул на стол. Может, начать с курса стрижки для лекторов? И убрать котов из кадра. Как сделать так, чтобы коты не мешали учёбе.', 'Продвинутые техники программирования Детальный разбор объектно-ориентированного программирования. Нет. Ввести дополнительные Q&A сессии после вебинара. Принципы SOLID в программировании.', 'Продвинутые техники программирования Разбор использования шаблонов проектирования в Java был очень подробным и полезным. Да, тема абстрактных фабрик была сложной для понимания. Организовать вебинары с более подробными примерами реализации каждого шаблона. Применение шаблонов проектирования в реальных проектах.', 'Продвинутые техники программирования Изучение сложных структур данных в Python, таких как деревья и графы, было особенно интересным. Да, работа с графами и их алгоритмами. Устроить отдельные вебинары по каждому типу структуры данных с подробными примерами. Глубокое изучение алгоритмов поиска пути и оптимизации.', 'Продвинутые техники программирования Обширное покрытие темы REST API и как они интегрируются с современными веб-приложениями было очень полезно. Да, концепции OAuth 2.0 были сложными для понимания. Больше интерактивных примеров и пошаговых руководств по реализации API. Подробности реализации микросервисов на Spring Boot и Docker.', 'Продвинутые техники программирования Глубина разбора модульного тестирования и TDD была полезной для понимания процессов разработки. Да, использование моков и стабов в тестах. Предоставить дополнительные ресурсы для изучения инструментов мокирования. Интеграционное тестирование и CI/CD пайплайны.', 'Основы программирования Ясное и чёткое объяснение базовых структур данных. Нет. Включить больше реальных примеров использования данных структур. Принципы проектирования алгоритмов.', 'Продвинутые техники программирования На вебинаре раздали виртуальные печеньки, очень мило. Нет, я был слишком занят едой. В следующий раз добавить виртуальный чай. Как запекать печенья.', 'Продвинутые техники программирования Подробный разбор применения шаблонов проектирования в реальных проектах был очень познавательным. Сложности с пониманием абстрактной фабрики. Больше практических примеров для каждого шаблона проектирования. Применение шаблонов проектирования в микросервисах.', 'Новейшие тенденции в IT Дискуссия о будущем облачных вычислений и их влиянии на ИТ-индустрию была очень проницательной. Нет. Включить больше кейс-стади от компаний, успешно интегрировавших облачные решения. Стратегии миграции предприятий в облако.', 'Новейшие тенденции в IT Обсуждение актуальных IT-трендов 2024 года. Да, тема искусственного интеллекта требует более глубокого погружения. Больше времени на сложные темы. Глубокое изучение нейронных сетей.', 'Новейшие тенденции в IT Обсуждение тенденций в разработке мобильных приложений и их влияние на рынок было весьма познавательным. Нет. Включить больше примеров успешных мобильных приложений и их стратегий монетизации. Разработка кроссплатформенных мобильных приложений.', 'Новейшие тенденции в IT Обзор последних достижений в области квантовых вычислений был впечатляющим. Да, сложность темы требует более глубокого погружения. Организовать серию вебинаров по квантовым технологиям с участием экспертов. Квантовая криптография и её практическое применение.', 'Новейшие тенденции в IT Вебинар о технологиях блокчейна и их влиянии на финансовую отрасль был глубоко информативным. Да, концепции смарт-контрактов были сложными для понимания. Ввести вебинар, полностью посвященный смарт-контрактам, с практическими примерами. Разработка и тестирование смарт-контрактов на разных платформах.', 'Новейшие тенденции в IT Обсуждение влияния облачных технологий на современные IT-структуры было особенно актуальным. Да, различия между IaaS, PaaS, и SaaS. Устроить подробный вебинар о каждой облачной модели в отдельности. Безопасность данных в облаке и лучшие практики.', 'ChatGPT для обучения как правильно пользоваться GPT чатом, для получения более развернутого ответа не было пока нет предложений затрудняюсь ответить', 'Управление персоналом Все понравилось Календарь составили так, что совместилось два обучения в одно и тоже время, что не совсем удобно Все хорошо Создания чата со студентами', 'ChatGPT для обучения Gpt чат Информация предоставлена в доступном виде Все хорошо Другие виды ИИ', 'ChatGPT для обучения Промт-Инжиниринг, это уже даёт какое-то понимание правильной формулировки вопросов для ИИ. Нет Не увидел минусов в вебинаре, очень понравился. Промт-Инжиниринг', 'ChatGPT для обучения новая информация, полезно нет не было таких моментов мне все понравилось пока затрудняюсь ответить', 'ChatGPT для обучения Светлые и темные стороны ChatGPT Не знание определений Все идеально темы по дизайну интерьера', 'Новейшие тенденции в IT Обсуждение было настолько скучным, что я научился жонглировать во время вебинара. Да, пытался понять жонглирование тремя шарами. Возможно, включить более динамичную музыку во время обсуждений. Жонглирование для начинающих.', 'Продвинутые техники программирования Глубокий анализ шаблонов проектирования на конкретных примерах. Сложно было понять шаблон Singleton. Подробнее разбирать каждый шаблон на примерах. Тестирование ПО и фреймворки для автоматизации.', 'Основы программирования Объяснение циклов и массивов в JavaScript было очень доступным и понятным. Нет. Добавить видео с разбором сложных примеров кода после вебинара. Подробнее о Node.js и серверном JavaScript.', 'Основы программирования Примеры кода были очень полезными для понимания. Нет. Предоставить дополнительные ресурсы для углубленного изучения. Базы данных и SQL.', 'Основы программирования Занятие по основам HTML и CSS было чрезвычайно полезным для понимания структуры веб-страниц. Нет. Предложить курс по продвинутым техникам CSS, включая Flexbox и Grid. Погружение в JavaScript для интерактивности веб-страниц.', 'Основы программирования Подробный разбор циклов и условных операторов в JavaScript помог укрепить мои знания. Нет. Ввести более сложные задачи для практики после вебинара. Асинхронное программирование в JavaScript и его применение в реальных проектах.', 'Основы программирования Отличное объяснение переменных, типов данных и структур в Python. Нет. Предложить дополнительные учебные материалы для глубокого изучения каждой темы. Глубокое изучение функционального программирования.', 'Основы программирования Дискуссия о том, как писать код одной рукой, была неожиданно увлекательной. Нет, это было странно интересно. Может быть, курс по печати ногами для разнообразия? Как писать код левой пяткой.', 'Основы программирования Отличное введение в основы SQL, особенно работа с JOIN-операциями. Да, сложности с пониманием внешних и внутренних соединений. Предложить более подробные учебные ресурсы и примеры запросов для практики. Оптимизация запросов SQL и анализ производительности баз данных.', 'Продвинутые техники программирования Сессия по оптимизации производительности веб-приложений дала мне новые инструменты для работы. Да, концепты кэширования данных были сложными. Углубить тему кэширования и состояния сессии в отдельном вебинаре. Работа с большими данными и их хранение.', 'Продвинутые техники программирования Затронута тема безопасности приложений, что крайне важно. Сложности с пониманием криптографических методов. Добавить примеры на кейсах из жизни. Кибербезопасность.', 'Основы программирования Отличное объяснение темы циклов и условий, всё стало на свои места. Да, сложно было понять тему рекурсии. Хотелось бы больше практических заданий по каждой теме. Глубже изучить тему работы с базами данных.', 'Продвинутые техники программирования Разбор примеров рефакторинга кода был очень практичным и полезным для понимания, как улучшить существующий код. Некоторые сложные примеры рефакторинга. Углубить материал с дополнительными кейс-стади из реальных проектов. Методы оптимизации производительности приложений.', 'Продвинутые техники программирования Очень ценно было изучить интеграцию API в большие системы, использование RESTful и GraphQL. Да, работа с GraphQL была сложнее, чем ожидалось. Провести серию практических вебинаров, специально посвященных GraphQL. Безопасность API, управление доступом и ограничения скорости запросов.', 'Новейшие тенденции в IT Интересное обсуждение применения искусственного интеллекта в нетехнических отраслях. Да, были трудности с пониманием нейросетей. Уделить больше времени основам нейросетей перед их применением. Машинное обучение и его применение в реальных условиях.', 'Продвинутые техники программирования Глубокое погружение в архитектуру REST и SOAP интерфейсов было крайне полезным для моих проектов. Нет. Организовать практические лаборатории по созданию и тестированию API. Безопасность API и использование OAuth 2.0.', 'Продвинутые техники программирования Глубокий анализ принципов SOLID и их применение в объектно-ориентированном проектировании был великолепен. Да, примеры на C# были запутанными. Организовать дополнительные сессии по практическому применению SOLID в различных языках программирования. Глубокое изучение паттернов проектирования и рефакторинга существующего кода.', 'Продвинутые техники программирования Презентация была настолько монотонной, что я научился рисовать слонов. Да, как правильно рисовать уши слона. Пожалуй, стоит добавить курс по рисованию к вебинарам, чтобы сохранить внимание слушателей. Рисование слонов в Photoshop.', 'Новейшие тенденции в IT Лекция о влиянии ИИ на автоматизацию рабочих процессов была весьма актуальной. Нет. Обсудить более подробно кейсы применения ИИ в разных отраслях. Применение ИИ для оптимизации клиентского сервиса.', 'Новейшие тенденции в IT Дискуссия о будущем искусственного интеллекта и его этических аспектах была особенно привлекательной. Да, темы моральных дилемм ИИ требовали более глубокого понимания. Устроить дебаты или панельную дискуссию с экспертами по этике ИИ, чтобы обсудить эти вопросы подробнее. Роль ИИ в управлении данными и приватности.', 'Новейшие тенденции в IT Обсуждение машинного обучения было особенно интересным. Да, темы, связанные с Big Data, остались не до конца ясны. Углубленный разбор каждой темы. Технологии Big Data.', 'Новейшие тенденции в IT Введение в искусственный интеллект и его влияние на робототехнику было захватывающим и познавательным. Да, темы построения нейросетей требовали более детального объяснения. Провести специализированные вебинары по машинному обучению и нейросетям, с практическими занятиями на реальных данных. Разработка и применение нейросетей в индустрии развлечений и медиа.', 'Новейшие тенденции в IT Доклад о последних инновациях в области искусственного интеллекта и машинного обучения был вдохновляющим. Да, сложности с пониманием концепций глубокого обучения. Провести серию вебинаров, посвященных только машинному обучению, с кейс-стади и примерами из практики. Применение ИИ в реальных бизнес-задачах.', 'Новейшие тенденции в IT Лектор использовал так много жаргонных слов, что я составил словарь. Да, пытался понять, что такое \"блокчейн\". Ввести словарь на каждом вебинаре, чтобы можно было следить за разговором. Разработка собственного жаргона для внутреннего использования.', 'Новейшие тенденции в IT Интерактивная сессия о применении ИИ в финансовом секторе была исчерпывающей и инновационной. Да, спецификации алгоритмов машинного обучения. Организовать более детальные практические занятия по настройке ИИ. Этические аспекты использования ИИ в финансах.', 'Основы программирования Отличное введение в язык программирования Java, особенно раздел про исключения. Нет. Добавить больше задач на практику после каждой темы. Глубокое изучение многопоточности в Java.', 'Основы программирования Ясное объяснение функций и методов в Python помогло мне лучше понять объектно-ориентированное программирование. Нет. Разработать интерактивные лабораторные работы для лучшего усвоения материала. Глубокое изучение Python для научных вычислений.', 'Знакомство с языком Python В теме понравилось, то что обсуждается распространенный среди аналитиков инструмент - Colab Да такие моменты были. Не были раскрыты следующие темы:1. Что такое Колаб? 2. Описание интерфейса и правил работы с Колаб. 3. Для чего он нужен. 4. Функции Колаб. 5. Библиотеки Колаб. 6. Как открыть Колаб в Вижуал Студио. 7. Как установить модули для открытия Колаб в Вижуал Студио. Это первое что пришло на ум. Кстати не зря вам прислали ссылку на урок. Под уроком есть много комментариев недовольных пользователей. Рассказать о том о чем я рассказал в предыдущем вопросе: 1. Что такое Колаб? 2. Описание интерфейса и правил работы с Колаб. 3. Для чего он нужен. 4. Функции Колаб. 5. Библиотеки Колаб. 6. Как открыть Колаб в Вижуал Студио. 7. Как установить модули для открытия Колаб в Вижуал Студио. Библиотеки Колаб', 'Знакомство с языком Python Материал доступен Я не понимаю, зачем мне python Я учуст на Frontend разработчика, зачем мне питон? Дайте мне JS Хочу учить JS', 'Основы программирования Объяснения понятий переменных, типов данных и операторов в Java были ясными и тщательными. Нет. Добавить больше упражнений на практическое применение изученных концепций. Подробное изучение Java для Android-разработки.', 'Основы программирования Ясное и прямолинейное объяснение условных операторов и циклов в C++. Нет. Включить больше комплексных задач для практических занятий. Разработка игр на C++.', 'Основы программирования Подробный разбор процессов компиляции и интерпретации в различных языках программирования был полезен. Да, детали JIT компиляции в Java. Предложить дополнительные материалы для самостоятельного изучения и видео о внутреннем устройстве компиляторов. Подробнее о механизмах управления памятью в современных языках.', 'Основы программирования Легкость доступа к материалам и их понятность. Да, темы алгоритмов требуют больше времени на разбор. Увеличить продолжительность вебинаров. Алгоритмы и структуры данных.', 'Основы программирования Чипи чипи лувиви Ламалама Котик танцует как преподователь Как научить котика танцевать?', 'Основы программирования Лекция о базах данных SQL была очень информативной, особенно раздел о связях и нормализации. Нет. Улучшить визуальные материалы, добавить больше диаграмм и примеров из реальной жизни. Глубокое изучение NoSQL баз данных и их использование в больших данных.', 'Основы программирования Обсуждение ошибок кода было таким скучным, что я составил список фильмов к просмотру. Да, каждый раз, когда слово \"ошибка\" упоминалось. Может быть, провести кинопоказ вместо следующего вебинара? Фильмы, которые каждый программист должен видеть.', 'Основы программирования Майкнафт вспомнили, прослезился Добавьте Херобрина Херобрииин МАМААА', 'Продвинутые техники программирования Вводная часть о машинном обучении была очень информативной и понятной. Нет, материал был представлен доступно. Хотелось бы уделить больше времени вопросам безопасности при программировании. Технологии блокчейн и их применение в программировании.', 'Продвинутые техники программирования Введение в микросервисы было крайне полезным для понимания современных архитектурных подходов. Да, раздел о контейнеризации был сложным. Провести дополнительный вебинар по Docker и Kubernetes. Подробности о развертывании приложений в облаке.', 'Продвинутые техники программирования Вебинар по агил-методологиям и их применению в проектном управлении был чрезвычайно полезен. Да, разбор Scrum и Kanban мог быть более детализированным. Провести отдельные сессии по каждой агил-методологии с практическими примерами их использования. Адаптация агил-методологий в крупных организациях.', 'Продвинутые техники программирования Изучение техник отладки и профилирования приложений на Java было особенно полезным для улучшения производительности. Нет. Организовать воркшопы, где участники могут применять эти техники на практике под руководством опытных разработчиков. Углубленное изучение инструментов профилирования и отладки.', 'Продвинутые техники программирования Хорошее объяснение принципов проектирования ПО. Сложности с примерами рефакторинга. Добавить рабочие листы для отработки материала. Принципы проектирования интерфейсов.', 'Продвинутые техники программирования Разбор использования Docker и Kubernetes для развертывания приложений дал мне ценные знания для работы. Сложности с настройкой Kubernetes. Провести дополнительные сессии, посвященные только Kubernetes, с демонстрацией живого развертывания. Подробное изучение микросервисной архитектуры.', 'Продвинутые техники программирования Сессия по оптимизации SQL запросов была чрезвычайно полезна для улучшения производительности баз данных. Нет. Предоставить доступ к онлайн тренажеру для оттачивания навыков написания и оптимизации SQL запросов. Глубокое понимание индексов и их влияние на производительность.', 'Новейшие тенденции в IT Презентация о развитии кибербезопасности и новых методах защиты информации была крайне информативной. Нет. Предложить серию вебинаров, посвященных подробному разбору инструментов защиты данных. Новые технологии в области защиты персональных данных.', 'Продвинутые техники программирования Сессия по безопасности веб-приложений была не только образовательной, но и очень актуальной. Да, детали XSS и CSRF атак были сложными для понимания. Разработать серию вебинаров, посвященных только кибербезопасности, с практическими упражнениями и тестами. Продвинутые методы защиты данных и инфраструктуры.', 'Новейшие тенденции в IT Освещение прогресса в технологии блокчейн и её применения в различных секторах экономики было проницательным. Да, объяснения функционирования сетей блокчейн. Подробнее разбирать техническую сторону блокчейн технологий на примерах успешных проектов. Разработка на базе Ethereum, включая создание смарт-контрактов.', 'Новейшие тенденции в IT Обсуждение влияния квантовых компьютеров на будущее криптографии было захватывающим. Сложности с пониманием квантовой физики. Обеспечить базовый вводный курс по квантовой механике перед этой темой. Квантовое программирование и его будущее.', 'Новейшие тенденции в IT Презентация о влиянии блокчейн технологий на безопасность данных была крайне просветляющей. Да, концепты шифрования в блокчейне. Организовать тематический вебинар о криптографии, используемой в блокчейне. Разработка смарт-контрактов и их безопасность.', 'Новейшие тенденции в IT Введение в технологии распределенных систем и их применение в разных отраслях было захватывающим. Да, концепции консенсуса в блокчейне были трудными для понимания. Организовать технические воркшопы по каждой теме вебинара для глубокого понимания. Распределенные вычисления и их применение в больших данных.', 'Основы программирования Изучение основных принципов создания пользовательских интерфейсов на React было практичным и актуальным. Да, сложности с Redux для управления состоянием. Устроить дополнительные вебинары по Redux и контексту React для глубокого понимания управления состоянием. Разработка сложных интерактивных веб-приложений на React.', 'Основы программирования Ильнар Шафигуллин большой молодец нет Чаще ставить преподователя на вебинары Больше примеров с уточкой', 'Новейшие тенденции в IT Обсуждение влияния больших данных на современный маркетинг было очень проницательным. Да, вопросы обработки и анализа больших объемов данных были запутанными. Предложить курсы по аналитике данных с использованием специализированных инструментов, таких как Hadoop или Spark. Методы визуализации данных для бизнес-анализа.', 'Новейшие тенденции в IT Презентация новых технологий в визуализации данных. Некоторые примеры были слишком сложны для понимания. Менее загруженные слайды, больше практики. Интерактивная визуализация данных.', 'Основы программирования Обучение эффективным методам написания чистого кода в Python было крайне полезным для моих проектов. Нет. Устроить регулярные сессии код-ревью с опытными разработчиками для обмена опытом и лучшими практиками. Принципы разработки программного обеспечения по методологии Agile.', 'Основы программирования Понравилась харизма преподователя нет, не было Все прошло хорошо Про алгоритмы интересно и устройство процессора', 'Основы программирования Преподователь супер нет Преподователь вырулил все недостатки Не знаю, дальше по программе обучения двигаться', 'Основы программирования Занятие по алгоритмам сортировки было насыщено множеством практических примеров, что упростило понимание. Да, быстрая сортировка требовала более тщательного объяснения. Предложить дополнительные видеоуроки по каждому типу алгоритмов сортировки с подробными примерами кода. Продвинутые алгоритмы и структуры данных, такие как деревья и графы.', 'Основы программирования Разбор методов коллекций в Java был исключительно полезен для понимания работы со списками и множествами. Да, методы Stream API. Разработать детальный курс по работе с Stream API в Java, включая практические примеры. Глубокое изучение многопоточности в Java.', 'Основы программирования Интерактивный подход преподавателя позволил лучше усвоить информацию. Нет, все было понятно. Хотелось бы более подробные материалы для самостоятельного изучения. Больше практических задач на алгоритмы.', 'Основы программирования Чёткое объяснение парадигмы функционального программирования на примере Scala. Да, концепции чистых функций и неизменяемости были запутанными. Устраивать сессии вопросов и ответов после сложных тем. Функциональные языки программирования как Haskell.', 'Основы программирования Освежающий подход к изучению JavaScript, особенно в части ES6+ функционала, был весьма стимулирующим. Нет. Увеличить количество заданий на кодирование в реальном времени для лучшего усвоения материала. Современные фронтенд технологии, такие как React и Angular.', 'Основы программирования Задания для самостоятельной работы помогли закрепить материал. Да, темы объектно-ориентированного программирования были сложными. Больше времени на практические упражнения. Работа с исключениями в программировании.', 'Основы программирования Понравилось как он рассказывает Ха затруднения Удалите эти эфиры все и займитесь нормальным уже делом Не надо мне тему', 'Продвинутые техники программирования Глубина разбора кейсов из реальной практики. Некоторые технические термины не были объяснены. Больше времени уделять базовым концепциям для новичков. Искусственный интеллект в области здравоохранения.', 'Новейшие тенденции в IT Разнообразие примеров из реального мира помогло лучше понять применение теории. Да, разбор паттернов проектирования был слишком быстрым. Меньше теории, больше практики. Сделать вебинары более интерактивными с возможностью задавать вопросы в реальном времени. Изучение разработки виртуальной и дополненной реальности.', 'Новейшие тенденции в IT Преподователь Арбуз Преподователь красный внутри Арбуз хочу Арбуз я покушать я люблю, семки все я исплюю', 'Новейшие тенденции в IT Я не люблю все это Шли вы Платити мани мани студентам как мани поднять', 'Продвинутые техники программирования Разбор техник оптимизации кода на C++ был очень глубоким и практичным. Нет. Предложить материалы для дополнительного изучения сложных тем. Оптимизация и производительность программ на низком уровне.', 'Основы программирования Примеры реального использования паттернов проектирования в .NET были очень ценными. Нет. Больше времени на анализ кода в примерах, меньше теории. Паттерны проектирования для микросервисных архитектур.', 'Основы программирования Зазнался преподователь Напыщенный преподователь Уважение Вопрос к воспитанию преподователя', 'Основы программирования Преподователь раз такой умный , зачем за гроши работаешь? Унижение Уважать студентов и не хамить К преподователю', 'Новейшие тенденции в IT Очень понравилось изучение применения технологий виртуальной реальности в образовании. Да, тема разработки контента для VR была недостаточно подробна. Организовать практические занятия по созданию VR-контента. Разработка приложений для виртуальной реальности.', 'Новейшие тенденции в IT Очень подробный разбор сложных концепций. Сложности с пониманием асинхронного программирования. Нужно больше примеров из жизни. Разработка мобильных приложений.', 'Java api браузеров Понравилась тема Да, преподователь нес чушь и путался в своих же словах Поменяйте преподователя Хотел бы повторить тему Java коллекции', 'Java api браузеров Понравился методический вебинар Преподователь сошел с ума Я думаю с другим преподователем я получил бы больше знаний Хочу перепройти вебинар с другим преподователем']\n",
            "['1', '1', '1', '1', '1', '1', '0', '1', '1', '1', '1', '1', '1', '0', '1', '1', '1', '1', '1', '1', '1', '0', '1', '1', '1', '1', '1', '0', '1', '1', '1', '1', '1', '1', '0', '1', '1', '1', '1', '1', '1', '1', '1', '1', '0', '1', '1', '1', '1', '1', '0', '1', '1', '1', '1', '1', '1', '1', '1', '1', '0', '1', '0', '0', '1', '1', '1', '1', '1', '1', '1', '1', '1', '1', '1', '1', '1', '1', '1', '1', '1', '1', '1', '1', '1', '1', '1', '1', '1', '1', '0', '1', '1', '0', '0', '1', '1', '1', '1', '1', '1', '1', '1']\n"
          ]
        }
      ]
    },
    {
      "cell_type": "code",
      "source": [
        "import csv\n",
        "\n",
        "# mappingId2Label = {0:'negative', 1:'positive'}\n",
        "mappingLabe2Id = {'negative':0, 'positive':1}\n",
        "\n",
        "def get_label(text):\n",
        "    preprocessed_text = preprocess(text, stop_words, punctuation_marks, morph)\n",
        "    predicted_label = w2v_pipeline.predict([preprocessed_text])[0]\n",
        "    print(predicted_label)\n",
        "    return mappingLabe2Id[predicted_label]\n",
        "\n",
        "# Открываем файл CSV для чтения\n",
        "with open('sample_submission.csv', 'r') as file:\n",
        "    # Создаем объект чтения CSV\n",
        "    csv_reader = csv.reader(file)\n",
        "\n",
        "    # Читаем заголовок\n",
        "    header = next(csv_reader)\n",
        "\n",
        "    # Читаем данные из файла\n",
        "    data = list(csv_reader)\n",
        "\n",
        "print(len(data))\n",
        "\n",
        "# Заменяем каждое значение в колонке is_relevant на 1\n",
        "for row, text in zip(data, concatenated_questions_list[:len(data)]):\n",
        "    print(text)\n",
        "    row[1] = get_label(text)\n",
        "\n",
        "# Записываем измененные данные обратно в файл CSV\n",
        "with open('your_submission.csv', 'w', newline='') as file:\n",
        "    # Создаем объект записи CSV\n",
        "    csv_writer = csv.writer(file)\n",
        "\n",
        "    # Записываем заголовок\n",
        "    csv_writer.writerow(header)\n",
        "\n",
        "    # Записываем данные в файл\n",
        "    csv_writer.writerows(data)"
      ],
      "metadata": {
        "colab": {
          "base_uri": "https://localhost:8080/"
        },
        "id": "fRQ4Pw0CIalC",
        "outputId": "1ba14776-76c4-43f2-e29d-8bdd0428222b"
      },
      "execution_count": 50,
      "outputs": [
        {
          "output_type": "stream",
          "name": "stdout",
          "text": [
            "53\n",
            "Основы программирования Интерактивный подход к изучению основ C# был очень увлекательным. Нет. Увеличить количество практических заданий для лучшего закрепления материала. Введение в разработку на .NET Framework.\n",
            "positive\n",
            "Основы программирования Подробное объяснение логических операторов в JavaScript помогло мне лучше понять условные конструкции. Нет. Предоставить ещё больше практических задач после теории. Детальное изучение асинхронного программирования в JavaScript.\n",
            "positive\n",
            "Основы программирования Введение в программирование на Python было простым и интуитивно понятным, особенно для начинающих. Нет. Улучшить качество видеоматериалов, иногда было трудно разглядеть код. Библиотеки Python для анализа данных и машинного обучения.\n",
            "positive\n",
            "Основы программирования Понятное изложение основных понятий, хорошая структура материала. Да, циклы for и while были объяснены слишком быстро. Добавить видеоматериалы для самостоятельного изучения. Функциональное программирование.\n",
            "positive\n",
            "Основы программирования Кларность и структура материала по основам JavaScript, особенно затронутые темы циклов и функций. Нет. Ввести больше примеров на работу с массивами и объектами. Работа с асинхронным кодом в JavaScript.\n",
            "positive\n",
            "Основы программирования Простота объяснений основ Python, особенно циклов и условий, сделала занятие очень доступным. Нет. Предложить больше дополнительных материалов для самостоятельного изучения после вебинара. Подробнее о работе с API в Python.\n",
            "positive\n",
            "Основы программирования Лектор имел забавную прическу, что отвлекало, но было весело. Да, особенно когда кот лектора прыгнул на стол. Может, начать с курса стрижки для лекторов? И убрать котов из кадра. Как сделать так, чтобы коты не мешали учёбе.\n",
            "positive\n",
            "Продвинутые техники программирования Детальный разбор объектно-ориентированного программирования. Нет. Ввести дополнительные Q&A сессии после вебинара. Принципы SOLID в программировании.\n",
            "positive\n",
            "Продвинутые техники программирования Разбор использования шаблонов проектирования в Java был очень подробным и полезным. Да, тема абстрактных фабрик была сложной для понимания. Организовать вебинары с более подробными примерами реализации каждого шаблона. Применение шаблонов проектирования в реальных проектах.\n",
            "positive\n",
            "Продвинутые техники программирования Изучение сложных структур данных в Python, таких как деревья и графы, было особенно интересным. Да, работа с графами и их алгоритмами. Устроить отдельные вебинары по каждому типу структуры данных с подробными примерами. Глубокое изучение алгоритмов поиска пути и оптимизации.\n",
            "positive\n",
            "Продвинутые техники программирования Обширное покрытие темы REST API и как они интегрируются с современными веб-приложениями было очень полезно. Да, концепции OAuth 2.0 были сложными для понимания. Больше интерактивных примеров и пошаговых руководств по реализации API. Подробности реализации микросервисов на Spring Boot и Docker.\n",
            "positive\n",
            "Продвинутые техники программирования Глубина разбора модульного тестирования и TDD была полезной для понимания процессов разработки. Да, использование моков и стабов в тестах. Предоставить дополнительные ресурсы для изучения инструментов мокирования. Интеграционное тестирование и CI/CD пайплайны.\n",
            "positive\n",
            "Основы программирования Ясное и чёткое объяснение базовых структур данных. Нет. Включить больше реальных примеров использования данных структур. Принципы проектирования алгоритмов.\n",
            "positive\n",
            "Продвинутые техники программирования На вебинаре раздали виртуальные печеньки, очень мило. Нет, я был слишком занят едой. В следующий раз добавить виртуальный чай. Как запекать печенья.\n",
            "negative\n",
            "Продвинутые техники программирования Подробный разбор применения шаблонов проектирования в реальных проектах был очень познавательным. Сложности с пониманием абстрактной фабрики. Больше практических примеров для каждого шаблона проектирования. Применение шаблонов проектирования в микросервисах.\n",
            "positive\n",
            "Новейшие тенденции в IT Дискуссия о будущем облачных вычислений и их влиянии на ИТ-индустрию была очень проницательной. Нет. Включить больше кейс-стади от компаний, успешно интегрировавших облачные решения. Стратегии миграции предприятий в облако.\n",
            "positive\n",
            "Новейшие тенденции в IT Обсуждение актуальных IT-трендов 2024 года. Да, тема искусственного интеллекта требует более глубокого погружения. Больше времени на сложные темы. Глубокое изучение нейронных сетей.\n",
            "positive\n",
            "Новейшие тенденции в IT Обсуждение тенденций в разработке мобильных приложений и их влияние на рынок было весьма познавательным. Нет. Включить больше примеров успешных мобильных приложений и их стратегий монетизации. Разработка кроссплатформенных мобильных приложений.\n",
            "positive\n",
            "Новейшие тенденции в IT Обзор последних достижений в области квантовых вычислений был впечатляющим. Да, сложность темы требует более глубокого погружения. Организовать серию вебинаров по квантовым технологиям с участием экспертов. Квантовая криптография и её практическое применение.\n",
            "positive\n",
            "Новейшие тенденции в IT Вебинар о технологиях блокчейна и их влиянии на финансовую отрасль был глубоко информативным. Да, концепции смарт-контрактов были сложными для понимания. Ввести вебинар, полностью посвященный смарт-контрактам, с практическими примерами. Разработка и тестирование смарт-контрактов на разных платформах.\n",
            "positive\n",
            "Новейшие тенденции в IT Обсуждение влияния облачных технологий на современные IT-структуры было особенно актуальным. Да, различия между IaaS, PaaS, и SaaS. Устроить подробный вебинар о каждой облачной модели в отдельности. Безопасность данных в облаке и лучшие практики.\n",
            "positive\n",
            "ChatGPT для обучения как правильно пользоваться GPT чатом, для получения более развернутого ответа не было пока нет предложений затрудняюсь ответить\n",
            "negative\n",
            "Управление персоналом Все понравилось Календарь составили так, что совместилось два обучения в одно и тоже время, что не совсем удобно Все хорошо Создания чата со студентами\n",
            "positive\n",
            "ChatGPT для обучения Gpt чат Информация предоставлена в доступном виде Все хорошо Другие виды ИИ\n",
            "negative\n",
            "ChatGPT для обучения Промт-Инжиниринг, это уже даёт какое-то понимание правильной формулировки вопросов для ИИ. Нет Не увидел минусов в вебинаре, очень понравился. Промт-Инжиниринг\n",
            "positive\n",
            "ChatGPT для обучения новая информация, полезно нет не было таких моментов мне все понравилось пока затрудняюсь ответить\n",
            "positive\n",
            "ChatGPT для обучения Светлые и темные стороны ChatGPT Не знание определений Все идеально темы по дизайну интерьера\n",
            "positive\n",
            "Новейшие тенденции в IT Обсуждение было настолько скучным, что я научился жонглировать во время вебинара. Да, пытался понять жонглирование тремя шарами. Возможно, включить более динамичную музыку во время обсуждений. Жонглирование для начинающих.\n",
            "positive\n",
            "Продвинутые техники программирования Глубокий анализ шаблонов проектирования на конкретных примерах. Сложно было понять шаблон Singleton. Подробнее разбирать каждый шаблон на примерах. Тестирование ПО и фреймворки для автоматизации.\n",
            "positive\n",
            "Основы программирования Объяснение циклов и массивов в JavaScript было очень доступным и понятным. Нет. Добавить видео с разбором сложных примеров кода после вебинара. Подробнее о Node.js и серверном JavaScript.\n",
            "positive\n",
            "Основы программирования Примеры кода были очень полезными для понимания. Нет. Предоставить дополнительные ресурсы для углубленного изучения. Базы данных и SQL.\n",
            "positive\n",
            "Основы программирования Занятие по основам HTML и CSS было чрезвычайно полезным для понимания структуры веб-страниц. Нет. Предложить курс по продвинутым техникам CSS, включая Flexbox и Grid. Погружение в JavaScript для интерактивности веб-страниц.\n",
            "positive\n",
            "Основы программирования Подробный разбор циклов и условных операторов в JavaScript помог укрепить мои знания. Нет. Ввести более сложные задачи для практики после вебинара. Асинхронное программирование в JavaScript и его применение в реальных проектах.\n",
            "positive\n",
            "Основы программирования Отличное объяснение переменных, типов данных и структур в Python. Нет. Предложить дополнительные учебные материалы для глубокого изучения каждой темы. Глубокое изучение функционального программирования.\n",
            "positive\n",
            "Основы программирования Дискуссия о том, как писать код одной рукой, была неожиданно увлекательной. Нет, это было странно интересно. Может быть, курс по печати ногами для разнообразия? Как писать код левой пяткой.\n",
            "negative\n",
            "Основы программирования Отличное введение в основы SQL, особенно работа с JOIN-операциями. Да, сложности с пониманием внешних и внутренних соединений. Предложить более подробные учебные ресурсы и примеры запросов для практики. Оптимизация запросов SQL и анализ производительности баз данных.\n",
            "positive\n",
            "Продвинутые техники программирования Сессия по оптимизации производительности веб-приложений дала мне новые инструменты для работы. Да, концепты кэширования данных были сложными. Углубить тему кэширования и состояния сессии в отдельном вебинаре. Работа с большими данными и их хранение.\n",
            "positive\n",
            "Продвинутые техники программирования Затронута тема безопасности приложений, что крайне важно. Сложности с пониманием криптографических методов. Добавить примеры на кейсах из жизни. Кибербезопасность.\n",
            "positive\n",
            "Основы программирования Отличное объяснение темы циклов и условий, всё стало на свои места. Да, сложно было понять тему рекурсии. Хотелось бы больше практических заданий по каждой теме. Глубже изучить тему работы с базами данных.\n",
            "positive\n",
            "Продвинутые техники программирования Разбор примеров рефакторинга кода был очень практичным и полезным для понимания, как улучшить существующий код. Некоторые сложные примеры рефакторинга. Углубить материал с дополнительными кейс-стади из реальных проектов. Методы оптимизации производительности приложений.\n",
            "positive\n",
            "Продвинутые техники программирования Очень ценно было изучить интеграцию API в большие системы, использование RESTful и GraphQL. Да, работа с GraphQL была сложнее, чем ожидалось. Провести серию практических вебинаров, специально посвященных GraphQL. Безопасность API, управление доступом и ограничения скорости запросов.\n",
            "positive\n",
            "Новейшие тенденции в IT Интересное обсуждение применения искусственного интеллекта в нетехнических отраслях. Да, были трудности с пониманием нейросетей. Уделить больше времени основам нейросетей перед их применением. Машинное обучение и его применение в реальных условиях.\n",
            "positive\n",
            "Продвинутые техники программирования Глубокое погружение в архитектуру REST и SOAP интерфейсов было крайне полезным для моих проектов. Нет. Организовать практические лаборатории по созданию и тестированию API. Безопасность API и использование OAuth 2.0.\n",
            "positive\n",
            "Продвинутые техники программирования Глубокий анализ принципов SOLID и их применение в объектно-ориентированном проектировании был великолепен. Да, примеры на C# были запутанными. Организовать дополнительные сессии по практическому применению SOLID в различных языках программирования. Глубокое изучение паттернов проектирования и рефакторинга существующего кода.\n",
            "positive\n",
            "Продвинутые техники программирования Презентация была настолько монотонной, что я научился рисовать слонов. Да, как правильно рисовать уши слона. Пожалуй, стоит добавить курс по рисованию к вебинарам, чтобы сохранить внимание слушателей. Рисование слонов в Photoshop.\n",
            "positive\n",
            "Новейшие тенденции в IT Лекция о влиянии ИИ на автоматизацию рабочих процессов была весьма актуальной. Нет. Обсудить более подробно кейсы применения ИИ в разных отраслях. Применение ИИ для оптимизации клиентского сервиса.\n",
            "positive\n",
            "Новейшие тенденции в IT Дискуссия о будущем искусственного интеллекта и его этических аспектах была особенно привлекательной. Да, темы моральных дилемм ИИ требовали более глубокого понимания. Устроить дебаты или панельную дискуссию с экспертами по этике ИИ, чтобы обсудить эти вопросы подробнее. Роль ИИ в управлении данными и приватности.\n",
            "positive\n",
            "Новейшие тенденции в IT Обсуждение машинного обучения было особенно интересным. Да, темы, связанные с Big Data, остались не до конца ясны. Углубленный разбор каждой темы. Технологии Big Data.\n",
            "positive\n",
            "Новейшие тенденции в IT Введение в искусственный интеллект и его влияние на робототехнику было захватывающим и познавательным. Да, темы построения нейросетей требовали более детального объяснения. Провести специализированные вебинары по машинному обучению и нейросетям, с практическими занятиями на реальных данных. Разработка и применение нейросетей в индустрии развлечений и медиа.\n",
            "positive\n",
            "Новейшие тенденции в IT Доклад о последних инновациях в области искусственного интеллекта и машинного обучения был вдохновляющим. Да, сложности с пониманием концепций глубокого обучения. Провести серию вебинаров, посвященных только машинному обучению, с кейс-стади и примерами из практики. Применение ИИ в реальных бизнес-задачах.\n",
            "positive\n",
            "Новейшие тенденции в IT Лектор использовал так много жаргонных слов, что я составил словарь. Да, пытался понять, что такое \"блокчейн\". Ввести словарь на каждом вебинаре, чтобы можно было следить за разговором. Разработка собственного жаргона для внутреннего использования.\n",
            "positive\n",
            "Новейшие тенденции в IT Интерактивная сессия о применении ИИ в финансовом секторе была исчерпывающей и инновационной. Да, спецификации алгоритмов машинного обучения. Организовать более детальные практические занятия по настройке ИИ. Этические аспекты использования ИИ в финансах.\n",
            "positive\n",
            "Основы программирования Отличное введение в язык программирования Java, особенно раздел про исключения. Нет. Добавить больше задач на практику после каждой темы. Глубокое изучение многопоточности в Java.\n",
            "positive\n"
          ]
        }
      ]
    },
    {
      "cell_type": "markdown",
      "source": [
        "### Код is_relevant"
      ],
      "metadata": {
        "id": "e9yPONnmMuDG"
      }
    },
    {
      "cell_type": "code",
      "source": [
        "import pandas as pd\n",
        "\n",
        "# Замените 'data.csv' на путь к вашему файлу CSV\n",
        "df = pd.read_csv('train_data.csv')\n",
        "\n",
        "concatenated_questions_list = []\n",
        "pos_list = []\n",
        "\n",
        "# Проходим по каждой строке и конкатенируем значения в столбцах question_1 до question_5\n",
        "for index, row in df.iterrows():\n",
        "    concatenated_questions = ' '.join(row[['question_1', 'question_2', 'question_3', 'question_4', 'question_5']])\n",
        "    concatenated_questions_list.append(concatenated_questions)\n",
        "    # print(concatenated_questions)\n",
        "\n",
        "# Проходим по каждой строке и конкатенируем значения в столбцах question_1 до question_5\n",
        "for index, row in df.iterrows():\n",
        "    pos = ''.join(str(row['is_positive']))\n",
        "    # rel = ''.join(str(row['is_relevant']))\n",
        "    pos_list.append(rel)\n",
        "print(concatenated_questions_list)\n",
        "print(pos_list)"
      ],
      "metadata": {
        "colab": {
          "base_uri": "https://localhost:8080/"
        },
        "id": "xBQpikkAM2wG",
        "outputId": "4af60c44-fe00-4a00-9340-c989024374ed"
      },
      "execution_count": 51,
      "outputs": [
        {
          "output_type": "stream",
          "name": "stdout",
          "text": [
            "['Основы программирования Интерактивный подход к изучению основ C# был очень увлекательным. Нет. Увеличить количество практических заданий для лучшего закрепления материала. Введение в разработку на .NET Framework.', 'Основы программирования Подробное объяснение логических операторов в JavaScript помогло мне лучше понять условные конструкции. Нет. Предоставить ещё больше практических задач после теории. Детальное изучение асинхронного программирования в JavaScript.', 'Основы программирования Введение в программирование на Python было простым и интуитивно понятным, особенно для начинающих. Нет. Улучшить качество видеоматериалов, иногда было трудно разглядеть код. Библиотеки Python для анализа данных и машинного обучения.', 'Основы программирования Понятное изложение основных понятий, хорошая структура материала. Да, циклы for и while были объяснены слишком быстро. Добавить видеоматериалы для самостоятельного изучения. Функциональное программирование.', 'Основы программирования Кларность и структура материала по основам JavaScript, особенно затронутые темы циклов и функций. Нет. Ввести больше примеров на работу с массивами и объектами. Работа с асинхронным кодом в JavaScript.', 'Основы программирования Простота объяснений основ Python, особенно циклов и условий, сделала занятие очень доступным. Нет. Предложить больше дополнительных материалов для самостоятельного изучения после вебинара. Подробнее о работе с API в Python.', 'Основы программирования Лектор имел забавную прическу, что отвлекало, но было весело. Да, особенно когда кот лектора прыгнул на стол. Может, начать с курса стрижки для лекторов? И убрать котов из кадра. Как сделать так, чтобы коты не мешали учёбе.', 'Продвинутые техники программирования Детальный разбор объектно-ориентированного программирования. Нет. Ввести дополнительные Q&A сессии после вебинара. Принципы SOLID в программировании.', 'Продвинутые техники программирования Разбор использования шаблонов проектирования в Java был очень подробным и полезным. Да, тема абстрактных фабрик была сложной для понимания. Организовать вебинары с более подробными примерами реализации каждого шаблона. Применение шаблонов проектирования в реальных проектах.', 'Продвинутые техники программирования Изучение сложных структур данных в Python, таких как деревья и графы, было особенно интересным. Да, работа с графами и их алгоритмами. Устроить отдельные вебинары по каждому типу структуры данных с подробными примерами. Глубокое изучение алгоритмов поиска пути и оптимизации.', 'Продвинутые техники программирования Обширное покрытие темы REST API и как они интегрируются с современными веб-приложениями было очень полезно. Да, концепции OAuth 2.0 были сложными для понимания. Больше интерактивных примеров и пошаговых руководств по реализации API. Подробности реализации микросервисов на Spring Boot и Docker.', 'Продвинутые техники программирования Глубина разбора модульного тестирования и TDD была полезной для понимания процессов разработки. Да, использование моков и стабов в тестах. Предоставить дополнительные ресурсы для изучения инструментов мокирования. Интеграционное тестирование и CI/CD пайплайны.', 'Основы программирования Ясное и чёткое объяснение базовых структур данных. Нет. Включить больше реальных примеров использования данных структур. Принципы проектирования алгоритмов.', 'Продвинутые техники программирования На вебинаре раздали виртуальные печеньки, очень мило. Нет, я был слишком занят едой. В следующий раз добавить виртуальный чай. Как запекать печенья.', 'Продвинутые техники программирования Подробный разбор применения шаблонов проектирования в реальных проектах был очень познавательным. Сложности с пониманием абстрактной фабрики. Больше практических примеров для каждого шаблона проектирования. Применение шаблонов проектирования в микросервисах.', 'Новейшие тенденции в IT Дискуссия о будущем облачных вычислений и их влиянии на ИТ-индустрию была очень проницательной. Нет. Включить больше кейс-стади от компаний, успешно интегрировавших облачные решения. Стратегии миграции предприятий в облако.', 'Новейшие тенденции в IT Обсуждение актуальных IT-трендов 2024 года. Да, тема искусственного интеллекта требует более глубокого погружения. Больше времени на сложные темы. Глубокое изучение нейронных сетей.', 'Новейшие тенденции в IT Обсуждение тенденций в разработке мобильных приложений и их влияние на рынок было весьма познавательным. Нет. Включить больше примеров успешных мобильных приложений и их стратегий монетизации. Разработка кроссплатформенных мобильных приложений.', 'Новейшие тенденции в IT Обзор последних достижений в области квантовых вычислений был впечатляющим. Да, сложность темы требует более глубокого погружения. Организовать серию вебинаров по квантовым технологиям с участием экспертов. Квантовая криптография и её практическое применение.', 'Новейшие тенденции в IT Вебинар о технологиях блокчейна и их влиянии на финансовую отрасль был глубоко информативным. Да, концепции смарт-контрактов были сложными для понимания. Ввести вебинар, полностью посвященный смарт-контрактам, с практическими примерами. Разработка и тестирование смарт-контрактов на разных платформах.', 'Новейшие тенденции в IT Обсуждение влияния облачных технологий на современные IT-структуры было особенно актуальным. Да, различия между IaaS, PaaS, и SaaS. Устроить подробный вебинар о каждой облачной модели в отдельности. Безопасность данных в облаке и лучшие практики.', 'ChatGPT для обучения как правильно пользоваться GPT чатом, для получения более развернутого ответа не было пока нет предложений затрудняюсь ответить', 'Управление персоналом Все понравилось Календарь составили так, что совместилось два обучения в одно и тоже время, что не совсем удобно Все хорошо Создания чата со студентами', 'ChatGPT для обучения Gpt чат Информация предоставлена в доступном виде Все хорошо Другие виды ИИ', 'ChatGPT для обучения Промт-Инжиниринг, это уже даёт какое-то понимание правильной формулировки вопросов для ИИ. Нет Не увидел минусов в вебинаре, очень понравился. Промт-Инжиниринг', 'ChatGPT для обучения новая информация, полезно нет не было таких моментов мне все понравилось пока затрудняюсь ответить', 'ChatGPT для обучения Светлые и темные стороны ChatGPT Не знание определений Все идеально темы по дизайну интерьера', 'Новейшие тенденции в IT Обсуждение было настолько скучным, что я научился жонглировать во время вебинара. Да, пытался понять жонглирование тремя шарами. Возможно, включить более динамичную музыку во время обсуждений. Жонглирование для начинающих.', 'Продвинутые техники программирования Глубокий анализ шаблонов проектирования на конкретных примерах. Сложно было понять шаблон Singleton. Подробнее разбирать каждый шаблон на примерах. Тестирование ПО и фреймворки для автоматизации.', 'Основы программирования Объяснение циклов и массивов в JavaScript было очень доступным и понятным. Нет. Добавить видео с разбором сложных примеров кода после вебинара. Подробнее о Node.js и серверном JavaScript.', 'Основы программирования Примеры кода были очень полезными для понимания. Нет. Предоставить дополнительные ресурсы для углубленного изучения. Базы данных и SQL.', 'Основы программирования Занятие по основам HTML и CSS было чрезвычайно полезным для понимания структуры веб-страниц. Нет. Предложить курс по продвинутым техникам CSS, включая Flexbox и Grid. Погружение в JavaScript для интерактивности веб-страниц.', 'Основы программирования Подробный разбор циклов и условных операторов в JavaScript помог укрепить мои знания. Нет. Ввести более сложные задачи для практики после вебинара. Асинхронное программирование в JavaScript и его применение в реальных проектах.', 'Основы программирования Отличное объяснение переменных, типов данных и структур в Python. Нет. Предложить дополнительные учебные материалы для глубокого изучения каждой темы. Глубокое изучение функционального программирования.', 'Основы программирования Дискуссия о том, как писать код одной рукой, была неожиданно увлекательной. Нет, это было странно интересно. Может быть, курс по печати ногами для разнообразия? Как писать код левой пяткой.', 'Основы программирования Отличное введение в основы SQL, особенно работа с JOIN-операциями. Да, сложности с пониманием внешних и внутренних соединений. Предложить более подробные учебные ресурсы и примеры запросов для практики. Оптимизация запросов SQL и анализ производительности баз данных.', 'Продвинутые техники программирования Сессия по оптимизации производительности веб-приложений дала мне новые инструменты для работы. Да, концепты кэширования данных были сложными. Углубить тему кэширования и состояния сессии в отдельном вебинаре. Работа с большими данными и их хранение.', 'Продвинутые техники программирования Затронута тема безопасности приложений, что крайне важно. Сложности с пониманием криптографических методов. Добавить примеры на кейсах из жизни. Кибербезопасность.', 'Основы программирования Отличное объяснение темы циклов и условий, всё стало на свои места. Да, сложно было понять тему рекурсии. Хотелось бы больше практических заданий по каждой теме. Глубже изучить тему работы с базами данных.', 'Продвинутые техники программирования Разбор примеров рефакторинга кода был очень практичным и полезным для понимания, как улучшить существующий код. Некоторые сложные примеры рефакторинга. Углубить материал с дополнительными кейс-стади из реальных проектов. Методы оптимизации производительности приложений.', 'Продвинутые техники программирования Очень ценно было изучить интеграцию API в большие системы, использование RESTful и GraphQL. Да, работа с GraphQL была сложнее, чем ожидалось. Провести серию практических вебинаров, специально посвященных GraphQL. Безопасность API, управление доступом и ограничения скорости запросов.', 'Новейшие тенденции в IT Интересное обсуждение применения искусственного интеллекта в нетехнических отраслях. Да, были трудности с пониманием нейросетей. Уделить больше времени основам нейросетей перед их применением. Машинное обучение и его применение в реальных условиях.', 'Продвинутые техники программирования Глубокое погружение в архитектуру REST и SOAP интерфейсов было крайне полезным для моих проектов. Нет. Организовать практические лаборатории по созданию и тестированию API. Безопасность API и использование OAuth 2.0.', 'Продвинутые техники программирования Глубокий анализ принципов SOLID и их применение в объектно-ориентированном проектировании был великолепен. Да, примеры на C# были запутанными. Организовать дополнительные сессии по практическому применению SOLID в различных языках программирования. Глубокое изучение паттернов проектирования и рефакторинга существующего кода.', 'Продвинутые техники программирования Презентация была настолько монотонной, что я научился рисовать слонов. Да, как правильно рисовать уши слона. Пожалуй, стоит добавить курс по рисованию к вебинарам, чтобы сохранить внимание слушателей. Рисование слонов в Photoshop.', 'Новейшие тенденции в IT Лекция о влиянии ИИ на автоматизацию рабочих процессов была весьма актуальной. Нет. Обсудить более подробно кейсы применения ИИ в разных отраслях. Применение ИИ для оптимизации клиентского сервиса.', 'Новейшие тенденции в IT Дискуссия о будущем искусственного интеллекта и его этических аспектах была особенно привлекательной. Да, темы моральных дилемм ИИ требовали более глубокого понимания. Устроить дебаты или панельную дискуссию с экспертами по этике ИИ, чтобы обсудить эти вопросы подробнее. Роль ИИ в управлении данными и приватности.', 'Новейшие тенденции в IT Обсуждение машинного обучения было особенно интересным. Да, темы, связанные с Big Data, остались не до конца ясны. Углубленный разбор каждой темы. Технологии Big Data.', 'Новейшие тенденции в IT Введение в искусственный интеллект и его влияние на робототехнику было захватывающим и познавательным. Да, темы построения нейросетей требовали более детального объяснения. Провести специализированные вебинары по машинному обучению и нейросетям, с практическими занятиями на реальных данных. Разработка и применение нейросетей в индустрии развлечений и медиа.', 'Новейшие тенденции в IT Доклад о последних инновациях в области искусственного интеллекта и машинного обучения был вдохновляющим. Да, сложности с пониманием концепций глубокого обучения. Провести серию вебинаров, посвященных только машинному обучению, с кейс-стади и примерами из практики. Применение ИИ в реальных бизнес-задачах.', 'Новейшие тенденции в IT Лектор использовал так много жаргонных слов, что я составил словарь. Да, пытался понять, что такое \"блокчейн\". Ввести словарь на каждом вебинаре, чтобы можно было следить за разговором. Разработка собственного жаргона для внутреннего использования.', 'Новейшие тенденции в IT Интерактивная сессия о применении ИИ в финансовом секторе была исчерпывающей и инновационной. Да, спецификации алгоритмов машинного обучения. Организовать более детальные практические занятия по настройке ИИ. Этические аспекты использования ИИ в финансах.', 'Основы программирования Отличное введение в язык программирования Java, особенно раздел про исключения. Нет. Добавить больше задач на практику после каждой темы. Глубокое изучение многопоточности в Java.', 'Основы программирования Ясное объяснение функций и методов в Python помогло мне лучше понять объектно-ориентированное программирование. Нет. Разработать интерактивные лабораторные работы для лучшего усвоения материала. Глубокое изучение Python для научных вычислений.', 'Знакомство с языком Python В теме понравилось, то что обсуждается распространенный среди аналитиков инструмент - Colab Да такие моменты были. Не были раскрыты следующие темы:1. Что такое Колаб? 2. Описание интерфейса и правил работы с Колаб. 3. Для чего он нужен. 4. Функции Колаб. 5. Библиотеки Колаб. 6. Как открыть Колаб в Вижуал Студио. 7. Как установить модули для открытия Колаб в Вижуал Студио. Это первое что пришло на ум. Кстати не зря вам прислали ссылку на урок. Под уроком есть много комментариев недовольных пользователей. Рассказать о том о чем я рассказал в предыдущем вопросе: 1. Что такое Колаб? 2. Описание интерфейса и правил работы с Колаб. 3. Для чего он нужен. 4. Функции Колаб. 5. Библиотеки Колаб. 6. Как открыть Колаб в Вижуал Студио. 7. Как установить модули для открытия Колаб в Вижуал Студио. Библиотеки Колаб', 'Знакомство с языком Python Материал доступен Я не понимаю, зачем мне python Я учуст на Frontend разработчика, зачем мне питон? Дайте мне JS Хочу учить JS', 'Основы программирования Объяснения понятий переменных, типов данных и операторов в Java были ясными и тщательными. Нет. Добавить больше упражнений на практическое применение изученных концепций. Подробное изучение Java для Android-разработки.', 'Основы программирования Ясное и прямолинейное объяснение условных операторов и циклов в C++. Нет. Включить больше комплексных задач для практических занятий. Разработка игр на C++.', 'Основы программирования Подробный разбор процессов компиляции и интерпретации в различных языках программирования был полезен. Да, детали JIT компиляции в Java. Предложить дополнительные материалы для самостоятельного изучения и видео о внутреннем устройстве компиляторов. Подробнее о механизмах управления памятью в современных языках.', 'Основы программирования Легкость доступа к материалам и их понятность. Да, темы алгоритмов требуют больше времени на разбор. Увеличить продолжительность вебинаров. Алгоритмы и структуры данных.', 'Основы программирования Чипи чипи лувиви Ламалама Котик танцует как преподователь Как научить котика танцевать?', 'Основы программирования Лекция о базах данных SQL была очень информативной, особенно раздел о связях и нормализации. Нет. Улучшить визуальные материалы, добавить больше диаграмм и примеров из реальной жизни. Глубокое изучение NoSQL баз данных и их использование в больших данных.', 'Основы программирования Обсуждение ошибок кода было таким скучным, что я составил список фильмов к просмотру. Да, каждый раз, когда слово \"ошибка\" упоминалось. Может быть, провести кинопоказ вместо следующего вебинара? Фильмы, которые каждый программист должен видеть.', 'Основы программирования Майкнафт вспомнили, прослезился Добавьте Херобрина Херобрииин МАМААА', 'Продвинутые техники программирования Вводная часть о машинном обучении была очень информативной и понятной. Нет, материал был представлен доступно. Хотелось бы уделить больше времени вопросам безопасности при программировании. Технологии блокчейн и их применение в программировании.', 'Продвинутые техники программирования Введение в микросервисы было крайне полезным для понимания современных архитектурных подходов. Да, раздел о контейнеризации был сложным. Провести дополнительный вебинар по Docker и Kubernetes. Подробности о развертывании приложений в облаке.', 'Продвинутые техники программирования Вебинар по агил-методологиям и их применению в проектном управлении был чрезвычайно полезен. Да, разбор Scrum и Kanban мог быть более детализированным. Провести отдельные сессии по каждой агил-методологии с практическими примерами их использования. Адаптация агил-методологий в крупных организациях.', 'Продвинутые техники программирования Изучение техник отладки и профилирования приложений на Java было особенно полезным для улучшения производительности. Нет. Организовать воркшопы, где участники могут применять эти техники на практике под руководством опытных разработчиков. Углубленное изучение инструментов профилирования и отладки.', 'Продвинутые техники программирования Хорошее объяснение принципов проектирования ПО. Сложности с примерами рефакторинга. Добавить рабочие листы для отработки материала. Принципы проектирования интерфейсов.', 'Продвинутые техники программирования Разбор использования Docker и Kubernetes для развертывания приложений дал мне ценные знания для работы. Сложности с настройкой Kubernetes. Провести дополнительные сессии, посвященные только Kubernetes, с демонстрацией живого развертывания. Подробное изучение микросервисной архитектуры.', 'Продвинутые техники программирования Сессия по оптимизации SQL запросов была чрезвычайно полезна для улучшения производительности баз данных. Нет. Предоставить доступ к онлайн тренажеру для оттачивания навыков написания и оптимизации SQL запросов. Глубокое понимание индексов и их влияние на производительность.', 'Новейшие тенденции в IT Презентация о развитии кибербезопасности и новых методах защиты информации была крайне информативной. Нет. Предложить серию вебинаров, посвященных подробному разбору инструментов защиты данных. Новые технологии в области защиты персональных данных.', 'Продвинутые техники программирования Сессия по безопасности веб-приложений была не только образовательной, но и очень актуальной. Да, детали XSS и CSRF атак были сложными для понимания. Разработать серию вебинаров, посвященных только кибербезопасности, с практическими упражнениями и тестами. Продвинутые методы защиты данных и инфраструктуры.', 'Новейшие тенденции в IT Освещение прогресса в технологии блокчейн и её применения в различных секторах экономики было проницательным. Да, объяснения функционирования сетей блокчейн. Подробнее разбирать техническую сторону блокчейн технологий на примерах успешных проектов. Разработка на базе Ethereum, включая создание смарт-контрактов.', 'Новейшие тенденции в IT Обсуждение влияния квантовых компьютеров на будущее криптографии было захватывающим. Сложности с пониманием квантовой физики. Обеспечить базовый вводный курс по квантовой механике перед этой темой. Квантовое программирование и его будущее.', 'Новейшие тенденции в IT Презентация о влиянии блокчейн технологий на безопасность данных была крайне просветляющей. Да, концепты шифрования в блокчейне. Организовать тематический вебинар о криптографии, используемой в блокчейне. Разработка смарт-контрактов и их безопасность.', 'Новейшие тенденции в IT Введение в технологии распределенных систем и их применение в разных отраслях было захватывающим. Да, концепции консенсуса в блокчейне были трудными для понимания. Организовать технические воркшопы по каждой теме вебинара для глубокого понимания. Распределенные вычисления и их применение в больших данных.', 'Основы программирования Изучение основных принципов создания пользовательских интерфейсов на React было практичным и актуальным. Да, сложности с Redux для управления состоянием. Устроить дополнительные вебинары по Redux и контексту React для глубокого понимания управления состоянием. Разработка сложных интерактивных веб-приложений на React.', 'Основы программирования Ильнар Шафигуллин большой молодец нет Чаще ставить преподователя на вебинары Больше примеров с уточкой', 'Новейшие тенденции в IT Обсуждение влияния больших данных на современный маркетинг было очень проницательным. Да, вопросы обработки и анализа больших объемов данных были запутанными. Предложить курсы по аналитике данных с использованием специализированных инструментов, таких как Hadoop или Spark. Методы визуализации данных для бизнес-анализа.', 'Новейшие тенденции в IT Презентация новых технологий в визуализации данных. Некоторые примеры были слишком сложны для понимания. Менее загруженные слайды, больше практики. Интерактивная визуализация данных.', 'Основы программирования Обучение эффективным методам написания чистого кода в Python было крайне полезным для моих проектов. Нет. Устроить регулярные сессии код-ревью с опытными разработчиками для обмена опытом и лучшими практиками. Принципы разработки программного обеспечения по методологии Agile.', 'Основы программирования Понравилась харизма преподователя нет, не было Все прошло хорошо Про алгоритмы интересно и устройство процессора', 'Основы программирования Преподователь супер нет Преподователь вырулил все недостатки Не знаю, дальше по программе обучения двигаться', 'Основы программирования Занятие по алгоритмам сортировки было насыщено множеством практических примеров, что упростило понимание. Да, быстрая сортировка требовала более тщательного объяснения. Предложить дополнительные видеоуроки по каждому типу алгоритмов сортировки с подробными примерами кода. Продвинутые алгоритмы и структуры данных, такие как деревья и графы.', 'Основы программирования Разбор методов коллекций в Java был исключительно полезен для понимания работы со списками и множествами. Да, методы Stream API. Разработать детальный курс по работе с Stream API в Java, включая практические примеры. Глубокое изучение многопоточности в Java.', 'Основы программирования Интерактивный подход преподавателя позволил лучше усвоить информацию. Нет, все было понятно. Хотелось бы более подробные материалы для самостоятельного изучения. Больше практических задач на алгоритмы.', 'Основы программирования Чёткое объяснение парадигмы функционального программирования на примере Scala. Да, концепции чистых функций и неизменяемости были запутанными. Устраивать сессии вопросов и ответов после сложных тем. Функциональные языки программирования как Haskell.', 'Основы программирования Освежающий подход к изучению JavaScript, особенно в части ES6+ функционала, был весьма стимулирующим. Нет. Увеличить количество заданий на кодирование в реальном времени для лучшего усвоения материала. Современные фронтенд технологии, такие как React и Angular.', 'Основы программирования Задания для самостоятельной работы помогли закрепить материал. Да, темы объектно-ориентированного программирования были сложными. Больше времени на практические упражнения. Работа с исключениями в программировании.', 'Основы программирования Понравилось как он рассказывает Ха затруднения Удалите эти эфиры все и займитесь нормальным уже делом Не надо мне тему', 'Продвинутые техники программирования Глубина разбора кейсов из реальной практики. Некоторые технические термины не были объяснены. Больше времени уделять базовым концепциям для новичков. Искусственный интеллект в области здравоохранения.', 'Новейшие тенденции в IT Разнообразие примеров из реального мира помогло лучше понять применение теории. Да, разбор паттернов проектирования был слишком быстрым. Меньше теории, больше практики. Сделать вебинары более интерактивными с возможностью задавать вопросы в реальном времени. Изучение разработки виртуальной и дополненной реальности.', 'Новейшие тенденции в IT Преподователь Арбуз Преподователь красный внутри Арбуз хочу Арбуз я покушать я люблю, семки все я исплюю', 'Новейшие тенденции в IT Я не люблю все это Шли вы Платити мани мани студентам как мани поднять', 'Продвинутые техники программирования Разбор техник оптимизации кода на C++ был очень глубоким и практичным. Нет. Предложить материалы для дополнительного изучения сложных тем. Оптимизация и производительность программ на низком уровне.', 'Основы программирования Примеры реального использования паттернов проектирования в .NET были очень ценными. Нет. Больше времени на анализ кода в примерах, меньше теории. Паттерны проектирования для микросервисных архитектур.', 'Основы программирования Зазнался преподователь Напыщенный преподователь Уважение Вопрос к воспитанию преподователя', 'Основы программирования Преподователь раз такой умный , зачем за гроши работаешь? Унижение Уважать студентов и не хамить К преподователю', 'Новейшие тенденции в IT Очень понравилось изучение применения технологий виртуальной реальности в образовании. Да, тема разработки контента для VR была недостаточно подробна. Организовать практические занятия по созданию VR-контента. Разработка приложений для виртуальной реальности.', 'Новейшие тенденции в IT Очень подробный разбор сложных концепций. Сложности с пониманием асинхронного программирования. Нужно больше примеров из жизни. Разработка мобильных приложений.', 'Java api браузеров Понравилась тема Да, преподователь нес чушь и путался в своих же словах Поменяйте преподователя Хотел бы повторить тему Java коллекции', 'Java api браузеров Понравился методический вебинар Преподователь сошел с ума Я думаю с другим преподователем я получил бы больше знаний Хочу перепройти вебинар с другим преподователем']\n",
            "['1', '1', '1', '1', '1', '1', '1', '1', '1', '1', '1', '1', '1', '1', '1', '1', '1', '1', '1', '1', '1', '1', '1', '1', '1', '1', '1', '1', '1', '1', '1', '1', '1', '1', '1', '1', '1', '1', '1', '1', '1', '1', '1', '1', '1', '1', '1', '1', '1', '1', '1', '1', '1', '1', '1', '1', '1', '1', '1', '1', '1', '1', '1', '1', '1', '1', '1', '1', '1', '1', '1', '1', '1', '1', '1', '1', '1', '1', '1', '1', '1', '1', '1', '1', '1', '1', '1', '1', '1', '1', '1', '1', '1', '1', '1', '1', '1', '1', '1', '1', '1', '1', '1']\n"
          ]
        }
      ]
    },
    {
      "cell_type": "code",
      "source": [
        "import csv\n",
        "\n",
        "# mappingId2Label = {0:'negative', 1:'positive'}\n",
        "mappingLabe2Id = {'negative':0, 'positive':1}\n",
        "\n",
        "def get_label(text):\n",
        "    preprocessed_text = preprocess(text, stop_words, punctuation_marks, morph)\n",
        "    predicted_label = w2v_pipeline.predict([preprocessed_text])[0]\n",
        "    print(predicted_label)\n",
        "    return mappingLabe2Id[predicted_label]\n",
        "\n",
        "# Открываем файл CSV для чтения\n",
        "with open('your_submission.csv', 'r') as file:\n",
        "    # Создаем объект чтения CSV\n",
        "    csv_reader = csv.reader(file)\n",
        "\n",
        "    # Читаем заголовок\n",
        "    header = next(csv_reader)\n",
        "\n",
        "    # Читаем данные из файла\n",
        "    data = list(csv_reader)\n",
        "\n",
        "print(len(data))\n",
        "\n",
        "# Заменяем каждое значение в колонке is_relevant на 1\n",
        "for row, text in zip(data, concatenated_questions_list[:len(data)]):\n",
        "    print(text)\n",
        "    row[3] = get_label(text)\n",
        "\n",
        "# Записываем измененные данные обратно в файл CSV\n",
        "with open('your_submission.csv', 'w', newline='') as file:\n",
        "    # Создаем объект записи CSV\n",
        "    csv_writer = csv.writer(file)\n",
        "\n",
        "    # Записываем заголовок\n",
        "    csv_writer.writerow(header)\n",
        "\n",
        "    # Записываем данные в файл\n",
        "    csv_writer.writerows(data)"
      ],
      "metadata": {
        "colab": {
          "base_uri": "https://localhost:8080/"
        },
        "id": "7AEF2nLGM60u",
        "outputId": "32ddd036-9d13-4a2d-90c4-a1650f98b60e"
      },
      "execution_count": 52,
      "outputs": [
        {
          "output_type": "stream",
          "name": "stdout",
          "text": [
            "53\n",
            "Основы программирования Интерактивный подход к изучению основ C# был очень увлекательным. Нет. Увеличить количество практических заданий для лучшего закрепления материала. Введение в разработку на .NET Framework.\n",
            "positive\n",
            "Основы программирования Подробное объяснение логических операторов в JavaScript помогло мне лучше понять условные конструкции. Нет. Предоставить ещё больше практических задач после теории. Детальное изучение асинхронного программирования в JavaScript.\n",
            "positive\n",
            "Основы программирования Введение в программирование на Python было простым и интуитивно понятным, особенно для начинающих. Нет. Улучшить качество видеоматериалов, иногда было трудно разглядеть код. Библиотеки Python для анализа данных и машинного обучения.\n",
            "positive\n",
            "Основы программирования Понятное изложение основных понятий, хорошая структура материала. Да, циклы for и while были объяснены слишком быстро. Добавить видеоматериалы для самостоятельного изучения. Функциональное программирование.\n",
            "positive\n",
            "Основы программирования Кларность и структура материала по основам JavaScript, особенно затронутые темы циклов и функций. Нет. Ввести больше примеров на работу с массивами и объектами. Работа с асинхронным кодом в JavaScript.\n",
            "positive\n",
            "Основы программирования Простота объяснений основ Python, особенно циклов и условий, сделала занятие очень доступным. Нет. Предложить больше дополнительных материалов для самостоятельного изучения после вебинара. Подробнее о работе с API в Python.\n",
            "positive\n",
            "Основы программирования Лектор имел забавную прическу, что отвлекало, но было весело. Да, особенно когда кот лектора прыгнул на стол. Может, начать с курса стрижки для лекторов? И убрать котов из кадра. Как сделать так, чтобы коты не мешали учёбе.\n",
            "positive\n",
            "Продвинутые техники программирования Детальный разбор объектно-ориентированного программирования. Нет. Ввести дополнительные Q&A сессии после вебинара. Принципы SOLID в программировании.\n",
            "positive\n",
            "Продвинутые техники программирования Разбор использования шаблонов проектирования в Java был очень подробным и полезным. Да, тема абстрактных фабрик была сложной для понимания. Организовать вебинары с более подробными примерами реализации каждого шаблона. Применение шаблонов проектирования в реальных проектах.\n",
            "positive\n",
            "Продвинутые техники программирования Изучение сложных структур данных в Python, таких как деревья и графы, было особенно интересным. Да, работа с графами и их алгоритмами. Устроить отдельные вебинары по каждому типу структуры данных с подробными примерами. Глубокое изучение алгоритмов поиска пути и оптимизации.\n",
            "positive\n",
            "Продвинутые техники программирования Обширное покрытие темы REST API и как они интегрируются с современными веб-приложениями было очень полезно. Да, концепции OAuth 2.0 были сложными для понимания. Больше интерактивных примеров и пошаговых руководств по реализации API. Подробности реализации микросервисов на Spring Boot и Docker.\n",
            "positive\n",
            "Продвинутые техники программирования Глубина разбора модульного тестирования и TDD была полезной для понимания процессов разработки. Да, использование моков и стабов в тестах. Предоставить дополнительные ресурсы для изучения инструментов мокирования. Интеграционное тестирование и CI/CD пайплайны.\n",
            "positive\n",
            "Основы программирования Ясное и чёткое объяснение базовых структур данных. Нет. Включить больше реальных примеров использования данных структур. Принципы проектирования алгоритмов.\n",
            "positive\n",
            "Продвинутые техники программирования На вебинаре раздали виртуальные печеньки, очень мило. Нет, я был слишком занят едой. В следующий раз добавить виртуальный чай. Как запекать печенья.\n",
            "negative\n",
            "Продвинутые техники программирования Подробный разбор применения шаблонов проектирования в реальных проектах был очень познавательным. Сложности с пониманием абстрактной фабрики. Больше практических примеров для каждого шаблона проектирования. Применение шаблонов проектирования в микросервисах.\n",
            "positive\n",
            "Новейшие тенденции в IT Дискуссия о будущем облачных вычислений и их влиянии на ИТ-индустрию была очень проницательной. Нет. Включить больше кейс-стади от компаний, успешно интегрировавших облачные решения. Стратегии миграции предприятий в облако.\n",
            "positive\n",
            "Новейшие тенденции в IT Обсуждение актуальных IT-трендов 2024 года. Да, тема искусственного интеллекта требует более глубокого погружения. Больше времени на сложные темы. Глубокое изучение нейронных сетей.\n",
            "positive\n",
            "Новейшие тенденции в IT Обсуждение тенденций в разработке мобильных приложений и их влияние на рынок было весьма познавательным. Нет. Включить больше примеров успешных мобильных приложений и их стратегий монетизации. Разработка кроссплатформенных мобильных приложений.\n",
            "positive\n",
            "Новейшие тенденции в IT Обзор последних достижений в области квантовых вычислений был впечатляющим. Да, сложность темы требует более глубокого погружения. Организовать серию вебинаров по квантовым технологиям с участием экспертов. Квантовая криптография и её практическое применение.\n",
            "positive\n",
            "Новейшие тенденции в IT Вебинар о технологиях блокчейна и их влиянии на финансовую отрасль был глубоко информативным. Да, концепции смарт-контрактов были сложными для понимания. Ввести вебинар, полностью посвященный смарт-контрактам, с практическими примерами. Разработка и тестирование смарт-контрактов на разных платформах.\n",
            "positive\n",
            "Новейшие тенденции в IT Обсуждение влияния облачных технологий на современные IT-структуры было особенно актуальным. Да, различия между IaaS, PaaS, и SaaS. Устроить подробный вебинар о каждой облачной модели в отдельности. Безопасность данных в облаке и лучшие практики.\n",
            "positive\n",
            "ChatGPT для обучения как правильно пользоваться GPT чатом, для получения более развернутого ответа не было пока нет предложений затрудняюсь ответить\n",
            "negative\n",
            "Управление персоналом Все понравилось Календарь составили так, что совместилось два обучения в одно и тоже время, что не совсем удобно Все хорошо Создания чата со студентами\n",
            "positive\n",
            "ChatGPT для обучения Gpt чат Информация предоставлена в доступном виде Все хорошо Другие виды ИИ\n",
            "negative\n",
            "ChatGPT для обучения Промт-Инжиниринг, это уже даёт какое-то понимание правильной формулировки вопросов для ИИ. Нет Не увидел минусов в вебинаре, очень понравился. Промт-Инжиниринг\n",
            "positive\n",
            "ChatGPT для обучения новая информация, полезно нет не было таких моментов мне все понравилось пока затрудняюсь ответить\n",
            "positive\n",
            "ChatGPT для обучения Светлые и темные стороны ChatGPT Не знание определений Все идеально темы по дизайну интерьера\n",
            "positive\n",
            "Новейшие тенденции в IT Обсуждение было настолько скучным, что я научился жонглировать во время вебинара. Да, пытался понять жонглирование тремя шарами. Возможно, включить более динамичную музыку во время обсуждений. Жонглирование для начинающих.\n",
            "positive\n",
            "Продвинутые техники программирования Глубокий анализ шаблонов проектирования на конкретных примерах. Сложно было понять шаблон Singleton. Подробнее разбирать каждый шаблон на примерах. Тестирование ПО и фреймворки для автоматизации.\n",
            "positive\n",
            "Основы программирования Объяснение циклов и массивов в JavaScript было очень доступным и понятным. Нет. Добавить видео с разбором сложных примеров кода после вебинара. Подробнее о Node.js и серверном JavaScript.\n",
            "positive\n",
            "Основы программирования Примеры кода были очень полезными для понимания. Нет. Предоставить дополнительные ресурсы для углубленного изучения. Базы данных и SQL.\n",
            "positive\n",
            "Основы программирования Занятие по основам HTML и CSS было чрезвычайно полезным для понимания структуры веб-страниц. Нет. Предложить курс по продвинутым техникам CSS, включая Flexbox и Grid. Погружение в JavaScript для интерактивности веб-страниц.\n",
            "positive\n",
            "Основы программирования Подробный разбор циклов и условных операторов в JavaScript помог укрепить мои знания. Нет. Ввести более сложные задачи для практики после вебинара. Асинхронное программирование в JavaScript и его применение в реальных проектах.\n",
            "positive\n",
            "Основы программирования Отличное объяснение переменных, типов данных и структур в Python. Нет. Предложить дополнительные учебные материалы для глубокого изучения каждой темы. Глубокое изучение функционального программирования.\n",
            "positive\n",
            "Основы программирования Дискуссия о том, как писать код одной рукой, была неожиданно увлекательной. Нет, это было странно интересно. Может быть, курс по печати ногами для разнообразия? Как писать код левой пяткой.\n",
            "negative\n",
            "Основы программирования Отличное введение в основы SQL, особенно работа с JOIN-операциями. Да, сложности с пониманием внешних и внутренних соединений. Предложить более подробные учебные ресурсы и примеры запросов для практики. Оптимизация запросов SQL и анализ производительности баз данных.\n",
            "positive\n",
            "Продвинутые техники программирования Сессия по оптимизации производительности веб-приложений дала мне новые инструменты для работы. Да, концепты кэширования данных были сложными. Углубить тему кэширования и состояния сессии в отдельном вебинаре. Работа с большими данными и их хранение.\n",
            "positive\n",
            "Продвинутые техники программирования Затронута тема безопасности приложений, что крайне важно. Сложности с пониманием криптографических методов. Добавить примеры на кейсах из жизни. Кибербезопасность.\n",
            "positive\n",
            "Основы программирования Отличное объяснение темы циклов и условий, всё стало на свои места. Да, сложно было понять тему рекурсии. Хотелось бы больше практических заданий по каждой теме. Глубже изучить тему работы с базами данных.\n",
            "positive\n",
            "Продвинутые техники программирования Разбор примеров рефакторинга кода был очень практичным и полезным для понимания, как улучшить существующий код. Некоторые сложные примеры рефакторинга. Углубить материал с дополнительными кейс-стади из реальных проектов. Методы оптимизации производительности приложений.\n",
            "positive\n",
            "Продвинутые техники программирования Очень ценно было изучить интеграцию API в большие системы, использование RESTful и GraphQL. Да, работа с GraphQL была сложнее, чем ожидалось. Провести серию практических вебинаров, специально посвященных GraphQL. Безопасность API, управление доступом и ограничения скорости запросов.\n",
            "positive\n",
            "Новейшие тенденции в IT Интересное обсуждение применения искусственного интеллекта в нетехнических отраслях. Да, были трудности с пониманием нейросетей. Уделить больше времени основам нейросетей перед их применением. Машинное обучение и его применение в реальных условиях.\n",
            "positive\n",
            "Продвинутые техники программирования Глубокое погружение в архитектуру REST и SOAP интерфейсов было крайне полезным для моих проектов. Нет. Организовать практические лаборатории по созданию и тестированию API. Безопасность API и использование OAuth 2.0.\n",
            "positive\n",
            "Продвинутые техники программирования Глубокий анализ принципов SOLID и их применение в объектно-ориентированном проектировании был великолепен. Да, примеры на C# были запутанными. Организовать дополнительные сессии по практическому применению SOLID в различных языках программирования. Глубокое изучение паттернов проектирования и рефакторинга существующего кода.\n",
            "positive\n",
            "Продвинутые техники программирования Презентация была настолько монотонной, что я научился рисовать слонов. Да, как правильно рисовать уши слона. Пожалуй, стоит добавить курс по рисованию к вебинарам, чтобы сохранить внимание слушателей. Рисование слонов в Photoshop.\n",
            "positive\n",
            "Новейшие тенденции в IT Лекция о влиянии ИИ на автоматизацию рабочих процессов была весьма актуальной. Нет. Обсудить более подробно кейсы применения ИИ в разных отраслях. Применение ИИ для оптимизации клиентского сервиса.\n",
            "positive\n",
            "Новейшие тенденции в IT Дискуссия о будущем искусственного интеллекта и его этических аспектах была особенно привлекательной. Да, темы моральных дилемм ИИ требовали более глубокого понимания. Устроить дебаты или панельную дискуссию с экспертами по этике ИИ, чтобы обсудить эти вопросы подробнее. Роль ИИ в управлении данными и приватности.\n",
            "positive\n",
            "Новейшие тенденции в IT Обсуждение машинного обучения было особенно интересным. Да, темы, связанные с Big Data, остались не до конца ясны. Углубленный разбор каждой темы. Технологии Big Data.\n",
            "positive\n",
            "Новейшие тенденции в IT Введение в искусственный интеллект и его влияние на робототехнику было захватывающим и познавательным. Да, темы построения нейросетей требовали более детального объяснения. Провести специализированные вебинары по машинному обучению и нейросетям, с практическими занятиями на реальных данных. Разработка и применение нейросетей в индустрии развлечений и медиа.\n",
            "positive\n",
            "Новейшие тенденции в IT Доклад о последних инновациях в области искусственного интеллекта и машинного обучения был вдохновляющим. Да, сложности с пониманием концепций глубокого обучения. Провести серию вебинаров, посвященных только машинному обучению, с кейс-стади и примерами из практики. Применение ИИ в реальных бизнес-задачах.\n",
            "positive\n",
            "Новейшие тенденции в IT Лектор использовал так много жаргонных слов, что я составил словарь. Да, пытался понять, что такое \"блокчейн\". Ввести словарь на каждом вебинаре, чтобы можно было следить за разговором. Разработка собственного жаргона для внутреннего использования.\n",
            "positive\n",
            "Новейшие тенденции в IT Интерактивная сессия о применении ИИ в финансовом секторе была исчерпывающей и инновационной. Да, спецификации алгоритмов машинного обучения. Организовать более детальные практические занятия по настройке ИИ. Этические аспекты использования ИИ в финансах.\n",
            "positive\n",
            "Основы программирования Отличное введение в язык программирования Java, особенно раздел про исключения. Нет. Добавить больше задач на практику после каждой темы. Глубокое изучение многопоточности в Java.\n",
            "positive\n"
          ]
        }
      ]
    },
    {
      "cell_type": "markdown",
      "source": [
        "# ОБРАБОТКА РЕЗУЛЬТАТА В GPTlike модели"
      ],
      "metadata": {
        "id": "4k_UYUB2ymYV"
      }
    },
    {
      "cell_type": "markdown",
      "source": [
        "### Код object"
      ],
      "metadata": {
        "id": "-ikzXkyQN-c9"
      }
    },
    {
      "cell_type": "code",
      "source": [
        "!pip install gradio_client"
      ],
      "metadata": {
        "id": "C50HW_bVgmj_"
      },
      "execution_count": null,
      "outputs": []
    },
    {
      "cell_type": "code",
      "source": [
        "import pandas as pd\n",
        "\n",
        "# Замените 'data.csv' на путь к вашему файлу CSV\n",
        "df = pd.read_csv('train_data.csv')\n",
        "\n",
        "concatenated_questions_list = []\n",
        "object_list = []\n",
        "\n",
        "# Проходим по каждой строке и конкатенируем значения в столбцах question_1 до question_5\n",
        "for index, row in df.iterrows():\n",
        "    concatenated_questions = ' '.join(row[['question_2', 'question_3', 'question_4', 'question_5']])\n",
        "    concatenated_questions_list.append(concatenated_questions)\n",
        "    # print(concatenated_questions)\n",
        "\n",
        "# Проходим по каждой строке и конкатенируем значения в столбцах question_1 до question_5\n",
        "for index, row in df.iterrows():\n",
        "    obj = ''.join(str(row['object']))\n",
        "    object_list.append(obj)\n",
        "print(concatenated_questions_list)\n",
        "print(object_list)"
      ],
      "metadata": {
        "colab": {
          "base_uri": "https://localhost:8080/"
        },
        "id": "XAvyc1M0ELc0",
        "outputId": "7c45081c-a3e6-4872-9f27-6c92bb9a8c79"
      },
      "execution_count": 53,
      "outputs": [
        {
          "output_type": "stream",
          "name": "stdout",
          "text": [
            "['Интерактивный подход к изучению основ C# был очень увлекательным. Нет. Увеличить количество практических заданий для лучшего закрепления материала. Введение в разработку на .NET Framework.', 'Подробное объяснение логических операторов в JavaScript помогло мне лучше понять условные конструкции. Нет. Предоставить ещё больше практических задач после теории. Детальное изучение асинхронного программирования в JavaScript.', 'Введение в программирование на Python было простым и интуитивно понятным, особенно для начинающих. Нет. Улучшить качество видеоматериалов, иногда было трудно разглядеть код. Библиотеки Python для анализа данных и машинного обучения.', 'Понятное изложение основных понятий, хорошая структура материала. Да, циклы for и while были объяснены слишком быстро. Добавить видеоматериалы для самостоятельного изучения. Функциональное программирование.', 'Кларность и структура материала по основам JavaScript, особенно затронутые темы циклов и функций. Нет. Ввести больше примеров на работу с массивами и объектами. Работа с асинхронным кодом в JavaScript.', 'Простота объяснений основ Python, особенно циклов и условий, сделала занятие очень доступным. Нет. Предложить больше дополнительных материалов для самостоятельного изучения после вебинара. Подробнее о работе с API в Python.', 'Лектор имел забавную прическу, что отвлекало, но было весело. Да, особенно когда кот лектора прыгнул на стол. Может, начать с курса стрижки для лекторов? И убрать котов из кадра. Как сделать так, чтобы коты не мешали учёбе.', 'Детальный разбор объектно-ориентированного программирования. Нет. Ввести дополнительные Q&A сессии после вебинара. Принципы SOLID в программировании.', 'Разбор использования шаблонов проектирования в Java был очень подробным и полезным. Да, тема абстрактных фабрик была сложной для понимания. Организовать вебинары с более подробными примерами реализации каждого шаблона. Применение шаблонов проектирования в реальных проектах.', 'Изучение сложных структур данных в Python, таких как деревья и графы, было особенно интересным. Да, работа с графами и их алгоритмами. Устроить отдельные вебинары по каждому типу структуры данных с подробными примерами. Глубокое изучение алгоритмов поиска пути и оптимизации.', 'Обширное покрытие темы REST API и как они интегрируются с современными веб-приложениями было очень полезно. Да, концепции OAuth 2.0 были сложными для понимания. Больше интерактивных примеров и пошаговых руководств по реализации API. Подробности реализации микросервисов на Spring Boot и Docker.', 'Глубина разбора модульного тестирования и TDD была полезной для понимания процессов разработки. Да, использование моков и стабов в тестах. Предоставить дополнительные ресурсы для изучения инструментов мокирования. Интеграционное тестирование и CI/CD пайплайны.', 'Ясное и чёткое объяснение базовых структур данных. Нет. Включить больше реальных примеров использования данных структур. Принципы проектирования алгоритмов.', 'На вебинаре раздали виртуальные печеньки, очень мило. Нет, я был слишком занят едой. В следующий раз добавить виртуальный чай. Как запекать печенья.', 'Подробный разбор применения шаблонов проектирования в реальных проектах был очень познавательным. Сложности с пониманием абстрактной фабрики. Больше практических примеров для каждого шаблона проектирования. Применение шаблонов проектирования в микросервисах.', 'Дискуссия о будущем облачных вычислений и их влиянии на ИТ-индустрию была очень проницательной. Нет. Включить больше кейс-стади от компаний, успешно интегрировавших облачные решения. Стратегии миграции предприятий в облако.', 'Обсуждение актуальных IT-трендов 2024 года. Да, тема искусственного интеллекта требует более глубокого погружения. Больше времени на сложные темы. Глубокое изучение нейронных сетей.', 'Обсуждение тенденций в разработке мобильных приложений и их влияние на рынок было весьма познавательным. Нет. Включить больше примеров успешных мобильных приложений и их стратегий монетизации. Разработка кроссплатформенных мобильных приложений.', 'Обзор последних достижений в области квантовых вычислений был впечатляющим. Да, сложность темы требует более глубокого погружения. Организовать серию вебинаров по квантовым технологиям с участием экспертов. Квантовая криптография и её практическое применение.', 'Вебинар о технологиях блокчейна и их влиянии на финансовую отрасль был глубоко информативным. Да, концепции смарт-контрактов были сложными для понимания. Ввести вебинар, полностью посвященный смарт-контрактам, с практическими примерами. Разработка и тестирование смарт-контрактов на разных платформах.', 'Обсуждение влияния облачных технологий на современные IT-структуры было особенно актуальным. Да, различия между IaaS, PaaS, и SaaS. Устроить подробный вебинар о каждой облачной модели в отдельности. Безопасность данных в облаке и лучшие практики.', 'как правильно пользоваться GPT чатом, для получения более развернутого ответа не было пока нет предложений затрудняюсь ответить', 'Все понравилось Календарь составили так, что совместилось два обучения в одно и тоже время, что не совсем удобно Все хорошо Создания чата со студентами', 'Gpt чат Информация предоставлена в доступном виде Все хорошо Другие виды ИИ', 'Промт-Инжиниринг, это уже даёт какое-то понимание правильной формулировки вопросов для ИИ. Нет Не увидел минусов в вебинаре, очень понравился. Промт-Инжиниринг', 'новая информация, полезно нет не было таких моментов мне все понравилось пока затрудняюсь ответить', 'Светлые и темные стороны ChatGPT Не знание определений Все идеально темы по дизайну интерьера', 'Обсуждение было настолько скучным, что я научился жонглировать во время вебинара. Да, пытался понять жонглирование тремя шарами. Возможно, включить более динамичную музыку во время обсуждений. Жонглирование для начинающих.', 'Глубокий анализ шаблонов проектирования на конкретных примерах. Сложно было понять шаблон Singleton. Подробнее разбирать каждый шаблон на примерах. Тестирование ПО и фреймворки для автоматизации.', 'Объяснение циклов и массивов в JavaScript было очень доступным и понятным. Нет. Добавить видео с разбором сложных примеров кода после вебинара. Подробнее о Node.js и серверном JavaScript.', 'Примеры кода были очень полезными для понимания. Нет. Предоставить дополнительные ресурсы для углубленного изучения. Базы данных и SQL.', 'Занятие по основам HTML и CSS было чрезвычайно полезным для понимания структуры веб-страниц. Нет. Предложить курс по продвинутым техникам CSS, включая Flexbox и Grid. Погружение в JavaScript для интерактивности веб-страниц.', 'Подробный разбор циклов и условных операторов в JavaScript помог укрепить мои знания. Нет. Ввести более сложные задачи для практики после вебинара. Асинхронное программирование в JavaScript и его применение в реальных проектах.', 'Отличное объяснение переменных, типов данных и структур в Python. Нет. Предложить дополнительные учебные материалы для глубокого изучения каждой темы. Глубокое изучение функционального программирования.', 'Дискуссия о том, как писать код одной рукой, была неожиданно увлекательной. Нет, это было странно интересно. Может быть, курс по печати ногами для разнообразия? Как писать код левой пяткой.', 'Отличное введение в основы SQL, особенно работа с JOIN-операциями. Да, сложности с пониманием внешних и внутренних соединений. Предложить более подробные учебные ресурсы и примеры запросов для практики. Оптимизация запросов SQL и анализ производительности баз данных.', 'Сессия по оптимизации производительности веб-приложений дала мне новые инструменты для работы. Да, концепты кэширования данных были сложными. Углубить тему кэширования и состояния сессии в отдельном вебинаре. Работа с большими данными и их хранение.', 'Затронута тема безопасности приложений, что крайне важно. Сложности с пониманием криптографических методов. Добавить примеры на кейсах из жизни. Кибербезопасность.', 'Отличное объяснение темы циклов и условий, всё стало на свои места. Да, сложно было понять тему рекурсии. Хотелось бы больше практических заданий по каждой теме. Глубже изучить тему работы с базами данных.', 'Разбор примеров рефакторинга кода был очень практичным и полезным для понимания, как улучшить существующий код. Некоторые сложные примеры рефакторинга. Углубить материал с дополнительными кейс-стади из реальных проектов. Методы оптимизации производительности приложений.', 'Очень ценно было изучить интеграцию API в большие системы, использование RESTful и GraphQL. Да, работа с GraphQL была сложнее, чем ожидалось. Провести серию практических вебинаров, специально посвященных GraphQL. Безопасность API, управление доступом и ограничения скорости запросов.', 'Интересное обсуждение применения искусственного интеллекта в нетехнических отраслях. Да, были трудности с пониманием нейросетей. Уделить больше времени основам нейросетей перед их применением. Машинное обучение и его применение в реальных условиях.', 'Глубокое погружение в архитектуру REST и SOAP интерфейсов было крайне полезным для моих проектов. Нет. Организовать практические лаборатории по созданию и тестированию API. Безопасность API и использование OAuth 2.0.', 'Глубокий анализ принципов SOLID и их применение в объектно-ориентированном проектировании был великолепен. Да, примеры на C# были запутанными. Организовать дополнительные сессии по практическому применению SOLID в различных языках программирования. Глубокое изучение паттернов проектирования и рефакторинга существующего кода.', 'Презентация была настолько монотонной, что я научился рисовать слонов. Да, как правильно рисовать уши слона. Пожалуй, стоит добавить курс по рисованию к вебинарам, чтобы сохранить внимание слушателей. Рисование слонов в Photoshop.', 'Лекция о влиянии ИИ на автоматизацию рабочих процессов была весьма актуальной. Нет. Обсудить более подробно кейсы применения ИИ в разных отраслях. Применение ИИ для оптимизации клиентского сервиса.', 'Дискуссия о будущем искусственного интеллекта и его этических аспектах была особенно привлекательной. Да, темы моральных дилемм ИИ требовали более глубокого понимания. Устроить дебаты или панельную дискуссию с экспертами по этике ИИ, чтобы обсудить эти вопросы подробнее. Роль ИИ в управлении данными и приватности.', 'Обсуждение машинного обучения было особенно интересным. Да, темы, связанные с Big Data, остались не до конца ясны. Углубленный разбор каждой темы. Технологии Big Data.', 'Введение в искусственный интеллект и его влияние на робототехнику было захватывающим и познавательным. Да, темы построения нейросетей требовали более детального объяснения. Провести специализированные вебинары по машинному обучению и нейросетям, с практическими занятиями на реальных данных. Разработка и применение нейросетей в индустрии развлечений и медиа.', 'Доклад о последних инновациях в области искусственного интеллекта и машинного обучения был вдохновляющим. Да, сложности с пониманием концепций глубокого обучения. Провести серию вебинаров, посвященных только машинному обучению, с кейс-стади и примерами из практики. Применение ИИ в реальных бизнес-задачах.', 'Лектор использовал так много жаргонных слов, что я составил словарь. Да, пытался понять, что такое \"блокчейн\". Ввести словарь на каждом вебинаре, чтобы можно было следить за разговором. Разработка собственного жаргона для внутреннего использования.', 'Интерактивная сессия о применении ИИ в финансовом секторе была исчерпывающей и инновационной. Да, спецификации алгоритмов машинного обучения. Организовать более детальные практические занятия по настройке ИИ. Этические аспекты использования ИИ в финансах.', 'Отличное введение в язык программирования Java, особенно раздел про исключения. Нет. Добавить больше задач на практику после каждой темы. Глубокое изучение многопоточности в Java.', 'Ясное объяснение функций и методов в Python помогло мне лучше понять объектно-ориентированное программирование. Нет. Разработать интерактивные лабораторные работы для лучшего усвоения материала. Глубокое изучение Python для научных вычислений.', 'В теме понравилось, то что обсуждается распространенный среди аналитиков инструмент - Colab Да такие моменты были. Не были раскрыты следующие темы:1. Что такое Колаб? 2. Описание интерфейса и правил работы с Колаб. 3. Для чего он нужен. 4. Функции Колаб. 5. Библиотеки Колаб. 6. Как открыть Колаб в Вижуал Студио. 7. Как установить модули для открытия Колаб в Вижуал Студио. Это первое что пришло на ум. Кстати не зря вам прислали ссылку на урок. Под уроком есть много комментариев недовольных пользователей. Рассказать о том о чем я рассказал в предыдущем вопросе: 1. Что такое Колаб? 2. Описание интерфейса и правил работы с Колаб. 3. Для чего он нужен. 4. Функции Колаб. 5. Библиотеки Колаб. 6. Как открыть Колаб в Вижуал Студио. 7. Как установить модули для открытия Колаб в Вижуал Студио. Библиотеки Колаб', 'Материал доступен Я не понимаю, зачем мне python Я учуст на Frontend разработчика, зачем мне питон? Дайте мне JS Хочу учить JS', 'Объяснения понятий переменных, типов данных и операторов в Java были ясными и тщательными. Нет. Добавить больше упражнений на практическое применение изученных концепций. Подробное изучение Java для Android-разработки.', 'Ясное и прямолинейное объяснение условных операторов и циклов в C++. Нет. Включить больше комплексных задач для практических занятий. Разработка игр на C++.', 'Подробный разбор процессов компиляции и интерпретации в различных языках программирования был полезен. Да, детали JIT компиляции в Java. Предложить дополнительные материалы для самостоятельного изучения и видео о внутреннем устройстве компиляторов. Подробнее о механизмах управления памятью в современных языках.', 'Легкость доступа к материалам и их понятность. Да, темы алгоритмов требуют больше времени на разбор. Увеличить продолжительность вебинаров. Алгоритмы и структуры данных.', 'Чипи чипи лувиви Ламалама Котик танцует как преподователь Как научить котика танцевать?', 'Лекция о базах данных SQL была очень информативной, особенно раздел о связях и нормализации. Нет. Улучшить визуальные материалы, добавить больше диаграмм и примеров из реальной жизни. Глубокое изучение NoSQL баз данных и их использование в больших данных.', 'Обсуждение ошибок кода было таким скучным, что я составил список фильмов к просмотру. Да, каждый раз, когда слово \"ошибка\" упоминалось. Может быть, провести кинопоказ вместо следующего вебинара? Фильмы, которые каждый программист должен видеть.', 'Майкнафт вспомнили, прослезился Добавьте Херобрина Херобрииин МАМААА', 'Вводная часть о машинном обучении была очень информативной и понятной. Нет, материал был представлен доступно. Хотелось бы уделить больше времени вопросам безопасности при программировании. Технологии блокчейн и их применение в программировании.', 'Введение в микросервисы было крайне полезным для понимания современных архитектурных подходов. Да, раздел о контейнеризации был сложным. Провести дополнительный вебинар по Docker и Kubernetes. Подробности о развертывании приложений в облаке.', 'Вебинар по агил-методологиям и их применению в проектном управлении был чрезвычайно полезен. Да, разбор Scrum и Kanban мог быть более детализированным. Провести отдельные сессии по каждой агил-методологии с практическими примерами их использования. Адаптация агил-методологий в крупных организациях.', 'Изучение техник отладки и профилирования приложений на Java было особенно полезным для улучшения производительности. Нет. Организовать воркшопы, где участники могут применять эти техники на практике под руководством опытных разработчиков. Углубленное изучение инструментов профилирования и отладки.', 'Хорошее объяснение принципов проектирования ПО. Сложности с примерами рефакторинга. Добавить рабочие листы для отработки материала. Принципы проектирования интерфейсов.', 'Разбор использования Docker и Kubernetes для развертывания приложений дал мне ценные знания для работы. Сложности с настройкой Kubernetes. Провести дополнительные сессии, посвященные только Kubernetes, с демонстрацией живого развертывания. Подробное изучение микросервисной архитектуры.', 'Сессия по оптимизации SQL запросов была чрезвычайно полезна для улучшения производительности баз данных. Нет. Предоставить доступ к онлайн тренажеру для оттачивания навыков написания и оптимизации SQL запросов. Глубокое понимание индексов и их влияние на производительность.', 'Презентация о развитии кибербезопасности и новых методах защиты информации была крайне информативной. Нет. Предложить серию вебинаров, посвященных подробному разбору инструментов защиты данных. Новые технологии в области защиты персональных данных.', 'Сессия по безопасности веб-приложений была не только образовательной, но и очень актуальной. Да, детали XSS и CSRF атак были сложными для понимания. Разработать серию вебинаров, посвященных только кибербезопасности, с практическими упражнениями и тестами. Продвинутые методы защиты данных и инфраструктуры.', 'Освещение прогресса в технологии блокчейн и её применения в различных секторах экономики было проницательным. Да, объяснения функционирования сетей блокчейн. Подробнее разбирать техническую сторону блокчейн технологий на примерах успешных проектов. Разработка на базе Ethereum, включая создание смарт-контрактов.', 'Обсуждение влияния квантовых компьютеров на будущее криптографии было захватывающим. Сложности с пониманием квантовой физики. Обеспечить базовый вводный курс по квантовой механике перед этой темой. Квантовое программирование и его будущее.', 'Презентация о влиянии блокчейн технологий на безопасность данных была крайне просветляющей. Да, концепты шифрования в блокчейне. Организовать тематический вебинар о криптографии, используемой в блокчейне. Разработка смарт-контрактов и их безопасность.', 'Введение в технологии распределенных систем и их применение в разных отраслях было захватывающим. Да, концепции консенсуса в блокчейне были трудными для понимания. Организовать технические воркшопы по каждой теме вебинара для глубокого понимания. Распределенные вычисления и их применение в больших данных.', 'Изучение основных принципов создания пользовательских интерфейсов на React было практичным и актуальным. Да, сложности с Redux для управления состоянием. Устроить дополнительные вебинары по Redux и контексту React для глубокого понимания управления состоянием. Разработка сложных интерактивных веб-приложений на React.', 'Ильнар Шафигуллин большой молодец нет Чаще ставить преподователя на вебинары Больше примеров с уточкой', 'Обсуждение влияния больших данных на современный маркетинг было очень проницательным. Да, вопросы обработки и анализа больших объемов данных были запутанными. Предложить курсы по аналитике данных с использованием специализированных инструментов, таких как Hadoop или Spark. Методы визуализации данных для бизнес-анализа.', 'Презентация новых технологий в визуализации данных. Некоторые примеры были слишком сложны для понимания. Менее загруженные слайды, больше практики. Интерактивная визуализация данных.', 'Обучение эффективным методам написания чистого кода в Python было крайне полезным для моих проектов. Нет. Устроить регулярные сессии код-ревью с опытными разработчиками для обмена опытом и лучшими практиками. Принципы разработки программного обеспечения по методологии Agile.', 'Понравилась харизма преподователя нет, не было Все прошло хорошо Про алгоритмы интересно и устройство процессора', 'Преподователь супер нет Преподователь вырулил все недостатки Не знаю, дальше по программе обучения двигаться', 'Занятие по алгоритмам сортировки было насыщено множеством практических примеров, что упростило понимание. Да, быстрая сортировка требовала более тщательного объяснения. Предложить дополнительные видеоуроки по каждому типу алгоритмов сортировки с подробными примерами кода. Продвинутые алгоритмы и структуры данных, такие как деревья и графы.', 'Разбор методов коллекций в Java был исключительно полезен для понимания работы со списками и множествами. Да, методы Stream API. Разработать детальный курс по работе с Stream API в Java, включая практические примеры. Глубокое изучение многопоточности в Java.', 'Интерактивный подход преподавателя позволил лучше усвоить информацию. Нет, все было понятно. Хотелось бы более подробные материалы для самостоятельного изучения. Больше практических задач на алгоритмы.', 'Чёткое объяснение парадигмы функционального программирования на примере Scala. Да, концепции чистых функций и неизменяемости были запутанными. Устраивать сессии вопросов и ответов после сложных тем. Функциональные языки программирования как Haskell.', 'Освежающий подход к изучению JavaScript, особенно в части ES6+ функционала, был весьма стимулирующим. Нет. Увеличить количество заданий на кодирование в реальном времени для лучшего усвоения материала. Современные фронтенд технологии, такие как React и Angular.', 'Задания для самостоятельной работы помогли закрепить материал. Да, темы объектно-ориентированного программирования были сложными. Больше времени на практические упражнения. Работа с исключениями в программировании.', 'Понравилось как он рассказывает Ха затруднения Удалите эти эфиры все и займитесь нормальным уже делом Не надо мне тему', 'Глубина разбора кейсов из реальной практики. Некоторые технические термины не были объяснены. Больше времени уделять базовым концепциям для новичков. Искусственный интеллект в области здравоохранения.', 'Разнообразие примеров из реального мира помогло лучше понять применение теории. Да, разбор паттернов проектирования был слишком быстрым. Меньше теории, больше практики. Сделать вебинары более интерактивными с возможностью задавать вопросы в реальном времени. Изучение разработки виртуальной и дополненной реальности.', 'Преподователь Арбуз Преподователь красный внутри Арбуз хочу Арбуз я покушать я люблю, семки все я исплюю', 'Я не люблю все это Шли вы Платити мани мани студентам как мани поднять', 'Разбор техник оптимизации кода на C++ был очень глубоким и практичным. Нет. Предложить материалы для дополнительного изучения сложных тем. Оптимизация и производительность программ на низком уровне.', 'Примеры реального использования паттернов проектирования в .NET были очень ценными. Нет. Больше времени на анализ кода в примерах, меньше теории. Паттерны проектирования для микросервисных архитектур.', 'Зазнался преподователь Напыщенный преподователь Уважение Вопрос к воспитанию преподователя', 'Преподователь раз такой умный , зачем за гроши работаешь? Унижение Уважать студентов и не хамить К преподователю', 'Очень понравилось изучение применения технологий виртуальной реальности в образовании. Да, тема разработки контента для VR была недостаточно подробна. Организовать практические занятия по созданию VR-контента. Разработка приложений для виртуальной реальности.', 'Очень подробный разбор сложных концепций. Сложности с пониманием асинхронного программирования. Нужно больше примеров из жизни. Разработка мобильных приложений.', 'Понравилась тема Да, преподователь нес чушь и путался в своих же словах Поменяйте преподователя Хотел бы повторить тему Java коллекции', 'Понравился методический вебинар Преподователь сошел с ума Я думаю с другим преподователем я получил бы больше знаний Хочу перепройти вебинар с другим преподователем']\n",
            "['0', '0', '0', '0', '0', '0', '2', '1', '1', '1', '1', '1', '0', '1', '1', '2', '2', '2', '2', '2', '2', '0', '1', '0', '0', '0', '0', '0', '1', '0', '0', '0', '0', '0', '0', '0', '1', '1', '0', '1', '1', '2', '1', '1', '1', '2', '2', '2', '2', '2', '2', '2', '0', '0', '1', '1', '0', '0', '0', '0', '2', '0', '0', '1', '1', '1', '1', '1', '1', '1', '1', '2', '1', '2', '2', '2', '2', '0', '2', '2', '2', '0', '2', '2', '0', '0', '0', '0', '0', '0', '2', '1', '2', '2', '1', '1', '0', '2', '2', '2', '2', '2', '2']\n"
          ]
        }
      ]
    },
    {
      "cell_type": "code",
      "source": [
        "from gradio_client import Client\n",
        "\n",
        "client = Client(\"https://qwen-qwen1-5-72b-chat.hf.space/--replicas/3kh1x/\")\n",
        "\n",
        "\n",
        "def get_label_object(text):\n",
        "\n",
        "    dox=f\"кому направлен отзыв. выбери один варинат наиболее веротяный \\\n",
        "    0 - техническая часть вебинара (Примеры: интерактивный подход к изучению, структура материала, практических задач, просто и понятно, хорошая структура, доступном виде, правильной формулировки вопросов) , \\\n",
        "    1 - программа вебинара (Примеры: тема с подробными примерами, практических задач, подробности реализации, детальный разбор, был очень подробным и полезным, ясное и чёткое, совместилось обучение, примеры на кейсах из жизни, информативной и понятной), \\\n",
        "    2 - преподаватель (Примеры:лектор, лектор имел, материал более живым, обсуждение актуальных тем тендеций, обсуждение применения, освещение, презентация, дискуссия о, лекция о, доклад о, харизма преподователя, преподаватель, он рассказывает, зазнался, умный).\\\n",
        "    {text.replace('.', '').lower()}\"\n",
        "    result = client.predict(\n",
        "        dox,\t# str  in 'Input' Textbox component\n",
        "        [[ \"None\", \"None\" ],],\t# Tuple[str | Dict(file: filepath, alt_text: str | None) | None, str | Dict(file: filepath, alt_text: str | None) | None]  in 'Qwen1.5-72B-Chat' Chatbot component\n",
        "        \"None\",\t# str  in 'parameter_9' Textbox component\n",
        "        api_name=\"/model_chat\"\n",
        "    )\n",
        "\n",
        "    answer = result[1][1][1].lower()\n",
        "    if \"техническую часть\" in answer or \"технической части\" in answer or \"техническая часть\" in answer or \"организация вебинара\" in answer or \"tech\" in answer or \"нет определенного варианта\" in answer:\n",
        "        print(0)\n",
        "        return 0\n",
        "    elif \"преподаватель\" in answer or \"лектор\" in answer or \"1 - программе вебинара\" in answer or \"prepodavatel\" in answer:\n",
        "        print(2)\n",
        "        return 2\n",
        "    else:\n",
        "        print(1)\n",
        "        return 1\n",
        "    print(\"------>\", answer, \"<------\")\n",
        "    print()"
      ],
      "metadata": {
        "id": "wadXmvlwFVkD",
        "colab": {
          "base_uri": "https://localhost:8080/"
        },
        "outputId": "03ee5a63-b760-4e9c-a851-5c729a3fc323"
      },
      "execution_count": 56,
      "outputs": [
        {
          "output_type": "stream",
          "name": "stdout",
          "text": [
            "Loaded as API: https://qwen-qwen1-5-72b-chat.hf.space/--replicas/3kh1x/ ✔\n"
          ]
        }
      ]
    },
    {
      "cell_type": "code",
      "source": [
        "# Открываем файл CSV для чтения\n",
        "with open('your_submission.csv', 'r') as file:\n",
        "    # Создаем объект чтения CSV\n",
        "    csv_reader = csv.reader(file)\n",
        "\n",
        "    # Читаем заголовок\n",
        "    header = next(csv_reader)\n",
        "\n",
        "    # Читаем данные из файла\n",
        "    data = list(csv_reader)\n",
        "\n",
        "print(len(data))\n",
        "\n",
        "# Заменяем каждое значение в колонке is_relevant на 1\n",
        "for row, text in zip(data, concatenated_questions_list[:len(data)]):\n",
        "    print(text)\n",
        "    row[2] = get_label_object(text)\n",
        "\n",
        "# Записываем измененные данные обратно в файл CSV\n",
        "with open('your_submission.csv', 'w', newline='') as file:\n",
        "    # Создаем объект записи CSV\n",
        "    csv_writer = csv.writer(file)\n",
        "\n",
        "    # Записываем заголовок\n",
        "    csv_writer.writerow(header)\n",
        "\n",
        "    # Записываем данные в файл\n",
        "    csv_writer.writerows(data)"
      ],
      "metadata": {
        "colab": {
          "base_uri": "https://localhost:8080/"
        },
        "id": "EkLqQc3gO2qk",
        "outputId": "e0cfb94d-4dca-4e49-d51b-5195bc82722a"
      },
      "execution_count": 57,
      "outputs": [
        {
          "output_type": "stream",
          "name": "stdout",
          "text": [
            "53\n",
            "Интерактивный подход к изучению основ C# был очень увлекательным. Нет. Увеличить количество практических заданий для лучшего закрепления материала. Введение в разработку на .NET Framework.\n",
            "0\n",
            "Подробное объяснение логических операторов в JavaScript помогло мне лучше понять условные конструкции. Нет. Предоставить ещё больше практических задач после теории. Детальное изучение асинхронного программирования в JavaScript.\n",
            "1\n",
            "Введение в программирование на Python было простым и интуитивно понятным, особенно для начинающих. Нет. Улучшить качество видеоматериалов, иногда было трудно разглядеть код. Библиотеки Python для анализа данных и машинного обучения.\n",
            "0\n",
            "Понятное изложение основных понятий, хорошая структура материала. Да, циклы for и while были объяснены слишком быстро. Добавить видеоматериалы для самостоятельного изучения. Функциональное программирование.\n",
            "0\n",
            "Кларность и структура материала по основам JavaScript, особенно затронутые темы циклов и функций. Нет. Ввести больше примеров на работу с массивами и объектами. Работа с асинхронным кодом в JavaScript.\n",
            "0\n",
            "Простота объяснений основ Python, особенно циклов и условий, сделала занятие очень доступным. Нет. Предложить больше дополнительных материалов для самостоятельного изучения после вебинара. Подробнее о работе с API в Python.\n",
            "0\n",
            "Лектор имел забавную прическу, что отвлекало, но было весело. Да, особенно когда кот лектора прыгнул на стол. Может, начать с курса стрижки для лекторов? И убрать котов из кадра. Как сделать так, чтобы коты не мешали учёбе.\n",
            "2\n",
            "Детальный разбор объектно-ориентированного программирования. Нет. Ввести дополнительные Q&A сессии после вебинара. Принципы SOLID в программировании.\n",
            "1\n",
            "Разбор использования шаблонов проектирования в Java был очень подробным и полезным. Да, тема абстрактных фабрик была сложной для понимания. Организовать вебинары с более подробными примерами реализации каждого шаблона. Применение шаблонов проектирования в реальных проектах.\n",
            "1\n",
            "Изучение сложных структур данных в Python, таких как деревья и графы, было особенно интересным. Да, работа с графами и их алгоритмами. Устроить отдельные вебинары по каждому типу структуры данных с подробными примерами. Глубокое изучение алгоритмов поиска пути и оптимизации.\n",
            "1\n",
            "Обширное покрытие темы REST API и как они интегрируются с современными веб-приложениями было очень полезно. Да, концепции OAuth 2.0 были сложными для понимания. Больше интерактивных примеров и пошаговых руководств по реализации API. Подробности реализации микросервисов на Spring Boot и Docker.\n",
            "1\n",
            "Глубина разбора модульного тестирования и TDD была полезной для понимания процессов разработки. Да, использование моков и стабов в тестах. Предоставить дополнительные ресурсы для изучения инструментов мокирования. Интеграционное тестирование и CI/CD пайплайны.\n",
            "0\n",
            "Ясное и чёткое объяснение базовых структур данных. Нет. Включить больше реальных примеров использования данных структур. Принципы проектирования алгоритмов.\n",
            "0\n",
            "На вебинаре раздали виртуальные печеньки, очень мило. Нет, я был слишком занят едой. В следующий раз добавить виртуальный чай. Как запекать печенья.\n",
            "0\n",
            "Подробный разбор применения шаблонов проектирования в реальных проектах был очень познавательным. Сложности с пониманием абстрактной фабрики. Больше практических примеров для каждого шаблона проектирования. Применение шаблонов проектирования в микросервисах.\n",
            "1\n",
            "Дискуссия о будущем облачных вычислений и их влиянии на ИТ-индустрию была очень проницательной. Нет. Включить больше кейс-стади от компаний, успешно интегрировавших облачные решения. Стратегии миграции предприятий в облако.\n",
            "1\n",
            "Обсуждение актуальных IT-трендов 2024 года. Да, тема искусственного интеллекта требует более глубокого погружения. Больше времени на сложные темы. Глубокое изучение нейронных сетей.\n",
            "1\n",
            "Обсуждение тенденций в разработке мобильных приложений и их влияние на рынок было весьма познавательным. Нет. Включить больше примеров успешных мобильных приложений и их стратегий монетизации. Разработка кроссплатформенных мобильных приложений.\n",
            "1\n",
            "Обзор последних достижений в области квантовых вычислений был впечатляющим. Да, сложность темы требует более глубокого погружения. Организовать серию вебинаров по квантовым технологиям с участием экспертов. Квантовая криптография и её практическое применение.\n",
            "1\n",
            "Вебинар о технологиях блокчейна и их влиянии на финансовую отрасль был глубоко информативным. Да, концепции смарт-контрактов были сложными для понимания. Ввести вебинар, полностью посвященный смарт-контрактам, с практическими примерами. Разработка и тестирование смарт-контрактов на разных платформах.\n",
            "1\n",
            "Обсуждение влияния облачных технологий на современные IT-структуры было особенно актуальным. Да, различия между IaaS, PaaS, и SaaS. Устроить подробный вебинар о каждой облачной модели в отдельности. Безопасность данных в облаке и лучшие практики.\n",
            "1\n",
            "как правильно пользоваться GPT чатом, для получения более развернутого ответа не было пока нет предложений затрудняюсь ответить\n",
            "0\n",
            "Все понравилось Календарь составили так, что совместилось два обучения в одно и тоже время, что не совсем удобно Все хорошо Создания чата со студентами\n",
            "0\n",
            "Gpt чат Информация предоставлена в доступном виде Все хорошо Другие виды ИИ\n",
            "0\n",
            "Промт-Инжиниринг, это уже даёт какое-то понимание правильной формулировки вопросов для ИИ. Нет Не увидел минусов в вебинаре, очень понравился. Промт-Инжиниринг\n",
            "1\n",
            "новая информация, полезно нет не было таких моментов мне все понравилось пока затрудняюсь ответить\n",
            "2\n",
            "Светлые и темные стороны ChatGPT Не знание определений Все идеально темы по дизайну интерьера\n",
            "1\n",
            "Обсуждение было настолько скучным, что я научился жонглировать во время вебинара. Да, пытался понять жонглирование тремя шарами. Возможно, включить более динамичную музыку во время обсуждений. Жонглирование для начинающих.\n",
            "0\n",
            "Глубокий анализ шаблонов проектирования на конкретных примерах. Сложно было понять шаблон Singleton. Подробнее разбирать каждый шаблон на примерах. Тестирование ПО и фреймворки для автоматизации.\n",
            "1\n",
            "Объяснение циклов и массивов в JavaScript было очень доступным и понятным. Нет. Добавить видео с разбором сложных примеров кода после вебинара. Подробнее о Node.js и серверном JavaScript.\n",
            "0\n",
            "Примеры кода были очень полезными для понимания. Нет. Предоставить дополнительные ресурсы для углубленного изучения. Базы данных и SQL.\n",
            "0\n",
            "Занятие по основам HTML и CSS было чрезвычайно полезным для понимания структуры веб-страниц. Нет. Предложить курс по продвинутым техникам CSS, включая Flexbox и Grid. Погружение в JavaScript для интерактивности веб-страниц.\n",
            "1\n",
            "Подробный разбор циклов и условных операторов в JavaScript помог укрепить мои знания. Нет. Ввести более сложные задачи для практики после вебинара. Асинхронное программирование в JavaScript и его применение в реальных проектах.\n",
            "1\n",
            "Отличное объяснение переменных, типов данных и структур в Python. Нет. Предложить дополнительные учебные материалы для глубокого изучения каждой темы. Глубокое изучение функционального программирования.\n",
            "0\n",
            "Дискуссия о том, как писать код одной рукой, была неожиданно увлекательной. Нет, это было странно интересно. Может быть, курс по печати ногами для разнообразия? Как писать код левой пяткой.\n",
            "0\n",
            "Отличное введение в основы SQL, особенно работа с JOIN-операциями. Да, сложности с пониманием внешних и внутренних соединений. Предложить более подробные учебные ресурсы и примеры запросов для практики. Оптимизация запросов SQL и анализ производительности баз данных.\n",
            "1\n",
            "Сессия по оптимизации производительности веб-приложений дала мне новые инструменты для работы. Да, концепты кэширования данных были сложными. Углубить тему кэширования и состояния сессии в отдельном вебинаре. Работа с большими данными и их хранение.\n",
            "2\n",
            "Затронута тема безопасности приложений, что крайне важно. Сложности с пониманием криптографических методов. Добавить примеры на кейсах из жизни. Кибербезопасность.\n",
            "1\n",
            "Отличное объяснение темы циклов и условий, всё стало на свои места. Да, сложно было понять тему рекурсии. Хотелось бы больше практических заданий по каждой теме. Глубже изучить тему работы с базами данных.\n",
            "1\n",
            "Разбор примеров рефакторинга кода был очень практичным и полезным для понимания, как улучшить существующий код. Некоторые сложные примеры рефакторинга. Углубить материал с дополнительными кейс-стади из реальных проектов. Методы оптимизации производительности приложений.\n",
            "1\n",
            "Очень ценно было изучить интеграцию API в большие системы, использование RESTful и GraphQL. Да, работа с GraphQL была сложнее, чем ожидалось. Провести серию практических вебинаров, специально посвященных GraphQL. Безопасность API, управление доступом и ограничения скорости запросов.\n",
            "1\n",
            "Интересное обсуждение применения искусственного интеллекта в нетехнических отраслях. Да, были трудности с пониманием нейросетей. Уделить больше времени основам нейросетей перед их применением. Машинное обучение и его применение в реальных условиях.\n",
            "2\n",
            "Глубокое погружение в архитектуру REST и SOAP интерфейсов было крайне полезным для моих проектов. Нет. Организовать практические лаборатории по созданию и тестированию API. Безопасность API и использование OAuth 2.0.\n",
            "1\n",
            "Глубокий анализ принципов SOLID и их применение в объектно-ориентированном проектировании был великолепен. Да, примеры на C# были запутанными. Организовать дополнительные сессии по практическому применению SOLID в различных языках программирования. Глубокое изучение паттернов проектирования и рефакторинга существующего кода.\n",
            "1\n",
            "Презентация была настолько монотонной, что я научился рисовать слонов. Да, как правильно рисовать уши слона. Пожалуй, стоит добавить курс по рисованию к вебинарам, чтобы сохранить внимание слушателей. Рисование слонов в Photoshop.\n",
            "0\n",
            "Лекция о влиянии ИИ на автоматизацию рабочих процессов была весьма актуальной. Нет. Обсудить более подробно кейсы применения ИИ в разных отраслях. Применение ИИ для оптимизации клиентского сервиса.\n",
            "1\n",
            "Дискуссия о будущем искусственного интеллекта и его этических аспектах была особенно привлекательной. Да, темы моральных дилемм ИИ требовали более глубокого понимания. Устроить дебаты или панельную дискуссию с экспертами по этике ИИ, чтобы обсудить эти вопросы подробнее. Роль ИИ в управлении данными и приватности.\n",
            "2\n",
            "Обсуждение машинного обучения было особенно интересным. Да, темы, связанные с Big Data, остались не до конца ясны. Углубленный разбор каждой темы. Технологии Big Data.\n",
            "1\n",
            "Введение в искусственный интеллект и его влияние на робототехнику было захватывающим и познавательным. Да, темы построения нейросетей требовали более детального объяснения. Провести специализированные вебинары по машинному обучению и нейросетям, с практическими занятиями на реальных данных. Разработка и применение нейросетей в индустрии развлечений и медиа.\n",
            "1\n",
            "Доклад о последних инновациях в области искусственного интеллекта и машинного обучения был вдохновляющим. Да, сложности с пониманием концепций глубокого обучения. Провести серию вебинаров, посвященных только машинному обучению, с кейс-стади и примерами из практики. Применение ИИ в реальных бизнес-задачах.\n",
            "1\n",
            "Лектор использовал так много жаргонных слов, что я составил словарь. Да, пытался понять, что такое \"блокчейн\". Ввести словарь на каждом вебинаре, чтобы можно было следить за разговором. Разработка собственного жаргона для внутреннего использования.\n",
            "2\n",
            "Интерактивная сессия о применении ИИ в финансовом секторе была исчерпывающей и инновационной. Да, спецификации алгоритмов машинного обучения. Организовать более детальные практические занятия по настройке ИИ. Этические аспекты использования ИИ в финансах.\n",
            "1\n",
            "Отличное введение в язык программирования Java, особенно раздел про исключения. Нет. Добавить больше задач на практику после каждой темы. Глубокое изучение многопоточности в Java.\n",
            "1\n"
          ]
        }
      ]
    },
    {
      "cell_type": "markdown",
      "source": [
        "### bert классификатор позитивных негативныз"
      ],
      "metadata": {
        "id": "sDHYjp43QOL0"
      }
    },
    {
      "cell_type": "code",
      "source": [
        "# Use a pipeline as a high-level helper\n",
        "from transformers import pipeline\n",
        "\n",
        "pipe = pipeline(\"text-classification\", model=\"Dpanov2302/sbert-reviews-classification\")"
      ],
      "metadata": {
        "colab": {
          "base_uri": "https://localhost:8080/",
          "height": 209,
          "referenced_widgets": [
            "bb2b41753ca143bd8470527d8e6a58be",
            "d5031eaab231422e8f9cee67cca687b1",
            "a97847adf7d74d39aa2f59ce253927be",
            "24b1b1c4b5944ea4a43bf956b64949be",
            "af130b895cf148199a4129bf255e2242",
            "212c787fbe974df49836ca174ac49d1f",
            "15fe87beaed94a26809a6f8588da319e",
            "6302cdeffa384f2e9397d7625a094283",
            "e4b676192d0b40c68b532acaf78c84ba",
            "8d1ceae580d34d3d91bf90f7f8ec176c",
            "b29b64a908ae48b881d765bb75914e00",
            "ab629fbc106944389ed134fe77bf7bdc",
            "f4e7e9b2b8b94d8fae06634dd493434d",
            "9f7db2ff514749c4a477a6457af76f6b",
            "666f1dff254d4317af178092daeb98ba",
            "f1582a7bc33b459b83c39905048b21f5",
            "9cf6207d1218410ea2bad115c6b42b78",
            "1f490ae308ce49fc8073f910cfa25e00",
            "e2439dededbb401eac93e7a6a10a7f6a",
            "b13640410fa549caafb4e8f10c2827ba",
            "99e2e16da9b44ae4a20bc00d1a8c9288",
            "410ed9c630c4440c92b8267623d6abbb",
            "4564ce9a97b2464b8f5479352bb8f2dd",
            "c9c5868dabb64ae0a30d4533dbf5a1ca",
            "275368db6531480481ff1f5ce494f3d0",
            "2165a303ea4b4d26bd452fa5fd446803",
            "88d98f4e0dd441e5819e1236032dc0bc",
            "35bbb71630554c0ea86aa6d11850f140",
            "d7bdda9622614a2082369fa795c44204",
            "81a469bf0038460db62e4339353d13c7",
            "c36d912fae094e888cacfe44b7c98144",
            "29a517176b1c40ffaf113071c67e477b",
            "cdc8f3a557964ea7aee30706faf39271",
            "6f55691542104375b9f674015ad4449d",
            "b51ed92be0e944fcbdf40f33ee38be59",
            "93e8ee17132449fcb776462efdf40773",
            "81b470820b1d4ae8aa5bea0ed6e7d5cb",
            "fe07b8b22cee4f8d85af0a0d00a9deeb",
            "daf1b9edee214c5c915b42cbd0ab71bd",
            "c364a120ee97430a8572401a1be787e6",
            "b0e18605dc324edab066c3b7e5515a61",
            "e5559c5d2d46488fadf23d08d33ba4ef",
            "73a2c785db684253938e9316383067bb",
            "c7b56515ae3d4e3ea0f7163ff6ca5005",
            "cc0b199a03314a73b9db88e3a5c2c442",
            "7c2d6ca564584c8da30f0aefb3953f33",
            "eaab1122730a42779852d3614ffbf5d8",
            "e1a9f6239dae4e0e97eb7c8cfbfc69a2",
            "1841e2275bc842e6bcceccc412a548f7",
            "34d0cec4309844719baaa0f5f4326060",
            "3a2c4b7bc9d84a069251ab20314fa01d",
            "c1efd99122d1420abccbe62165b150df",
            "5efd9cebe74b43508708c257e929b65f",
            "21ee9a83b32a4ff6ab5497441533feee",
            "9f2cddc14eab429c9a18fa42acca089c",
            "ecb1352a357e460c800adbb3fb71d8f1",
            "2973fb3d87f5408bb488ea03c76c431b",
            "51c3491c43d8439e95208bcd82762c1e",
            "09c61d77cb1d421d88acc1ca0c6404a5",
            "1ae1c65dcc0f44d2b329c57723cc67a1",
            "e1916178c2e54db3844b6ec56c9acf12",
            "647ae4afb4f44381ba411b7e66f86d5b",
            "cdae79c85b934dd0be74821f61258635",
            "74b8e80516c349cbbe66e807946e044c",
            "6dc744af053d4f758274f870b6308838",
            "c3f6b461d51f472b98ececf4fca1882d"
          ]
        },
        "id": "yn4tpnShQW7e",
        "outputId": "e38b26d0-20ff-42c5-cd75-c35e17516000"
      },
      "execution_count": 58,
      "outputs": [
        {
          "output_type": "display_data",
          "data": {
            "text/plain": [
              "config.json:   0%|          | 0.00/1.05k [00:00<?, ?B/s]"
            ],
            "application/vnd.jupyter.widget-view+json": {
              "version_major": 2,
              "version_minor": 0,
              "model_id": "bb2b41753ca143bd8470527d8e6a58be"
            }
          },
          "metadata": {}
        },
        {
          "output_type": "display_data",
          "data": {
            "text/plain": [
              "model.safetensors:   0%|          | 0.00/1.71G [00:00<?, ?B/s]"
            ],
            "application/vnd.jupyter.widget-view+json": {
              "version_major": 2,
              "version_minor": 0,
              "model_id": "ab629fbc106944389ed134fe77bf7bdc"
            }
          },
          "metadata": {}
        },
        {
          "output_type": "display_data",
          "data": {
            "text/plain": [
              "tokenizer_config.json:   0%|          | 0.00/1.29k [00:00<?, ?B/s]"
            ],
            "application/vnd.jupyter.widget-view+json": {
              "version_major": 2,
              "version_minor": 0,
              "model_id": "4564ce9a97b2464b8f5479352bb8f2dd"
            }
          },
          "metadata": {}
        },
        {
          "output_type": "display_data",
          "data": {
            "text/plain": [
              "vocab.txt:   0%|          | 0.00/1.78M [00:00<?, ?B/s]"
            ],
            "application/vnd.jupyter.widget-view+json": {
              "version_major": 2,
              "version_minor": 0,
              "model_id": "6f55691542104375b9f674015ad4449d"
            }
          },
          "metadata": {}
        },
        {
          "output_type": "display_data",
          "data": {
            "text/plain": [
              "tokenizer.json:   0%|          | 0.00/3.71M [00:00<?, ?B/s]"
            ],
            "application/vnd.jupyter.widget-view+json": {
              "version_major": 2,
              "version_minor": 0,
              "model_id": "cc0b199a03314a73b9db88e3a5c2c442"
            }
          },
          "metadata": {}
        },
        {
          "output_type": "display_data",
          "data": {
            "text/plain": [
              "special_tokens_map.json:   0%|          | 0.00/125 [00:00<?, ?B/s]"
            ],
            "application/vnd.jupyter.widget-view+json": {
              "version_major": 2,
              "version_minor": 0,
              "model_id": "ecb1352a357e460c800adbb3fb71d8f1"
            }
          },
          "metadata": {}
        }
      ]
    },
    {
      "cell_type": "code",
      "source": [
        "import csv\n",
        "\n",
        "# # mappingId2Label = {0:'negative', 1:'positive'}\n",
        "mappingLabe2Id = {'negative':0, 'positive':1}\n",
        "\n",
        "# def get_label(text):\n",
        "#     preprocessed_text = preprocess(text, stop_words, punctuation_marks, morph)\n",
        "#     predicted_label = w2v_pipeline.predict([preprocessed_text])[0]\n",
        "#     print(predicted_label)\n",
        "#     return mappingLabe2Id[predicted_label]\n",
        "\n",
        "# Открываем файл CSV для чтения\n",
        "with open('your_submission.csv', 'r') as file:\n",
        "    # Создаем объект чтения CSV\n",
        "    csv_reader = csv.reader(file)\n",
        "\n",
        "    # Читаем заголовок\n",
        "    header = next(csv_reader)\n",
        "\n",
        "    # Читаем данные из файла\n",
        "    data = list(csv_reader)\n",
        "\n",
        "print(len(data))\n",
        "\n",
        "# Заменяем каждое значение в колонке is_relevant на 1\n",
        "for row, text in zip(data, concatenated_questions_list[:len(data)]):\n",
        "    print(text)\n",
        "    row[3] = mappingLabe2Id[pipe(text)[0]['label']]\n",
        "    print(row[3])\n",
        "\n",
        "# Записываем измененные данные обратно в файл CSV\n",
        "with open('your_file.csv', 'w', newline='') as file:\n",
        "    # Создаем объект записи CSV\n",
        "    csv_writer = csv.writer(file)\n",
        "\n",
        "    # Записываем заголовок\n",
        "    csv_writer.writerow(header)\n",
        "\n",
        "    # Записываем данные в файл\n",
        "    csv_writer.writerows(data)"
      ],
      "metadata": {
        "colab": {
          "base_uri": "https://localhost:8080/"
        },
        "id": "CzMcmW3MRVmv",
        "outputId": "03d17210-8022-473f-b42f-40323f07dd2c"
      },
      "execution_count": 63,
      "outputs": [
        {
          "output_type": "stream",
          "name": "stdout",
          "text": [
            "53\n",
            "Интерактивный подход к изучению основ C# был очень увлекательным. Нет. Увеличить количество практических заданий для лучшего закрепления материала. Введение в разработку на .NET Framework.\n",
            "1\n",
            "Подробное объяснение логических операторов в JavaScript помогло мне лучше понять условные конструкции. Нет. Предоставить ещё больше практических задач после теории. Детальное изучение асинхронного программирования в JavaScript.\n",
            "1\n",
            "Введение в программирование на Python было простым и интуитивно понятным, особенно для начинающих. Нет. Улучшить качество видеоматериалов, иногда было трудно разглядеть код. Библиотеки Python для анализа данных и машинного обучения.\n",
            "1\n",
            "Понятное изложение основных понятий, хорошая структура материала. Да, циклы for и while были объяснены слишком быстро. Добавить видеоматериалы для самостоятельного изучения. Функциональное программирование.\n",
            "1\n",
            "Кларность и структура материала по основам JavaScript, особенно затронутые темы циклов и функций. Нет. Ввести больше примеров на работу с массивами и объектами. Работа с асинхронным кодом в JavaScript.\n",
            "1\n",
            "Простота объяснений основ Python, особенно циклов и условий, сделала занятие очень доступным. Нет. Предложить больше дополнительных материалов для самостоятельного изучения после вебинара. Подробнее о работе с API в Python.\n",
            "1\n",
            "Лектор имел забавную прическу, что отвлекало, но было весело. Да, особенно когда кот лектора прыгнул на стол. Может, начать с курса стрижки для лекторов? И убрать котов из кадра. Как сделать так, чтобы коты не мешали учёбе.\n",
            "0\n",
            "Детальный разбор объектно-ориентированного программирования. Нет. Ввести дополнительные Q&A сессии после вебинара. Принципы SOLID в программировании.\n",
            "1\n",
            "Разбор использования шаблонов проектирования в Java был очень подробным и полезным. Да, тема абстрактных фабрик была сложной для понимания. Организовать вебинары с более подробными примерами реализации каждого шаблона. Применение шаблонов проектирования в реальных проектах.\n",
            "1\n",
            "Изучение сложных структур данных в Python, таких как деревья и графы, было особенно интересным. Да, работа с графами и их алгоритмами. Устроить отдельные вебинары по каждому типу структуры данных с подробными примерами. Глубокое изучение алгоритмов поиска пути и оптимизации.\n",
            "1\n",
            "Обширное покрытие темы REST API и как они интегрируются с современными веб-приложениями было очень полезно. Да, концепции OAuth 2.0 были сложными для понимания. Больше интерактивных примеров и пошаговых руководств по реализации API. Подробности реализации микросервисов на Spring Boot и Docker.\n",
            "1\n",
            "Глубина разбора модульного тестирования и TDD была полезной для понимания процессов разработки. Да, использование моков и стабов в тестах. Предоставить дополнительные ресурсы для изучения инструментов мокирования. Интеграционное тестирование и CI/CD пайплайны.\n",
            "1\n",
            "Ясное и чёткое объяснение базовых структур данных. Нет. Включить больше реальных примеров использования данных структур. Принципы проектирования алгоритмов.\n",
            "1\n",
            "На вебинаре раздали виртуальные печеньки, очень мило. Нет, я был слишком занят едой. В следующий раз добавить виртуальный чай. Как запекать печенья.\n",
            "0\n",
            "Подробный разбор применения шаблонов проектирования в реальных проектах был очень познавательным. Сложности с пониманием абстрактной фабрики. Больше практических примеров для каждого шаблона проектирования. Применение шаблонов проектирования в микросервисах.\n",
            "1\n",
            "Дискуссия о будущем облачных вычислений и их влиянии на ИТ-индустрию была очень проницательной. Нет. Включить больше кейс-стади от компаний, успешно интегрировавших облачные решения. Стратегии миграции предприятий в облако.\n",
            "1\n",
            "Обсуждение актуальных IT-трендов 2024 года. Да, тема искусственного интеллекта требует более глубокого погружения. Больше времени на сложные темы. Глубокое изучение нейронных сетей.\n",
            "1\n",
            "Обсуждение тенденций в разработке мобильных приложений и их влияние на рынок было весьма познавательным. Нет. Включить больше примеров успешных мобильных приложений и их стратегий монетизации. Разработка кроссплатформенных мобильных приложений.\n",
            "1\n",
            "Обзор последних достижений в области квантовых вычислений был впечатляющим. Да, сложность темы требует более глубокого погружения. Организовать серию вебинаров по квантовым технологиям с участием экспертов. Квантовая криптография и её практическое применение.\n",
            "1\n",
            "Вебинар о технологиях блокчейна и их влиянии на финансовую отрасль был глубоко информативным. Да, концепции смарт-контрактов были сложными для понимания. Ввести вебинар, полностью посвященный смарт-контрактам, с практическими примерами. Разработка и тестирование смарт-контрактов на разных платформах.\n",
            "1\n",
            "Обсуждение влияния облачных технологий на современные IT-структуры было особенно актуальным. Да, различия между IaaS, PaaS, и SaaS. Устроить подробный вебинар о каждой облачной модели в отдельности. Безопасность данных в облаке и лучшие практики.\n",
            "1\n",
            "как правильно пользоваться GPT чатом, для получения более развернутого ответа не было пока нет предложений затрудняюсь ответить\n",
            "1\n",
            "Все понравилось Календарь составили так, что совместилось два обучения в одно и тоже время, что не совсем удобно Все хорошо Создания чата со студентами\n",
            "1\n",
            "Gpt чат Информация предоставлена в доступном виде Все хорошо Другие виды ИИ\n",
            "1\n",
            "Промт-Инжиниринг, это уже даёт какое-то понимание правильной формулировки вопросов для ИИ. Нет Не увидел минусов в вебинаре, очень понравился. Промт-Инжиниринг\n",
            "1\n",
            "новая информация, полезно нет не было таких моментов мне все понравилось пока затрудняюсь ответить\n",
            "1\n",
            "Светлые и темные стороны ChatGPT Не знание определений Все идеально темы по дизайну интерьера\n",
            "1\n",
            "Обсуждение было настолько скучным, что я научился жонглировать во время вебинара. Да, пытался понять жонглирование тремя шарами. Возможно, включить более динамичную музыку во время обсуждений. Жонглирование для начинающих.\n",
            "1\n",
            "Глубокий анализ шаблонов проектирования на конкретных примерах. Сложно было понять шаблон Singleton. Подробнее разбирать каждый шаблон на примерах. Тестирование ПО и фреймворки для автоматизации.\n",
            "1\n",
            "Объяснение циклов и массивов в JavaScript было очень доступным и понятным. Нет. Добавить видео с разбором сложных примеров кода после вебинара. Подробнее о Node.js и серверном JavaScript.\n",
            "1\n",
            "Примеры кода были очень полезными для понимания. Нет. Предоставить дополнительные ресурсы для углубленного изучения. Базы данных и SQL.\n",
            "1\n",
            "Занятие по основам HTML и CSS было чрезвычайно полезным для понимания структуры веб-страниц. Нет. Предложить курс по продвинутым техникам CSS, включая Flexbox и Grid. Погружение в JavaScript для интерактивности веб-страниц.\n",
            "1\n",
            "Подробный разбор циклов и условных операторов в JavaScript помог укрепить мои знания. Нет. Ввести более сложные задачи для практики после вебинара. Асинхронное программирование в JavaScript и его применение в реальных проектах.\n",
            "1\n",
            "Отличное объяснение переменных, типов данных и структур в Python. Нет. Предложить дополнительные учебные материалы для глубокого изучения каждой темы. Глубокое изучение функционального программирования.\n",
            "1\n",
            "Дискуссия о том, как писать код одной рукой, была неожиданно увлекательной. Нет, это было странно интересно. Может быть, курс по печати ногами для разнообразия? Как писать код левой пяткой.\n",
            "1\n",
            "Отличное введение в основы SQL, особенно работа с JOIN-операциями. Да, сложности с пониманием внешних и внутренних соединений. Предложить более подробные учебные ресурсы и примеры запросов для практики. Оптимизация запросов SQL и анализ производительности баз данных.\n",
            "1\n",
            "Сессия по оптимизации производительности веб-приложений дала мне новые инструменты для работы. Да, концепты кэширования данных были сложными. Углубить тему кэширования и состояния сессии в отдельном вебинаре. Работа с большими данными и их хранение.\n",
            "1\n",
            "Затронута тема безопасности приложений, что крайне важно. Сложности с пониманием криптографических методов. Добавить примеры на кейсах из жизни. Кибербезопасность.\n",
            "1\n",
            "Отличное объяснение темы циклов и условий, всё стало на свои места. Да, сложно было понять тему рекурсии. Хотелось бы больше практических заданий по каждой теме. Глубже изучить тему работы с базами данных.\n",
            "1\n",
            "Разбор примеров рефакторинга кода был очень практичным и полезным для понимания, как улучшить существующий код. Некоторые сложные примеры рефакторинга. Углубить материал с дополнительными кейс-стади из реальных проектов. Методы оптимизации производительности приложений.\n",
            "1\n",
            "Очень ценно было изучить интеграцию API в большие системы, использование RESTful и GraphQL. Да, работа с GraphQL была сложнее, чем ожидалось. Провести серию практических вебинаров, специально посвященных GraphQL. Безопасность API, управление доступом и ограничения скорости запросов.\n",
            "1\n",
            "Интересное обсуждение применения искусственного интеллекта в нетехнических отраслях. Да, были трудности с пониманием нейросетей. Уделить больше времени основам нейросетей перед их применением. Машинное обучение и его применение в реальных условиях.\n",
            "1\n",
            "Глубокое погружение в архитектуру REST и SOAP интерфейсов было крайне полезным для моих проектов. Нет. Организовать практические лаборатории по созданию и тестированию API. Безопасность API и использование OAuth 2.0.\n",
            "1\n",
            "Глубокий анализ принципов SOLID и их применение в объектно-ориентированном проектировании был великолепен. Да, примеры на C# были запутанными. Организовать дополнительные сессии по практическому применению SOLID в различных языках программирования. Глубокое изучение паттернов проектирования и рефакторинга существующего кода.\n",
            "1\n",
            "Презентация была настолько монотонной, что я научился рисовать слонов. Да, как правильно рисовать уши слона. Пожалуй, стоит добавить курс по рисованию к вебинарам, чтобы сохранить внимание слушателей. Рисование слонов в Photoshop.\n",
            "1\n",
            "Лекция о влиянии ИИ на автоматизацию рабочих процессов была весьма актуальной. Нет. Обсудить более подробно кейсы применения ИИ в разных отраслях. Применение ИИ для оптимизации клиентского сервиса.\n",
            "1\n",
            "Дискуссия о будущем искусственного интеллекта и его этических аспектах была особенно привлекательной. Да, темы моральных дилемм ИИ требовали более глубокого понимания. Устроить дебаты или панельную дискуссию с экспертами по этике ИИ, чтобы обсудить эти вопросы подробнее. Роль ИИ в управлении данными и приватности.\n",
            "1\n",
            "Обсуждение машинного обучения было особенно интересным. Да, темы, связанные с Big Data, остались не до конца ясны. Углубленный разбор каждой темы. Технологии Big Data.\n",
            "1\n",
            "Введение в искусственный интеллект и его влияние на робототехнику было захватывающим и познавательным. Да, темы построения нейросетей требовали более детального объяснения. Провести специализированные вебинары по машинному обучению и нейросетям, с практическими занятиями на реальных данных. Разработка и применение нейросетей в индустрии развлечений и медиа.\n",
            "1\n",
            "Доклад о последних инновациях в области искусственного интеллекта и машинного обучения был вдохновляющим. Да, сложности с пониманием концепций глубокого обучения. Провести серию вебинаров, посвященных только машинному обучению, с кейс-стади и примерами из практики. Применение ИИ в реальных бизнес-задачах.\n",
            "1\n",
            "Лектор использовал так много жаргонных слов, что я составил словарь. Да, пытался понять, что такое \"блокчейн\". Ввести словарь на каждом вебинаре, чтобы можно было следить за разговором. Разработка собственного жаргона для внутреннего использования.\n",
            "1\n",
            "Интерактивная сессия о применении ИИ в финансовом секторе была исчерпывающей и инновационной. Да, спецификации алгоритмов машинного обучения. Организовать более детальные практические занятия по настройке ИИ. Этические аспекты использования ИИ в финансах.\n",
            "1\n",
            "Отличное введение в язык программирования Java, особенно раздел про исключения. Нет. Добавить больше задач на практику после каждой темы. Глубокое изучение многопоточности в Java.\n",
            "1\n"
          ]
        }
      ]
    },
    {
      "cell_type": "markdown",
      "source": [
        "### Обработка не информативно"
      ],
      "metadata": {
        "id": "9TQk319VOpv-"
      }
    },
    {
      "cell_type": "code",
      "source": [
        "import pandas as pd\n",
        "\n",
        "# Замените 'data.csv' на путь к вашему файлу CSV\n",
        "df = pd.read_csv('train_data.csv')\n",
        "\n",
        "concatenated_questions_list = []\n",
        "rel_list = []\n",
        "\n",
        "# Проходим по каждой строке и конкатенируем значения в столбцах question_1 до question_5\n",
        "for index, row in df.iterrows():\n",
        "    concatenated_questions = ' '.join(row[['question_1', 'question_2', 'question_3', 'question_4', 'question_5']])\n",
        "    concatenated_questions_list.append(concatenated_questions)\n",
        "    # print(concatenated_questions)\n",
        "\n",
        "# Проходим по каждой строке и конкатенируем значения в столбцах question_1 до question_5\n",
        "for index, row in df.iterrows():\n",
        "    rel = ''.join(str(row['is_relevant']))\n",
        "    rel_list.append(rel)\n",
        "print(concatenated_questions_list)\n",
        "print(rel_list)\n"
      ],
      "metadata": {
        "id": "fJ2N0IRdE0yh"
      },
      "execution_count": null,
      "outputs": []
    },
    {
      "cell_type": "code",
      "source": [
        "from gradio_client import Client\n",
        "\n",
        "client = Client(\"https://qwen-qwen1-5-72b-chat.hf.space/--replicas/3kh1x/\")\n",
        "\n",
        "for text, i in zip(concatenated_questions_list, rel_list):\n",
        "\n",
        "    dox=f\"Информативно или не информативно?: {text}\"\n",
        "    result = client.predict(\n",
        "        dox,\t# str  in 'Input' Textbox component\n",
        "        [[ \"None\", \"None\" ],],\t# Tuple[str | Dict(file: filepath, alt_text: str | None) | None, str | Dict(file: filepath, alt_text: str | None) | None]  in 'Qwen1.5-72B-Chat' Chatbot component\n",
        "        \"None\",\t# str  in 'parameter_9' Textbox component\n",
        "        api_name=\"/model_chat\"\n",
        "    )\n",
        "\n",
        "    answer = result[1][1][1].lower()\n",
        "    print(i)\n",
        "    if \"не информативно\" in answer or \"не информативным\" in answer or \"не информативное\" in answer or \"не является информативным\" in answer:\n",
        "        if \"частично информативным\" in answer or \"выражает личное мнение\" in answer or \"не является информативным в традиционном смысле\" in answer or \"содержит как информативные\" in answer or \"субъективный опыт\" in answer:\n",
        "            print(1)\n",
        "        else:\n",
        "            print(0)\n",
        "    else:\n",
        "        print(1)\n",
        "    print(\"------>\", answer, \"<------\")\n",
        "    print()"
      ],
      "metadata": {
        "colab": {
          "base_uri": "https://localhost:8080/",
          "height": 391
        },
        "id": "XUv4wjl0HZe4",
        "outputId": "e2c37380-e08f-4d82-d522-e6f8d2f7253b"
      },
      "execution_count": null,
      "outputs": [
        {
          "output_type": "stream",
          "name": "stdout",
          "text": [
            "Loaded as API: https://qwen-qwen1-5-72b-chat.hf.space/--replicas/3kh1x/ ✔\n"
          ]
        },
        {
          "output_type": "error",
          "ename": "KeyboardInterrupt",
          "evalue": "",
          "traceback": [
            "\u001b[0;31m---------------------------------------------------------------------------\u001b[0m",
            "\u001b[0;31mKeyboardInterrupt\u001b[0m                         Traceback (most recent call last)",
            "\u001b[0;32m<ipython-input-8-0040e2f6c536>\u001b[0m in \u001b[0;36m<cell line: 5>\u001b[0;34m()\u001b[0m\n\u001b[1;32m      6\u001b[0m \u001b[0;34m\u001b[0m\u001b[0m\n\u001b[1;32m      7\u001b[0m     \u001b[0mdox\u001b[0m\u001b[0;34m=\u001b[0m\u001b[0;34mf\"Информативно или не информативно?: {text}\"\u001b[0m\u001b[0;34m\u001b[0m\u001b[0;34m\u001b[0m\u001b[0m\n\u001b[0;32m----> 8\u001b[0;31m     result = client.predict(\n\u001b[0m\u001b[1;32m      9\u001b[0m         \u001b[0mdox\u001b[0m\u001b[0;34m,\u001b[0m    \u001b[0;31m# str  in 'Input' Textbox component\u001b[0m\u001b[0;34m\u001b[0m\u001b[0;34m\u001b[0m\u001b[0m\n\u001b[1;32m     10\u001b[0m         \u001b[0;34m[\u001b[0m\u001b[0;34m[\u001b[0m \u001b[0;34m\"None\"\u001b[0m\u001b[0;34m,\u001b[0m \u001b[0;34m\"None\"\u001b[0m \u001b[0;34m]\u001b[0m\u001b[0;34m,\u001b[0m\u001b[0;34m]\u001b[0m\u001b[0;34m,\u001b[0m  \u001b[0;31m# Tuple[str | Dict(file: filepath, alt_text: str | None) | None, str | Dict(file: filepath, alt_text: str | None) | None]  in 'Qwen1.5-72B-Chat' Chatbot component\u001b[0m\u001b[0;34m\u001b[0m\u001b[0;34m\u001b[0m\u001b[0m\n",
            "\u001b[0;32m/usr/local/lib/python3.10/dist-packages/gradio_client/client.py\u001b[0m in \u001b[0;36mpredict\u001b[0;34m(self, api_name, fn_index, *args, **kwargs)\u001b[0m\n\u001b[1;32m    460\u001b[0m         return self.submit(\n\u001b[1;32m    461\u001b[0m             \u001b[0;34m*\u001b[0m\u001b[0margs\u001b[0m\u001b[0;34m,\u001b[0m \u001b[0mapi_name\u001b[0m\u001b[0;34m=\u001b[0m\u001b[0mapi_name\u001b[0m\u001b[0;34m,\u001b[0m \u001b[0mfn_index\u001b[0m\u001b[0;34m=\u001b[0m\u001b[0mfn_index\u001b[0m\u001b[0;34m,\u001b[0m \u001b[0;34m**\u001b[0m\u001b[0mkwargs\u001b[0m\u001b[0;34m\u001b[0m\u001b[0;34m\u001b[0m\u001b[0m\n\u001b[0;32m--> 462\u001b[0;31m         ).result()\n\u001b[0m\u001b[1;32m    463\u001b[0m \u001b[0;34m\u001b[0m\u001b[0m\n\u001b[1;32m    464\u001b[0m     \u001b[0;32mdef\u001b[0m \u001b[0mnew_helper\u001b[0m\u001b[0;34m(\u001b[0m\u001b[0mself\u001b[0m\u001b[0;34m,\u001b[0m \u001b[0mfn_index\u001b[0m\u001b[0;34m:\u001b[0m \u001b[0mint\u001b[0m\u001b[0;34m)\u001b[0m \u001b[0;34m->\u001b[0m \u001b[0mCommunicator\u001b[0m\u001b[0;34m:\u001b[0m\u001b[0;34m\u001b[0m\u001b[0;34m\u001b[0m\u001b[0m\n",
            "\u001b[0;32m/usr/local/lib/python3.10/dist-packages/gradio_client/client.py\u001b[0m in \u001b[0;36mresult\u001b[0;34m(self, timeout)\u001b[0m\n\u001b[1;32m   1391\u001b[0m             \u001b[0;34m>>\u001b[0m \u001b[0;36m9\u001b[0m\u001b[0;34m\u001b[0m\u001b[0;34m\u001b[0m\u001b[0m\n\u001b[1;32m   1392\u001b[0m         \"\"\"\n\u001b[0;32m-> 1393\u001b[0;31m         \u001b[0;32mreturn\u001b[0m \u001b[0msuper\u001b[0m\u001b[0;34m(\u001b[0m\u001b[0;34m)\u001b[0m\u001b[0;34m.\u001b[0m\u001b[0mresult\u001b[0m\u001b[0;34m(\u001b[0m\u001b[0mtimeout\u001b[0m\u001b[0;34m=\u001b[0m\u001b[0mtimeout\u001b[0m\u001b[0;34m)\u001b[0m\u001b[0;34m\u001b[0m\u001b[0;34m\u001b[0m\u001b[0m\n\u001b[0m\u001b[1;32m   1394\u001b[0m \u001b[0;34m\u001b[0m\u001b[0m\n\u001b[1;32m   1395\u001b[0m     \u001b[0;32mdef\u001b[0m \u001b[0moutputs\u001b[0m\u001b[0;34m(\u001b[0m\u001b[0mself\u001b[0m\u001b[0;34m)\u001b[0m \u001b[0;34m->\u001b[0m \u001b[0mlist\u001b[0m\u001b[0;34m[\u001b[0m\u001b[0mtuple\u001b[0m \u001b[0;34m|\u001b[0m \u001b[0mAny\u001b[0m\u001b[0;34m]\u001b[0m\u001b[0;34m:\u001b[0m\u001b[0;34m\u001b[0m\u001b[0;34m\u001b[0m\u001b[0m\n",
            "\u001b[0;32m/usr/lib/python3.10/concurrent/futures/_base.py\u001b[0m in \u001b[0;36mresult\u001b[0;34m(self, timeout)\u001b[0m\n\u001b[1;32m    451\u001b[0m                     \u001b[0;32mreturn\u001b[0m \u001b[0mself\u001b[0m\u001b[0;34m.\u001b[0m\u001b[0m__get_result\u001b[0m\u001b[0;34m(\u001b[0m\u001b[0;34m)\u001b[0m\u001b[0;34m\u001b[0m\u001b[0;34m\u001b[0m\u001b[0m\n\u001b[1;32m    452\u001b[0m \u001b[0;34m\u001b[0m\u001b[0m\n\u001b[0;32m--> 453\u001b[0;31m                 \u001b[0mself\u001b[0m\u001b[0;34m.\u001b[0m\u001b[0m_condition\u001b[0m\u001b[0;34m.\u001b[0m\u001b[0mwait\u001b[0m\u001b[0;34m(\u001b[0m\u001b[0mtimeout\u001b[0m\u001b[0;34m)\u001b[0m\u001b[0;34m\u001b[0m\u001b[0;34m\u001b[0m\u001b[0m\n\u001b[0m\u001b[1;32m    454\u001b[0m \u001b[0;34m\u001b[0m\u001b[0m\n\u001b[1;32m    455\u001b[0m                 \u001b[0;32mif\u001b[0m \u001b[0mself\u001b[0m\u001b[0;34m.\u001b[0m\u001b[0m_state\u001b[0m \u001b[0;32min\u001b[0m \u001b[0;34m[\u001b[0m\u001b[0mCANCELLED\u001b[0m\u001b[0;34m,\u001b[0m \u001b[0mCANCELLED_AND_NOTIFIED\u001b[0m\u001b[0;34m]\u001b[0m\u001b[0;34m:\u001b[0m\u001b[0;34m\u001b[0m\u001b[0;34m\u001b[0m\u001b[0m\n",
            "\u001b[0;32m/usr/lib/python3.10/threading.py\u001b[0m in \u001b[0;36mwait\u001b[0;34m(self, timeout)\u001b[0m\n\u001b[1;32m    318\u001b[0m         \u001b[0;32mtry\u001b[0m\u001b[0;34m:\u001b[0m    \u001b[0;31m# restore state no matter what (e.g., KeyboardInterrupt)\u001b[0m\u001b[0;34m\u001b[0m\u001b[0;34m\u001b[0m\u001b[0m\n\u001b[1;32m    319\u001b[0m             \u001b[0;32mif\u001b[0m \u001b[0mtimeout\u001b[0m \u001b[0;32mis\u001b[0m \u001b[0;32mNone\u001b[0m\u001b[0;34m:\u001b[0m\u001b[0;34m\u001b[0m\u001b[0;34m\u001b[0m\u001b[0m\n\u001b[0;32m--> 320\u001b[0;31m                 \u001b[0mwaiter\u001b[0m\u001b[0;34m.\u001b[0m\u001b[0macquire\u001b[0m\u001b[0;34m(\u001b[0m\u001b[0;34m)\u001b[0m\u001b[0;34m\u001b[0m\u001b[0;34m\u001b[0m\u001b[0m\n\u001b[0m\u001b[1;32m    321\u001b[0m                 \u001b[0mgotit\u001b[0m \u001b[0;34m=\u001b[0m \u001b[0;32mTrue\u001b[0m\u001b[0;34m\u001b[0m\u001b[0;34m\u001b[0m\u001b[0m\n\u001b[1;32m    322\u001b[0m             \u001b[0;32melse\u001b[0m\u001b[0;34m:\u001b[0m\u001b[0;34m\u001b[0m\u001b[0;34m\u001b[0m\u001b[0m\n",
            "\u001b[0;31mKeyboardInterrupt\u001b[0m: "
          ]
        }
      ]
    }
  ]
}